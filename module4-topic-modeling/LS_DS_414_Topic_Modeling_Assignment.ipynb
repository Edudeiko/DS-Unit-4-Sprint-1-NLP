{
 "cells": [
  {
   "cell_type": "markdown",
   "metadata": {},
   "source": [
    "<img align=\"left\" src=\"https://lever-client-logos.s3.amazonaws.com/864372b1-534c-480e-acd5-9711f850815c-1524247202159.png\" width=200>\n",
    "<br></br>\n",
    "<br></br>\n",
    "\n",
    "# Topic Modeling\n",
    "## *Data Science Unit 4 Sprint 1 Assignment 4*\n",
    "\n",
    "Analyze a corpus of Amazon reviews from Unit 4 Sprint 1 Module 1's lecture using topic modeling: \n",
    "\n",
    "- Fit a Gensim LDA topic model on Amazon Reviews\n",
    "- Select appropriate number of topics\n",
    "- Create some dope visualization of the topics\n",
    "- Write a few bullets on your findings in markdown at the end\n",
    "- **Note**: You don't *have* to use generators for this assignment"
   ]
  },
  {
   "cell_type": "code",
   "execution_count": 1,
   "metadata": {},
   "outputs": [],
   "source": [
    "import numpy as np\n",
    "import gensim\n",
    "import os\n",
    "import re\n",
    "\n",
    "from gensim.utils import simple_preprocess\n",
    "from gensim.parsing.preprocessing import STOPWORDS\n",
    "from gensim import corpora\n",
    "\n",
    "from gensim.models.ldamulticore import LdaMulticore\n",
    "\n",
    "import pandas as pd"
   ]
  },
  {
   "cell_type": "code",
   "execution_count": 2,
   "metadata": {},
   "outputs": [],
   "source": [
    "\"\"\"\n",
    "Import Statements\n",
    "\"\"\"\n",
    "\n",
    "# Base\n",
    "from collections import Counter\n",
    "import re\n",
    "\n",
    "# Plotting\n",
    "import squarify\n",
    "import matplotlib.pyplot as plt\n",
    "import seaborn as sns\n",
    "\n",
    "# NLP Libraries\n",
    "import spacy\n",
    "from spacy.tokenizer import Tokenizer\n",
    "from nltk.stem import PorterStemmer\n",
    "\n",
    "nlp = spacy.load(\"en_core_web_lg\")"
   ]
  },
  {
   "cell_type": "code",
   "execution_count": 3,
   "metadata": {},
   "outputs": [],
   "source": [
    "from explore_data_Copy1 import *\n",
    "import seaborn as sns\n",
    "sns.set()"
   ]
  },
  {
   "cell_type": "code",
   "execution_count": 4,
   "metadata": {},
   "outputs": [
    {
     "data": {
      "text/plain": [
       "'3.8.1'"
      ]
     },
     "execution_count": 4,
     "metadata": {},
     "output_type": "execute_result"
    }
   ],
   "source": [
    "gensim.__version__"
   ]
  },
  {
   "cell_type": "code",
   "execution_count": 5,
   "metadata": {},
   "outputs": [],
   "source": [
    "df = pd.read_csv('./data/Datafiniti_Amazon_Consumer_Reviews_of_Amazon_Products_May19-Copy1.csv')"
   ]
  },
  {
   "cell_type": "code",
   "execution_count": 6,
   "metadata": {},
   "outputs": [
    {
     "data": {
      "text/html": [
       "<div>\n",
       "<style scoped>\n",
       "    .dataframe tbody tr th:only-of-type {\n",
       "        vertical-align: middle;\n",
       "    }\n",
       "\n",
       "    .dataframe tbody tr th {\n",
       "        vertical-align: top;\n",
       "    }\n",
       "\n",
       "    .dataframe thead th {\n",
       "        text-align: right;\n",
       "    }\n",
       "</style>\n",
       "<table border=\"1\" class=\"dataframe\">\n",
       "  <thead>\n",
       "    <tr style=\"text-align: right;\">\n",
       "      <th></th>\n",
       "      <th>id</th>\n",
       "      <th>dateAdded</th>\n",
       "      <th>dateUpdated</th>\n",
       "      <th>name</th>\n",
       "      <th>asins</th>\n",
       "      <th>brand</th>\n",
       "      <th>categories</th>\n",
       "      <th>primaryCategories</th>\n",
       "      <th>imageURLs</th>\n",
       "      <th>keys</th>\n",
       "      <th>...</th>\n",
       "      <th>reviews.didPurchase</th>\n",
       "      <th>reviews.doRecommend</th>\n",
       "      <th>reviews.id</th>\n",
       "      <th>reviews.numHelpful</th>\n",
       "      <th>reviews.rating</th>\n",
       "      <th>reviews.sourceURLs</th>\n",
       "      <th>reviews.text</th>\n",
       "      <th>reviews.title</th>\n",
       "      <th>reviews.username</th>\n",
       "      <th>sourceURLs</th>\n",
       "    </tr>\n",
       "  </thead>\n",
       "  <tbody>\n",
       "    <tr>\n",
       "      <th>28093</th>\n",
       "      <td>AVqkIhxunnc1JgDc3kg_</td>\n",
       "      <td>2017-03-06T14:59:43Z</td>\n",
       "      <td>2019-02-23T02:49:38Z</td>\n",
       "      <td>Fire HD 8 Tablet with Alexa, 8 HD Display, 16 ...</td>\n",
       "      <td>B018T075DC</td>\n",
       "      <td>Amazon</td>\n",
       "      <td>Fire Tablets,Tablets,All Tablets,Amazon Tablet...</td>\n",
       "      <td>Electronics</td>\n",
       "      <td>https://www.upccodesearch.com/images/barcode/0...</td>\n",
       "      <td>amazon/b018t075dc,firehd8tabletwithalexa8hddis...</td>\n",
       "      <td>...</td>\n",
       "      <td>NaN</td>\n",
       "      <td>True</td>\n",
       "      <td>NaN</td>\n",
       "      <td>0.0</td>\n",
       "      <td>5</td>\n",
       "      <td>http://reviews.bestbuy.com/3545/5620410/review...</td>\n",
       "      <td>Love the added space. Easy to move around in. ...</td>\n",
       "      <td>Really love my new Kindle.</td>\n",
       "      <td>sportsmom5</td>\n",
       "      <td>http://reviews.bestbuy.com/3545/5620410/review...</td>\n",
       "    </tr>\n",
       "  </tbody>\n",
       "</table>\n",
       "<p>1 rows × 24 columns</p>\n",
       "</div>"
      ],
      "text/plain": [
       "                         id             dateAdded           dateUpdated  \\\n",
       "28093  AVqkIhxunnc1JgDc3kg_  2017-03-06T14:59:43Z  2019-02-23T02:49:38Z   \n",
       "\n",
       "                                                    name       asins   brand  \\\n",
       "28093  Fire HD 8 Tablet with Alexa, 8 HD Display, 16 ...  B018T075DC  Amazon   \n",
       "\n",
       "                                              categories primaryCategories  \\\n",
       "28093  Fire Tablets,Tablets,All Tablets,Amazon Tablet...       Electronics   \n",
       "\n",
       "                                               imageURLs  \\\n",
       "28093  https://www.upccodesearch.com/images/barcode/0...   \n",
       "\n",
       "                                                    keys  ...  \\\n",
       "28093  amazon/b018t075dc,firehd8tabletwithalexa8hddis...  ...   \n",
       "\n",
       "      reviews.didPurchase reviews.doRecommend reviews.id reviews.numHelpful  \\\n",
       "28093                 NaN                True        NaN                0.0   \n",
       "\n",
       "      reviews.rating                                 reviews.sourceURLs  \\\n",
       "28093              5  http://reviews.bestbuy.com/3545/5620410/review...   \n",
       "\n",
       "                                            reviews.text  \\\n",
       "28093  Love the added space. Easy to move around in. ...   \n",
       "\n",
       "                    reviews.title  reviews.username  \\\n",
       "28093  Really love my new Kindle.        sportsmom5   \n",
       "\n",
       "                                              sourceURLs  \n",
       "28093  http://reviews.bestbuy.com/3545/5620410/review...  \n",
       "\n",
       "[1 rows x 24 columns]"
      ]
     },
     "execution_count": 6,
     "metadata": {},
     "output_type": "execute_result"
    }
   ],
   "source": [
    "df.sample(1)"
   ]
  },
  {
   "cell_type": "code",
   "execution_count": 7,
   "metadata": {},
   "outputs": [],
   "source": [
    "df['reviews.text'] = df['reviews.text'].apply(lambda x: x.lower())"
   ]
  },
  {
   "cell_type": "code",
   "execution_count": 8,
   "metadata": {},
   "outputs": [
    {
     "data": {
      "image/png": "[encoded data removed]",
      "text/plain": [
       "<Figure size 1008x432 with 1 Axes>"
      ]
     },
     "metadata": {},
     "output_type": "display_data"
    }
   ],
   "source": [
    "plot_frequency_distribution_of_ngrams(df['reviews.text'],\n",
    "                                      ngram_range=(1, 2),\n",
    "                                      num_ngrams=50)"
   ]
  },
  {
   "cell_type": "code",
   "execution_count": 9,
   "metadata": {},
   "outputs": [],
   "source": [
    "def tokenize(text):\n",
    "    \"\"\"Parses a string into a list of semantic units (words)\n",
    "\n",
    "    Args:\n",
    "        text (str): The string that the function will tokenize.\n",
    "\n",
    "    Returns:\n",
    "        list: tokens parsed out by the mechanics of your choice\n",
    "    \"\"\"\n",
    "    \n",
    "    tokens = re.sub(r'[^a-zA-Z ^0-9]', '', text)\n",
    "    tokens = tokens.lower().split()\n",
    "    \n",
    "    return tokens"
   ]
  },
  {
   "cell_type": "code",
   "execution_count": 10,
   "metadata": {},
   "outputs": [],
   "source": [
    "df['tokens'] = df['reviews.text'].apply(tokenize)"
   ]
  },
  {
   "cell_type": "code",
   "execution_count": 11,
   "metadata": {},
   "outputs": [],
   "source": [
    "# Tokenizer\n",
    "tokenizer = Tokenizer(nlp.vocab)"
   ]
  },
  {
   "cell_type": "code",
   "execution_count": 12,
   "metadata": {},
   "outputs": [],
   "source": [
    "tokens = []\n",
    "\n",
    "\"\"\" Update those tokens w/o stopwords\"\"\"\n",
    "for doc in tokenizer.pipe(df['reviews.text'], batch_size=500):\n",
    "    \n",
    "    doc_tokens = []\n",
    "    \n",
    "    for token in doc:\n",
    "        if (token.is_stop == False) & (token.is_punct == False):\n",
    "            doc_tokens.append(token.text.lower())\n",
    "\n",
    "    tokens.append(doc_tokens)\n",
    "\n",
    "df['tokens'] = tokens"
   ]
  },
  {
   "cell_type": "code",
   "execution_count": 13,
   "metadata": {},
   "outputs": [],
   "source": [
    "STOP_WORDS = nlp.Defaults.stop_words.union(['batteries','I', 'amazon', 'i', 'Amazon', 'it', \"it's\", 'it.', 'the', 'this',])"
   ]
  },
  {
   "cell_type": "code",
   "execution_count": 14,
   "metadata": {},
   "outputs": [],
   "source": [
    "tokens = []\n",
    "\n",
    "for doc in tokenizer.pipe(df['reviews.text'], batch_size=500):\n",
    "    \n",
    "    doc_tokens = []\n",
    "    \n",
    "    for token in doc: \n",
    "        if token.text.lower() not in STOP_WORDS:\n",
    "            doc_tokens.append(token.text.lower())\n",
    "   \n",
    "    tokens.append(doc_tokens)\n",
    "    \n",
    "df['tokens'] = tokens"
   ]
  },
  {
   "cell_type": "code",
   "execution_count": 15,
   "metadata": {},
   "outputs": [
    {
     "data": {
      "text/plain": [
       "0        [order, 3, item, bad, quality., missing, backu...\n",
       "1                   [bulk, expensive, way, products, like]\n",
       "2                                [duracell, price, happy.]\n",
       "3                             [work, brand, better, price]\n",
       "4                           [long, lasting, price, great.]\n",
       "                               ...                        \n",
       "28327    [got, 2, 8, yr, old, twins., 11, yr, old, bett...\n",
       "28328    [bought, niece, christmas, gift.she, 9, years,...\n",
       "28329    [nice, light, internet, browsing,, keeping, em...\n",
       "28330    [tablet, absolutely, want!, watch, tv, shows, ...\n",
       "28331    [ninety, dollars,, expectionations, low,, good...\n",
       "Name: tokens, Length: 28332, dtype: object"
      ]
     },
     "execution_count": 15,
     "metadata": {},
     "output_type": "execute_result"
    }
   ],
   "source": [
    "df['tokens']"
   ]
  },
  {
   "cell_type": "code",
   "execution_count": 16,
   "metadata": {},
   "outputs": [],
   "source": [
    "def count(docs):\n",
    "\n",
    "        word_counts = Counter()\n",
    "        appears_in = Counter()\n",
    "        \n",
    "        total_docs = len(docs)\n",
    "\n",
    "        for doc in docs:\n",
    "            word_counts.update(doc)\n",
    "            appears_in.update(set(doc))\n",
    "\n",
    "        temp = zip(word_counts.keys(), word_counts.values())\n",
    "        \n",
    "        wc = pd.DataFrame(temp, columns = ['word', 'count'])\n",
    "\n",
    "        wc['rank'] = wc['count'].rank(method='first', ascending=False)\n",
    "        total = wc['count'].sum()\n",
    "\n",
    "        wc['pct_total'] = wc['count'].apply(lambda x: x / total)\n",
    "        \n",
    "        wc = wc.sort_values(by='rank')\n",
    "        wc['cul_pct_total'] = wc['pct_total'].cumsum()\n",
    "\n",
    "        t2 = zip(appears_in.keys(), appears_in.values())\n",
    "        ac = pd.DataFrame(t2, columns=['word', 'appears_in'])\n",
    "        wc = ac.merge(wc, on='word')\n",
    "\n",
    "        wc['appears_in_pct'] = wc['appears_in'].apply(lambda x: x / total_docs)\n",
    "        \n",
    "        return wc.sort_values(by='rank')"
   ]
  },
  {
   "cell_type": "code",
   "execution_count": 17,
   "metadata": {},
   "outputs": [],
   "source": [
    "wc = count(df['tokens'])"
   ]
  },
  {
   "cell_type": "code",
   "execution_count": 18,
   "metadata": {},
   "outputs": [
    {
     "data": {
      "text/html": [
       "<div>\n",
       "<style scoped>\n",
       "    .dataframe tbody tr th:only-of-type {\n",
       "        vertical-align: middle;\n",
       "    }\n",
       "\n",
       "    .dataframe tbody tr th {\n",
       "        vertical-align: top;\n",
       "    }\n",
       "\n",
       "    .dataframe thead th {\n",
       "        text-align: right;\n",
       "    }\n",
       "</style>\n",
       "<table border=\"1\" class=\"dataframe\">\n",
       "  <thead>\n",
       "    <tr style=\"text-align: right;\">\n",
       "      <th></th>\n",
       "      <th>word</th>\n",
       "      <th>appears_in</th>\n",
       "      <th>count</th>\n",
       "      <th>rank</th>\n",
       "      <th>pct_total</th>\n",
       "      <th>cul_pct_total</th>\n",
       "      <th>appears_in_pct</th>\n",
       "    </tr>\n",
       "  </thead>\n",
       "  <tbody>\n",
       "    <tr>\n",
       "      <th>78</th>\n",
       "      <td>great</td>\n",
       "      <td>7187</td>\n",
       "      <td>8183</td>\n",
       "      <td>1.0</td>\n",
       "      <td>0.023959</td>\n",
       "      <td>0.023959</td>\n",
       "      <td>0.253671</td>\n",
       "    </tr>\n",
       "    <tr>\n",
       "      <th>65</th>\n",
       "      <td>good</td>\n",
       "      <td>4633</td>\n",
       "      <td>5148</td>\n",
       "      <td>2.0</td>\n",
       "      <td>0.015073</td>\n",
       "      <td>0.039032</td>\n",
       "      <td>0.163525</td>\n",
       "    </tr>\n",
       "    <tr>\n",
       "      <th>7808</th>\n",
       "      <td>tablet</td>\n",
       "      <td>3920</td>\n",
       "      <td>4714</td>\n",
       "      <td>3.0</td>\n",
       "      <td>0.013802</td>\n",
       "      <td>0.052834</td>\n",
       "      <td>0.138359</td>\n",
       "    </tr>\n",
       "    <tr>\n",
       "      <th>109</th>\n",
       "      <td>love</td>\n",
       "      <td>3154</td>\n",
       "      <td>3458</td>\n",
       "      <td>4.0</td>\n",
       "      <td>0.010125</td>\n",
       "      <td>0.062958</td>\n",
       "      <td>0.111323</td>\n",
       "    </tr>\n",
       "    <tr>\n",
       "      <th>108</th>\n",
       "      <td>use</td>\n",
       "      <td>2881</td>\n",
       "      <td>3233</td>\n",
       "      <td>5.0</td>\n",
       "      <td>0.009466</td>\n",
       "      <td>0.072424</td>\n",
       "      <td>0.101687</td>\n",
       "    </tr>\n",
       "  </tbody>\n",
       "</table>\n",
       "</div>"
      ],
      "text/plain": [
       "        word  appears_in  count  rank  pct_total  cul_pct_total  \\\n",
       "78     great        7187   8183   1.0   0.023959       0.023959   \n",
       "65      good        4633   5148   2.0   0.015073       0.039032   \n",
       "7808  tablet        3920   4714   3.0   0.013802       0.052834   \n",
       "109     love        3154   3458   4.0   0.010125       0.062958   \n",
       "108      use        2881   3233   5.0   0.009466       0.072424   \n",
       "\n",
       "      appears_in_pct  \n",
       "78          0.253671  \n",
       "65          0.163525  \n",
       "7808        0.138359  \n",
       "109         0.111323  \n",
       "108         0.101687  "
      ]
     },
     "execution_count": 18,
     "metadata": {},
     "output_type": "execute_result"
    }
   ],
   "source": [
    "wc.head()"
   ]
  },
  {
   "cell_type": "code",
   "execution_count": 19,
   "metadata": {},
   "outputs": [
    {
     "data": {
      "image/png": "[encoded data removed]",
      "text/plain": [
       "<Figure size 432x288 with 1 Axes>"
      ]
     },
     "metadata": {},
     "output_type": "display_data"
    }
   ],
   "source": [
    "wc = count(df['tokens'])\n",
    "\n",
    "wc_top20 = wc[wc['rank'] <= 20]\n",
    "\n",
    "squarify.plot(sizes=wc_top20['pct_total'], label=wc_top20['word'], alpha=.8 )\n",
    "plt.axis('off')\n",
    "plt.show()"
   ]
  },
  {
   "cell_type": "code",
   "execution_count": 20,
   "metadata": {},
   "outputs": [
    {
     "data": {
      "text/plain": [
       "['work', 'brand', 'better', 'price']"
      ]
     },
     "execution_count": 20,
     "metadata": {},
     "output_type": "execute_result"
    }
   ],
   "source": [
    "tokens[3]"
   ]
  },
  {
   "cell_type": "code",
   "execution_count": 21,
   "metadata": {},
   "outputs": [
    {
     "data": {
      "text/plain": [
       "id                      object\n",
       "dateAdded               object\n",
       "dateUpdated             object\n",
       "name                    object\n",
       "asins                   object\n",
       "brand                   object\n",
       "categories              object\n",
       "primaryCategories       object\n",
       "imageURLs               object\n",
       "keys                    object\n",
       "manufacturer            object\n",
       "manufacturerNumber      object\n",
       "reviews.date            object\n",
       "reviews.dateSeen        object\n",
       "reviews.didPurchase     object\n",
       "reviews.doRecommend     object\n",
       "reviews.id             float64\n",
       "reviews.numHelpful     float64\n",
       "reviews.rating           int64\n",
       "reviews.sourceURLs      object\n",
       "reviews.text            object\n",
       "reviews.title           object\n",
       "reviews.username        object\n",
       "sourceURLs              object\n",
       "tokens                  object\n",
       "dtype: object"
      ]
     },
     "execution_count": 21,
     "metadata": {},
     "output_type": "execute_result"
    }
   ],
   "source": [
    "df.dtypes"
   ]
  },
  {
   "cell_type": "code",
   "execution_count": 22,
   "metadata": {},
   "outputs": [
    {
     "data": {
      "text/plain": [
       "0        3\n",
       "1        4\n",
       "2        5\n",
       "3        5\n",
       "4        5\n",
       "        ..\n",
       "28327    5\n",
       "28328    4\n",
       "28329    5\n",
       "28330    5\n",
       "28331    4\n",
       "Name: reviews.rating, Length: 28332, dtype: int64"
      ]
     },
     "execution_count": 22,
     "metadata": {},
     "output_type": "execute_result"
    }
   ],
   "source": [
    "df['reviews.rating']"
   ]
  },
  {
   "cell_type": "code",
   "execution_count": 23,
   "metadata": {},
   "outputs": [],
   "source": [
    "df['bad_review'] = df['reviews.rating'] <= 3\n",
    "df['good_review'] = df['reviews.rating'] >= 4"
   ]
  },
  {
   "cell_type": "code",
   "execution_count": 24,
   "metadata": {
    "scrolled": true
   },
   "outputs": [
    {
     "data": {
      "text/html": [
       "<div>\n",
       "<style scoped>\n",
       "    .dataframe tbody tr th:only-of-type {\n",
       "        vertical-align: middle;\n",
       "    }\n",
       "\n",
       "    .dataframe tbody tr th {\n",
       "        vertical-align: top;\n",
       "    }\n",
       "\n",
       "    .dataframe thead th {\n",
       "        text-align: right;\n",
       "    }\n",
       "</style>\n",
       "<table border=\"1\" class=\"dataframe\">\n",
       "  <thead>\n",
       "    <tr style=\"text-align: right;\">\n",
       "      <th></th>\n",
       "      <th>id</th>\n",
       "      <th>dateAdded</th>\n",
       "      <th>dateUpdated</th>\n",
       "      <th>name</th>\n",
       "      <th>asins</th>\n",
       "      <th>brand</th>\n",
       "      <th>categories</th>\n",
       "      <th>primaryCategories</th>\n",
       "      <th>imageURLs</th>\n",
       "      <th>keys</th>\n",
       "      <th>...</th>\n",
       "      <th>reviews.numHelpful</th>\n",
       "      <th>reviews.rating</th>\n",
       "      <th>reviews.sourceURLs</th>\n",
       "      <th>reviews.text</th>\n",
       "      <th>reviews.title</th>\n",
       "      <th>reviews.username</th>\n",
       "      <th>sourceURLs</th>\n",
       "      <th>tokens</th>\n",
       "      <th>bad_review</th>\n",
       "      <th>good_review</th>\n",
       "    </tr>\n",
       "  </thead>\n",
       "  <tbody>\n",
       "    <tr>\n",
       "      <th>0</th>\n",
       "      <td>AVpgNzjwLJeJML43Kpxn</td>\n",
       "      <td>2015-10-30T08:59:32Z</td>\n",
       "      <td>2019-04-25T09:08:16Z</td>\n",
       "      <td>AmazonBasics AAA Performance Alkaline Batterie...</td>\n",
       "      <td>B00QWO9P0O,B00LH3DMUO</td>\n",
       "      <td>Amazonbasics</td>\n",
       "      <td>AA,AAA,Health,Electronics,Health &amp; Household,C...</td>\n",
       "      <td>Health &amp; Beauty</td>\n",
       "      <td>https://images-na.ssl-images-amazon.com/images...</td>\n",
       "      <td>amazonbasics/hl002619,amazonbasicsaaaperforman...</td>\n",
       "      <td>...</td>\n",
       "      <td>NaN</td>\n",
       "      <td>3</td>\n",
       "      <td>https://www.amazon.com/product-reviews/B00QWO9...</td>\n",
       "      <td>i order 3 of them and one of the item is bad q...</td>\n",
       "      <td>... 3 of them and one of the item is bad quali...</td>\n",
       "      <td>Byger yang</td>\n",
       "      <td>https://www.barcodable.com/upc/841710106442,ht...</td>\n",
       "      <td>[order, 3, item, bad, quality., missing, backu...</td>\n",
       "      <td>True</td>\n",
       "      <td>False</td>\n",
       "    </tr>\n",
       "    <tr>\n",
       "      <th>1</th>\n",
       "      <td>AVpgNzjwLJeJML43Kpxn</td>\n",
       "      <td>2015-10-30T08:59:32Z</td>\n",
       "      <td>2019-04-25T09:08:16Z</td>\n",
       "      <td>AmazonBasics AAA Performance Alkaline Batterie...</td>\n",
       "      <td>B00QWO9P0O,B00LH3DMUO</td>\n",
       "      <td>Amazonbasics</td>\n",
       "      <td>AA,AAA,Health,Electronics,Health &amp; Household,C...</td>\n",
       "      <td>Health &amp; Beauty</td>\n",
       "      <td>https://images-na.ssl-images-amazon.com/images...</td>\n",
       "      <td>amazonbasics/hl002619,amazonbasicsaaaperforman...</td>\n",
       "      <td>...</td>\n",
       "      <td>NaN</td>\n",
       "      <td>4</td>\n",
       "      <td>https://www.amazon.com/product-reviews/B00QWO9...</td>\n",
       "      <td>bulk is always the less expensive way to go fo...</td>\n",
       "      <td>... always the less expensive way to go for pr...</td>\n",
       "      <td>ByMG</td>\n",
       "      <td>https://www.barcodable.com/upc/841710106442,ht...</td>\n",
       "      <td>[bulk, expensive, way, products, like]</td>\n",
       "      <td>False</td>\n",
       "      <td>True</td>\n",
       "    </tr>\n",
       "  </tbody>\n",
       "</table>\n",
       "<p>2 rows × 27 columns</p>\n",
       "</div>"
      ],
      "text/plain": [
       "                     id             dateAdded           dateUpdated  \\\n",
       "0  AVpgNzjwLJeJML43Kpxn  2015-10-30T08:59:32Z  2019-04-25T09:08:16Z   \n",
       "1  AVpgNzjwLJeJML43Kpxn  2015-10-30T08:59:32Z  2019-04-25T09:08:16Z   \n",
       "\n",
       "                                                name                  asins  \\\n",
       "0  AmazonBasics AAA Performance Alkaline Batterie...  B00QWO9P0O,B00LH3DMUO   \n",
       "1  AmazonBasics AAA Performance Alkaline Batterie...  B00QWO9P0O,B00LH3DMUO   \n",
       "\n",
       "          brand                                         categories  \\\n",
       "0  Amazonbasics  AA,AAA,Health,Electronics,Health & Household,C...   \n",
       "1  Amazonbasics  AA,AAA,Health,Electronics,Health & Household,C...   \n",
       "\n",
       "  primaryCategories                                          imageURLs  \\\n",
       "0   Health & Beauty  https://images-na.ssl-images-amazon.com/images...   \n",
       "1   Health & Beauty  https://images-na.ssl-images-amazon.com/images...   \n",
       "\n",
       "                                                keys  ... reviews.numHelpful  \\\n",
       "0  amazonbasics/hl002619,amazonbasicsaaaperforman...  ...                NaN   \n",
       "1  amazonbasics/hl002619,amazonbasicsaaaperforman...  ...                NaN   \n",
       "\n",
       "  reviews.rating                                 reviews.sourceURLs  \\\n",
       "0              3  https://www.amazon.com/product-reviews/B00QWO9...   \n",
       "1              4  https://www.amazon.com/product-reviews/B00QWO9...   \n",
       "\n",
       "                                        reviews.text  \\\n",
       "0  i order 3 of them and one of the item is bad q...   \n",
       "1  bulk is always the less expensive way to go fo...   \n",
       "\n",
       "                                       reviews.title reviews.username  \\\n",
       "0  ... 3 of them and one of the item is bad quali...       Byger yang   \n",
       "1  ... always the less expensive way to go for pr...             ByMG   \n",
       "\n",
       "                                          sourceURLs  \\\n",
       "0  https://www.barcodable.com/upc/841710106442,ht...   \n",
       "1  https://www.barcodable.com/upc/841710106442,ht...   \n",
       "\n",
       "                                              tokens  bad_review good_review  \n",
       "0  [order, 3, item, bad, quality., missing, backu...        True       False  \n",
       "1             [bulk, expensive, way, products, like]       False        True  \n",
       "\n",
       "[2 rows x 27 columns]"
      ]
     },
     "execution_count": 24,
     "metadata": {},
     "output_type": "execute_result"
    }
   ],
   "source": [
    "df.head(2)"
   ]
  },
  {
   "cell_type": "code",
   "execution_count": 25,
   "metadata": {},
   "outputs": [],
   "source": [
    "df['good_review'] = (df['good_review'] == True ).astype(int)"
   ]
  },
  {
   "cell_type": "code",
   "execution_count": 26,
   "metadata": {},
   "outputs": [
    {
     "data": {
      "text/html": [
       "<div>\n",
       "<style scoped>\n",
       "    .dataframe tbody tr th:only-of-type {\n",
       "        vertical-align: middle;\n",
       "    }\n",
       "\n",
       "    .dataframe tbody tr th {\n",
       "        vertical-align: top;\n",
       "    }\n",
       "\n",
       "    .dataframe thead th {\n",
       "        text-align: right;\n",
       "    }\n",
       "</style>\n",
       "<table border=\"1\" class=\"dataframe\">\n",
       "  <thead>\n",
       "    <tr style=\"text-align: right;\">\n",
       "      <th></th>\n",
       "      <th>id</th>\n",
       "      <th>dateAdded</th>\n",
       "      <th>dateUpdated</th>\n",
       "      <th>name</th>\n",
       "      <th>asins</th>\n",
       "      <th>brand</th>\n",
       "      <th>categories</th>\n",
       "      <th>primaryCategories</th>\n",
       "      <th>imageURLs</th>\n",
       "      <th>keys</th>\n",
       "      <th>...</th>\n",
       "      <th>reviews.numHelpful</th>\n",
       "      <th>reviews.rating</th>\n",
       "      <th>reviews.sourceURLs</th>\n",
       "      <th>reviews.text</th>\n",
       "      <th>reviews.title</th>\n",
       "      <th>reviews.username</th>\n",
       "      <th>sourceURLs</th>\n",
       "      <th>tokens</th>\n",
       "      <th>bad_review</th>\n",
       "      <th>good_review</th>\n",
       "    </tr>\n",
       "  </thead>\n",
       "  <tbody>\n",
       "    <tr>\n",
       "      <th>0</th>\n",
       "      <td>AVpgNzjwLJeJML43Kpxn</td>\n",
       "      <td>2015-10-30T08:59:32Z</td>\n",
       "      <td>2019-04-25T09:08:16Z</td>\n",
       "      <td>AmazonBasics AAA Performance Alkaline Batterie...</td>\n",
       "      <td>B00QWO9P0O,B00LH3DMUO</td>\n",
       "      <td>Amazonbasics</td>\n",
       "      <td>AA,AAA,Health,Electronics,Health &amp; Household,C...</td>\n",
       "      <td>Health &amp; Beauty</td>\n",
       "      <td>https://images-na.ssl-images-amazon.com/images...</td>\n",
       "      <td>amazonbasics/hl002619,amazonbasicsaaaperforman...</td>\n",
       "      <td>...</td>\n",
       "      <td>NaN</td>\n",
       "      <td>3</td>\n",
       "      <td>https://www.amazon.com/product-reviews/B00QWO9...</td>\n",
       "      <td>i order 3 of them and one of the item is bad q...</td>\n",
       "      <td>... 3 of them and one of the item is bad quali...</td>\n",
       "      <td>Byger yang</td>\n",
       "      <td>https://www.barcodable.com/upc/841710106442,ht...</td>\n",
       "      <td>[order, 3, item, bad, quality., missing, backu...</td>\n",
       "      <td>True</td>\n",
       "      <td>0</td>\n",
       "    </tr>\n",
       "    <tr>\n",
       "      <th>1</th>\n",
       "      <td>AVpgNzjwLJeJML43Kpxn</td>\n",
       "      <td>2015-10-30T08:59:32Z</td>\n",
       "      <td>2019-04-25T09:08:16Z</td>\n",
       "      <td>AmazonBasics AAA Performance Alkaline Batterie...</td>\n",
       "      <td>B00QWO9P0O,B00LH3DMUO</td>\n",
       "      <td>Amazonbasics</td>\n",
       "      <td>AA,AAA,Health,Electronics,Health &amp; Household,C...</td>\n",
       "      <td>Health &amp; Beauty</td>\n",
       "      <td>https://images-na.ssl-images-amazon.com/images...</td>\n",
       "      <td>amazonbasics/hl002619,amazonbasicsaaaperforman...</td>\n",
       "      <td>...</td>\n",
       "      <td>NaN</td>\n",
       "      <td>4</td>\n",
       "      <td>https://www.amazon.com/product-reviews/B00QWO9...</td>\n",
       "      <td>bulk is always the less expensive way to go fo...</td>\n",
       "      <td>... always the less expensive way to go for pr...</td>\n",
       "      <td>ByMG</td>\n",
       "      <td>https://www.barcodable.com/upc/841710106442,ht...</td>\n",
       "      <td>[bulk, expensive, way, products, like]</td>\n",
       "      <td>False</td>\n",
       "      <td>1</td>\n",
       "    </tr>\n",
       "  </tbody>\n",
       "</table>\n",
       "<p>2 rows × 27 columns</p>\n",
       "</div>"
      ],
      "text/plain": [
       "                     id             dateAdded           dateUpdated  \\\n",
       "0  AVpgNzjwLJeJML43Kpxn  2015-10-30T08:59:32Z  2019-04-25T09:08:16Z   \n",
       "1  AVpgNzjwLJeJML43Kpxn  2015-10-30T08:59:32Z  2019-04-25T09:08:16Z   \n",
       "\n",
       "                                                name                  asins  \\\n",
       "0  AmazonBasics AAA Performance Alkaline Batterie...  B00QWO9P0O,B00LH3DMUO   \n",
       "1  AmazonBasics AAA Performance Alkaline Batterie...  B00QWO9P0O,B00LH3DMUO   \n",
       "\n",
       "          brand                                         categories  \\\n",
       "0  Amazonbasics  AA,AAA,Health,Electronics,Health & Household,C...   \n",
       "1  Amazonbasics  AA,AAA,Health,Electronics,Health & Household,C...   \n",
       "\n",
       "  primaryCategories                                          imageURLs  \\\n",
       "0   Health & Beauty  https://images-na.ssl-images-amazon.com/images...   \n",
       "1   Health & Beauty  https://images-na.ssl-images-amazon.com/images...   \n",
       "\n",
       "                                                keys  ... reviews.numHelpful  \\\n",
       "0  amazonbasics/hl002619,amazonbasicsaaaperforman...  ...                NaN   \n",
       "1  amazonbasics/hl002619,amazonbasicsaaaperforman...  ...                NaN   \n",
       "\n",
       "  reviews.rating                                 reviews.sourceURLs  \\\n",
       "0              3  https://www.amazon.com/product-reviews/B00QWO9...   \n",
       "1              4  https://www.amazon.com/product-reviews/B00QWO9...   \n",
       "\n",
       "                                        reviews.text  \\\n",
       "0  i order 3 of them and one of the item is bad q...   \n",
       "1  bulk is always the less expensive way to go fo...   \n",
       "\n",
       "                                       reviews.title reviews.username  \\\n",
       "0  ... 3 of them and one of the item is bad quali...       Byger yang   \n",
       "1  ... always the less expensive way to go for pr...             ByMG   \n",
       "\n",
       "                                          sourceURLs  \\\n",
       "0  https://www.barcodable.com/upc/841710106442,ht...   \n",
       "1  https://www.barcodable.com/upc/841710106442,ht...   \n",
       "\n",
       "                                              tokens  bad_review good_review  \n",
       "0  [order, 3, item, bad, quality., missing, backu...        True           0  \n",
       "1             [bulk, expensive, way, products, like]       False           1  \n",
       "\n",
       "[2 rows x 27 columns]"
      ]
     },
     "execution_count": 26,
     "metadata": {},
     "output_type": "execute_result"
    }
   ],
   "source": [
    "df.head(2)"
   ]
  },
  {
   "cell_type": "code",
   "execution_count": 27,
   "metadata": {},
   "outputs": [
    {
     "data": {
      "text/plain": [
       "1    25545\n",
       "0     2787\n",
       "Name: good_review, dtype: int64"
      ]
     },
     "execution_count": 27,
     "metadata": {},
     "output_type": "execute_result"
    }
   ],
   "source": [
    "df.good_review.value_counts()"
   ]
  },
  {
   "cell_type": "code",
   "execution_count": 28,
   "metadata": {},
   "outputs": [],
   "source": [
    "# Let's remove extreme values from the dataset\n",
    "\n",
    "id2word = corpora.Dictionary(df['tokens'])\n",
    "id2word.filter_extremes(no_below=5, no_above=0.95)"
   ]
  },
  {
   "cell_type": "code",
   "execution_count": 29,
   "metadata": {},
   "outputs": [
    {
     "data": {
      "text/plain": [
       "62"
      ]
     },
     "execution_count": 29,
     "metadata": {},
     "output_type": "execute_result"
    }
   ],
   "source": [
    "id2word.token2id['good']"
   ]
  },
  {
   "cell_type": "code",
   "execution_count": 30,
   "metadata": {},
   "outputs": [
    {
     "data": {
      "text/plain": [
       "[(4, 1)]"
      ]
     },
     "execution_count": 30,
     "metadata": {},
     "output_type": "execute_result"
    }
   ],
   "source": [
    "id2word.doc2bow(tokenize(\"This item is expencive\"))"
   ]
  },
  {
   "cell_type": "code",
   "execution_count": 31,
   "metadata": {},
   "outputs": [
    {
     "name": "stdout",
     "output_type": "stream",
     "text": [
      "56\n",
      "253632\n"
     ]
    }
   ],
   "source": [
    "import sys\n",
    "print(sys.getsizeof(id2word))\n",
    "print(sys.getsizeof(tokens))"
   ]
  },
  {
   "cell_type": "code",
   "execution_count": 32,
   "metadata": {},
   "outputs": [
    {
     "data": {
      "text/plain": [
       "5560"
      ]
     },
     "execution_count": 32,
     "metadata": {},
     "output_type": "execute_result"
    }
   ],
   "source": [
    "len(id2word.keys())"
   ]
  },
  {
   "cell_type": "code",
   "execution_count": 33,
   "metadata": {},
   "outputs": [],
   "source": [
    "# a bag of words(bow) representation of our corpus\n",
    "# Note: we haven't actually read any text into memory here\n",
    "# Although abstracted away - tokenization IS happening in the doc_stream f(x)\n",
    "corpus = [id2word.doc2bow(text) for text in df['tokens']]"
   ]
  },
  {
   "cell_type": "code",
   "execution_count": 34,
   "metadata": {},
   "outputs": [
    {
     "data": {
      "text/plain": [
       "[(23, 1),\n",
       " (37, 1),\n",
       " (44, 1),\n",
       " (59, 1),\n",
       " (104, 1),\n",
       " (127, 1),\n",
       " (201, 1),\n",
       " (220, 2),\n",
       " (237, 1),\n",
       " (294, 1)]"
      ]
     },
     "execution_count": 34,
     "metadata": {},
     "output_type": "execute_result"
    }
   ],
   "source": [
    "corpus[225][:10]"
   ]
  },
  {
   "cell_type": "code",
   "execution_count": 35,
   "metadata": {},
   "outputs": [
    {
     "name": "stdout",
     "output_type": "stream",
     "text": [
      "CPU times: user 9.14 s, sys: 1.2 s, total: 10.3 s\n",
      "Wall time: 1min 1s\n"
     ]
    }
   ],
   "source": [
    "%%time\n",
    "lda = LdaMulticore(corpus=corpus,\n",
    "                   id2word=id2word,\n",
    "                   random_state=723812,\n",
    "                   num_topics = 15,\n",
    "                   passes=10,\n",
    "                   workers=12\n",
    "                  )"
   ]
  },
  {
   "cell_type": "code",
   "execution_count": 36,
   "metadata": {},
   "outputs": [
    {
     "data": {
      "text/plain": [
       "['__class__',\n",
       " '__delattr__',\n",
       " '__dict__',\n",
       " '__dir__',\n",
       " '__doc__',\n",
       " '__eq__',\n",
       " '__format__',\n",
       " '__ge__',\n",
       " '__getattribute__',\n",
       " '__getitem__',\n",
       " '__gt__',\n",
       " '__hash__',\n",
       " '__init__',\n",
       " '__init_subclass__',\n",
       " '__le__',\n",
       " '__lt__',\n",
       " '__module__',\n",
       " '__ne__',\n",
       " '__new__',\n",
       " '__reduce__',\n",
       " '__reduce_ex__',\n",
       " '__repr__',\n",
       " '__setattr__',\n",
       " '__sizeof__',\n",
       " '__slotnames__',\n",
       " '__str__',\n",
       " '__subclasshook__',\n",
       " '__weakref__',\n",
       " '_adapt_by_suffix',\n",
       " '_apply',\n",
       " '_load_specials',\n",
       " '_save_specials',\n",
       " '_smart_save',\n",
       " 'alpha',\n",
       " 'batch',\n",
       " 'bound',\n",
       " 'callbacks',\n",
       " 'chunksize',\n",
       " 'clear',\n",
       " 'decay',\n",
       " 'diff',\n",
       " 'dispatcher',\n",
       " 'distributed',\n",
       " 'do_estep',\n",
       " 'do_mstep',\n",
       " 'dtype',\n",
       " 'eta',\n",
       " 'eval_every',\n",
       " 'expElogbeta',\n",
       " 'gamma_threshold',\n",
       " 'get_document_topics',\n",
       " 'get_term_topics',\n",
       " 'get_topic_terms',\n",
       " 'get_topics',\n",
       " 'id2word',\n",
       " 'inference',\n",
       " 'init_dir_prior',\n",
       " 'iterations',\n",
       " 'load',\n",
       " 'log_perplexity',\n",
       " 'minimum_phi_value',\n",
       " 'minimum_probability',\n",
       " 'num_terms',\n",
       " 'num_topics',\n",
       " 'num_updates',\n",
       " 'numworkers',\n",
       " 'offset',\n",
       " 'optimize_alpha',\n",
       " 'optimize_eta',\n",
       " 'passes',\n",
       " 'per_word_topics',\n",
       " 'print_topic',\n",
       " 'print_topics',\n",
       " 'random_state',\n",
       " 'save',\n",
       " 'show_topic',\n",
       " 'show_topics',\n",
       " 'state',\n",
       " 'sync_state',\n",
       " 'top_topics',\n",
       " 'update',\n",
       " 'update_alpha',\n",
       " 'update_eta',\n",
       " 'update_every',\n",
       " 'workers']"
      ]
     },
     "execution_count": 36,
     "metadata": {},
     "output_type": "execute_result"
    }
   ],
   "source": [
    "dir(lda)"
   ]
  },
  {
   "cell_type": "code",
   "execution_count": 37,
   "metadata": {},
   "outputs": [
    {
     "data": {
      "text/plain": [
       "[(0,\n",
       "  '0.097*\"great\" + 0.026*\"long\" + 0.021*\"product\" + 0.021*\"easy\" + 0.021*\"price\" + 0.020*\"buy\" + 0.020*\"works\" + 0.020*\"good\" + 0.016*\"tablet\" + 0.012*\"price.\"'),\n",
       " (1,\n",
       "  '0.040*\"great\" + 0.022*\"tablet\" + 0.015*\"kids\" + 0.013*\"year\" + 0.013*\"case\" + 0.013*\"apps\" + 0.012*\"good\" + 0.011*\"2\" + 0.011*\"like\" + 0.010*\"battery\"'),\n",
       " (2,\n",
       "  '0.029*\"tablet\" + 0.022*\"great\" + 0.017*\"kindle\" + 0.012*\"love\" + 0.010*\"easy\" + 0.009*\"like\" + 0.009*\"user\" + 0.009*\"read\" + 0.009*\"screen\" + 0.009*\"need\"'),\n",
       " (3,\n",
       "  '0.037*\"love\" + 0.028*\"price\" + 0.025*\"great\" + 0.016*\"like\" + 0.016*\"read\" + 0.011*\"size\" + 0.010*\"good\" + 0.010*\"kindle\" + 0.010*\"screen\" + 0.009*\"easy\"'),\n",
       " (4,\n",
       "  '0.030*\"great\" + 0.022*\"can\\'t\" + 0.018*\"best\" + 0.017*\"value\" + 0.014*\"beat\" + 0.011*\"tablet\" + 0.011*\"love\" + 0.011*\"-\" + 0.009*\"thanks\" + 0.008*\"like\"'),\n",
       " (5,\n",
       "  '0.032*\"great\" + 0.021*\"loves\" + 0.018*\"tablet\" + 0.018*\"bought\" + 0.017*\"kindle\" + 0.013*\"old\" + 0.013*\"price\" + 0.012*\"fire\" + 0.011*\"son\" + 0.011*\"use\"'),\n",
       " (6,\n",
       "  '0.042*\"year\" + 0.041*\"old\" + 0.029*\"tablet\" + 0.025*\"loves\" + 0.023*\"games\" + 0.023*\"bought\" + 0.015*\"play\" + 0.015*\"easy\" + 0.014*\"great\" + 0.014*\"love\"'),\n",
       " (7,\n",
       "  '0.039*\"love\" + 0.036*\"loves\" + 0.030*\"great\" + 0.027*\"tablet\" + 0.021*\"gift\" + 0.020*\"easy\" + 0.019*\"bought\" + 0.017*\"kids\" + 0.012*\"perfect\" + 0.012*\"daughter\"'),\n",
       " (8,\n",
       "  '0.041*\"easy\" + 0.032*\"use\" + 0.016*\"loves\" + 0.015*\"tablet\" + 0.015*\"great\" + 0.012*\"bought\" + 0.011*\"i\\'m\" + 0.010*\"perfect\" + 0.010*\"love\" + 0.008*\"lots\"'),\n",
       " (9,\n",
       "  '0.032*\"bought\" + 0.021*\"use\" + 0.016*\"love\" + 0.016*\"purchased\" + 0.013*\"easy\" + 0.012*\"set\" + 0.012*\"parental\" + 0.011*\"tablet\" + 0.010*\"christmas\" + 0.010*\"loved\"'),\n",
       " (10,\n",
       "  '0.028*\"work\" + 0.017*\"good\" + 0.016*\"batteries.\" + 0.015*\"battery\" + 0.011*\"use\" + 0.011*\"long\" + 0.011*\"brand\" + 0.010*\"price\" + 0.010*\"like\" + 0.009*\"better\"'),\n",
       " (11,\n",
       "  '0.045*\"fire\" + 0.032*\"kindle\" + 0.021*\"new\" + 0.017*\"better\" + 0.016*\"hd\" + 0.014*\"screen\" + 0.011*\"bought\" + 0.010*\"8\" + 0.009*\"old\" + 0.009*\"7\"'),\n",
       " (12,\n",
       "  '0.080*\"good\" + 0.041*\"tablet\" + 0.013*\"price\" + 0.011*\"card\" + 0.011*\"works\" + 0.010*\"use\" + 0.010*\"price.\" + 0.009*\"buy\" + 0.008*\"tablet.\" + 0.008*\"sd\"'),\n",
       " (13,\n",
       "  '0.036*\"kindle\" + 0.027*\"great\" + 0.022*\"reading\" + 0.014*\"easy\" + 0.012*\"books\" + 0.011*\"bought\" + 0.011*\"use\" + 0.011*\"playing\" + 0.010*\"good\" + 0.010*\"fire\"'),\n",
       " (14,\n",
       "  '0.021*\"tablet\" + 0.016*\"google\" + 0.014*\"apps\" + 0.013*\"play\" + 0.013*\"kids\" + 0.012*\"good\" + 0.011*\"like\" + 0.011*\"app\" + 0.011*\"use\" + 0.010*\"store\"')]"
      ]
     },
     "execution_count": 37,
     "metadata": {},
     "output_type": "execute_result"
    }
   ],
   "source": [
    "lda.print_topics()"
   ]
  },
  {
   "cell_type": "code",
   "execution_count": 38,
   "metadata": {},
   "outputs": [],
   "source": [
    "words = [re.findall(r'\"([^\"]*)\"',t[1]) for t in lda.print_topics()]"
   ]
  },
  {
   "cell_type": "code",
   "execution_count": 56,
   "metadata": {},
   "outputs": [],
   "source": [
    "topics = [' '.join(t[0:10]) for t in words]"
   ]
  },
  {
   "cell_type": "code",
   "execution_count": 57,
   "metadata": {},
   "outputs": [
    {
     "name": "stdout",
     "output_type": "stream",
     "text": [
      "------ Topic 0 ------\n",
      "great long product easy price buy works good tablet price.\n",
      "\n",
      "------ Topic 1 ------\n",
      "great tablet kids year case apps good 2 like battery\n",
      "\n",
      "------ Topic 2 ------\n",
      "tablet great kindle love easy like user read screen need\n",
      "\n",
      "------ Topic 3 ------\n",
      "love price great like read size good kindle screen easy\n",
      "\n",
      "------ Topic 4 ------\n",
      "great can't best value beat tablet love - thanks like\n",
      "\n",
      "------ Topic 5 ------\n",
      "great loves tablet bought kindle old price fire son use\n",
      "\n",
      "------ Topic 6 ------\n",
      "year old tablet loves games bought play easy great love\n",
      "\n",
      "------ Topic 7 ------\n",
      "love loves great tablet gift easy bought kids perfect daughter\n",
      "\n",
      "------ Topic 8 ------\n",
      "easy use loves tablet great bought i'm perfect love lots\n",
      "\n",
      "------ Topic 9 ------\n",
      "bought use love purchased easy set parental tablet christmas loved\n",
      "\n",
      "------ Topic 10 ------\n",
      "work good batteries. battery use long brand price like better\n",
      "\n",
      "------ Topic 11 ------\n",
      "fire kindle new better hd screen bought 8 old 7\n",
      "\n",
      "------ Topic 12 ------\n",
      "good tablet price card works use price. buy tablet. sd\n",
      "\n",
      "------ Topic 13 ------\n",
      "kindle great reading easy books bought use playing good fire\n",
      "\n",
      "------ Topic 14 ------\n",
      "tablet google apps play kids good like app use store\n",
      "\n"
     ]
    }
   ],
   "source": [
    "for id, t in enumerate(topics): \n",
    "    print(f\"------ Topic {id} ------\")\n",
    "    print(t, end=\"\\n\\n\")"
   ]
  },
  {
   "cell_type": "code",
   "execution_count": 58,
   "metadata": {},
   "outputs": [],
   "source": [
    "import pyLDAvis.gensim\n",
    "\n",
    "pyLDAvis.enable_notebook()"
   ]
  },
  {
   "cell_type": "code",
   "execution_count": 42,
   "metadata": {},
   "outputs": [
    {
     "name": "stdout",
     "output_type": "stream",
     "text": [
      "CPU times: user 17.9 s, sys: 160 ms, total: 18.1 s\n",
      "Wall time: 21.4 s\n"
     ]
    },
    {
     "data": {
      "text/html": [
       "\n",
       "<link rel=\"stylesheet\" type=\"text/css\" href=\"https://cdn.rawgit.com/bmabey/pyLDAvis/files/ldavis.v1.0.0.css\">\n",
       "\n",
       "\n",
       "<div id=\"ldavis_el4688855497593688860682271\"></div>\n",
       "<script type=\"text/javascript\">\n",
       "\n",
       "var ldavis_el4688855497593688860682271_data = {\"mdsDat\": {\"x\": [0.16568597237518812, 0.16172525951553796, 0.04427653742123706, -0.15825428643274406, -0.13331809056219893, 0.025987930582808422, -0.016022515558354124, 0.07862017274520294, -0.0436534124522637, -0.03988002301894906, 0.03405248246734961, -0.10051600766282798, -0.0050273199315581316, 0.01673593007097126, -0.030412629559399256], \"y\": [-0.01473176635360965, 0.1279638747938302, -0.07529159756483039, 0.020116193373636102, 0.06080537456258913, -0.020816910420912025, 0.03210290136943902, -0.06291956833238446, -0.17657628684285553, -0.0037364815453947596, -0.020307870565369673, 0.04493263754352013, 0.10281791966652182, -0.004187227865801298, -0.010171191818378344], \"topics\": [1, 2, 3, 4, 5, 6, 7, 8, 9, 10, 11, 12, 13, 14, 15], \"cluster\": [1, 1, 1, 1, 1, 1, 1, 1, 1, 1, 1, 1, 1, 1, 1], \"Freq\": [15.110453605651855, 9.549674034118652, 7.892624378204346, 7.216490268707275, 7.050409317016602, 6.2455596923828125, 6.0503435134887695, 5.936543941497803, 5.839009761810303, 5.2084760665893555, 4.981922626495361, 4.8894758224487305, 4.885525226593018, 4.622988700866699, 4.520493030548096]}, \"tinfo\": {\"Term\": [\"good\", \"great\", \"loves\", \"kindle\", \"year\", \"old\", \"easy\", \"love\", \"fire\", \"price\", \"bought\", \"tablet\", \"long\", \"batteries.\", \"gift\", \"work\", \"reading\", \"can't\", \"use\", \"value\", \"games\", \"works\", \"new\", \"google\", \"brand\", \"read\", \"play\", \"beat\", \"parental\", \"hd\", \"energy\", \"wrong!\", \"dies\", \"d\", \"comforting\", \"2-3\", \"component\", \"costco\", \"update.\", \"tho.\", \"energizer,\", \"quicker\", \"brand!\", \"nicely.\", \"national\", \"lithium\", \"box,\", \"sharing\", \"pleasure.\", \"indoor\", \"long,\", \"bike\", \"following\", \"angles\", \"crisp.\", \"costing\", \"clocks,\", \"thoughts\", \"season\", \"decent.\", \"excellent.\", \"receiver\", \"brand,\", \"eat\", \"stocked\", \"perform\", \"half\", \"test\", \"work\", \"described\", \"duracell\", \"duracell,\", \"cheaper.\", \"energizer\", \"candles\", \"batteries.\", \"aaa\", \"alkaline\", \"these.\", \"brand\", \"led\", \"packaged\", \"remote\", \"shelf\", \"dead.\", \"brands\", \"waste\", \"brand.\", \"expected.\", \"aa\", \"battery\", \"order\", \"life.\", \"lasted\", \"buying\", \"pack\", \"box\", \"longer\", \"better\", \"great!\", \"difference\", \"work.\", \"long\", \"money\", \"cost\", \"good\", \"run\", \"don't\", \"price\", \"far\", \"like\", \"use\", \"life\", \"purchased\", \"i'm\", \"bought\", \"quality\", \"great\", \"kindle\", \"price.\", \"tablet\", \"lot\", \"time\", \"buy\", \"branded\", \"lasting,\", \"lighting,\", \"product...\", \"goo\", \"three.\", \"bet\", \"tablet!!!\", \"toddler,\", \"life!\", \"lite\", \"batts\", \"kindles!\", \"crap\", \"batteries!!\", \"dirt\", \"fun!\", \"personnel\", \"hoped.\", \"again!!\", \"vehicle\", \"beach.\", \"repair\", \"videos!\", \"duracel\", \"signal.\", \"hooked.\", \"term.\", \"classes\", \"grows\", \"good!\", \"around!\", \"price!\", \"right.\", \"beginners\", \"grandpa\", \"!\", \"lasting\", \"needed.\", \"died\", \"product\", \"again!\", \"long\", \"great\", \"good.\", \"deal\", \"works\", \"price,\", \"prices\", \"advertised.\", \"value!\", \"buy\", \"batteries,\", \"excellent\", \"job\", \"fantastic\", \"batteries!\", \"similar\", \"quality\", \"brands.\", \"price\", \"price.\", \"recommend\", \"easy\", \"again.\", \"brand\", \"good\", \"batteries.\", \"great.\", \"tablet\", \"far\", \"love\", \"use.\", \"kids\", \"use\", \"battery\", \"best\", \"nice\", \"like\", \"pre-installed\", \"daugther\", \"down,\", \"navigation\", \"appstore\", \"keys,\", \"newspaper\", \"capability.\", \"limited.\", \"refused\", \"cash\", \"wish,\", \"instance)\", \"soft,\", \"numbers.\", \"fireos\", \"frozen\", \"useful.\", \"it'll\", \"issues,\", \"deleted\", \"rooting\", \"error\", \"headphones,\", \"tip\", \"prefect\", \"slowly\", \"offers,\", \"alternate\", \"message\", \"solve\", \"uncomfortable\", \"google\", \"thumbs\", \"slow.\", \"services.\", \"magazine\", \"magazines\", \"app\", \"swipe\", \"runs\", \"store,\", \"account.\", \"store\", \"feels\", \"amazon's\", \"android\", \"rest\", \"play\", \"youtube\", \"apps\", \"want\", \"os\", \"operating\", \"feel\", \"wrong.\", \"don't\", \"content\", \"device\", \"nice\", \"doesn't\", \"kids\", \"tablet\", \"limited\", \"think\", \"little\", \"access\", \"like\", \"way\", \"good\", \"use\", \"tablet.\", \"i'm\", \"screen\", \"tablets\", \"great\", \"download\", \"bought\", \"games\", \"free\", \"price\", \"time\", \"easy\", \"nephew.\", \"girls\", \"plays,\", \"present!\", \"choose.\", \"fixed.\", \"street\", \"sesame\", \"samsung.\", \"hers.\", \"allows.\", \"nothing.\", \"loves.\", \"love!\", \"supervise\", \"works,\", \"charger,\", \"toys..\", \"neice\", \"19\", \"slides\", \"grandbaby\", \"mom's\", \"learning,\", \"4yo\", \"problems!\", \"remaining\", \"locks,\", \"bringing\", \"accidental\", \"9\", \"enjoys\", \"year\", \"programs\", \"christmas.\", \"calls\", \"old\", \"games\", \"6\", \"homework\", \"granddaughter\", \"play\", \"loves\", \"keeps\", \"5\", \"age\", \".\", \"daughter\", \"appropriate\", \"case,\", \"do,\", \"4\", \"mom\", \"watches\", \"watch\", \"&\", \"bought\", \"games.\", \"yr\", \"2\", \"8\", \"son\", \"tablet\", \"durable\", \"3\", \"easy\", \"got\", \"love\", \"able\", \"christmas\", \"great\", \"purchased\", \"use\", \"tablet.\", \"fire\", \"kids\", \"use.\", \"like\", \"traded\", \"him!\", \"kiddo\", \"puzzles\", \"hit!\", \"updates.\", \"dad.\", \"disabled\", \"down!\", \"bf\", \"boot\", \"learning!\", \"it..my\", \"gifts...\", \"6.\", \"excelent\", \"parents.\", \"recommendation\", \"item!\", \"color!\", \"spouse\", \"amd\", \"produces\", \"batery\", \"onother\", \"issues!\", \"implemented.\", \"laugh\", \"$100,\", \"visits\", \"programming.\", \"playing.\", \"it!!\", \"gift\", \"she'll\", \"members,\", \"tho\", \"item\", \"tool\", \"security\", \"it!\", \"absolutely\", \"entertained\", \"loves\", \"birthday\", \"child\", \"learning\", \"keeps\", \"daughter\", \"grand\", \"programs.\", \"love\", \"wife\", \"brought\", \"perfect\", \"books\", \"uses\", \"christmas\", \"size\", \"kids\", \"easy\", \"granddaughter\", \"bought\", \"tablet\", \"read\", \"kid\", \"great\", \"tablet.\", \"loved\", \"use\", \"got\", \"apps\", \"purchased\", \"recommend\", \"use.\", \"like\", \"little\", \"good\", \"disable\", \"guarantee.\", \"e-books.\", \"regrets\", \"glued\", \"vacation.\", \"lighting.\", \"lastly,\", \"beneficial.\", \"\\\"ipad\\\",\", \"prompt\", \"timely\", \"snappy\", \"powerful.\", \"reached\", \"adapter\", \"needed,\", \"flawlessly!\", \"then,\", \"disadvantage\", \"priced,\", \"pulled\", \"effect\", \"details\", \"manufacturer.\", \"pic\", \"i.e.\", \"was.\", \"note:\", \"e-readers.\", \"top.\", \"silly\", \"tasks.\", \"also!\", \"user\", \"readable\", \"clarity.\", \"groups.\", \"surprise\", \"sync\", \"operate.\", \"friendly.\", \"backlight\", \"friendly\", \"service\", \"customer\", \"thats\", \"paperwhite\", \"voyage\", \"purpose\", \"day\", \"thought\", \"need\", \"savvy\", \"tablet\", \"kindle\", \"family\", \"read\", \"turn\", \"stop\", \"decided\", \"ask\", \"screen\", \"great\", \"don't\", \"took\", \"light\", \"time\", \"little\", \"like\", \"wanted\", \"love\", \"didn't\", \"easy\", \"kindle.\", \"price.\", \"find\", \"buy\", \"happy\", \"fire\", \"use\", \"tablet.\", \"recommend\", \"kids\", \"new\", \"set\", \"got\", \"apps\", \"play\", \"protective.\", \"gigs\", \"headphone\", \"florida.\", \"ez\", \"(don't\", \"theres\", \"ipod\", \"solid.\", \"letting\", \"nursery\", \"rhymes\", \"asked.\", \"annoyed.\", \"determine\", \"instant\", \"inside.\", \"department\", \"logic\", \"quickly!\", \"refund.\", \"find.\", \"outlet.\", \"versions,\", \"annoyed\", \"recieved\", \"wanna\", \"prior.\", \"folder.\", \"wonders\", \"soft\", \"prime!\", \"pleasant\", \"kid-friendly\", \"built-in\", \"cost!\", \"children\", \"stock\", \"straight\", \"four.\", \"rubber\", \"case\", \"mobile\", \"parental\", \"controls\", \"warranty\", \"comes\", \"2\", \"control\", \"protect\", \"camera\", \"kids.\", \"included\", \"strong\", \"great\", \"apps\", \"sturdy\", \"adults\", \"year\", \"device\", \"kids\", \"tablet\", \"battery\", \"profile\", \"overall\", \"educational\", \"like\", \"free\", \"protective\", \"old.\", \"good\", \"best\", \"love\", \"use\", \"set\", \"bought\", \"buy\", \"life\", \"time\", \"price.\", \"don't\", \"easy\", \"long\", \"works\", \"oh\", \"fuss.\", \"ebooks.\", \"again...\", \"works...\", \"now...\", \"imagined\", \"fix,\", \"netflix....\", \"clearing\", \"repossess\", \"back...\", \"netflix!!\", \"times...\", \"restart...\", \"cache\", \"tablets...\", \"paperweight.\", \"overpriced\", \"respond\", \"happens.\", \"prepaid\", \"bad,\", \"did,\", \"inch,\", \"worn\", \"quad\", \"brother's\", \"e-mail\", \"bothering\", \"slot.\", \"card\", \"described.\", \"sd\", \"credit\", \"policy\", \"good\", \"laptop.\", \"thousands\", \"starting\", \"micro\", \"memory\", \"storage.\", \"netflix\", \"tablet\", \"ipad.\", \"slow\", \"lag\", \"basic\", \"space\", \"sun.\", \"expand\", \"works\", \"price.\", \"hope\", \"decent\", \"price\", \"resolution\", \"video\", \"money\", \"buy\", \"tablet.\", \"ipad\", \"prime\", \"pretty\", \"doesn't\", \"use\", \"nice\", \"screen\", \"time\", \"bought\", \"games\", \"play\", \"best\", \"great\", \"kids\", \"battery\", \"i'm\", \"fire\", \"apps\", \"likes.\", \"versions.\", \"noticeably\", \"granddaughter,\", \"cool,\", \"proof.\", \"wizard\", \"9.\", \"choice!\", \"20-40\", \"fills\", \"boost\", \"screen!\", \"8,\", \"sleeker\", \"contemplating\", \"choices.\", \"wider\", \"store).\", \"apparently\", \"deducted\", \"upgrade!\", \"guide\", \"spot.\", \"mode,\", \"group.\", \"mastered\", \"could.\", \"mine.\", \"mb\", \"unlock\", \"cards\", \"improvement\", \"8.\", \"larger\", \"inch\", \"hd.\", \"faster\", \"hd\", \"7\\\"\", \"difference.\", \"previous\", \"generation\", \"7\", \"fire\", \"new\", \"broke\", \"amazing.\", \"upgrade.\", \"one.\", \"version\", \"bigger\", \"model\", \"8\", \"kindle\", \"one,\", \"version.\", \"better\", \"original\", \"8\\\"\", \"upgrade\", \"older\", \"screen\", \"looked\", \"kindle.\", \"old\", \"bought\", \"replace\", \"kids\", \"like\", \"daughter\", \"love\", \"tablet\", \"got\", \"tablet.\", \"buy\", \"great\", \"best\", \"easy-to-use\", \"asleep\", \"(5\", \"homework,\", \"foot\", \"accident\", \"boy.\", \"ios\", \"87\", \"introducing\", \"vacation\", \"telling\", \"alexa,\", \"circadian\", \"rhythm\", \"safeguard\", \"staying\", \"constantly.\", \"true.\", \"ereader,\", \"noble\", \"unnecessary\", \"ds\", \"recharged\", \"(about\", \"praise\", \"use.the\", \"s2\", \"tough.\", \"electronic.\", \"span.\", \"tells\", \"spare\", \"bb\", \"satisfactory\", \"set-up\", \"wife.\", \"plus!\", \"difficulty\", \"responds\", \"playing\", \"trips,\", \"reading\", \"entertaining\", \"fall\", \"paper\", \"expected\", \"reader.\", \"enjoy\", \"kindle\", \"watching\", \"fire.\", \"uses\", \"books\", \"checking\", \"ordering\", \"reader\", \"now.\", \"listening\", \"value.\", \"charged\", \"use.\", \"grandson\", \"light\", \"great\", \"wanted\", \"works\", \"car\", \"lasts\", \"easy\", \"plays\", \"old\", \"time\", \"fire\", \"looking\", \"bought\", \"use\", \"loves\", \"good\", \"new\", \"movies\", \"games\", \"love\", \"tablet\", \"tablet.\", \"got\", \"happy\", \"read\", \"u.\", \"request\", \"boys!\", \"standards\", \"honest.\", \"coat\", \"sometimes.\", \"me)\", \"repeat\", \"shortly\", \"promptly\", \"fir\", \"battery!\", \"surface,\", \"those.\", \"clean.\", \"spring\", \"compromise\", \"situation.\", \"areas.\", \"website.\", \"impressive\", \"useful,\", \"active.\", \"it!!!!!\", \"job!\", \"brain\", \"wonderfully\", \"$50.\", \"document\", \"stock.\", \"investment.\", \"portability\", \"purse\", \"performing\", \"prefer\", \"shade\", \"..\", \"missed\", \"comfortable.\", \"fits\", \"more!\", \"e-book\", \"lighting\", \"kindle,\", \"book.\", \"this!\", \"times.\", \"outside.\", \"love\", \"price\", \"read\", \"size\", \"download\", \"color\", \"page\", \"photos.\", \"black\", \"ipad\", \"friday\", \"like\", \"easier\", \"book\", \"nook\", \"prime\", \"great\", \"books.\", \"screen\", \"nice\", \"worth\", \"life\", \"light\", \"kindle\", \"tablet.\", \"battery\", \"easy\", \"good\", \"use\", \"reading\", \"tablet\", \"way\", \"bought\", \"fire\", \"books\", \"kids\", \"grandma.\", \"mother-in-law\", \"controls!\", \"blue.\", \"heart\", \"next!\", \"weekend\", \"grandchild.\", \"products!\", \"comparing\", \"(ages\", \"6,\", \"it!!!!\", \"february\", \"annoying,\", \"brothers\", \"junk,\", \"xmas.\", \"leather\", \"9,\", \"tablet;\", \"fault.\", \"curfew\", \"left.\", \"candle\", \"opens\", \"failed.\", \"youngest\", \"sister,\", \"grandchildren\", \"grandson,\", \"junk\", \"public\", \"opinion.\", \"grandkids\", \"instantly\", \"gifts\", \"days.\", \"friend\", \"grandchildren.\", \"gift.\", \"timer\", \"exchange\", \"week\", \"ive\", \"parental\", \"loved\", \"ok\", \"4yr\", \"40\", \"controls\", \"bought\", \"christmas\", \"set\", \"yr\", \"purchased\", \"them.\", \"grandson\", \"use\", \"stop\", \"i've\", \"4\", \"controls.\", \"2\", \"love\", \"years\", \"old.\", \"easy\", \"likes\", \"best\", \"happy\", \"old\", \"tablet\", \"buy\", \"tablets\", \"good\", \"5\", \"charge\", \"perfect\", \"like\", \"got\", \"kids\", \"through.\", \"grade\", \"use!!\", \"item,\", \"7\\\",\", \"purchase!!\", \"everywhere!\", \"random\", \"shrink\", \"intuitive.\", \"purse,\", \"it!.\", \"recommending\", \"travels\", \",,\", \"doctors\", \"sports\", \"explained\", \"advertised!\", \"monitor.\", \"obvious\", \"thanks!\", \"figure.\", \"rolling\", \"tables\", \"parents!\", \"3.0\", \"hindsight\", \"adult.\", \"worm\", \"would,\", \"inexpensive.\", \"4,\", \"equipment.\", \"wrapped\", \"holidays\", \"feedback\", \"setup.\", \"durable.\", \"party.\", \"cable\", \"apps!\", \"read,\", \"person\", \"friend.\", \"cheap,\", \"im\", \"easy\", \"say.\", \"lots\", \"use\", \"met\", \"i'm\", \"they're\", \"kindles.\", \"needed\", \"too!\", \"perfect\", \"loves\", \"children's\", \"navigate\", \"too.\", \"fun\", \"super\", \"makes\", \"bought\", \"tablet\", \"recommend\", \"&\", \"happy\", \"need\", \"wanted\", \"great\", \"gift\", \"love\", \"-\", \"use.\", \"having\", \"device\", \"nice\", \"purchased\", \"price\", \"apps\", \"kids\", \"great.\", \"read\", \"works\", \"autistic\", \"couch\", \"sure,\", \"children,\", \"buck.\", \"coffee\", \"fantastic,\", \"fianc\\u221a\\u00a9\", \"yet!\", \"forward.\", \"bag,\", \"commercials\", \"\\\"\", \"rooms\", \"giant\", \"kickstand\", \"reduction\", \"phones.\", \"shame\", \"thomas\", \"by,\", \"surprises\", \"power!\", \"versions!\", \"emergency\", \"hurt\", \"deal!\", \"guns\", \"contact\", \"backlighting\", \"interactive.\", \"thanks\", \"reliable.\", \"night.\", \"paired\", \"beat\", \"train\", \"value\", \"pleased.\", \"types\", \"can't\", \"salesman\", \"keyboard\", \"improvements\", \"bang\", \"products.\", \"controllers\", \"plane\", \"-\", \"speak\", \"best\", \"r\", \"help\", \"geek\", \"quality!\", \"there.\", \"live\", \"great\", \"tons\", \"ok.\", \"free\", \"squad\", \"time\", \"love\", \"3\", \"screen\", \"like\", \"buy.\", \"tablet\", \"price\", \"reading\", \"kindle\", \"buy\", \"set\", \"read\", \"purchase\", \"easy\", \"year\", \"got\", \"fire\", \"tablet.\", \"bought\", \"2\", \"price.\", \"use\", \"good\", \"darn\", \"lil\", \"material.\", \"stepkids\", \"mommy\", \"mp3\", \"mah\", \"6yr\", \"proudly\", \"prize\", \"someone.\", \"facing\", \"hour.\", \"people.\", \"raffle\", \"21\", \":\", \"reasonable.\", \"product!!\", \"discover\", \"fan.\", \"dauther\", \"waking\", \"supporting\", \"clash\", \"portion\", \"dislike\", \"done,\", \"17\", \"blow\", \"shown\", \"entry\", \"mother.\", \"update\", \"dog\", \"tell.\", \"anything.\", \"download.\", \"equipment\", \"friday\", \"black\", \"friday.\", \"textbooks\", \"level\", \"ereader\", \"son\", \"functionality\", \"capacity\", \"loves\", \"awesome\", \"web\", \"father\", \"rough\", \"kindle\", \"working\", \"he's\", \"great\", \"bought\", \"old\", \"add\", \"grandson.\", \"price\", \"fire\", \"tablet\", \"pretty\", \"price.\", \"purchased\", \"tablet.\", \"use\", \"books\", \"buy\", \"gift\", \"got\", \"good\", \"best\", \"apps\", \"year\", \"time\", \"kids\", \"easy\", \"read\", \"product\"], \"Freq\": [4314.0, 7898.0, 2233.0, 2627.0, 1739.0, 1942.0, 3265.0, 3576.0, 2217.0, 2457.0, 3227.0, 5505.0, 1678.0, 1096.0, 798.0, 1768.0, 994.0, 798.0, 3433.0, 495.0, 1267.0, 1473.0, 963.0, 496.0, 753.0, 1140.0, 1141.0, 342.0, 525.0, 509.0, 32.31263732910156, 21.504484176635742, 23.201845169067383, 22.085145950317383, 16.270977020263672, 19.416913986206055, 15.471935272216797, 46.47043991088867, 14.673844337463379, 15.374724388122559, 23.208744049072266, 22.068115234375, 15.126082420349121, 14.093013763427734, 21.007720947265625, 14.223777770996094, 29.96053123474121, 13.224955558776855, 12.486968040466309, 12.41499137878418, 47.238189697265625, 10.99501895904541, 10.980367660522461, 14.869302749633789, 15.646260261535645, 11.63853931427002, 14.71975326538086, 11.625245094299316, 11.598644256591797, 11.610649108886719, 56.61382293701172, 12.250757217407227, 36.218040466308594, 25.835641860961914, 15.99931526184082, 75.06749725341797, 132.6435546875, 70.73681640625, 1318.19921875, 56.163448333740234, 266.1357116699219, 35.083045959472656, 45.62818908691406, 135.02572631835938, 51.829063415527344, 760.0066528320312, 173.17601013183594, 124.32605743408203, 106.74561309814453, 505.3893737792969, 64.12434387207031, 72.6412124633789, 135.55735778808594, 55.163089752197266, 39.05909729003906, 190.99114990234375, 52.19215393066406, 84.46973419189453, 114.81474304199219, 181.1480255126953, 717.1991577148438, 149.30299377441406, 143.4904022216797, 136.8941192626953, 233.38299560546875, 115.64173889160156, 149.8069610595703, 185.8380889892578, 445.2425537109375, 124.67906188964844, 116.118896484375, 114.3572769165039, 509.6681823730469, 192.16917419433594, 146.3369598388672, 812.7774658203125, 140.8059844970703, 330.4374084472656, 485.711669921875, 252.9424285888672, 458.5202941894531, 539.6515502929688, 217.4077911376953, 257.8821105957031, 222.55230712890625, 308.5285949707031, 204.93626403808594, 360.5181884765625, 241.38473510742188, 206.08663940429688, 271.7945251464844, 177.97088623046875, 187.37673950195312, 176.04551696777344, 23.193876266479492, 15.777091979980469, 12.590880393981934, 11.425451278686523, 10.820043563842773, 12.396970748901367, 10.787093162536621, 10.774654388427734, 10.774563789367676, 12.027868270874023, 9.261185646057129, 9.940528869628906, 9.720928192138672, 10.69874095916748, 9.271961212158203, 7.472348690032959, 10.04645824432373, 6.924365520477295, 6.9165143966674805, 8.443816184997559, 7.405895709991455, 6.900857448577881, 6.8535332679748535, 6.860647201538086, 9.52758502960205, 6.854089736938477, 7.304732799530029, 6.785256862640381, 6.759270191192627, 15.300868034362793, 40.89651870727539, 8.955801963806152, 224.3105010986328, 54.6070556640625, 31.886476516723633, 10.1384916305542, 86.75170135498047, 116.10470581054688, 64.72171020507812, 41.08349609375, 637.2272338867188, 33.90975570678711, 786.9352416992188, 2918.252685546875, 239.7936248779297, 226.78497314453125, 599.7101440429688, 187.87213134765625, 21.477846145629883, 39.74216079711914, 38.143611907958984, 600.0128173828125, 150.04345703125, 252.07229614257812, 92.05359649658203, 57.450504302978516, 77.89662170410156, 46.365135192871094, 315.0675964355469, 118.13856506347656, 631.8457641601562, 372.6383361816406, 316.3473815917969, 632.966796875, 114.11751556396484, 204.98448181152344, 592.5933837890625, 249.8999786376953, 170.8014373779297, 491.51080322265625, 163.45436096191406, 328.04473876953125, 174.98358154296875, 237.76309204101562, 268.88165283203125, 204.01214599609375, 178.78944396972656, 156.0624542236328, 149.3271942138672, 21.41214370727539, 12.256446838378906, 12.655837059020996, 13.443120002746582, 15.037542343139648, 11.355029106140137, 9.76108455657959, 10.159492492675781, 15.949432373046875, 9.72331714630127, 8.900812149047852, 8.495755195617676, 8.495748519897461, 8.495707511901855, 8.460205078125, 8.448390007019043, 8.033991813659668, 8.512480735778809, 7.6978983879089355, 6.821544170379639, 7.179800510406494, 10.49735164642334, 6.378286838531494, 6.358063697814941, 5.972957611083984, 6.342609405517578, 5.970002174377441, 5.577142238616943, 5.576204299926758, 5.946042060852051, 6.706394195556641, 7.078670978546143, 389.5144348144531, 11.17668628692627, 41.241764068603516, 19.033777236938477, 29.116580963134766, 40.27902603149414, 266.249755859375, 21.45167350769043, 63.4825553894043, 60.38365936279297, 43.0175666809082, 253.98812866210938, 38.09849166870117, 62.23937225341797, 125.88645935058594, 19.14259147644043, 332.40625, 68.06083679199219, 337.0445861816406, 166.671630859375, 43.487098693847656, 38.103519439697266, 69.67115783691406, 21.45077896118164, 245.0289306640625, 68.01445007324219, 163.9800567626953, 216.27452087402344, 106.94124603271484, 314.66363525390625, 527.5289306640625, 53.959693908691406, 105.45183563232422, 167.38772583007812, 106.53143310546875, 271.9496154785156, 120.09539031982422, 292.7130432128906, 261.79376220703125, 180.76296997070312, 139.0568389892578, 143.51318359375, 97.73564910888672, 220.77001953125, 92.2115249633789, 140.06861877441406, 109.97636413574219, 86.71049499511719, 106.73274230957031, 90.34466552734375, 93.21788787841797, 27.18224334716797, 13.977216720581055, 9.535776138305664, 7.767482757568359, 7.356377601623535, 7.341850280761719, 6.974541187286377, 6.974541664123535, 6.975354194641113, 7.07168436050415, 6.904951095581055, 7.38303804397583, 7.530818462371826, 6.329411029815674, 9.083756446838379, 7.736207008361816, 11.371577262878418, 4.84761381149292, 4.826147079467773, 4.807761192321777, 4.4676032066345215, 4.46405029296875, 9.187637329101562, 4.458315372467041, 4.462278366088867, 4.451329231262207, 8.596029281616211, 4.42323637008667, 4.427844047546387, 8.47266674041748, 89.91300201416016, 114.11289978027344, 959.869873046875, 35.36111831665039, 128.0806884765625, 15.313079833984375, 933.5972900390625, 529.7379760742188, 112.07785034179688, 15.128092765808105, 146.86163330078125, 343.88043212890625, 572.8169555664062, 99.36344909667969, 161.54721069335938, 81.69368743896484, 116.22340393066406, 217.10394287109375, 55.04668426513672, 27.550535202026367, 13.785676956176758, 163.3968963623047, 75.9075698852539, 21.333576202392578, 152.12025451660156, 106.4247817993164, 514.2552490234375, 100.8774185180664, 86.0086441040039, 201.81085205078125, 133.38819885253906, 179.72982788085938, 646.9325561523438, 76.90718841552734, 132.4917449951172, 332.8782653808594, 194.14337158203125, 308.4783935546875, 127.92548370361328, 129.43740844726562, 314.0683288574219, 165.9854278564453, 179.54734802246094, 131.43394470214844, 137.0699920654297, 127.69355010986328, 120.92327117919922, 122.90846252441406, 12.562823295593262, 14.725194931030273, 9.869951248168945, 10.52150821685791, 9.177392959594727, 9.813287734985352, 9.236931800842285, 6.813879013061523, 11.506813049316406, 8.692092895507812, 6.774102210998535, 6.462513446807861, 6.458860874176025, 6.458920478820801, 7.401266574859619, 5.509001731872559, 5.153817176818848, 4.828795433044434, 4.814412593841553, 4.48406457901001, 4.471303462982178, 4.749619007110596, 4.737375736236572, 4.137877464294434, 4.130380630493164, 4.129634857177734, 4.130951881408691, 4.123407363891602, 4.122679710388184, 4.126640319824219, 4.426677227020264, 4.966559410095215, 45.20799255371094, 465.8064270019531, 4.445183753967285, 4.40728759765625, 7.494692325592041, 141.1337890625, 58.577640533447266, 11.497537612915039, 234.525634765625, 135.16343688964844, 40.35408401489258, 788.1551513671875, 51.42416000366211, 156.0319061279297, 175.23690795898438, 109.58671569824219, 268.5225830078125, 76.09093475341797, 21.147541046142578, 851.9122314453125, 128.31671142578125, 36.774471282958984, 270.24432373046875, 258.19500732421875, 117.16276550292969, 181.68421936035156, 199.45230102539062, 368.34033203125, 438.3436279296875, 96.5290298461914, 430.0510559082031, 591.0416259765625, 210.60340881347656, 109.40836334228516, 661.616455078125, 236.13255310058594, 107.55134582519531, 244.81924438476562, 156.33981323242188, 164.97373962402344, 155.92018127441406, 140.96676635742188, 131.83599853515625, 137.2739715576172, 120.63245391845703, 119.76481628417969, 13.47575569152832, 11.332724571228027, 13.705002784729004, 9.711181640625, 9.689202308654785, 9.665740966796875, 10.037408828735352, 8.419760704040527, 8.410160064697266, 8.409627914428711, 8.922436714172363, 7.649471282958984, 7.2066121101379395, 6.768031120300293, 15.443922996520996, 32.26032638549805, 10.410048484802246, 5.530976295471191, 8.09160041809082, 5.51313591003418, 5.52536678314209, 5.510255336761475, 5.8730340003967285, 5.503054141998291, 5.496809482574463, 5.4953837394714355, 5.522803783416748, 5.8720622062683105, 5.112442493438721, 5.489260196685791, 10.51745891571045, 5.84238338470459, 16.16114044189453, 5.883175849914551, 176.3623809814453, 13.001474380493164, 8.601762771606445, 8.2893705368042, 15.513659477233887, 7.6593918800354, 18.72916030883789, 58.14251708984375, 26.2811279296875, 109.65413665771484, 58.096595764160156, 42.82338333129883, 17.915552139282227, 33.48164749145508, 33.0037841796875, 32.276031494140625, 76.10441589355469, 79.06875610351562, 168.00064086914062, 19.238544464111328, 563.8615112304688, 330.800537109375, 58.090980529785156, 172.61436462402344, 55.21830368041992, 31.899761199951172, 66.49143981933594, 32.331268310546875, 171.84193420410156, 431.6118469238281, 148.45765686035156, 48.50819778442383, 91.98621368408203, 142.52755737304688, 120.99325561523438, 184.99700927734375, 83.41680908203125, 225.9312744140625, 70.59091186523438, 187.96282958984375, 74.52967071533203, 104.29502868652344, 66.3857650756836, 111.19498443603516, 79.48883056640625, 113.64910888671875, 129.66455078125, 101.87641143798828, 87.20381164550781, 100.43649291992188, 82.69367218017578, 79.71487426757812, 82.08235168457031, 79.08330535888672, 76.65032196044922, 11.56590747833252, 11.13162612915039, 10.366843223571777, 9.92710018157959, 8.095211029052734, 7.705420017242432, 7.6962199211120605, 8.775139808654785, 7.692284107208252, 11.874938011169434, 7.300953388214111, 7.30056095123291, 8.386805534362793, 7.2999420166015625, 12.763086318969727, 6.980926036834717, 7.1790771484375, 5.475369453430176, 5.584944725036621, 11.56648063659668, 5.44505500793457, 5.768945693969727, 5.068337440490723, 5.420863628387451, 5.386099815368652, 5.357567310333252, 5.018447399139404, 4.671884536743164, 4.672300815582275, 5.012119770050049, 21.925918579101562, 7.4692487716674805, 5.661332130432129, 14.32892894744873, 10.399592399597168, 7.617067337036133, 144.55191040039062, 35.69178009033203, 19.072595596313477, 8.766109466552734, 26.30984878540039, 251.02008056640625, 13.611900329589844, 180.31199645996094, 108.36137390136719, 87.71875, 128.49522399902344, 214.768798828125, 82.42759704589844, 21.780115127563477, 82.63825988769531, 111.72095489501953, 39.75279998779297, 33.319679260253906, 754.4776611328125, 238.29261779785156, 32.615962982177734, 37.35688781738281, 252.62777709960938, 137.4797821044922, 277.2637634277344, 421.5064392089844, 193.37078857421875, 31.046937942504883, 67.49958801269531, 62.39105987548828, 208.8243408203125, 93.31759643554688, 42.34892272949219, 58.55767822265625, 220.0789794921875, 120.0069808959961, 177.31271362304688, 171.87608337402344, 95.35198974609375, 128.85922241210938, 101.65955352783203, 72.35767364501953, 87.35111999511719, 85.99656677246094, 83.08229064941406, 97.59579467773438, 85.22808837890625, 83.6882095336914, 29.26544189453125, 16.756235122680664, 13.750367164611816, 8.662752151489258, 8.268502235412598, 7.8596720695495605, 7.830525875091553, 7.461851596832275, 7.4624247550964355, 7.461097717285156, 7.4603729248046875, 7.460997104644775, 7.459486484527588, 7.459208011627197, 7.458364486694336, 7.457437992095947, 7.457805633544922, 7.780019760131836, 14.543679237365723, 9.554305076599121, 7.365786552429199, 7.316338062286377, 9.443446159362793, 7.012815952301025, 5.575039863586426, 6.264714241027832, 5.548151016235352, 5.870786190032959, 5.841251373291016, 4.775714874267578, 11.83488941192627, 203.08853149414062, 31.731664657592773, 149.9615478515625, 29.953718185424805, 13.183321952819824, 1496.039306640625, 42.485496520996094, 14.7607421875, 15.597704887390137, 37.14384460449219, 92.17501831054688, 45.97941970825195, 75.7252426147461, 759.9872436523438, 69.664794921875, 78.74188995361328, 19.70662498474121, 91.66417694091797, 45.94493103027344, 10.312747955322266, 17.89171600341797, 200.96539306640625, 184.1323699951172, 29.107210159301758, 65.2382583618164, 246.50485229492188, 47.974918365478516, 51.032310485839844, 74.49213409423828, 164.4685821533203, 155.84811401367188, 93.60498046875, 76.3963623046875, 81.98653411865234, 70.06806182861328, 187.68016052246094, 110.2454605102539, 122.892578125, 103.6783676147461, 138.7600860595703, 99.78955841064453, 93.85984802246094, 93.81651306152344, 143.9602508544922, 97.59066009521484, 88.56488800048828, 78.64006042480469, 85.54901123046875, 76.36076354980469, 15.982240676879883, 14.280035972595215, 10.837809562683105, 9.126921653747559, 8.667582511901855, 9.069148063659668, 9.047172546386719, 8.227828025817871, 10.608838081359863, 8.20716667175293, 8.22143268585205, 6.588354110717773, 6.575249195098877, 11.599380493164062, 6.134092807769775, 5.699533462524414, 5.68304967880249, 5.258394241333008, 5.258802890777588, 12.329853057861328, 5.243171215057373, 5.250470161437988, 5.24039363861084, 5.220863342285156, 5.224258899688721, 5.20442533493042, 5.196297645568848, 5.174901485443115, 9.51208782196045, 5.145806312561035, 19.823776245117188, 10.631096839904785, 55.34615707397461, 53.27656936645508, 118.68567657470703, 92.03641510009766, 43.87681579589844, 146.79818725585938, 285.78997802734375, 68.31537628173828, 33.8442497253418, 119.97264862060547, 54.92357635498047, 165.9220733642578, 830.5744018554688, 391.5069580078125, 61.444732666015625, 38.77598571777344, 21.581031799316406, 140.94195556640625, 93.60987854003906, 80.05146789550781, 84.63601684570312, 174.30421447753906, 586.739990234375, 45.961544036865234, 47.624656677246094, 304.43853759765625, 61.997379302978516, 55.9797477722168, 78.63750457763672, 110.38726043701172, 262.4292907714844, 43.619144439697266, 93.11636352539062, 168.5707244873047, 193.69296264648438, 79.78823852539062, 152.8814239501953, 141.15399169921875, 98.49472045898438, 145.57521057128906, 154.07464599609375, 103.61881256103516, 102.22648620605469, 103.61990356445312, 100.21540069580078, 84.8214340209961, 10.969046592712402, 9.867959976196289, 10.252410888671875, 8.616905212402344, 8.153868675231934, 8.539164543151855, 7.755656719207764, 8.113228797912598, 8.049437522888184, 8.041397094726562, 9.238533020019531, 6.210562705993652, 8.086084365844727, 5.380931377410889, 5.380715847015381, 5.379495143890381, 5.362372875213623, 6.074860095977783, 5.3546319007873535, 6.047434329986572, 4.978393077850342, 5.688658714294434, 4.963280200958252, 5.316766738891602, 4.960922718048096, 5.322866439819336, 5.708044052124023, 10.175533294677734, 4.936671733856201, 4.947052478790283, 5.414855480194092, 8.905243873596191, 6.128270626068115, 17.115596771240234, 9.428388595581055, 6.676978588104248, 28.47296142578125, 7.689382076263428, 12.179244041442871, 10.072883605957031, 171.57566833496094, 7.353967666625977, 362.8826599121094, 22.840147018432617, 15.536063194274902, 37.65913009643555, 56.46061325073242, 55.99456024169922, 141.3205108642578, 593.4049682617188, 121.8395767211914, 98.98413848876953, 102.46160888671875, 203.98268127441406, 26.96127700805664, 32.77120590209961, 65.24708557128906, 38.41847229003906, 26.04485511779785, 53.80424499511719, 31.659074783325195, 133.58651733398438, 79.06978607177734, 94.82418060302734, 436.0223388671875, 85.831787109375, 159.70457458496094, 35.96427536010742, 46.69770812988281, 229.75485229492188, 41.94308853149414, 163.47378540039062, 126.06326293945312, 165.42030334472656, 76.0657958984375, 182.16748046875, 176.70704650878906, 144.12857055664062, 166.16465759277344, 84.75039672851562, 67.1531753540039, 88.79326629638672, 120.7404556274414, 131.47683715820312, 89.91302490234375, 84.77734375, 73.70779418945312, 77.14073181152344, 9.796751022338867, 9.732698440551758, 8.879988670349121, 9.710714340209961, 10.007238388061523, 7.663577079772949, 15.877474784851074, 8.16292667388916, 6.719112873077393, 10.197853088378906, 8.975282669067383, 12.368277549743652, 8.945507049560547, 6.591976165771484, 6.987936973571777, 5.799804210662842, 9.235573768615723, 5.392754077911377, 5.785375118255615, 6.167971611022949, 5.768917560577393, 6.552363872528076, 5.765106201171875, 7.9009480476379395, 5.351317405700684, 8.809067726135254, 7.561229228973389, 6.06443452835083, 5.250932693481445, 6.119093418121338, 8.412273406982422, 14.358850479125977, 21.38697052001953, 41.877159118652344, 16.678600311279297, 45.351531982421875, 12.532452583312988, 44.003875732421875, 8.139759063720703, 9.72389030456543, 61.48507308959961, 15.010114669799805, 13.316953659057617, 23.906085968017578, 71.39790344238281, 39.98600387573242, 24.95928192138672, 30.65462875366211, 13.935137748718262, 571.1591186523438, 431.6496887207031, 244.79612731933594, 171.0531768798828, 121.81532287597656, 63.138832092285156, 42.955020904541016, 19.888301849365234, 80.68172454833984, 125.14826965332031, 60.03394317626953, 246.10987854003906, 69.1099853515625, 68.22994232177734, 37.08797073364258, 81.31158447265625, 384.7878723144531, 64.55046844482422, 151.72042846679688, 127.60960388183594, 76.59234619140625, 90.00336456298828, 80.37299346923828, 153.4359130859375, 119.56839752197266, 120.22748565673828, 147.6104736328125, 159.06570434570312, 147.14352416992188, 87.77841186523438, 128.97547912597656, 72.57225799560547, 95.0321044921875, 82.51985168457031, 74.6341323852539, 69.71106719970703, 17.196483612060547, 21.18555450439453, 11.422762870788574, 10.448631286621094, 10.439221382141113, 9.118803977966309, 8.6604642868042, 9.489277839660645, 7.796487331390381, 8.19454288482666, 6.432259559631348, 7.245077610015869, 5.988472938537598, 5.989364147186279, 9.047310829162598, 5.972737789154053, 5.52448034286499, 5.950936794281006, 8.077930450439453, 5.509373188018799, 5.486568450927734, 5.465044975280762, 5.465979099273682, 5.87754487991333, 9.980552673339844, 13.825650215148926, 5.377015590667725, 28.94892120361328, 5.724674224853516, 45.475772857666016, 33.500511169433594, 22.527416229248047, 10.121292114257812, 14.659098625183105, 101.62606048583984, 9.332050323486328, 38.851043701171875, 38.38081741333008, 48.6950798034668, 20.408954620361328, 111.486572265625, 18.747852325439453, 19.616661071777344, 58.122230529785156, 19.84992027282715, 178.69883728027344, 152.6764373779297, 85.61737060546875, 21.945415496826172, 14.447135925292969, 89.79590606689453, 490.84027099609375, 160.7967071533203, 190.4456329345703, 79.39662170410156, 237.62083435058594, 110.65584564208984, 94.877685546875, 325.3534851074219, 33.73815155029297, 103.60692596435547, 104.73957824707031, 36.94506072998047, 121.70159149169922, 247.5367889404297, 82.0195083618164, 59.871978759765625, 199.19540405273438, 54.325775146484375, 115.19412231445312, 88.29723358154297, 127.13077545166016, 163.7153778076172, 109.14298248291016, 77.64350891113281, 122.69309997558594, 68.65592193603516, 64.9702377319336, 75.2314682006836, 82.55695343017578, 74.74596405029297, 76.24153137207031, 12.8562593460083, 15.236741065979004, 9.135258674621582, 13.134482383728027, 8.678263664245605, 9.052684783935547, 9.469615936279297, 9.84890079498291, 13.27101993560791, 6.4662933349609375, 6.003106594085693, 9.129362106323242, 7.201959609985352, 7.577665328979492, 5.532447338104248, 5.522292613983154, 5.945357322692871, 5.875468730926514, 5.643150806427002, 5.88486909866333, 8.276036262512207, 7.227108478546143, 5.413546562194824, 5.567056655883789, 6.56498908996582, 5.437230110168457, 5.1058831214904785, 5.340420722961426, 6.396329879760742, 5.241031646728516, 6.03223180770874, 20.440589904785156, 9.485603332519531, 7.342660903930664, 26.752986907958984, 15.653802871704102, 9.862719535827637, 17.785566329956055, 47.75651931762695, 11.63515853881836, 37.93305969238281, 17.729305267333984, 20.0279598236084, 41.51737976074219, 22.95994758605957, 18.55406379699707, 21.770782470703125, 634.5731201171875, 16.90304946899414, 115.39988708496094, 497.40911865234375, 24.635541915893555, 173.79640197753906, 63.99162673950195, 29.12083625793457, 86.7676773071289, 26.40081024169922, 149.37896728515625, 238.29302978515625, 23.391130447387695, 48.93423843383789, 61.067047119140625, 58.16012191772461, 58.81428527832031, 73.03804779052734, 186.07969665527344, 234.70932006835938, 105.15425109863281, 59.93626022338867, 81.92897033691406, 85.84980010986328, 68.10383605957031, 227.8527374267578, 81.11398315429688, 147.65052795410156, 67.18038177490234, 82.02668762207031, 61.66015625, 64.13536071777344, 71.69822692871094, 75.66366577148438, 83.47955322265625, 74.8879165649414, 79.50395202636719, 63.062564849853516, 65.17106628417969, 62.05401611328125, 9.76858139038086, 13.502167701721191, 11.386576652526855, 8.36764144897461, 8.032464981079102, 7.942775249481201, 6.610384941101074, 5.820039749145508, 7.0252790451049805, 5.773378849029541, 5.788480281829834, 6.5506696701049805, 5.344839096069336, 5.352654933929443, 5.3481855392456055, 5.3458685874938965, 5.714972972869873, 5.321628570556641, 6.488062858581543, 5.688501834869385, 5.267577648162842, 5.223978042602539, 4.606927871704102, 5.530363082885742, 5.259925842285156, 5.4449567794799805, 30.12522315979004, 4.441056251525879, 8.221059799194336, 6.099815368652344, 7.49753475189209, 125.76376342773438, 25.59731101989746, 31.921369552612305, 21.3658390045166, 200.90382385253906, 14.201423645019531, 241.70303344726562, 30.22259521484375, 9.918267250061035, 319.5263671875, 14.644099235534668, 68.7747573852539, 9.60521411895752, 23.437997817993164, 34.92792510986328, 21.011728286743164, 24.496816635131836, 155.10325622558594, 13.376294136047363, 261.0279846191406, 15.208329200744629, 55.53691864013672, 24.148391723632812, 14.367319107055664, 29.083621978759766, 23.637428283691406, 430.8792419433594, 31.641571044921875, 20.75658416748047, 78.52500915527344, 19.467370986938477, 104.18922424316406, 160.82723999023438, 68.74931335449219, 98.7150650024414, 117.66744995117188, 36.21318054199219, 161.69326782226562, 109.28443908691406, 74.88031005859375, 106.03023529052734, 90.15108489990234, 68.33842468261719, 74.22161102294922, 57.784664154052734, 102.39198303222656, 82.40296173095703, 70.89104461669922, 82.5359878540039, 75.65190887451172, 78.03665924072266, 59.28828048706055, 62.87126922607422, 71.83534240722656, 72.96927642822266, 27.28558349609375, 14.927092552185059, 15.273207664489746, 12.381095886230469, 8.05920696258545, 7.660263538360596, 7.924103260040283, 7.319924354553223, 6.923841953277588, 7.516757965087891, 8.201217651367188, 6.618481636047363, 7.770673751831055, 6.9123406410217285, 5.201298236846924, 5.52058219909668, 5.172913074493408, 7.138154983520508, 4.804775714874268, 4.780088901519775, 5.735935211181641, 5.700934410095215, 4.424447059631348, 4.425586700439453, 4.737907409667969, 4.181662082672119, 4.964254856109619, 4.325770378112793, 6.827837944030762, 5.182774066925049, 17.86552619934082, 27.160429000854492, 18.209915161132812, 65.74622344970703, 9.360150337219238, 12.692495346069336, 9.1318941116333, 19.505693435668945, 9.155073165893555, 86.88947296142578, 122.90359497070312, 30.637313842773438, 10.793142318725586, 36.79783630371094, 22.92792510986328, 161.87359619140625, 21.50456428527832, 13.587004661560059, 294.0735168457031, 79.62665557861328, 59.44169616699219, 22.737585067749023, 25.437332153320312, 246.32110595703125, 61.399497985839844, 34.19287872314453, 452.3307189941406, 255.05035400390625, 188.9325714111328, 48.21433639526367, 30.908262252807617, 182.88140869140625, 163.3501739501953, 256.3660583496094, 75.21617889404297, 115.13236236572266, 117.80640411376953, 112.37425231933594, 152.53427124023438, 84.5452880859375, 104.664794921875, 75.81246948242188, 90.26476287841797, 143.12777709960938, 88.1506576538086, 90.9525146484375, 87.2517318725586, 78.71141815185547, 87.07836151123047, 83.55807495117188, 68.46121215820312, 67.28873443603516], \"Total\": [4314.0, 7898.0, 2233.0, 2627.0, 1739.0, 1942.0, 3265.0, 3576.0, 2217.0, 2457.0, 3227.0, 5505.0, 1678.0, 1096.0, 798.0, 1768.0, 994.0, 798.0, 3433.0, 495.0, 1267.0, 1473.0, 963.0, 496.0, 753.0, 1140.0, 1141.0, 342.0, 525.0, 509.0, 33.54515838623047, 22.364990234375, 24.212875366210938, 23.139144897460938, 17.096162796020508, 20.4484920501709, 16.300458908081055, 49.05084228515625, 15.493672370910645, 16.23833465576172, 24.53194236755371, 23.389062881469727, 16.031824111938477, 14.954571723937988, 22.310937881469727, 15.173357963562012, 31.99712371826172, 14.127238273620605, 13.348650932312012, 13.31595230102539, 50.686279296875, 11.803963661193848, 11.789307594299316, 15.990850448608398, 16.836288452148438, 12.52452564239502, 15.854629516601562, 12.521627426147461, 12.503705978393555, 12.522292137145996, 61.27100372314453, 13.21341323852539, 39.715206146240234, 28.145004272460938, 17.303802490234375, 84.81451416015625, 155.06053161621094, 80.7913818359375, 1768.4847412109375, 64.78752136230469, 336.0793151855469, 39.617801666259766, 52.55723571777344, 168.75965881347656, 60.6560173034668, 1096.4344482421875, 225.24020385742188, 157.5418243408203, 135.08416748046875, 753.3029174804688, 79.46319580078125, 92.40277099609375, 191.09519958496094, 67.96389770507812, 45.729557037353516, 299.79608154296875, 64.38130950927734, 114.72344207763672, 168.50686645507812, 295.8153991699219, 1638.630859375, 240.83004760742188, 232.3411865234375, 220.88331604003906, 447.6962890625, 178.2749481201172, 250.62838745117188, 347.2616882324219, 1204.697021484375, 203.74928283691406, 184.16189575195312, 183.76016235351562, 1678.3055419921875, 397.6998291015625, 266.63037109375, 4314.68408203125, 259.1302490234375, 1203.0074462890625, 2457.339599609375, 766.5813598632812, 2334.266845703125, 3433.61474609375, 630.8268432617188, 1388.505859375, 933.4532470703125, 3227.43310546875, 921.7793579101562, 7898.380859375, 2627.387939453125, 1293.0096435546875, 5505.17529296875, 741.5694580078125, 1271.5958251953125, 1734.8955078125, 24.4244327545166, 16.80325698852539, 13.427451133728027, 12.264025688171387, 11.675274848937988, 13.380685806274414, 11.656652450561523, 11.645875930786133, 11.651948928833008, 13.046117782592773, 10.114300727844238, 10.891237258911133, 10.68453598022461, 11.867383003234863, 10.320409774780273, 8.335105895996094, 11.218796730041504, 7.757002830505371, 7.756623268127441, 9.470221519470215, 8.306685447692871, 7.748349189758301, 7.72127103805542, 7.730997085571289, 10.78545093536377, 7.765859127044678, 8.2795991897583, 7.721168518066406, 7.693674087524414, 17.438562393188477, 47.30821990966797, 10.234978675842285, 287.77423095703125, 67.68590545654297, 39.53519821166992, 11.759886741638184, 121.45606994628906, 168.2693328857422, 91.21405792236328, 56.40100860595703, 1295.2628173828125, 46.2231559753418, 1678.3055419921875, 7898.380859375, 457.77386474609375, 443.92083740234375, 1473.3692626953125, 390.3399658203125, 27.944223403930664, 59.21230697631836, 56.36924362182617, 1734.8955078125, 319.2532653808594, 616.2128295898438, 173.26409912109375, 96.02142333984375, 142.22610473632812, 74.56694793701172, 921.7793579101562, 260.7857360839844, 2457.339599609375, 1293.0096435546875, 1071.1309814453125, 3265.69091796875, 290.2894592285156, 753.3029174804688, 4314.68408203125, 1096.4344482421875, 691.14453125, 5505.17529296875, 766.5813598632812, 3576.3798828125, 955.7429809570312, 2174.1123046875, 3433.61474609375, 1638.630859375, 1323.6927490234375, 1083.6705322265625, 2334.266845703125, 22.465286254882812, 13.133453369140625, 13.561897277832031, 14.441438674926758, 16.200897216796875, 12.25133228302002, 10.663134574890137, 11.101502418518066, 17.435558319091797, 10.647561073303223, 9.774443626403809, 9.346372604370117, 9.34654426574707, 9.346750259399414, 9.333890914916992, 9.338662147521973, 8.903459548950195, 9.539212226867676, 8.643535614013672, 7.761951446533203, 8.194302558898926, 12.001538276672363, 7.29970121383667, 7.300204753875732, 6.869528770446777, 7.298257350921631, 6.872566223144531, 6.43126106262207, 6.4304938316345215, 6.859003067016602, 7.750520706176758, 8.193109512329102, 496.78570556640625, 13.187973022460938, 52.043514251708984, 23.367353439331055, 37.93428039550781, 54.59776306152344, 456.131591796875, 28.346416473388672, 104.46443176269531, 99.97464752197266, 69.29988861083984, 657.123291015625, 63.70465087890625, 121.25627899169922, 303.8126220703125, 26.79908561706543, 1141.0509033203125, 145.0451202392578, 1467.7591552734375, 570.4041137695312, 87.03466033935547, 72.61160278320312, 179.07652282714844, 32.94853591918945, 1203.0074462890625, 181.85609436035156, 693.87353515625, 1083.6705322265625, 385.9062194824219, 2174.1123046875, 5505.17529296875, 134.187255859375, 421.00628662109375, 939.9707641601562, 431.92657470703125, 2334.266845703125, 583.6898193359375, 4314.68408203125, 3433.61474609375, 1605.36181640625, 933.4532470703125, 1474.3204345703125, 596.1272583007812, 7898.380859375, 514.8262939453125, 3227.43310546875, 1267.4906005859375, 575.2366333007812, 2457.339599609375, 1271.5958251953125, 3265.69091796875, 29.113927841186523, 15.033018112182617, 10.413518905639648, 8.639205932617188, 8.262969017028809, 8.261885643005371, 7.875692844390869, 7.875698566436768, 7.880963325500488, 8.029848098754883, 7.875702381134033, 8.428932189941406, 8.623425483703613, 7.2725629806518555, 10.470974922180176, 9.00975513458252, 13.285491943359375, 5.720902442932129, 5.725123882293701, 5.743031978607178, 5.341064453125, 5.339100360870361, 11.008464813232422, 5.345588207244873, 5.353695392608643, 5.346020221710205, 10.356229782104492, 5.354726314544678, 5.371030807495117, 10.325674057006836, 119.44186401367188, 175.5790252685547, 1739.885009765625, 50.993892669677734, 211.09469604492188, 20.571596145629883, 1942.0472412109375, 1267.4906005859375, 218.55906677246094, 21.889846801757812, 332.0352478027344, 1141.0509033203125, 2233.168212890625, 251.0194549560547, 472.5306701660156, 203.4246063232422, 330.43499755859375, 771.4898071289062, 123.88500213623047, 49.17066192626953, 19.715740203857422, 585.3938598632812, 209.42405700683594, 36.154693603515625, 560.93994140625, 343.67230224609375, 3227.43310546875, 323.0852966308594, 259.78192138671875, 909.2060546875, 505.0733642578125, 810.485595703125, 5505.17529296875, 244.84559631347656, 612.2120361328125, 3265.69091796875, 1252.228271484375, 3576.3798828125, 641.5088500976562, 660.2479248046875, 7898.380859375, 1388.505859375, 3433.61474609375, 1605.36181640625, 2217.0341796875, 2174.1123046875, 955.7429809570312, 2334.266845703125, 13.435629844665527, 15.969544410705566, 10.746207237243652, 11.462971687316895, 10.033475875854492, 10.7936429977417, 10.187403678894043, 7.700577735900879, 13.00952434539795, 9.83594799041748, 7.699927806854248, 7.346973419189453, 7.3430352210998535, 7.344723224639893, 8.451249122619629, 6.4247727394104, 6.064401149749756, 5.711668491363525, 5.720354080200195, 5.356691360473633, 5.359565734863281, 5.7182440757751465, 5.718433856964111, 5.001029014587402, 5.001644134521484, 5.00120735168457, 5.005357265472412, 5.0002241134643555, 5.00142765045166, 5.021542549133301, 5.389510154724121, 6.093014717102051, 64.54671478271484, 798.9735107421875, 5.416894435882568, 5.372145175933838, 9.753244400024414, 267.1096496582031, 98.90679931640625, 16.13353157043457, 517.4193115234375, 278.93310546875, 69.0028305053711, 2233.168212890625, 94.42125701904297, 363.5995788574219, 425.2322082519531, 251.0194549560547, 771.4898071289062, 166.7342529296875, 34.32703399658203, 3576.3798828125, 351.22845458984375, 70.71375274658203, 987.8397827148438, 950.0864868164062, 344.5897521972656, 660.2479248046875, 769.7827758789062, 2174.1123046875, 3265.69091796875, 332.0352478027344, 3227.43310546875, 5505.17529296875, 1140.601806640625, 419.6313781738281, 7898.380859375, 1605.36181640625, 436.4571228027344, 3433.61474609375, 1252.228271484375, 1467.7591552734375, 1388.505859375, 1071.1309814453125, 955.7429809570312, 2334.266845703125, 939.9707641601562, 4314.68408203125, 14.374676704406738, 12.184622764587402, 14.798641204833984, 10.600733757019043, 10.6079683303833, 10.611083984375, 11.041049003601074, 9.289880752563477, 9.297119140625, 9.297357559204102, 9.913878440856934, 8.58559799194336, 8.172367095947266, 7.7023701667785645, 17.681854248046875, 37.04402160644531, 11.961935997009277, 6.403386116027832, 9.393126487731934, 6.400948524475098, 6.416014671325684, 6.398489475250244, 6.823153018951416, 6.394195079803467, 6.390955448150635, 6.396597862243652, 6.429157733917236, 6.844541072845459, 5.964325428009033, 6.41023588180542, 12.412909507751465, 6.8382062911987305, 21.07771873474121, 6.901418685913086, 335.078369140625, 17.436229705810547, 10.758915901184082, 10.321505546569824, 22.124242782592773, 9.467944145202637, 28.025083541870117, 118.14604187011719, 44.582035064697266, 274.1056213378906, 128.00213623046875, 88.1344985961914, 28.383625030517578, 66.85051727294922, 67.41188049316406, 67.01612854003906, 229.54217529296875, 249.0018768310547, 790.8706665039062, 32.268035888671875, 5505.17529296875, 2627.387939453125, 185.79627990722656, 1140.601806640625, 180.3224639892578, 74.45482635498047, 253.98863220214844, 79.5831298828125, 1474.3204345703125, 7898.380859375, 1203.0074462890625, 171.216064453125, 553.4730834960938, 1271.5958251953125, 939.9707641601562, 2334.266845703125, 493.4920654296875, 3576.3798828125, 403.2534484863281, 3265.69091796875, 464.602294921875, 1293.0096435546875, 407.0606384277344, 1734.8955078125, 708.8328247070312, 2217.0341796875, 3433.61474609375, 1605.36181640625, 1071.1309814453125, 2174.1123046875, 963.116943359375, 859.8396606445312, 1252.228271484375, 1467.7591552734375, 1141.0509033203125, 12.417435646057129, 12.022950172424316, 11.219524383544922, 10.822977066040039, 8.977751731872559, 8.57238483428955, 8.574543952941895, 9.777471542358398, 8.57211971282959, 13.25304126739502, 8.16946029663086, 8.169437408447266, 9.394222259521484, 8.178754806518555, 14.32666301727295, 7.93107795715332, 8.196677207946777, 6.33351993560791, 6.486453056335449, 13.439002990722656, 6.333759307861328, 6.730705261230469, 5.9324750900268555, 6.34709358215332, 6.34194803237915, 6.320631504058838, 5.92706823348999, 5.528208255767822, 5.533459663391113, 5.936010360717773, 26.686473846435547, 8.911478042602539, 6.719923973083496, 17.764278411865234, 12.899107933044434, 9.347086906433105, 276.88262939453125, 57.37199401855469, 27.63771629333496, 11.20057201385498, 42.85763168334961, 672.3613891601562, 19.5753173828125, 525.2540283203125, 273.7713623046875, 216.7465362548828, 371.1827392578125, 909.2060546875, 255.71641540527344, 38.66139602661133, 260.32940673828125, 424.4978942871094, 93.55548858642578, 73.30534362792969, 7898.380859375, 1467.7591552734375, 73.30463409423828, 91.42546844482422, 1739.885009765625, 693.87353515625, 2174.1123046875, 5505.17529296875, 1638.630859375, 72.71575927734375, 292.65289306640625, 259.491455078125, 2334.266845703125, 575.2366333007812, 132.3534393310547, 250.00694274902344, 4314.68408203125, 1323.6927490234375, 3576.3798828125, 3433.61474609375, 859.8396606445312, 3227.43310546875, 1734.8955078125, 630.8268432617188, 1271.5958251953125, 1293.0096435546875, 1203.0074462890625, 3265.69091796875, 1678.3055419921875, 1473.3692626953125, 30.617938995361328, 17.63747215270996, 14.687267303466797, 9.555959701538086, 9.150538444519043, 8.743380546569824, 8.742192268371582, 8.33242130279541, 8.333389282226562, 8.33369255065918, 8.333847045898438, 8.335158348083496, 8.334599494934082, 8.336702346801758, 8.33609676361084, 8.335129737854004, 8.336133003234863, 8.73314380645752, 16.386219024658203, 10.80151653289795, 8.327966690063477, 8.332807540893555, 10.76663589477539, 8.084562301635742, 6.450006008148193, 7.261525630950928, 6.4602227210998535, 6.843045234680176, 6.867447853088379, 5.6248345375061035, 14.008039474487305, 272.6764221191406, 40.42013931274414, 209.02276611328125, 39.80207443237305, 16.8126163482666, 4314.68408203125, 70.40252685546875, 19.639230728149414, 21.2033634185791, 68.50859832763672, 241.71734619140625, 98.63528442382812, 208.78240966796875, 5505.17529296875, 190.44796752929688, 226.9375, 33.25536346435547, 304.3717041015625, 117.98333740234375, 13.303017616271973, 31.567188262939453, 1473.3692626953125, 1293.0096435546875, 69.56237030029297, 266.7257995605469, 2457.339599609375, 162.97962951660156, 187.4634552001953, 397.6998291015625, 1734.8955078125, 1605.36181640625, 641.8614501953125, 436.8496398925781, 526.8863525390625, 385.9062194824219, 3433.61474609375, 1083.6705322265625, 1474.3204345703125, 1271.5958251953125, 3227.43310546875, 1267.4906005859375, 1141.0509033203125, 1323.6927490234375, 7898.380859375, 2174.1123046875, 1638.630859375, 933.4532470703125, 2217.0341796875, 1467.7591552734375, 16.850704193115234, 15.229048728942871, 11.787367820739746, 9.992035865783691, 9.542070388793945, 10.003962516784668, 9.997855186462402, 9.096388816833496, 11.755240440368652, 9.107014656066895, 9.258773803710938, 7.470547676086426, 7.4728102684021, 13.228139877319336, 7.016390800476074, 6.566723823547363, 6.561520099639893, 6.1162519454956055, 6.117093563079834, 14.345242500305176, 6.113102912902832, 6.123712062835693, 6.118035793304443, 6.11055326461792, 6.121729850769043, 6.107513427734375, 6.121482849121094, 6.103038787841797, 11.242462158203125, 6.114730358123779, 24.03116226196289, 12.840731620788574, 73.95983123779297, 71.92330932617188, 183.5237274169922, 138.82357788085938, 62.54843521118164, 241.4294891357422, 509.0963134765625, 105.59027862548828, 49.08320999145508, 205.64404296875, 90.55545806884766, 332.89996337890625, 2217.0341796875, 963.116943359375, 109.1385726928711, 64.67384338378906, 31.27562713623047, 340.746826171875, 210.7379150390625, 174.18038940429688, 189.66006469726562, 505.0733642578125, 2627.387939453125, 86.92298889160156, 91.69603729248047, 1204.697021484375, 133.04054260253906, 117.03337860107422, 197.98483276367188, 340.638916015625, 1474.3204345703125, 85.12213897705078, 464.602294921875, 1942.0472412109375, 3227.43310546875, 356.8033752441406, 2174.1123046875, 2334.266845703125, 771.4898071289062, 3576.3798828125, 5505.17529296875, 1252.228271484375, 1605.36181640625, 1734.8955078125, 7898.380859375, 1323.6927490234375, 11.849884986877441, 10.754342079162598, 11.17427921295166, 9.47102165222168, 9.041259765625, 9.472492218017578, 8.624640464782715, 9.103200912475586, 9.054180145263672, 9.05815601348877, 10.504422187805176, 7.091379642486572, 9.368261337280273, 6.249983787536621, 6.250043869018555, 6.25092887878418, 6.23459005355835, 7.069282054901123, 6.2458672523498535, 7.055424690246582, 5.818295955657959, 6.659886837005615, 5.816112995147705, 6.231738090515137, 5.8191938400268555, 6.245820999145508, 6.719359397888184, 11.985106468200684, 5.815199375152588, 5.832243919372559, 6.39237117767334, 10.762996673583984, 7.30346155166626, 22.224281311035156, 11.736055374145508, 8.07167911529541, 42.43935775756836, 9.494729042053223, 16.38270378112793, 13.147479057312012, 385.36468505859375, 9.072500228881836, 994.2771606445312, 35.99481201171875, 22.62871551513672, 69.14933776855469, 116.8138427734375, 117.23263549804688, 406.85858154296875, 2627.387939453125, 339.3574523925781, 268.19219970703125, 344.5897521972656, 950.0864868164062, 53.00361251831055, 72.09454345703125, 219.45297241210938, 111.25154876708984, 59.638545989990234, 200.40061950683594, 86.21224212646484, 955.7429809570312, 405.03448486328125, 553.4730834960938, 7898.380859375, 493.4920654296875, 1473.3692626953125, 107.8301773071289, 174.54348754882812, 3265.69091796875, 144.8767852783203, 1942.0472412109375, 1271.5958251953125, 2217.0341796875, 490.7121887207031, 3227.43310546875, 3433.61474609375, 2233.168212890625, 4314.68408203125, 963.116943359375, 520.4500732421875, 1267.4906005859375, 3576.3798828125, 5505.17529296875, 1605.36181640625, 1252.228271484375, 708.8328247070312, 1140.601806640625, 10.676366806030273, 10.654754638671875, 9.750890731811523, 10.670272827148438, 11.084811210632324, 8.544366836547852, 17.880327224731445, 9.224882125854492, 7.615452766418457, 11.573878288269043, 10.204588890075684, 14.181077003479004, 10.268366813659668, 7.614651203155518, 8.072999954223633, 6.703534126281738, 10.689650535583496, 6.24358606338501, 6.698651313781738, 7.161958694458008, 6.706808567047119, 7.638278007507324, 6.722376346588135, 9.216592788696289, 6.2430033683776855, 10.32622241973877, 8.921218872070312, 7.166727542877197, 6.237761497497559, 7.2852067947387695, 10.050013542175293, 17.423276901245117, 26.406238555908203, 53.97299575805664, 20.526885986328125, 60.45806884765625, 15.604264259338379, 68.89669036865234, 9.924776077270508, 12.266901969909668, 116.54395294189453, 20.883094787597656, 18.108625411987305, 37.483421325683594, 157.09762573242188, 74.86463928222656, 41.26933288574219, 54.38813400268555, 19.70757293701172, 3576.3798828125, 2457.339599609375, 1140.601806640625, 769.7827758789062, 514.8262939453125, 194.0247344970703, 109.5495834350586, 34.29071807861328, 307.29522705078125, 641.8614501953125, 199.83065795898438, 2334.266845703125, 281.71337890625, 276.5841064453125, 102.96144104003906, 436.8496398925781, 7898.380859375, 294.8593444824219, 1474.3204345703125, 1083.6705322265625, 440.4766540527344, 630.8268432617188, 553.4730834960938, 2627.387939453125, 1605.36181640625, 1638.630859375, 3265.69091796875, 4314.68408203125, 3433.61474609375, 994.2771606445312, 5505.17529296875, 583.6898193359375, 3227.43310546875, 2217.0341796875, 950.0864868164062, 2174.1123046875, 18.131549835205078, 22.600969314575195, 12.348280906677246, 11.382747650146484, 11.376486778259277, 9.981127738952637, 9.507403373718262, 10.436060905456543, 8.736835479736328, 9.216736793518066, 7.329477787017822, 8.270119667053223, 6.846577167510986, 6.8520283699035645, 10.36994457244873, 6.850024223327637, 6.380908489227295, 6.876819133758545, 9.34313678741455, 6.377078056335449, 6.374019145965576, 6.362791538238525, 6.3682169914245605, 6.8543009757995605, 11.668693542480469, 16.347084045410156, 6.369015216827393, 34.355281829833984, 6.798494815826416, 54.32326126098633, 40.64091873168945, 27.197725296020508, 12.093281745910645, 18.05568504333496, 143.78089904785156, 11.267417907714844, 52.546058654785156, 57.250831604003906, 79.10724639892578, 29.16115951538086, 224.69935607910156, 27.0269775390625, 29.006816864013672, 113.99028015136719, 29.802295684814453, 525.2540283203125, 436.4571228027344, 211.11427307128906, 35.07990264892578, 19.902015686035156, 273.7713623046875, 3227.43310546875, 660.2479248046875, 859.8396606445312, 259.78192138671875, 1388.505859375, 458.6263732910156, 405.03448486328125, 3433.61474609375, 74.45482635498047, 568.2374267578125, 585.3938598632812, 94.08145141601562, 909.2060546875, 3576.3798828125, 449.31683349609375, 250.00694274902344, 3265.69091796875, 209.32310485839844, 1323.6927490234375, 708.8328247070312, 1942.0472412109375, 5505.17529296875, 1734.8955078125, 596.1272583007812, 4314.68408203125, 472.5306701660156, 360.0316467285156, 987.8397827148438, 2334.266845703125, 1252.228271484375, 2174.1123046875, 13.786630630493164, 16.398387908935547, 10.00181770324707, 14.380613327026367, 9.525670051574707, 9.975139617919922, 10.457478523254395, 10.941709518432617, 14.83381175994873, 7.338588237762451, 6.87058162689209, 10.453272819519043, 8.248550415039062, 8.728361129760742, 6.393965244293213, 6.387355327606201, 6.877690315246582, 6.842331886291504, 6.578507900238037, 6.869503021240234, 9.67983341217041, 8.45641040802002, 6.3773627281188965, 6.58378791809082, 7.773700714111328, 6.446745872497559, 6.095064163208008, 6.391284465789795, 7.675544738769531, 6.332456111907959, 7.316905975341797, 25.864282608032227, 11.833046913146973, 9.036774635314941, 38.49821853637695, 21.326623916625977, 12.682659149169922, 25.007246017456055, 79.93167114257812, 15.83158016204834, 68.2127685546875, 26.704111099243164, 31.460716247558594, 78.36671447753906, 37.4821891784668, 29.026046752929688, 36.06639862060547, 3265.69091796875, 26.99812889099121, 394.55047607421875, 3433.61474609375, 49.455684661865234, 933.4532470703125, 209.42286682128906, 63.55488967895508, 371.50628662109375, 56.281158447265625, 987.8397827148438, 2233.168212890625, 48.580196380615234, 177.78372192382812, 264.9970397949219, 243.5121307373047, 248.98727416992188, 386.9353332519531, 3227.43310546875, 5505.17529296875, 1071.1309814453125, 343.67230224609375, 708.8328247070312, 790.8706665039062, 493.4920654296875, 7898.380859375, 798.9735107421875, 3576.3798828125, 565.6598510742188, 955.7429809570312, 493.71270751953125, 693.87353515625, 1083.6705322265625, 1388.505859375, 2457.339599609375, 1467.7591552734375, 2174.1123046875, 691.14453125, 1140.601806640625, 1473.3692626953125, 10.646944999694824, 14.761082649230957, 12.457297325134277, 9.413244247436523, 9.107290267944336, 9.017066955566406, 7.588810443878174, 6.682600975036621, 8.084318161010742, 6.675638675689697, 6.693666934967041, 7.600341796875, 6.210372447967529, 6.222263336181641, 6.218953609466553, 6.217990875244141, 6.665401458740234, 6.209012508392334, 7.576883316040039, 6.67769718170166, 6.221986770629883, 6.1883368492126465, 5.486895561218262, 6.638095855712891, 6.36249303817749, 6.664267539978027, 36.958770751953125, 5.461817741394043, 10.164072036743164, 7.545771598815918, 9.28632926940918, 162.0128173828125, 32.75265121459961, 41.945274353027344, 27.63385009765625, 342.7120666503906, 19.26091194152832, 495.833251953125, 45.47138595581055, 12.821150779724121, 798.8822631835938, 20.969575881958008, 145.15451049804688, 12.954813003540039, 40.29650115966797, 67.92019653320312, 36.92094421386719, 45.487640380859375, 565.6598510742188, 20.37833023071289, 1323.6927490234375, 25.757673263549805, 177.93373107910156, 52.20365524291992, 23.783397674560547, 77.20650482177734, 55.465572357177734, 7898.380859375, 98.8864974975586, 46.641231536865234, 575.2366333007812, 41.7711296081543, 1271.5958251953125, 3576.3798828125, 612.2120361328125, 1474.3204345703125, 2334.266845703125, 167.26324462890625, 5505.17529296875, 2457.339599609375, 994.2771606445312, 2627.387939453125, 1734.8955078125, 859.8396606445312, 1140.601806640625, 566.2215576171875, 3265.69091796875, 1739.885009765625, 1252.228271484375, 2217.0341796875, 1605.36181640625, 3227.43310546875, 909.2060546875, 1293.0096435546875, 3433.61474609375, 4314.68408203125, 28.289745330810547, 15.908438682556152, 16.293996810913086, 13.231825828552246, 8.993552207946777, 8.583559036254883, 8.892251014709473, 8.220708847045898, 7.852837085723877, 8.598641395568848, 9.386419296264648, 7.639996528625488, 9.03546142578125, 8.038724899291992, 6.069540500640869, 6.455041408538818, 6.083006381988525, 8.409714698791504, 5.694084167480469, 5.687326431274414, 6.846197605133057, 6.817633152008057, 5.299691200256348, 5.313596248626709, 5.7009382247924805, 5.083436012268066, 6.101537704467773, 5.326193332672119, 8.432223320007324, 6.459503650665283, 22.410934448242188, 37.493186950683594, 24.636960983276367, 98.60997009277344, 12.076260566711426, 18.04611587524414, 12.34268569946289, 31.356182098388672, 12.467353820800781, 199.83065795898438, 307.29522705078125, 58.43244934082031, 15.379339218139648, 79.92463684082031, 45.70357894897461, 810.485595703125, 43.75782012939453, 22.17877960205078, 2233.168212890625, 360.3897705078125, 236.0807342529297, 51.58970642089844, 62.80039978027344, 2627.387939453125, 271.218017578125, 103.16374969482422, 7898.380859375, 3227.43310546875, 1942.0472412109375, 201.89364624023438, 96.05292510986328, 2457.339599609375, 2217.0341796875, 5505.17529296875, 526.8863525390625, 1293.0096435546875, 1388.505859375, 1605.36181640625, 3433.61474609375, 950.0864868164062, 1734.8955078125, 798.9735107421875, 1252.228271484375, 4314.68408203125, 1323.6927490234375, 1467.7591552734375, 1739.885009765625, 1271.5958251953125, 2174.1123046875, 3265.69091796875, 1140.601806640625, 1295.2628173828125], \"Category\": [\"Default\", \"Default\", \"Default\", \"Default\", \"Default\", \"Default\", \"Default\", \"Default\", \"Default\", \"Default\", \"Default\", \"Default\", \"Default\", \"Default\", \"Default\", \"Default\", \"Default\", \"Default\", \"Default\", \"Default\", \"Default\", \"Default\", \"Default\", \"Default\", \"Default\", \"Default\", \"Default\", \"Default\", \"Default\", \"Default\", \"Topic1\", \"Topic1\", \"Topic1\", \"Topic1\", \"Topic1\", \"Topic1\", \"Topic1\", \"Topic1\", \"Topic1\", \"Topic1\", \"Topic1\", \"Topic1\", \"Topic1\", \"Topic1\", \"Topic1\", \"Topic1\", \"Topic1\", \"Topic1\", \"Topic1\", \"Topic1\", \"Topic1\", \"Topic1\", \"Topic1\", \"Topic1\", \"Topic1\", \"Topic1\", \"Topic1\", \"Topic1\", \"Topic1\", \"Topic1\", \"Topic1\", \"Topic1\", \"Topic1\", \"Topic1\", \"Topic1\", \"Topic1\", \"Topic1\", \"Topic1\", \"Topic1\", \"Topic1\", \"Topic1\", \"Topic1\", \"Topic1\", \"Topic1\", \"Topic1\", \"Topic1\", \"Topic1\", \"Topic1\", \"Topic1\", \"Topic1\", \"Topic1\", \"Topic1\", \"Topic1\", \"Topic1\", \"Topic1\", \"Topic1\", \"Topic1\", \"Topic1\", \"Topic1\", \"Topic1\", \"Topic1\", \"Topic1\", \"Topic1\", \"Topic1\", \"Topic1\", \"Topic1\", \"Topic1\", \"Topic1\", \"Topic1\", \"Topic1\", \"Topic1\", \"Topic1\", \"Topic1\", \"Topic1\", \"Topic1\", \"Topic1\", \"Topic1\", \"Topic1\", \"Topic1\", \"Topic1\", \"Topic1\", \"Topic1\", \"Topic1\", \"Topic1\", \"Topic1\", \"Topic1\", \"Topic1\", \"Topic1\", \"Topic1\", \"Topic1\", \"Topic1\", \"Topic1\", \"Topic1\", \"Topic1\", \"Topic2\", \"Topic2\", \"Topic2\", \"Topic2\", \"Topic2\", \"Topic2\", \"Topic2\", \"Topic2\", \"Topic2\", \"Topic2\", \"Topic2\", \"Topic2\", \"Topic2\", \"Topic2\", \"Topic2\", \"Topic2\", \"Topic2\", \"Topic2\", \"Topic2\", \"Topic2\", \"Topic2\", \"Topic2\", \"Topic2\", \"Topic2\", \"Topic2\", \"Topic2\", \"Topic2\", \"Topic2\", \"Topic2\", \"Topic2\", \"Topic2\", \"Topic2\", \"Topic2\", \"Topic2\", \"Topic2\", \"Topic2\", \"Topic2\", \"Topic2\", \"Topic2\", \"Topic2\", \"Topic2\", \"Topic2\", \"Topic2\", \"Topic2\", \"Topic2\", \"Topic2\", \"Topic2\", \"Topic2\", \"Topic2\", \"Topic2\", \"Topic2\", \"Topic2\", \"Topic2\", \"Topic2\", \"Topic2\", \"Topic2\", \"Topic2\", \"Topic2\", \"Topic2\", \"Topic2\", \"Topic2\", \"Topic2\", \"Topic2\", \"Topic2\", \"Topic2\", \"Topic2\", \"Topic2\", \"Topic2\", \"Topic2\", \"Topic2\", \"Topic2\", \"Topic2\", \"Topic2\", \"Topic2\", \"Topic2\", \"Topic2\", \"Topic2\", \"Topic2\", \"Topic2\", \"Topic3\", \"Topic3\", \"Topic3\", \"Topic3\", \"Topic3\", \"Topic3\", \"Topic3\", \"Topic3\", \"Topic3\", \"Topic3\", \"Topic3\", \"Topic3\", \"Topic3\", \"Topic3\", \"Topic3\", \"Topic3\", \"Topic3\", \"Topic3\", \"Topic3\", \"Topic3\", \"Topic3\", \"Topic3\", \"Topic3\", \"Topic3\", \"Topic3\", \"Topic3\", \"Topic3\", \"Topic3\", \"Topic3\", \"Topic3\", \"Topic3\", \"Topic3\", \"Topic3\", \"Topic3\", \"Topic3\", \"Topic3\", \"Topic3\", \"Topic3\", \"Topic3\", \"Topic3\", \"Topic3\", \"Topic3\", \"Topic3\", \"Topic3\", \"Topic3\", \"Topic3\", \"Topic3\", \"Topic3\", \"Topic3\", \"Topic3\", \"Topic3\", \"Topic3\", \"Topic3\", \"Topic3\", \"Topic3\", \"Topic3\", \"Topic3\", \"Topic3\", \"Topic3\", \"Topic3\", \"Topic3\", \"Topic3\", \"Topic3\", \"Topic3\", \"Topic3\", \"Topic3\", \"Topic3\", \"Topic3\", \"Topic3\", \"Topic3\", \"Topic3\", \"Topic3\", \"Topic3\", \"Topic3\", \"Topic3\", \"Topic3\", \"Topic3\", \"Topic3\", \"Topic3\", \"Topic3\", \"Topic3\", \"Topic3\", \"Topic3\", \"Topic4\", \"Topic4\", \"Topic4\", \"Topic4\", \"Topic4\", \"Topic4\", \"Topic4\", \"Topic4\", \"Topic4\", \"Topic4\", \"Topic4\", \"Topic4\", \"Topic4\", \"Topic4\", \"Topic4\", \"Topic4\", \"Topic4\", \"Topic4\", \"Topic4\", \"Topic4\", \"Topic4\", \"Topic4\", \"Topic4\", \"Topic4\", \"Topic4\", \"Topic4\", \"Topic4\", \"Topic4\", \"Topic4\", \"Topic4\", \"Topic4\", \"Topic4\", \"Topic4\", \"Topic4\", \"Topic4\", \"Topic4\", \"Topic4\", \"Topic4\", \"Topic4\", \"Topic4\", \"Topic4\", \"Topic4\", \"Topic4\", \"Topic4\", \"Topic4\", \"Topic4\", \"Topic4\", \"Topic4\", \"Topic4\", \"Topic4\", \"Topic4\", \"Topic4\", \"Topic4\", \"Topic4\", \"Topic4\", \"Topic4\", \"Topic4\", \"Topic4\", \"Topic4\", \"Topic4\", \"Topic4\", \"Topic4\", \"Topic4\", \"Topic4\", \"Topic4\", \"Topic4\", \"Topic4\", \"Topic4\", \"Topic4\", \"Topic4\", \"Topic4\", \"Topic4\", \"Topic4\", \"Topic4\", \"Topic4\", \"Topic4\", \"Topic4\", \"Topic4\", \"Topic5\", \"Topic5\", \"Topic5\", \"Topic5\", \"Topic5\", \"Topic5\", \"Topic5\", \"Topic5\", \"Topic5\", \"Topic5\", \"Topic5\", \"Topic5\", \"Topic5\", \"Topic5\", \"Topic5\", \"Topic5\", \"Topic5\", \"Topic5\", \"Topic5\", \"Topic5\", \"Topic5\", \"Topic5\", \"Topic5\", \"Topic5\", \"Topic5\", \"Topic5\", \"Topic5\", \"Topic5\", \"Topic5\", \"Topic5\", \"Topic5\", \"Topic5\", \"Topic5\", \"Topic5\", \"Topic5\", \"Topic5\", \"Topic5\", \"Topic5\", \"Topic5\", \"Topic5\", \"Topic5\", \"Topic5\", \"Topic5\", \"Topic5\", \"Topic5\", \"Topic5\", \"Topic5\", \"Topic5\", \"Topic5\", \"Topic5\", \"Topic5\", \"Topic5\", \"Topic5\", \"Topic5\", \"Topic5\", \"Topic5\", \"Topic5\", \"Topic5\", \"Topic5\", \"Topic5\", \"Topic5\", \"Topic5\", \"Topic5\", \"Topic5\", \"Topic5\", \"Topic5\", \"Topic5\", \"Topic5\", \"Topic5\", \"Topic5\", \"Topic5\", \"Topic5\", \"Topic5\", \"Topic5\", \"Topic5\", \"Topic5\", \"Topic5\", \"Topic5\", \"Topic6\", \"Topic6\", \"Topic6\", \"Topic6\", \"Topic6\", \"Topic6\", \"Topic6\", \"Topic6\", \"Topic6\", \"Topic6\", \"Topic6\", \"Topic6\", \"Topic6\", \"Topic6\", \"Topic6\", \"Topic6\", \"Topic6\", \"Topic6\", \"Topic6\", \"Topic6\", \"Topic6\", \"Topic6\", \"Topic6\", \"Topic6\", \"Topic6\", \"Topic6\", \"Topic6\", \"Topic6\", \"Topic6\", \"Topic6\", \"Topic6\", \"Topic6\", \"Topic6\", \"Topic6\", \"Topic6\", \"Topic6\", \"Topic6\", \"Topic6\", \"Topic6\", \"Topic6\", \"Topic6\", \"Topic6\", \"Topic6\", \"Topic6\", \"Topic6\", \"Topic6\", \"Topic6\", \"Topic6\", \"Topic6\", \"Topic6\", \"Topic6\", \"Topic6\", \"Topic6\", \"Topic6\", \"Topic6\", \"Topic6\", \"Topic6\", \"Topic6\", \"Topic6\", \"Topic6\", \"Topic6\", \"Topic6\", \"Topic6\", \"Topic6\", \"Topic6\", \"Topic6\", \"Topic6\", \"Topic6\", \"Topic6\", \"Topic6\", \"Topic6\", \"Topic6\", \"Topic6\", \"Topic6\", \"Topic6\", \"Topic6\", \"Topic6\", \"Topic6\", \"Topic6\", \"Topic6\", \"Topic6\", \"Topic6\", \"Topic6\", \"Topic6\", \"Topic6\", \"Topic6\", \"Topic6\", \"Topic6\", \"Topic6\", \"Topic7\", \"Topic7\", \"Topic7\", \"Topic7\", \"Topic7\", \"Topic7\", \"Topic7\", \"Topic7\", \"Topic7\", \"Topic7\", \"Topic7\", \"Topic7\", \"Topic7\", \"Topic7\", \"Topic7\", \"Topic7\", \"Topic7\", \"Topic7\", \"Topic7\", \"Topic7\", \"Topic7\", \"Topic7\", \"Topic7\", \"Topic7\", \"Topic7\", \"Topic7\", \"Topic7\", \"Topic7\", \"Topic7\", \"Topic7\", \"Topic7\", \"Topic7\", \"Topic7\", \"Topic7\", \"Topic7\", \"Topic7\", \"Topic7\", \"Topic7\", \"Topic7\", \"Topic7\", \"Topic7\", \"Topic7\", \"Topic7\", \"Topic7\", \"Topic7\", \"Topic7\", \"Topic7\", \"Topic7\", \"Topic7\", \"Topic7\", \"Topic7\", \"Topic7\", \"Topic7\", \"Topic7\", \"Topic7\", \"Topic7\", \"Topic7\", \"Topic7\", \"Topic7\", \"Topic7\", \"Topic7\", \"Topic7\", \"Topic7\", \"Topic7\", \"Topic7\", \"Topic7\", \"Topic7\", \"Topic7\", \"Topic7\", \"Topic7\", \"Topic7\", \"Topic7\", \"Topic7\", \"Topic7\", \"Topic7\", \"Topic7\", \"Topic7\", \"Topic7\", \"Topic7\", \"Topic7\", \"Topic7\", \"Topic7\", \"Topic7\", \"Topic7\", \"Topic8\", \"Topic8\", \"Topic8\", \"Topic8\", \"Topic8\", \"Topic8\", \"Topic8\", \"Topic8\", \"Topic8\", \"Topic8\", \"Topic8\", \"Topic8\", \"Topic8\", \"Topic8\", \"Topic8\", \"Topic8\", \"Topic8\", \"Topic8\", \"Topic8\", \"Topic8\", \"Topic8\", \"Topic8\", \"Topic8\", \"Topic8\", \"Topic8\", \"Topic8\", \"Topic8\", \"Topic8\", \"Topic8\", \"Topic8\", \"Topic8\", \"Topic8\", \"Topic8\", \"Topic8\", \"Topic8\", \"Topic8\", \"Topic8\", \"Topic8\", \"Topic8\", \"Topic8\", \"Topic8\", \"Topic8\", \"Topic8\", \"Topic8\", \"Topic8\", \"Topic8\", \"Topic8\", \"Topic8\", \"Topic8\", \"Topic8\", \"Topic8\", \"Topic8\", \"Topic8\", \"Topic8\", \"Topic8\", \"Topic8\", \"Topic8\", \"Topic8\", \"Topic8\", \"Topic8\", \"Topic8\", \"Topic8\", \"Topic8\", \"Topic8\", \"Topic8\", \"Topic8\", \"Topic8\", \"Topic8\", \"Topic8\", \"Topic8\", \"Topic8\", \"Topic8\", \"Topic8\", \"Topic8\", \"Topic8\", \"Topic8\", \"Topic8\", \"Topic8\", \"Topic8\", \"Topic8\", \"Topic9\", \"Topic9\", \"Topic9\", \"Topic9\", \"Topic9\", \"Topic9\", \"Topic9\", \"Topic9\", \"Topic9\", \"Topic9\", \"Topic9\", \"Topic9\", \"Topic9\", \"Topic9\", \"Topic9\", \"Topic9\", \"Topic9\", \"Topic9\", \"Topic9\", \"Topic9\", \"Topic9\", \"Topic9\", \"Topic9\", \"Topic9\", \"Topic9\", \"Topic9\", \"Topic9\", \"Topic9\", \"Topic9\", \"Topic9\", \"Topic9\", \"Topic9\", \"Topic9\", \"Topic9\", \"Topic9\", \"Topic9\", \"Topic9\", \"Topic9\", \"Topic9\", \"Topic9\", \"Topic9\", \"Topic9\", \"Topic9\", \"Topic9\", \"Topic9\", \"Topic9\", \"Topic9\", \"Topic9\", \"Topic9\", \"Topic9\", \"Topic9\", \"Topic9\", \"Topic9\", \"Topic9\", \"Topic9\", \"Topic9\", \"Topic9\", \"Topic9\", \"Topic9\", \"Topic9\", \"Topic9\", \"Topic9\", \"Topic9\", \"Topic9\", \"Topic9\", \"Topic9\", \"Topic9\", \"Topic9\", \"Topic9\", \"Topic9\", \"Topic9\", \"Topic9\", \"Topic9\", \"Topic9\", \"Topic9\", \"Topic9\", \"Topic9\", \"Topic9\", \"Topic10\", \"Topic10\", \"Topic10\", \"Topic10\", \"Topic10\", \"Topic10\", \"Topic10\", \"Topic10\", \"Topic10\", \"Topic10\", \"Topic10\", \"Topic10\", \"Topic10\", \"Topic10\", \"Topic10\", \"Topic10\", \"Topic10\", \"Topic10\", \"Topic10\", \"Topic10\", \"Topic10\", \"Topic10\", \"Topic10\", \"Topic10\", \"Topic10\", \"Topic10\", \"Topic10\", \"Topic10\", \"Topic10\", \"Topic10\", \"Topic10\", \"Topic10\", \"Topic10\", \"Topic10\", \"Topic10\", \"Topic10\", \"Topic10\", \"Topic10\", \"Topic10\", \"Topic10\", \"Topic10\", \"Topic10\", \"Topic10\", \"Topic10\", \"Topic10\", \"Topic10\", \"Topic10\", \"Topic10\", \"Topic10\", \"Topic10\", \"Topic10\", \"Topic10\", \"Topic10\", \"Topic10\", \"Topic10\", \"Topic10\", \"Topic10\", \"Topic10\", \"Topic10\", \"Topic10\", \"Topic10\", \"Topic10\", \"Topic10\", \"Topic10\", \"Topic10\", \"Topic10\", \"Topic10\", \"Topic10\", \"Topic10\", \"Topic10\", \"Topic10\", \"Topic10\", \"Topic10\", \"Topic10\", \"Topic10\", \"Topic10\", \"Topic10\", \"Topic10\", \"Topic10\", \"Topic10\", \"Topic10\", \"Topic10\", \"Topic10\", \"Topic10\", \"Topic10\", \"Topic10\", \"Topic10\", \"Topic10\", \"Topic11\", \"Topic11\", \"Topic11\", \"Topic11\", \"Topic11\", \"Topic11\", \"Topic11\", \"Topic11\", \"Topic11\", \"Topic11\", \"Topic11\", \"Topic11\", \"Topic11\", \"Topic11\", \"Topic11\", \"Topic11\", \"Topic11\", \"Topic11\", \"Topic11\", \"Topic11\", \"Topic11\", \"Topic11\", \"Topic11\", \"Topic11\", \"Topic11\", \"Topic11\", \"Topic11\", \"Topic11\", \"Topic11\", \"Topic11\", \"Topic11\", \"Topic11\", \"Topic11\", \"Topic11\", \"Topic11\", \"Topic11\", \"Topic11\", \"Topic11\", \"Topic11\", \"Topic11\", \"Topic11\", \"Topic11\", \"Topic11\", \"Topic11\", \"Topic11\", \"Topic11\", \"Topic11\", \"Topic11\", \"Topic11\", \"Topic11\", \"Topic11\", \"Topic11\", \"Topic11\", \"Topic11\", \"Topic11\", \"Topic11\", \"Topic11\", \"Topic11\", \"Topic11\", \"Topic11\", \"Topic11\", \"Topic11\", \"Topic11\", \"Topic11\", \"Topic11\", \"Topic11\", \"Topic11\", \"Topic11\", \"Topic11\", \"Topic11\", \"Topic11\", \"Topic11\", \"Topic11\", \"Topic11\", \"Topic11\", \"Topic11\", \"Topic11\", \"Topic11\", \"Topic11\", \"Topic11\", \"Topic11\", \"Topic11\", \"Topic11\", \"Topic11\", \"Topic11\", \"Topic12\", \"Topic12\", \"Topic12\", \"Topic12\", \"Topic12\", \"Topic12\", \"Topic12\", \"Topic12\", \"Topic12\", \"Topic12\", \"Topic12\", \"Topic12\", \"Topic12\", \"Topic12\", \"Topic12\", \"Topic12\", \"Topic12\", \"Topic12\", \"Topic12\", \"Topic12\", \"Topic12\", \"Topic12\", \"Topic12\", \"Topic12\", \"Topic12\", \"Topic12\", \"Topic12\", \"Topic12\", \"Topic12\", \"Topic12\", \"Topic12\", \"Topic12\", \"Topic12\", \"Topic12\", \"Topic12\", \"Topic12\", \"Topic12\", \"Topic12\", \"Topic12\", \"Topic12\", \"Topic12\", \"Topic12\", \"Topic12\", \"Topic12\", \"Topic12\", \"Topic12\", \"Topic12\", \"Topic12\", \"Topic12\", \"Topic12\", \"Topic12\", \"Topic12\", \"Topic12\", \"Topic12\", \"Topic12\", \"Topic12\", \"Topic12\", \"Topic12\", \"Topic12\", \"Topic12\", \"Topic12\", \"Topic12\", \"Topic12\", \"Topic12\", \"Topic12\", \"Topic12\", \"Topic12\", \"Topic12\", \"Topic12\", \"Topic12\", \"Topic12\", \"Topic12\", \"Topic12\", \"Topic12\", \"Topic12\", \"Topic12\", \"Topic12\", \"Topic12\", \"Topic12\", \"Topic12\", \"Topic12\", \"Topic12\", \"Topic13\", \"Topic13\", \"Topic13\", \"Topic13\", \"Topic13\", \"Topic13\", \"Topic13\", \"Topic13\", \"Topic13\", \"Topic13\", \"Topic13\", \"Topic13\", \"Topic13\", \"Topic13\", \"Topic13\", \"Topic13\", \"Topic13\", \"Topic13\", \"Topic13\", \"Topic13\", \"Topic13\", \"Topic13\", \"Topic13\", \"Topic13\", \"Topic13\", \"Topic13\", \"Topic13\", \"Topic13\", \"Topic13\", \"Topic13\", \"Topic13\", \"Topic13\", \"Topic13\", \"Topic13\", \"Topic13\", \"Topic13\", \"Topic13\", \"Topic13\", \"Topic13\", \"Topic13\", \"Topic13\", \"Topic13\", \"Topic13\", \"Topic13\", \"Topic13\", \"Topic13\", \"Topic13\", \"Topic13\", \"Topic13\", \"Topic13\", \"Topic13\", \"Topic13\", \"Topic13\", \"Topic13\", \"Topic13\", \"Topic13\", \"Topic13\", \"Topic13\", \"Topic13\", \"Topic13\", \"Topic13\", \"Topic13\", \"Topic13\", \"Topic13\", \"Topic13\", \"Topic13\", \"Topic13\", \"Topic13\", \"Topic13\", \"Topic13\", \"Topic13\", \"Topic13\", \"Topic13\", \"Topic13\", \"Topic13\", \"Topic13\", \"Topic13\", \"Topic13\", \"Topic13\", \"Topic13\", \"Topic13\", \"Topic13\", \"Topic13\", \"Topic13\", \"Topic13\", \"Topic13\", \"Topic13\", \"Topic14\", \"Topic14\", \"Topic14\", \"Topic14\", \"Topic14\", \"Topic14\", \"Topic14\", \"Topic14\", \"Topic14\", \"Topic14\", \"Topic14\", \"Topic14\", \"Topic14\", \"Topic14\", \"Topic14\", \"Topic14\", \"Topic14\", \"Topic14\", \"Topic14\", \"Topic14\", \"Topic14\", \"Topic14\", \"Topic14\", \"Topic14\", \"Topic14\", \"Topic14\", \"Topic14\", \"Topic14\", \"Topic14\", \"Topic14\", \"Topic14\", \"Topic14\", \"Topic14\", \"Topic14\", \"Topic14\", \"Topic14\", \"Topic14\", \"Topic14\", \"Topic14\", \"Topic14\", \"Topic14\", \"Topic14\", \"Topic14\", \"Topic14\", \"Topic14\", \"Topic14\", \"Topic14\", \"Topic14\", \"Topic14\", \"Topic14\", \"Topic14\", \"Topic14\", \"Topic14\", \"Topic14\", \"Topic14\", \"Topic14\", \"Topic14\", \"Topic14\", \"Topic14\", \"Topic14\", \"Topic14\", \"Topic14\", \"Topic14\", \"Topic14\", \"Topic14\", \"Topic14\", \"Topic14\", \"Topic14\", \"Topic14\", \"Topic14\", \"Topic14\", \"Topic14\", \"Topic14\", \"Topic14\", \"Topic14\", \"Topic14\", \"Topic14\", \"Topic14\", \"Topic14\", \"Topic14\", \"Topic14\", \"Topic14\", \"Topic14\", \"Topic14\", \"Topic14\", \"Topic14\", \"Topic15\", \"Topic15\", \"Topic15\", \"Topic15\", \"Topic15\", \"Topic15\", \"Topic15\", \"Topic15\", \"Topic15\", \"Topic15\", \"Topic15\", \"Topic15\", \"Topic15\", \"Topic15\", \"Topic15\", \"Topic15\", \"Topic15\", \"Topic15\", \"Topic15\", \"Topic15\", \"Topic15\", \"Topic15\", \"Topic15\", \"Topic15\", \"Topic15\", \"Topic15\", \"Topic15\", \"Topic15\", \"Topic15\", \"Topic15\", \"Topic15\", \"Topic15\", \"Topic15\", \"Topic15\", \"Topic15\", \"Topic15\", \"Topic15\", \"Topic15\", \"Topic15\", \"Topic15\", \"Topic15\", \"Topic15\", \"Topic15\", \"Topic15\", \"Topic15\", \"Topic15\", \"Topic15\", \"Topic15\", \"Topic15\", \"Topic15\", \"Topic15\", \"Topic15\", \"Topic15\", \"Topic15\", \"Topic15\", \"Topic15\", \"Topic15\", \"Topic15\", \"Topic15\", \"Topic15\", \"Topic15\", \"Topic15\", \"Topic15\", \"Topic15\", \"Topic15\", \"Topic15\", \"Topic15\", \"Topic15\", \"Topic15\", \"Topic15\", \"Topic15\", \"Topic15\", \"Topic15\", \"Topic15\", \"Topic15\", \"Topic15\", \"Topic15\", \"Topic15\", \"Topic15\", \"Topic15\", \"Topic15\", \"Topic15\"], \"logprob\": [30.0, 29.0, 28.0, 27.0, 26.0, 25.0, 24.0, 23.0, 22.0, 21.0, 20.0, 19.0, 18.0, 17.0, 16.0, 15.0, 14.0, 13.0, 12.0, 11.0, 10.0, 9.0, 8.0, 7.0, 6.0, 5.0, 4.0, 3.0, 2.0, 1.0, -7.290200233459473, -7.697400093078613, -7.621399879455566, -7.67080020904541, -7.97629976272583, -7.799499988555908, -8.026599884033203, -6.926799774169922, -8.07960033416748, -8.032899856567383, -7.621099948883057, -7.671500205993652, -8.049200057983398, -8.119999885559082, -7.720799922943115, -8.110799789428711, -7.365799903869629, -8.183600425720215, -8.241000175476074, -8.246800422668457, -6.9105000495910645, -8.368200302124023, -8.369600296020508, -8.066399574279785, -8.015399932861328, -8.311300277709961, -8.076499938964844, -8.3125, -8.314800262451172, -8.313699722290039, -6.729400157928467, -8.260100364685059, -7.17609977722168, -7.513899803161621, -7.993100166320801, -6.447299957275391, -5.877999782562256, -6.506700038909912, -3.5815999507904053, -6.737400054931641, -5.181700229644775, -7.207900047302246, -6.945099830627441, -5.860199928283691, -6.817699909210205, -4.132299900054932, -5.611400127410889, -5.942800045013428, -6.095200061798096, -4.540299892425537, -6.604800224304199, -6.480100154876709, -5.856299877166748, -6.75540018081665, -7.100599765777588, -5.513400077819824, -6.810699939727783, -6.3292999267578125, -6.022299766540527, -5.566400051116943, -4.190299987792969, -5.759699821472168, -5.7993998527526855, -5.846499919891357, -5.313000202178955, -6.015200138092041, -5.75629997253418, -5.540800094604492, -4.666999816894531, -5.939899921417236, -6.011099815368652, -6.026299953460693, -4.531899929046631, -5.507299900054932, -5.779799938201904, -4.065199851989746, -5.818299770355225, -4.965199947357178, -4.580100059509277, -5.232500076293945, -4.637700080871582, -4.474699974060059, -5.383900165557861, -5.213200092315674, -5.360499858856201, -5.033899784088135, -5.442999839782715, -4.8780999183654785, -5.279300212860107, -5.437399864196777, -5.160600185394287, -5.584000110626221, -5.53249979019165, -5.594900131225586, -7.162899971008301, -7.5482001304626465, -7.773799896240234, -7.8709001541137695, -7.9253997802734375, -7.789299964904785, -7.928400039672852, -7.929599761962891, -7.929599761962891, -7.8196001052856445, -8.081000328063965, -8.010199546813965, -8.032500267028809, -7.936699867248535, -8.07979965209961, -8.295599937438965, -7.999599933624268, -8.371700286865234, -8.372900009155273, -8.173399925231934, -8.304499626159668, -8.375100135803223, -8.381999969482422, -8.380999565124512, -8.052599906921387, -8.3818998336792, -8.318300247192383, -8.392000198364258, -8.395899772644043, -7.57889986038208, -6.595699787139893, -8.114500045776367, -4.893799781799316, -6.306600093841553, -6.844600200653076, -7.9903998374938965, -5.843699932098389, -5.552299976348877, -6.13670015335083, -6.59119987487793, -3.8496999740600586, -6.783100128173828, -3.6386001110076904, -2.328000068664551, -4.827000141143799, -4.882800102233887, -3.9103000164031982, -5.071000099182129, -7.239799976348877, -6.6244001388549805, -6.66540002822876, -3.9098000526428223, -5.295899868011475, -4.777100086212158, -5.78439998626709, -6.255899906158447, -5.951399803161621, -6.470200061798096, -4.553999900817871, -5.534900188446045, -3.858099937438965, -4.386199951171875, -4.549900054931641, -3.8564000129699707, -5.5696001052856445, -4.98390007019043, -3.922300100326538, -4.785699844360352, -5.166299819946289, -4.109300136566162, -5.210299968719482, -4.513599872589111, -5.142099857330322, -4.8354997634887695, -4.712500095367432, -4.98859977722168, -5.12060022354126, -5.256499767303467, -5.300600051879883, -7.052199840545654, -7.610199928283691, -7.578100204467773, -7.5177001953125, -7.405700206756592, -7.686500072479248, -7.837800025939941, -7.797800064086914, -7.346799850463867, -7.841700077056885, -7.930099964141846, -7.976600170135498, -7.976600170135498, -7.976600170135498, -7.980800151824951, -7.9822001457214355, -8.032500267028809, -7.974699974060059, -8.075300216674805, -8.196100234985352, -8.14490032196045, -7.765100002288818, -8.263299942016602, -8.266500473022461, -8.329000473022461, -8.268899917602539, -8.329500198364258, -8.397500038146973, -8.397700309753418, -8.333499908447266, -8.21310043334961, -8.159099578857422, -4.151299953460693, -7.702400207519531, -6.3968000411987305, -7.170000076293945, -6.744900226593018, -6.420400142669678, -4.531799793243408, -7.0503997802734375, -5.965400218963623, -6.015500068664551, -6.354599952697754, -4.57889986038208, -6.47599983215332, -5.985199928283691, -5.280799865722656, -7.164299964904785, -4.309899806976318, -5.8958001136779785, -4.296000003814697, -5.000199794769287, -6.343699932098389, -6.475900173187256, -5.872399806976318, -7.0503997802734375, -4.614799976348877, -5.896500110626221, -5.016499996185303, -4.739699840545654, -5.443900108337402, -4.364699840545654, -3.8480000495910645, -6.127999782562256, -5.458000183105469, -4.9959001541137695, -5.447800159454346, -4.5106000900268555, -5.327899932861328, -4.436999797821045, -4.548699855804443, -4.919000148773193, -5.181300163269043, -5.149799823760986, -5.533899784088135, -4.719099998474121, -5.592100143432617, -5.174099922180176, -5.415900230407715, -5.653600215911865, -5.445899963378906, -5.612599849700928, -5.581299781799316, -6.724100112915039, -7.389200210571289, -7.771599769592285, -7.9766998291015625, -8.031100273132324, -8.033100128173828, -8.084400177001953, -8.084400177001953, -8.08430004119873, -8.070599555969238, -8.094400405883789, -8.02750015258789, -8.007599830627441, -8.181400299072266, -7.820199966430664, -7.9807000160217285, -7.5954999923706055, -8.448200225830078, -8.45259952545166, -8.456399917602539, -8.529800415039062, -8.530599594116211, -7.808800220489502, -8.531900405883789, -8.531000137329102, -8.53339958190918, -7.87529993057251, -8.539799690246582, -8.538700103759766, -7.889800071716309, -5.5278000831604, -5.2895002365112305, -3.159899950027466, -6.460999965667725, -5.173999786376953, -7.297900199890137, -3.1875998973846436, -3.754300117492676, -5.307499885559082, -7.310100078582764, -5.037199974060059, -4.186399936676025, -3.676100015640259, -5.4278998374938965, -4.94189977645874, -5.623700141906738, -5.271100044250488, -4.646299839019775, -6.018499851226807, -6.710599899291992, -7.4029998779296875, -4.930500030517578, -5.6971001625061035, -6.966400146484375, -5.001999855041504, -5.3592000007629395, -3.783900022506714, -5.412700176239014, -5.572199821472168, -4.719299793243408, -5.133399963378906, -4.83519983291626, -3.5543999671936035, -5.684000015258789, -5.140100002288818, -4.218900203704834, -4.7581000328063965, -4.295000076293945, -5.17519998550415, -5.16349983215332, -4.2769999504089355, -4.914700031280518, -4.83620023727417, -5.148099899291992, -5.106200218200684, -5.177000045776367, -5.231500148773193, -5.215199947357178, -7.472599983215332, -7.313799858093262, -7.713900089263916, -7.649899959564209, -7.786600112915039, -7.719600200653076, -7.780200004577637, -8.084400177001953, -7.560400009155273, -7.841000080108643, -8.090299606323242, -8.137299537658691, -8.137900352478027, -8.137900352478027, -8.001700401306152, -8.29699993133545, -8.36359977722168, -8.428799629211426, -8.43179988861084, -8.502799987792969, -8.50570011138916, -8.445300102233887, -8.44789981842041, -8.583200454711914, -8.585000038146973, -8.585200309753418, -8.58489990234375, -8.586700439453125, -8.586899757385254, -8.58590030670166, -8.515700340270996, -8.40060043334961, -6.1921000480651855, -3.859600067138672, -8.511500358581543, -8.520099639892578, -7.989200115203857, -5.053699970245361, -5.933000087738037, -7.561200141906738, -4.54580020904541, -5.09689998626709, -6.305699825286865, -3.333699941635132, -6.063300132751465, -4.9532999992370605, -4.837200164794922, -5.306600093841553, -4.410399913787842, -5.67140007019043, -6.9517998695373535, -3.2558999061584473, -5.148900032043457, -6.398600101470947, -4.4039998054504395, -4.449699878692627, -5.239799976348877, -4.80109977722168, -4.707799911499023, -4.094399929046631, -3.9203999042510986, -5.433499813079834, -3.939500093460083, -3.621500015258789, -4.65339994430542, -5.308300018310547, -3.508699893951416, -4.539000034332275, -5.325399875640869, -4.502799987792969, -4.951300144195557, -4.897600173950195, -4.953999996185303, -5.054800033569336, -5.121799945831299, -5.081399917602539, -5.210599899291992, -5.217800140380859, -7.281300067901611, -7.454500198364258, -7.264400005340576, -7.60890007019043, -7.611100196838379, -7.61359977722168, -7.575799942016602, -7.7515997886657715, -7.752699851989746, -7.752799987792969, -7.693600177764893, -7.847499847412109, -7.907199859619141, -7.969900131225586, -7.144899845123291, -6.408299922943115, -7.539400100708008, -8.171799659729004, -7.791299819946289, -8.175000190734863, -8.172800064086914, -8.17549991607666, -8.111800193786621, -8.176799774169922, -8.178000450134277, -8.178199768066406, -8.173299789428711, -8.111900329589844, -8.250499725341797, -8.179400444030762, -7.529099941253662, -8.116999626159668, -7.0995001792907715, -8.110099792480469, -4.70959997177124, -7.3171000480651855, -7.730199813842773, -7.767199993133545, -7.140399932861328, -7.846199989318848, -6.952099800109863, -5.819300174713135, -6.61329984664917, -5.184800148010254, -5.820000171661377, -6.125100135803223, -6.996500015258789, -6.371200084686279, -6.385499954223633, -6.407800197601318, -5.550000190734863, -5.5117998123168945, -4.758200168609619, -6.92519998550415, -3.547300100326538, -4.080599784851074, -5.820099830627441, -4.731100082397461, -5.8709001541137695, -6.419600009918213, -5.685100078582764, -6.406099796295166, -4.735599994659424, -3.8145999908447266, -4.881899833679199, -6.000400066375732, -5.360499858856201, -4.922599792480469, -5.086400032043457, -4.661799907684326, -5.4583001136779785, -4.461900234222412, -5.625199794769287, -4.645899772644043, -5.571000099182129, -5.234899997711182, -5.686699867248535, -5.170899868011475, -5.506499767303467, -5.14900016784668, -5.017199993133545, -5.258399963378906, -5.413899898529053, -5.272600173950195, -5.4670000076293945, -5.503699779510498, -5.474400043487549, -5.511600017547607, -5.542900085449219, -7.402299880981445, -7.4405999183654785, -7.5117998123168945, -7.555099964141846, -7.759099960327148, -7.808499813079834, -7.809700012207031, -7.678500175476074, -7.810200214385986, -7.375999927520752, -7.862400054931641, -7.862400054931641, -7.723700046539307, -7.862500190734863, -7.303800106048584, -7.907199859619141, -7.879199981689453, -8.150099754333496, -8.13029956817627, -7.402299880981445, -8.155699729919434, -8.097900390625, -8.227399826049805, -8.160099983215332, -8.166600227355957, -8.171899795532227, -8.237299919128418, -8.308799743652344, -8.308699607849121, -8.238499641418457, -6.762700080871582, -7.839600086212158, -8.116700172424316, -7.1880998611450195, -7.508600234985352, -7.820000171661377, -4.876800060272217, -6.2754998207092285, -6.902100086212158, -7.679500102996826, -6.58050012588501, -4.324900150299072, -7.239500045776367, -4.655700206756592, -5.164899826049805, -5.376299858093262, -4.994500160217285, -4.480800151824951, -5.438499927520752, -6.769400119781494, -5.4359002113342285, -5.134399890899658, -6.167699813842773, -6.344200134277344, -3.224400043487549, -4.3769001960754395, -6.365600109100342, -6.229899883270264, -4.31850004196167, -4.9268999099731445, -4.225399971008301, -3.8066000938415527, -4.5858001708984375, -6.414899826049805, -5.638299942016602, -5.7170000076293945, -4.508900165557861, -5.3144001960754395, -6.104499816894531, -5.780399799346924, -4.456399917602539, -5.06279993057251, -4.672500133514404, -4.70359992980957, -5.292799949645996, -4.991700172424316, -5.228799819946289, -5.56879997253418, -5.380499839782715, -5.396100044250488, -5.430600166320801, -5.269599914550781, -5.405099868774414, -5.423299789428711, -6.454999923706055, -7.012599945068359, -7.210299968719482, -7.672399997711182, -7.718999862670898, -7.769700050354004, -7.773399829864502, -7.821599960327148, -7.821499824523926, -7.821700096130371, -7.821800231933594, -7.821700096130371, -7.821899890899658, -7.822000026702881, -7.8221001625061035, -7.822199821472168, -7.8221001625061035, -7.779799938201904, -7.154200077056885, -7.574399948120117, -7.83459997177124, -7.841300010681152, -7.586100101470947, -7.883699893951416, -8.113100051879883, -7.996500015258789, -8.117899894714355, -8.061400413513184, -8.066499710083008, -8.267900466918945, -7.360400199890137, -4.5177998542785645, -6.374100208282471, -4.821000099182129, -6.43179988861084, -7.252500057220459, -2.5208001136779785, -6.082200050354004, -7.139400005340576, -7.0843000411987305, -6.216599941253662, -5.307700157165527, -6.003200054168701, -5.504300117492676, -3.1981000900268555, -5.587699890136719, -5.465199947357178, -6.850500106811523, -5.313300132751465, -6.004000186920166, -7.498000144958496, -6.9471001625061035, -4.528299808502197, -4.615799903869629, -6.460400104522705, -5.65339994430542, -4.323999881744385, -5.960700035095215, -5.898900032043457, -5.520699977874756, -4.728700160980225, -4.78249979019165, -5.292300224304199, -5.495500087738037, -5.424900054931641, -5.581900119781494, -4.596700191497803, -5.128699779510498, -5.020100116729736, -5.190100193023682, -4.89870023727417, -5.228300094604492, -5.289599895477295, -5.29010009765625, -4.8618998527526855, -5.2505998611450195, -5.347700119018555, -5.4664998054504395, -5.382299900054932, -5.4959001541137695, -7.043399810791016, -7.156000137329102, -7.43179988861084, -7.603600025177002, -7.655300140380859, -7.610000133514404, -7.612400054931641, -7.707300186157227, -7.453199863433838, -7.709799766540527, -7.708099842071533, -7.929500102996826, -7.93149995803833, -7.363900184631348, -8.00100040435791, -8.07450008392334, -8.077400207519531, -8.154999732971191, -8.154899597167969, -7.302800178527832, -8.157899856567383, -8.156499862670898, -8.15839958190918, -8.162199974060059, -8.161499977111816, -8.165300369262695, -8.166899681091309, -8.170999526977539, -7.562300205230713, -8.1766996383667, -6.828000068664551, -7.451099872589111, -5.801199913024902, -5.839300155639648, -5.038400173187256, -5.292699813842773, -6.0335001945495605, -4.825799942016602, -4.159599781036377, -5.590700149536133, -6.293099880218506, -5.027599811553955, -5.808899879455566, -4.7032999992370605, -3.0927000045776367, -3.8447999954223633, -5.696700096130371, -6.1570000648498535, -6.743000030517578, -4.866499900817871, -5.275700092315674, -5.432199954986572, -5.376500129699707, -4.6539998054504395, -3.4402999877929688, -5.986999988555908, -5.951499938964844, -4.096399784088135, -5.687699794769287, -5.789899826049805, -5.449999809265137, -5.110799789428711, -4.244900226593018, -6.039299964904785, -5.281000137329102, -4.6875, -4.548600196838379, -5.435500144958496, -4.785200119018555, -4.864999771118164, -5.224800109863281, -4.834099769592285, -4.777400016784668, -5.174099922180176, -5.187699794769287, -5.174099922180176, -5.207499980926514, -5.374300003051758, -7.305500030517578, -7.411300182342529, -7.3730998039245605, -7.546800136566162, -7.602099895477295, -7.5559000968933105, -7.652100086212158, -7.607100009918213, -7.614999771118164, -7.616000175476074, -7.477200031280518, -7.874300003051758, -7.610400199890137, -8.0177001953125, -8.0177001953125, -8.017999649047852, -8.021200180053711, -7.896399974822998, -8.022600173950195, -7.900899887084961, -8.095499992370605, -7.962100028991699, -8.09850025177002, -8.02970027923584, -8.098999977111816, -8.028599739074707, -7.958700180053711, -7.3805999755859375, -8.103899955749512, -8.101799964904785, -8.01140022277832, -7.513899803161621, -7.887700080871582, -6.860599994659424, -7.4567999839782715, -7.8018999099731445, -6.351600170135498, -7.660699844360352, -7.200799942016602, -7.390699863433838, -4.555500030517578, -7.7052998542785645, -3.80649995803833, -6.572000026702881, -6.957399845123291, -6.072000026702881, -5.666999816894531, -5.675300121307373, -4.749499797821045, -3.31469988822937, -4.897900104522705, -5.105599880218506, -5.071100234985352, -4.382500171661377, -6.406199932098389, -6.210999965667725, -5.52239990234375, -6.052000045776367, -6.440700054168701, -5.715199947357178, -6.245500087738037, -4.805799961090088, -5.3302001953125, -5.148499965667725, -3.6229000091552734, -5.248199939727783, -4.627200126647949, -6.118000030517578, -5.856900215148926, -4.263599872589111, -5.964300155639648, -4.603899955749512, -4.863800048828125, -4.592100143432617, -5.36899995803833, -4.49560022354126, -4.526100158691406, -4.729899883270264, -4.587600231170654, -5.260900020599365, -5.493599891662598, -5.214300155639648, -4.906899929046631, -4.821700096130371, -5.201700210571289, -5.260499954223633, -5.4004998207092285, -5.354899883270264, -7.374000072479248, -7.3805999755859375, -7.472300052642822, -7.382900238037109, -7.352799892425537, -7.61959981918335, -6.891200065612793, -7.55649995803833, -7.751100063323975, -7.333899974822998, -7.461599826812744, -7.140999794006348, -7.464900016784668, -7.770199775695801, -7.711900234222412, -7.8983001708984375, -7.433000087738037, -7.9710001945495605, -7.9008002281188965, -7.836699962615967, -7.903600215911865, -7.776299953460693, -7.904300212860107, -7.589099884033203, -7.978799819946289, -7.480299949645996, -7.6331000328063965, -7.853700160980225, -7.997700214385986, -7.844699859619141, -7.526400089263916, -6.991700172424316, -6.593299865722656, -5.92140007019043, -6.8420000076293945, -5.841700077056885, -7.127799987792969, -5.871799945831299, -7.559299945831299, -7.381499767303467, -5.537300109863281, -6.947400093078613, -7.0671000480651855, -6.48199987411499, -5.387800216674805, -5.967599868774414, -6.438799858093262, -6.23330020904541, -7.021699905395508, -3.3083999156951904, -3.5885000228881836, -4.155700206756592, -4.514100074768066, -4.853600025177002, -5.510799884796143, -5.895899772644043, -6.665999889373779, -5.265600204467773, -4.826600074768066, -5.561200141906738, -4.150300025939941, -5.420400142669678, -5.433199882507324, -6.042799949645996, -5.257800102233887, -3.703399896621704, -5.48859977722168, -4.634099960327148, -4.80709981918335, -5.317599773406982, -5.156199932098389, -5.269400119781494, -4.622799873352051, -4.872200012207031, -4.866700172424316, -4.661499977111816, -4.5868000984191895, -4.664700031280518, -5.181300163269043, -4.796500205993652, -5.371500015258789, -5.101900100708008, -5.243100166320801, -5.343500137329102, -5.4116997718811035, -6.792699813842773, -6.584000110626221, -7.2017998695373535, -7.290900230407715, -7.291800022125244, -7.427000045776367, -7.478600025177002, -7.387199878692627, -7.583700180053711, -7.533899784088135, -7.776000022888184, -7.6570000648498535, -7.847499847412109, -7.847400188446045, -7.434899806976318, -7.850200176239014, -7.928199768066406, -7.853799819946289, -7.5482001304626465, -7.9309000968933105, -7.935100078582764, -7.939000129699707, -7.938799858093262, -7.866199970245361, -7.336699962615967, -7.010799884796143, -7.9552001953125, -6.2718000411987305, -7.892600059509277, -5.820199966430664, -6.125800132751465, -6.522600173950195, -7.322700023651123, -6.952300071716309, -5.01609992980957, -7.403900146484375, -5.97760009765625, -5.989799976348877, -5.751800060272217, -6.621399879455566, -4.923500061035156, -6.706299781799316, -6.660999774932861, -5.57480001449585, -6.649199962615967, -4.451700210571289, -4.609000205993652, -5.1875, -6.548799991607666, -6.966899871826172, -5.139800071716309, -3.441200017929077, -4.557199954986572, -4.388000011444092, -5.262899875640869, -4.1666998863220215, -4.9309000968933105, -5.084799766540527, -3.8524999618530273, -6.11870002746582, -4.996799945831299, -4.985899925231934, -6.027900218963623, -4.8358001708984375, -4.125800132751465, -5.230400085449219, -5.545199871063232, -4.343100070953369, -5.642399787902832, -4.890699863433838, -5.156700134277344, -4.792099952697754, -4.5391998291015625, -4.944699764251709, -5.285200119018555, -4.827700138092041, -5.408299922943115, -5.463399887084961, -5.316800117492676, -5.223899841308594, -5.323299884796143, -5.303500175476074, -7.082699775695801, -6.912799835205078, -7.4243998527526855, -7.061299800872803, -7.4756999015808105, -7.433499813079834, -7.388500213623047, -7.3491997718811035, -7.051000118255615, -7.769999980926514, -7.844299793243408, -7.425099849700928, -7.662199974060059, -7.611400127410889, -7.925899982452393, -7.927800178527832, -7.853899955749512, -7.865799903869629, -7.906099796295166, -7.864200115203857, -7.523200035095215, -7.658699989318848, -7.947700023651123, -7.9197001457214355, -7.754799842834473, -7.943299770355225, -8.006199836730957, -7.961299896240234, -7.780799865722656, -7.980000019073486, -7.839399814605713, -6.61899995803833, -7.3867998123168945, -7.642899990081787, -6.349899768829346, -6.885799884796143, -7.347799777984619, -6.758200168609619, -5.770400047302246, -7.182499885559082, -6.000699996948242, -6.761300086975098, -6.639400005340576, -5.910399913787842, -6.502799987792969, -6.71589994430542, -6.556000232696533, -3.1835999488830566, -6.809100151062012, -4.888199806213379, -3.4270999431610107, -6.432400226593018, -4.478700160980225, -5.477799892425537, -6.265100002288818, -5.173299789428711, -6.3632001876831055, -4.630099773406982, -4.163099765777588, -6.4842000007629395, -5.746099948883057, -5.524600028991699, -5.573400020599365, -5.56220006942749, -5.345600128173828, -4.410399913787842, -4.178199768066406, -4.981100082397461, -5.543300151824951, -5.2307000160217285, -5.184000015258789, -5.415500164031982, -4.207900047302246, -5.240699768066406, -4.64169979095459, -5.429200172424316, -5.229499816894531, -5.514900207519531, -5.475599765777588, -5.364099979400635, -5.310299873352051, -5.211999893188477, -5.3206000328063965, -5.260799884796143, -5.492400169372559, -5.459499835968018, -5.508600234985352, -7.302199840545654, -6.978499889373779, -7.148900032043457, -7.456900119781494, -7.497799873352051, -7.509099960327148, -7.692699909210205, -7.820000171661377, -7.631800174713135, -7.828100204467773, -7.825500011444092, -7.7017998695373535, -7.905200004577637, -7.90369987487793, -7.904600143432617, -7.90500020980835, -7.838200092315674, -7.9095001220703125, -7.711400032043457, -7.842899799346924, -7.9197998046875, -7.928100109100342, -8.053799629211426, -7.871099948883057, -7.921199798583984, -7.886600017547607, -6.176000118255615, -8.090399742126465, -7.474599838256836, -7.773099899291992, -7.566699981689453, -4.7469000816345215, -6.338799953460693, -6.118000030517578, -6.519499778747559, -4.278500080108643, -6.927999973297119, -4.093599796295166, -6.172699928283691, -7.286900043487549, -3.814500093460083, -6.897299766540527, -5.350500106811523, -7.318999767303467, -6.427000045776367, -6.0279998779296875, -6.536200046539307, -6.382800102233887, -4.537199974060059, -6.987800121307373, -4.01669979095459, -6.859499931335449, -5.564300060272217, -6.39709997177124, -6.916399955749512, -6.211100101470947, -6.418499946594238, -3.515500068664551, -6.126800060272217, -6.548500061035156, -5.217899799346924, -6.612599849700928, -4.935100078582764, -4.500999927520752, -5.350900173187256, -4.989099979400635, -4.813499927520752, -5.9918999671936035, -4.49560022354126, -4.887400150299072, -5.265399932861328, -4.917600154876709, -5.079800128936768, -5.356800079345703, -5.2743000984191895, -5.524600028991699, -4.952499866485596, -5.1697001457214355, -5.320199966430664, -5.168099880218506, -5.255199909210205, -5.224100112915039, -5.498899936676025, -5.440199851989746, -5.3069000244140625, -5.291299819946289, -6.252500057220459, -6.8557000160217285, -6.832799911499023, -7.042699813842773, -7.472099781036377, -7.522900104522705, -7.488999843597412, -7.568299770355225, -7.623899936676025, -7.541800022125244, -7.454599857330322, -7.669000148773193, -7.508500099182129, -7.6255998611450195, -7.909999847412109, -7.850399971008301, -7.915500164031982, -7.593400001525879, -7.989299774169922, -7.9944000244140625, -7.81220006942749, -7.818299770355225, -8.071800231933594, -8.071499824523926, -8.003299713134766, -8.128199577331543, -7.956600189208984, -8.094300270080566, -7.637899875640869, -7.913599967956543, -6.676000118255615, -6.2571001052856445, -6.656899929046631, -5.3730998039245605, -7.322400093078613, -7.017899990081787, -7.347099781036377, -6.588200092315674, -7.344600200653076, -5.094299793243408, -4.747499942779541, -6.13670015335083, -7.179999828338623, -5.953499794006348, -6.426499843597412, -4.472099781036377, -6.490600109100342, -6.94980001449585, -3.8750998973846436, -5.181600093841553, -5.473899841308594, -6.434899806976318, -6.322700023651123, -4.052299976348877, -5.441500186920166, -6.026899814605713, -3.444499969482422, -4.017399787902832, -4.317500114440918, -5.683199882507324, -6.127900123596191, -4.350100040435791, -4.4629998207092285, -4.01230001449585, -5.238500118255615, -4.81279993057251, -4.789899826049805, -4.837100028991699, -4.531499862670898, -5.121600151062012, -4.908100128173828, -5.230599880218506, -5.05620002746582, -4.595200061798096, -5.079899787902832, -5.048600196838379, -5.090099811553955, -5.1930999755859375, -5.092100143432617, -5.133399963378906, -5.332600116729736, -5.349899768829346], \"loglift\": [30.0, 29.0, 28.0, 27.0, 26.0, 25.0, 24.0, 23.0, 22.0, 21.0, 20.0, 19.0, 18.0, 17.0, 16.0, 15.0, 14.0, 13.0, 12.0, 11.0, 10.0, 9.0, 8.0, 7.0, 6.0, 5.0, 4.0, 3.0, 2.0, 1.0, 1.8523000478744507, 1.8504999876022339, 1.847100019454956, 1.8431999683380127, 1.8402999639511108, 1.8380000591278076, 1.8375999927520752, 1.8357000350952148, 1.8353999853134155, 1.8351000547409058, 1.8343000411987305, 1.8315999507904053, 1.8315999507904053, 1.830399990081787, 1.8295999765396118, 1.8251999616622925, 1.8240000009536743, 1.823799967765808, 1.823099970817566, 1.819700002670288, 1.8193000555038452, 1.8187999725341797, 1.8186999559402466, 1.8171000480651855, 1.816499948501587, 1.8164000511169434, 1.815500020980835, 1.815500020980835, 1.8145999908447266, 1.8142000436782837, 1.8107000589370728, 1.8141000270843506, 1.7976000308990479, 1.8042000532150269, 1.811400055885315, 1.767699956893921, 1.7336000204086304, 1.7568999528884888, 1.595900058746338, 1.746899962425232, 1.6563999652862549, 1.7682000398635864, 1.7483999729156494, 1.6668000221252441, 1.7324999570846558, 1.523300051689148, 1.6268999576568604, 1.652999997138977, 1.6542999744415283, 1.4905999898910522, 1.6753000020980835, 1.6491999626159668, 1.5463999509811401, 1.6811000108718872, 1.732100009918213, 1.4388999938964844, 1.679900050163269, 1.5836999416351318, 1.506100058555603, 1.399399995803833, 1.0635000467300415, 1.4117000102996826, 1.4077999591827393, 1.4113999605178833, 1.2382999658584595, 1.4570000171661377, 1.3752000331878662, 1.2646000385284424, 0.8944000005722046, 1.3985999822616577, 1.4285999536514282, 1.4155000448226929, 0.6980000138282776, 1.162500023841858, 1.2898000478744507, 0.22050000727176666, 1.2798000574111938, 0.597599983215332, 0.2685999870300293, 0.781000018119812, 0.2623000144958496, 0.03929999843239784, 0.8245000243186951, 0.20630000531673431, 0.4560999870300293, -0.4578000009059906, 0.3862000107765198, -1.197100043296814, -0.4975999891757965, 0.05339999869465828, -1.1186000108718872, 0.4625999927520752, -0.025100000202655792, -0.39820000529289246, 2.296999931335449, 2.285599946975708, 2.2843000888824463, 2.2778000831604004, 2.272599935531616, 2.2723000049591064, 2.2711000442504883, 2.270900011062622, 2.270400047302246, 2.267400026321411, 2.260499954223633, 2.2572999000549316, 2.2541000843048096, 2.244999885559082, 2.241499900817871, 2.2393999099731445, 2.238300085067749, 2.235100030899048, 2.2339999675750732, 2.2339000701904297, 2.2339000701904297, 2.232800006866455, 2.2293999195098877, 2.2291998863220215, 2.2246999740600586, 2.22379994392395, 2.223400115966797, 2.219399929046631, 2.2191998958587646, 2.217900037765503, 2.203000068664551, 2.2151999473571777, 2.0994999408721924, 2.1338999271392822, 2.133699893951416, 2.2002999782562256, 2.012200117111206, 1.9775999784469604, 2.0055999755859375, 2.0318000316619873, 1.639299988746643, 2.0388998985290527, 1.5913000106811523, 1.3530000448226929, 1.7021000385284424, 1.6770000457763672, 1.4498000144958496, 1.617400050163269, 2.0855000019073486, 1.9499000310897827, 1.9580999612808228, 1.2869000434875488, 1.5936000347137451, 1.454800009727478, 1.7161999940872192, 1.8350000381469727, 1.7466000318527222, 1.8734999895095825, 1.2750999927520752, 1.5568000078201294, 0.9904999732971191, 1.1045000553131104, 1.128999948501587, 0.7078999876976013, 1.4149999618530273, 1.0470999479293823, 0.36340001225471497, 0.8698999881744385, 0.9508000016212463, -0.06729999929666519, 0.8033000230789185, -0.040300000458955765, 0.6509000062942505, 0.1356000006198883, -0.19840000569820404, 0.2651999890804291, 0.3467000126838684, 0.4108000099658966, -0.40070000290870667, 2.4911999702453613, 2.470099925994873, 2.470099925994873, 2.467600107192993, 2.4646999835968018, 2.4632999897003174, 2.450900077819824, 2.4505999088287354, 2.450200080871582, 2.4484000205993652, 2.4456000328063965, 2.4437999725341797, 2.4437999725341797, 2.4437999725341797, 2.440999984741211, 2.4391000270843506, 2.436500072479248, 2.4254000186920166, 2.4233999252319336, 2.410099983215332, 2.407099962234497, 2.4052999019622803, 2.4042999744415283, 2.401099920272827, 2.399399995803833, 2.398900032043457, 2.3984999656677246, 2.396699905395508, 2.396699905395508, 2.396399974822998, 2.3945000171661377, 2.3929998874664307, 2.2960000038146973, 2.373800039291382, 2.3066000938415527, 2.3341000080108643, 2.2746999263763428, 2.235100030899048, 2.0009000301361084, 2.260499954223633, 2.0411999225616455, 2.0350000858306885, 2.0624001026153564, 1.5887000560760498, 2.0251998901367188, 1.8723000288009644, 1.6582000255584717, 2.2028000354766846, 1.305899977684021, 1.7826000452041626, 1.0679999589920044, 1.308899998664856, 1.8453999757766724, 1.8944000005722046, 1.5951999425888062, 2.110100030899048, 0.9480000138282776, 1.5556999444961548, 1.0966999530792236, 0.9276999831199646, 1.2559000253677368, 0.6064000129699707, 0.1940000057220459, 1.6282000541687012, 1.1548000574111938, 0.8137000203132629, 1.1394000053405762, 0.38940000534057617, 0.9581999778747559, -0.15129999816417694, -0.03460000082850456, 0.35530000925064087, 0.635200023651123, 0.20970000326633453, 0.7311000227928162, -1.038100004196167, 0.8195000290870667, -0.5981000065803528, 0.09470000118017197, 0.6470000147819519, -0.5972999930381775, -0.10520000010728836, -1.0169999599456787, 2.5601000785827637, 2.555999994277954, 2.5406999588012695, 2.52239990234375, 2.5125999450683594, 2.510699987411499, 2.5072999000549316, 2.5072999000549316, 2.506700038909912, 2.501699924468994, 2.497299909591675, 2.496299982070923, 2.493299961090088, 2.4899001121520996, 2.4867000579833984, 2.4763998985290527, 2.4732000827789307, 2.463200092315674, 2.4579999446868896, 2.4509999752044678, 2.450200080871582, 2.4498000144958496, 2.447999954223633, 2.4472999572753906, 2.446700096130371, 2.44569993019104, 2.442500114440918, 2.437700033187866, 2.435699939727783, 2.430999994277954, 2.3447999954223633, 2.1979000568389893, 2.0339999198913574, 2.262700080871582, 2.129199981689453, 2.3336000442504883, 1.896299958229065, 1.7563999891281128, 1.9608999490737915, 2.2592999935150146, 1.813099980354309, 1.4293999671936035, 1.2682000398635864, 1.7021000385284424, 1.5555000305175781, 1.7165000438690186, 1.583899974822998, 1.3609000444412231, 1.8176000118255615, 2.049499988555908, 2.2709999084472656, 1.3526999950408936, 1.6139999628067017, 2.101300001144409, 1.3238999843597412, 1.4565999507904053, 0.7921000123023987, 1.4648000001907349, 1.5233999490737915, 1.1236000061035156, 1.2973999977111816, 1.1225999593734741, 0.4875999987125397, 1.4708000421524048, 1.0981999635696411, 0.34540000557899475, 0.7646999955177307, 0.17829999327659607, 1.0163999795913696, 0.9994000196456909, -0.5960000157356262, 0.5047000050544739, -0.3221000134944916, 0.12620000541210175, -0.15459999442100525, -0.20589999854564667, 0.5615000128746033, -0.31520000100135803, 2.58489990234375, 2.571000099182129, 2.566999912261963, 2.5664000511169434, 2.5629000663757324, 2.5569000244140625, 2.5541000366210938, 2.5297999382019043, 2.5292999744415283, 2.5285000801086426, 2.5239999294281006, 2.5237998962402344, 2.5237998962402344, 2.5236001014709473, 2.519399881362915, 2.498300075531006, 2.4893999099731445, 2.4842000007629395, 2.4797000885009766, 2.474299907684326, 2.470900058746338, 2.4665000438690186, 2.463900089263916, 2.462599992752075, 2.460700035095215, 2.460599899291992, 2.460099935531616, 2.4593000411987305, 2.458899974822998, 2.4558000564575195, 2.4553000926971436, 2.447700023651123, 2.2960000038146973, 2.112499952316284, 2.454400062561035, 2.4540998935699463, 2.388700008392334, 2.0141000747680664, 2.1282999515533447, 2.3132998943328857, 1.86080002784729, 1.9276000261306763, 2.115600109100342, 1.6105999946594238, 2.0443999767303467, 1.8061000108718872, 1.7655999660491943, 1.8233000040054321, 1.5966999530792236, 1.8675999641418457, 2.1677000522613525, 1.2174999713897705, 1.6450999975204468, 1.9982000589370728, 1.3559000492095947, 1.3492000102996826, 1.5733000040054321, 1.3617000579833984, 1.3015999794006348, 0.8766999840736389, 0.6438999772071838, 1.416700005531311, 0.6365000009536743, 0.4205000102519989, 0.9628000259399414, 1.307800054550171, 0.17239999771118164, 0.7354000210762024, 1.2513999938964844, 0.01119999960064888, 0.571399986743927, 0.46639999747276306, 0.46540001034736633, 0.6241000294685364, 0.6711999773979187, -0.18140000104904175, 0.5989999771118164, -0.932200014591217, 2.708699941635132, 2.7007999420166016, 2.696500062942505, 2.685699939727783, 2.6826999187469482, 2.680000066757202, 2.677999973297119, 2.674999952316284, 2.6730000972747803, 2.6728999614715576, 2.6679000854492188, 2.6577999591827393, 2.6475000381469727, 2.6440000534057617, 2.638000011444092, 2.634999990463257, 2.6342999935150146, 2.626800060272217, 2.6240999698638916, 2.624000072479248, 2.6238999366760254, 2.623800039291382, 2.623300075531006, 2.623199939727783, 2.6226000785827637, 2.6214001178741455, 2.621299982070923, 2.6201000213623047, 2.6191999912261963, 2.6182000637054443, 2.607599973678589, 2.6159000396728516, 2.507699966430664, 2.6136999130249023, 2.131500005722046, 2.47979998588562, 2.549499988555908, 2.553999900817871, 2.418299913406372, 2.561300039291382, 2.370300054550171, 2.064300060272217, 2.244800090789795, 1.857100009918213, 1.9833999872207642, 2.051500082015991, 2.313199996948242, 2.0817999839782715, 2.0590999126434326, 2.0427000522613525, 1.6692999601364136, 1.6261999607086182, 1.2240999937057495, 2.2560999393463135, 0.49470001459121704, 0.7010999917984009, 1.610700011253357, 0.8849999904632568, 1.5898000001907349, 1.9256999492645264, 1.4330999851226807, 1.872499942779541, 0.6238999962806702, -0.13359999656677246, 0.6809999942779541, 1.5120999813079834, 0.9786999821662903, 0.5848000049591064, 0.7232000231742859, 0.23819999396800995, 0.9955999851226807, 0.01140000019222498, 1.0305999517440796, -0.08169999718666077, 0.9433000087738037, 0.2558000087738037, 0.9598000049591064, 0.02590000070631504, 0.5853000283241272, -0.19750000536441803, -0.5030999779701233, 0.01600000075995922, 0.26510000228881836, -0.30160000920295715, 0.3183000087738037, 0.39500001072883606, 0.04830000177025795, -0.1476999968290329, 0.07280000299215317, 2.7339999675750732, 2.7279999256134033, 2.7260000705718994, 2.7186999320983887, 2.7016000747680664, 2.6984000205993652, 2.697000026702881, 2.696899890899658, 2.6967999935150146, 2.6953001022338867, 2.692699909210205, 2.6926000118255615, 2.6916000843048096, 2.6914000511169434, 2.689500093460083, 2.6774001121520996, 2.672499895095825, 2.6594998836517334, 2.655400037765503, 2.6549999713897705, 2.653899908065796, 2.650899887084961, 2.647599935531616, 2.6473000049591064, 2.641700029373169, 2.639699935913086, 2.6386001110076904, 2.6368000507354736, 2.6359000205993652, 2.6359000205993652, 2.608599901199341, 2.628499984741211, 2.6335999965667725, 2.590100049972534, 2.5896999835968018, 2.600399971008301, 2.155100107192993, 2.330399990081787, 2.4340999126434326, 2.559999942779541, 2.3171000480651855, 1.8198000192642212, 2.441699981689453, 1.7359000444412231, 1.8782000541687012, 1.9005000591278076, 1.7443000078201294, 1.3619999885559082, 1.6728999614715576, 2.2311999797821045, 1.6576000452041626, 1.4701999425888062, 1.9492000341415405, 2.0165998935699463, 0.45669999718666077, 0.9871000051498413, 1.9952000379562378, 1.909999966621399, 0.8754000067710876, 1.1862000226974487, 0.7455999851226807, 0.2354000061750412, 0.6679999828338623, 1.9539999961853027, 1.3381999731063843, 1.3797999620437622, 0.3910999894142151, 0.986299991607666, 1.6655000448226929, 1.353600025177002, -0.17069999873638153, 0.4043999910354614, -0.19910000264644623, -0.18950000405311584, 0.60589998960495, -0.4156999886035919, -0.03200000151991844, 0.6395999789237976, 0.12700000405311584, 0.09459999948740005, 0.13230000436306, -0.705299973487854, -0.17520000040531158, -0.06319999694824219, 2.778899908065796, 2.7727999687194824, 2.7581000328063965, 2.7258999347686768, 2.7227001190185547, 2.7174999713897705, 2.713900089263916, 2.71370005607605, 2.71370005607605, 2.713399887084961, 2.7132999897003174, 2.713200092315674, 2.713099956512451, 2.7128000259399414, 2.7128000259399414, 2.7128000259399414, 2.7126998901367188, 2.7084999084472656, 2.7047998905181885, 2.7012999057769775, 2.7012999057769775, 2.694000005722046, 2.6928999423980713, 2.68179988861084, 2.678299903869629, 2.6763999462127686, 2.671799898147583, 2.670799970626831, 2.6621999740600586, 2.660399913787842, 2.6554999351501465, 2.529400110244751, 2.5820000171661377, 2.492000102996826, 2.539799928665161, 2.580899953842163, 1.764799952507019, 2.319000005722046, 2.5385000705718994, 2.5169999599456787, 2.211899995803833, 1.8600000143051147, 2.060800075531006, 1.8099000453948975, 0.8439000248908997, 1.8184000253677368, 1.7654999494552612, 2.300800085067749, 1.623900055885315, 1.8809000253677368, 2.5694000720977783, 2.2562999725341797, 0.8319000005722046, 0.875, 1.9528000354766846, 1.4158999919891357, 0.5246000289916992, 1.601099967956543, 1.5228999853134155, 1.1490000486373901, 0.46810001134872437, 0.4918000102043152, 0.8988000154495239, 1.080399990081787, 0.9635999798774719, 1.117900013923645, -0.08259999752044678, 0.5386000275611877, 0.3393999934196472, 0.3172999918460846, -0.32269999384880066, 0.2822999954223633, 0.3260999917984009, 0.17720000445842743, -1.180799961090088, -0.27959999442100525, -0.09380000084638596, 0.3499999940395355, -0.4307999908924103, -0.13199999928474426, 2.7876999378204346, 2.7762999534606934, 2.7565999031066895, 2.75, 2.744499921798706, 2.742500066757202, 2.7407000064849854, 2.740299940109253, 2.73799991607666, 2.736599922180176, 2.7218000888824463, 2.714900016784668, 2.7126998901367188, 2.709199905395508, 2.706199884414673, 2.6989998817443848, 2.696899890899658, 2.689500093460083, 2.6893999576568604, 2.689199924468994, 2.6870999336242676, 2.686800003051758, 2.685800075531006, 2.683300018310547, 2.6821000576019287, 2.6805999279022217, 2.676800012588501, 2.675600051879883, 2.6735000610351562, 2.668100118637085, 2.648099899291992, 2.6517999172210693, 2.5506999492645264, 2.5404999256134033, 2.4047000408172607, 2.4296000003814697, 2.4860999584198, 2.343100070953369, 2.263200044631958, 2.4052000045776367, 2.468899965286255, 2.3017001152038574, 2.34060001373291, 2.1442999839782715, 1.8588000535964966, 1.9404000043869019, 2.2660999298095703, 2.3290998935699463, 2.469599962234497, 1.957800030708313, 2.029099941253662, 2.063199996948242, 2.0336999893188477, 1.7767000198364258, 1.3414000272750854, 2.203399896621704, 2.185499906539917, 1.4651000499725342, 2.0769999027252197, 2.103100061416626, 1.9172999858856201, 1.7137999534606934, 1.1145999431610107, 2.171999931335449, 1.233299970626831, 0.39649999141693115, 0.027400000020861626, 1.3428000211715698, 0.1859000027179718, 0.03500000014901161, 0.7822999954223633, -0.36079999804496765, -0.7354000210762024, 0.34860000014305115, 0.08669999986886978, 0.022600000724196434, -1.5264999866485596, 0.09300000220537186, 2.8775999546051025, 2.8689000606536865, 2.868799924850464, 2.8603999614715576, 2.851599931716919, 2.8512001037597656, 2.8487000465393066, 2.8397998809814453, 2.8373000621795654, 2.8357999324798584, 2.8264999389648438, 2.8222999572753906, 2.8076999187469482, 2.8052000999450684, 2.8050999641418457, 2.8046998977661133, 2.8041999340057373, 2.803299903869629, 2.8008999824523926, 2.8006999492645264, 2.7990000247955322, 2.797300100326538, 2.796299934387207, 2.796099901199341, 2.795300006866455, 2.7950000762939453, 2.791800022125244, 2.7911999225616455, 2.791100025177002, 2.790299892425537, 2.7888998985290527, 2.765399932861328, 2.779400110244751, 2.693700075149536, 2.7358999252319336, 2.765199899673462, 2.555799961090088, 2.74399995803833, 2.658400058746338, 2.688499927520752, 2.145699977874756, 2.7448999881744385, 1.9469000101089478, 2.5, 2.5787999629974365, 2.3471999168395996, 2.227799892425537, 2.2160000801086426, 1.8974000215530396, 1.4670000076293945, 1.9305000305175781, 1.9580999612808228, 1.7419999837875366, 1.4163999557495117, 2.278899908065796, 2.1665000915527344, 1.7418999671936035, 1.8916000127792358, 2.1263999938964844, 1.6398999691009521, 1.9530999660491943, 0.9871000051498413, 1.3212000131607056, 1.1907000541687012, 0.05820000171661377, 1.2058000564575195, 0.7329000234603882, 1.8568999767303467, 1.6363999843597412, 0.30070000886917114, 1.7152999639511108, 0.47999998927116394, 0.6435999870300293, 0.3594000041484833, 1.0906000137329102, 0.0803999975323677, -0.012000000104308128, 0.21439999341964722, -0.3018999993801117, 0.524399995803833, 0.9071999788284302, 0.2964000105857849, -0.4336000084877014, -0.779699981212616, 0.07259999960660934, 0.2621999979019165, 0.6913999915122986, 0.2612000107765198, 2.9133999347686768, 2.908799886703491, 2.9058001041412354, 2.905100107192993, 2.8970999717712402, 2.8905999660491943, 2.8805999755859375, 2.8770999908447266, 2.8740999698638916, 2.87280011177063, 2.871000051498413, 2.862600088119507, 2.8613998889923096, 2.85509991645813, 2.8550000190734863, 2.8545000553131104, 2.853100061416626, 2.8529000282287598, 2.852799892425537, 2.849900007247925, 2.8487000465393066, 2.8459999561309814, 2.8457000255584717, 2.8452999591827393, 2.8452000617980957, 2.840399980545044, 2.8340001106262207, 2.8322999477386475, 2.8271000385284424, 2.824899911880493, 2.821500062942505, 2.8059000968933105, 2.7885000705718994, 2.7455999851226807, 2.7916998863220215, 2.7118000984191895, 2.780100107192993, 2.5510001182556152, 2.801100015640259, 2.7669999599456787, 2.3598999977111816, 2.669100046157837, 2.691999912261963, 2.5495998859405518, 2.2107999324798584, 2.3722000122070312, 2.496500015258789, 2.4260001182556152, 2.6528000831604004, 1.1648999452590942, 1.26010000705719, 1.4605000019073486, 1.4952000379562378, 1.5579999685287476, 1.8767000436782837, 2.0631000995635986, 2.4546000957489014, 1.6620999574661255, 1.3645000457763672, 1.7968000173568726, 0.7497000098228455, 1.5942000150680542, 1.5996999740600586, 1.9782999753952026, 1.3180999755859375, -0.02239999920129776, 1.480299949645996, 0.7253999710083008, 0.8601999878883362, 1.25, 1.0521999597549438, 1.0698000192642212, 0.15889999270439148, 0.40209999680519104, 0.3871000111103058, -0.09730000048875809, -0.3010999858379364, -0.15060000121593475, 0.5722000002861023, -0.7544999718666077, 0.9146000146865845, -0.5259000062942505, -0.2915000021457672, 0.4553999900817871, -0.4406999945640564, 2.965100049972534, 2.953399896621704, 2.940200090408325, 2.932499885559082, 2.9321000576019287, 2.9277000427246094, 2.924799919128418, 2.9230000972747803, 2.9042000770568848, 2.9005000591278076, 2.887500047683716, 2.8857998847961426, 2.884200096130371, 2.883500099182129, 2.8815999031066895, 2.88100004196167, 2.874000072479248, 2.873500108718872, 2.8726000785827637, 2.871799945831299, 2.8682000637054443, 2.865999937057495, 2.865299940109253, 2.864300012588501, 2.861799955368042, 2.850600004196167, 2.84879994392395, 2.84689998626709, 2.8461999893188477, 2.8403000831604004, 2.824899911880493, 2.829699993133545, 2.840100049972534, 2.8097000122070312, 2.671099901199341, 2.8296000957489014, 2.716099977493286, 2.6182000637054443, 2.532900094985962, 2.6612000465393066, 2.317199945449829, 2.6522998809814453, 2.6268999576568604, 2.3445000648498535, 2.6117000579833984, 1.9399000406265259, 1.9677000045776367, 2.115600109100342, 2.5490000247955322, 2.6977999210357666, 1.9033000469207764, 1.1347999572753906, 1.6055999994277954, 1.510699987411499, 1.8327000141143799, 1.2527999877929688, 1.5963000059127808, 1.5666999816894531, 0.6615999937057495, 2.2265000343322754, 1.316100001335144, 1.2972999811172485, 2.083400011062622, 1.007099986076355, 0.3474999964237213, 1.3172999620437622, 1.5887999534606934, 0.22110000252723694, 1.6691999435424805, 0.5764999985694885, 0.9351999759674072, 0.29179999232292175, -0.49720001220703125, 0.25200000405311584, 0.9797999858856201, -0.5419999957084656, 1.0891000032424927, 1.305799961090088, 0.4431000053882599, -0.3239000141620636, 0.19949999451637268, -0.33239999413490295, 2.9489998817443848, 2.9453999996185303, 2.928299903869629, 2.928299903869629, 2.9256999492645264, 2.9219000339508057, 2.9196999073028564, 2.9137001037597656, 2.907599925994873, 2.8922998905181885, 2.8838999271392822, 2.883500099182129, 2.88319993019104, 2.877500057220459, 2.8742001056671143, 2.8733999729156494, 2.873199939727783, 2.8666000366210938, 2.865499973297119, 2.8642001152038574, 2.8622000217437744, 2.861799955368042, 2.8550000190734863, 2.851099967956543, 2.849900007247925, 2.848599910736084, 2.8417999744415283, 2.8392999172210693, 2.8366000652313232, 2.829699993133545, 2.8257999420166016, 2.783600091934204, 2.797800064086914, 2.811300039291382, 2.654900074005127, 2.709700107574463, 2.767400026321411, 2.678100109100342, 2.5037999153137207, 2.710900068283081, 2.4321000576019287, 2.609299898147583, 2.5673000812530518, 2.3835999965667725, 2.5288000106811523, 2.5713999271392822, 2.5141000747680664, 1.3805999755859375, 2.550600051879883, 1.7894999980926514, 1.086899995803833, 2.322000026702881, 1.3379000425338745, 1.833299994468689, 2.2383999824523926, 1.5645999908447266, 2.261899948120117, 1.1298999786376953, 0.7811999917030334, 2.2880001068115234, 1.7288000583648682, 1.5511000156402588, 1.586899995803833, 1.5758999586105347, 1.3516000509262085, 0.1656000018119812, -0.13619999587535858, 0.6978999972343445, 1.2725000381469727, 0.8611000180244446, 0.7983999848365784, 1.0384000539779663, -0.5267999768257141, 0.7314000129699707, -0.16840000450611115, 0.8883000016212463, 0.5633999705314636, 0.9386000037193298, 0.6376000046730042, 0.30329999327659607, 0.10920000076293945, -0.36329999566078186, 0.04340000078082085, -0.2897000014781952, 0.6247000098228455, 0.1565999984741211, -0.14839999377727509, 2.98799991607666, 2.984999895095825, 2.984299898147583, 2.956399917602539, 2.948499917984009, 2.9472999572753906, 2.9361000061035156, 2.9358999729156494, 2.9337000846862793, 2.9289000034332275, 2.928800106048584, 2.92549991607666, 2.9240000247955322, 2.9235999584198, 2.92330002784729, 2.9230000972747803, 2.920300006866455, 2.9198999404907227, 2.9189999103546143, 2.913800001144409, 2.907599925994873, 2.9047000408172607, 2.8993000984191895, 2.8915998935699463, 2.8838000297546387, 2.8721001148223877, 2.8696999549865723, 2.8671998977661133, 2.861999988555908, 2.8613998889923096, 2.8601999282836914, 2.8208999633789062, 2.8276000022888184, 2.8010001182556152, 2.8169000148773193, 2.54010009765625, 2.769399881362915, 2.355600118637085, 2.665600061416626, 2.8173999786376953, 2.1577999591827393, 2.715100049972534, 2.327199935913086, 2.7750000953674316, 2.5322000980377197, 2.40910005569458, 2.5104000568389893, 2.455199956893921, 1.7802000045776367, 2.65310001373291, 1.450600028038025, 2.5471999645233154, 1.9098000526428223, 2.3032000064849854, 2.5701000690460205, 2.0978000164031982, 2.2211999893188477, 0.1655000001192093, 1.9345999956130981, 2.2644999027252197, 1.082800030708313, 2.310699939727783, 0.5723000168800354, -0.02759999968111515, 0.887499988079071, 0.37040001153945923, 0.08649999648332596, 1.5440000295639038, -0.4535999894142151, -0.03880000114440918, 0.4880000054836273, -0.13590000569820404, 0.1168999969959259, 0.5418999791145325, 0.3418999910354614, 0.7918999791145325, -0.38830000162124634, 0.02419999986886978, 0.20260000228881836, -0.21660000085830688, 0.019200000911951065, -0.6481000185012817, 0.3440000116825104, 0.05050000175833702, -0.792900025844574, -1.0055999755859375, 3.0604000091552734, 3.032900094985962, 3.031899929046631, 3.030100107192993, 2.9869000911712646, 2.9827001094818115, 2.981300115585327, 2.9804999828338623, 2.970599889755249, 2.962100028991699, 2.9616000652313232, 2.953000068664551, 2.94569993019104, 2.9456000328063965, 2.942199945449829, 2.940200090408325, 2.934499979019165, 2.9326000213623047, 2.9267001152038574, 2.922800064086914, 2.919600009918213, 2.9177000522613525, 2.9159998893737793, 2.9137001037597656, 2.9114999771118164, 2.9012999534606934, 2.8903000354766846, 2.8884999752044678, 2.885499954223633, 2.876300096511841, 2.8698999881744385, 2.774199962615967, 2.794300079345703, 2.691200017929077, 2.8417999744415283, 2.7446000576019287, 2.795300006866455, 2.621799945831299, 2.7876999378204346, 2.263700008392334, 2.1800999641418457, 2.450900077819824, 2.7423999309539795, 2.3208999633789062, 2.4066998958587646, 1.485700011253357, 2.3861000537872314, 2.6064999103546143, 1.069200038909912, 1.5866999626159668, 1.7173999547958374, 2.2771999835968018, 2.1928000450134277, 0.7293999791145325, 1.6109999418258667, 1.9922000169754028, 0.23649999499320984, 0.5586000084877014, 0.7663999795913696, 1.6644999980926514, 1.9627000093460083, 0.4986000061035156, 0.4884999990463257, 0.02969999983906746, 1.149899959564209, 0.6779000163078308, 0.6295999884605408, 0.4372999966144562, -0.017400000244379044, 0.677299976348877, 0.28859999775886536, 0.7415000200271606, 0.4666000008583069, -0.3095000088214874, 0.3874000012874603, 0.31540000438690186, 0.10379999876022339, 0.314300000667572, -0.12099999934434891, -0.569100022315979, 0.28349998593330383, 0.13910000026226044]}, \"token.table\": {\"Topic\": [2, 4, 5, 7, 10, 12, 13, 14, 6, 5, 11, 1, 2, 3, 4, 5, 6, 7, 10, 11, 12, 13, 10, 10, 12, 7, 13, 1, 2, 3, 4, 5, 6, 7, 8, 9, 10, 11, 13, 14, 15, 1, 2, 3, 4, 5, 6, 7, 8, 9, 10, 11, 12, 13, 14, 15, 2, 9, 11, 15, 4, 1, 2, 3, 4, 5, 6, 7, 8, 9, 10, 11, 12, 13, 14, 15, 1, 9, 15, 1, 2, 3, 4, 5, 6, 7, 8, 9, 10, 11, 12, 13, 14, 15, 13, 1, 2, 3, 4, 5, 6, 7, 8, 9, 10, 11, 12, 13, 14, 15, 2, 13, 4, 12, 4, 11, 12, 13, 14, 1, 2, 3, 4, 5, 6, 7, 8, 9, 10, 11, 12, 13, 15, 1, 3, 4, 5, 6, 7, 9, 10, 12, 13, 14, 15, 12, 5, 15, 1, 2, 4, 5, 7, 8, 9, 11, 12, 14, 15, 1, 3, 5, 6, 9, 10, 15, 13, 1, 2, 3, 4, 5, 6, 7, 8, 9, 10, 11, 12, 13, 15, 1, 2, 3, 4, 5, 6, 7, 8, 9, 12, 14, 15, 5, 9, 1, 5, 6, 9, 10, 10, 3, 4, 5, 6, 7, 9, 10, 13, 14, 15, 12, 9, 15, 1, 2, 3, 6, 7, 9, 10, 13, 14, 1, 2, 3, 6, 7, 9, 10, 13, 15, 1, 2, 3, 4, 5, 6, 7, 8, 9, 10, 11, 12, 13, 14, 15, 1, 2, 4, 5, 6, 7, 9, 11, 13, 14, 15, 1, 2, 3, 4, 5, 6, 7, 8, 9, 10, 11, 12, 14, 15, 10, 4, 14, 3, 5, 8, 9, 14, 7, 11, 6, 13, 1, 2, 3, 4, 5, 6, 8, 10, 11, 12, 15, 13, 1, 3, 5, 6, 7, 10, 12, 13, 15, 13, 1, 2, 4, 6, 7, 13, 2, 3, 10, 11, 12, 2, 1, 2, 3, 4, 5, 6, 7, 8, 9, 10, 11, 12, 13, 14, 15, 8, 2, 3, 4, 5, 6, 7, 8, 9, 10, 11, 12, 14, 15, 10, 1, 2, 3, 6, 8, 10, 11, 13, 15, 4, 6, 3, 3, 4, 7, 9, 12, 1, 2, 3, 4, 6, 7, 8, 9, 11, 13, 15, 5, 1, 3, 4, 5, 6, 7, 8, 9, 11, 13, 14, 1, 7, 7, 8, 12, 9, 15, 1, 3, 4, 5, 6, 7, 8, 9, 11, 12, 13, 14, 15, 7, 9, 2, 3, 4, 5, 6, 8, 9, 10, 12, 14, 15, 1, 2, 3, 4, 5, 6, 7, 8, 9, 10, 11, 12, 13, 14, 15, 10, 11, 13, 3, 11, 1, 2, 1, 2, 5, 6, 7, 8, 9, 10, 14, 15, 7, 10, 14, 1, 2, 3, 4, 5, 6, 7, 8, 9, 10, 11, 12, 13, 14, 15, 8, 4, 6, 10, 11, 13, 15, 10, 14, 8, 14, 2, 3, 5, 6, 14, 1, 2, 3, 4, 5, 6, 7, 8, 10, 11, 13, 14, 15, 5, 1, 2, 3, 7, 8, 10, 11, 12, 13, 14, 2, 1, 2, 3, 4, 6, 7, 8, 11, 13, 14, 15, 1, 2, 3, 5, 6, 7, 8, 9, 10, 11, 13, 14, 15, 1, 2, 3, 4, 5, 6, 7, 8, 9, 10, 11, 12, 13, 14, 15, 11, 2, 6, 10, 2, 1, 2, 3, 4, 6, 7, 9, 10, 11, 12, 13, 14, 15, 1, 2, 13, 6, 1, 2, 3, 4, 5, 6, 7, 8, 9, 10, 11, 12, 13, 14, 15, 2, 1, 2, 3, 4, 5, 6, 7, 8, 9, 10, 11, 12, 13, 14, 15, 5, 1, 4, 5, 6, 7, 8, 9, 11, 13, 1, 1, 5, 6, 9, 10, 12, 13, 15, 1, 2, 3, 4, 5, 6, 7, 8, 9, 11, 12, 13, 14, 15, 15, 12, 1, 2, 3, 5, 6, 8, 10, 11, 12, 13, 14, 15, 3, 4, 5, 6, 8, 11, 14, 1, 2, 3, 4, 5, 6, 7, 8, 9, 10, 11, 12, 13, 14, 15, 2, 3, 4, 5, 6, 8, 9, 10, 11, 13, 14, 15, 9, 5, 8, 1, 2, 3, 4, 5, 6, 7, 8, 9, 10, 11, 12, 13, 14, 15, 1, 2, 3, 4, 5, 7, 9, 10, 11, 13, 1, 10, 11, 7, 11, 1, 2, 3, 4, 6, 7, 8, 9, 10, 11, 13, 14, 15, 1, 1, 10, 11, 1, 2, 3, 6, 7, 8, 9, 10, 14, 2, 1, 2, 3, 6, 7, 8, 9, 10, 11, 12, 13, 14, 15, 1, 2, 3, 6, 7, 10, 11, 13, 14, 4, 1, 2, 3, 4, 6, 9, 12, 14, 15, 8, 12, 2, 3, 4, 5, 7, 9, 12, 13, 14, 7, 15, 1, 2, 3, 4, 5, 6, 7, 8, 9, 10, 11, 12, 13, 14, 15, 1, 2, 4, 5, 6, 7, 8, 9, 10, 12, 13, 14, 15, 1, 2, 3, 4, 5, 6, 7, 8, 9, 10, 11, 12, 13, 14, 15, 14, 3, 7, 9, 13, 8, 4, 5, 1, 3, 4, 5, 6, 7, 8, 9, 10, 11, 14, 15, 1, 2, 3, 4, 5, 6, 7, 8, 9, 10, 11, 12, 13, 14, 15, 12, 1, 6, 12, 3, 2, 4, 8, 12, 15, 1, 3, 4, 5, 7, 8, 10, 12, 14, 1, 2, 3, 4, 5, 6, 7, 8, 9, 11, 12, 13, 14, 15, 5, 9, 1, 2, 3, 4, 5, 6, 7, 8, 9, 10, 11, 12, 13, 14, 15, 4, 5, 6, 7, 10, 3, 1, 2, 3, 4, 5, 6, 7, 8, 9, 11, 12, 13, 14, 15, 2, 3, 4, 8, 9, 10, 12, 13, 14, 4, 13, 3, 13, 14, 1, 2, 6, 10, 3, 6, 7, 9, 10, 12, 1, 2, 3, 4, 5, 6, 7, 8, 9, 11, 12, 13, 1, 2, 3, 5, 6, 7, 9, 10, 13, 14, 15, 3, 5, 8, 9, 13, 14, 9, 9, 4, 1, 2, 3, 4, 5, 6, 7, 8, 9, 10, 11, 12, 13, 15, 1, 4, 5, 6, 8, 10, 11, 12, 14, 15, 10, 5, 6, 15, 2, 11, 8, 1, 11, 14, 1, 2, 4, 5, 7, 9, 11, 12, 13, 14, 15, 5, 1, 2, 3, 4, 5, 6, 7, 8, 9, 10, 11, 12, 13, 14, 15, 11, 15, 1, 14, 12, 1, 11, 10, 1, 14, 9, 1, 2, 3, 4, 5, 6, 7, 8, 10, 11, 14, 1, 2, 3, 4, 5, 6, 7, 9, 10, 11, 12, 13, 14, 15, 2, 13, 14, 1, 2, 3, 5, 7, 9, 10, 11, 12, 13, 14, 12, 2, 4, 5, 6, 7, 10, 12, 13, 14, 9, 1, 2, 3, 5, 6, 7, 8, 10, 11, 12, 13, 14, 15, 2, 7, 1, 12, 15, 1, 14, 9, 2, 3, 4, 8, 1, 12, 4, 6, 10, 12, 13, 14, 15, 1, 5, 15, 1, 2, 3, 4, 5, 6, 7, 8, 9, 10, 11, 12, 13, 14, 15, 3, 15, 1, 2, 3, 4, 5, 6, 7, 8, 9, 10, 12, 14, 15, 2, 3, 5, 11, 12, 1, 3, 4, 9, 12, 1, 2, 3, 4, 6, 7, 8, 9, 10, 11, 12, 13, 14, 15, 7, 8, 14, 1, 2, 3, 4, 6, 7, 8, 9, 11, 12, 13, 14, 15, 1, 1, 2, 3, 4, 6, 7, 8, 9, 10, 11, 12, 14, 15, 9, 3, 7, 1, 15, 1, 7, 8, 13, 6, 5, 7, 1, 2, 3, 4, 5, 6, 7, 8, 9, 10, 11, 13, 14, 15, 8, 1, 2, 3, 4, 5, 6, 7, 8, 9, 10, 11, 12, 13, 14, 15, 2, 3, 4, 9, 10, 11, 1, 1, 2, 4, 5, 6, 7, 8, 9, 12, 13, 14, 15, 1, 2, 3, 9, 10, 15, 5, 10, 2, 6, 5, 6, 15, 15, 4, 7, 9, 13, 11, 1, 2, 3, 4, 5, 6, 7, 8, 9, 11, 12, 14, 15, 1, 15, 1, 2, 3, 4, 5, 6, 7, 8, 9, 10, 11, 12, 13, 14, 15, 15, 5, 14, 3, 1, 3, 4, 5, 6, 7, 8, 9, 10, 11, 12, 13, 14, 15, 3, 13, 15, 10, 1, 2, 3, 4, 5, 7, 8, 9, 10, 11, 12, 13, 14, 4, 10, 13, 2, 1, 2, 3, 6, 7, 8, 9, 10, 11, 13, 15, 1, 3, 8, 11, 6, 8, 6, 1, 2, 3, 4, 5, 6, 8, 9, 10, 11, 12, 13, 14, 15, 1, 2, 3, 4, 5, 6, 7, 8, 9, 10, 11, 12, 13, 14, 15, 10, 1, 14, 8, 2, 3, 4, 5, 7, 8, 10, 11, 12, 13, 14, 15, 6, 10, 14, 1, 2, 3, 6, 7, 9, 11, 13, 15, 1, 1, 1, 2, 3, 4, 5, 6, 7, 8, 9, 10, 11, 12, 14, 15, 1, 2, 3, 4, 5, 7, 8, 9, 10, 12, 15, 4, 5, 6, 7, 8, 15, 1, 5, 10, 6, 15, 6, 15, 13, 15, 3, 4, 6, 8, 9, 12, 15, 10, 3, 13, 5, 1, 2, 3, 4, 5, 6, 7, 8, 9, 10, 11, 12, 13, 14, 15, 1, 5, 5, 6, 12, 15, 1, 5, 6, 7, 8, 1, 3, 5, 6, 8, 9, 10, 1, 2, 3, 5, 6, 8, 9, 10, 12, 13, 14, 13, 7, 15, 12, 7, 9, 10, 12, 1, 2, 3, 4, 5, 6, 8, 9, 10, 12, 13, 14, 15, 2, 6, 7, 11, 14, 15, 14, 1, 2, 3, 4, 5, 6, 7, 8, 9, 10, 11, 12, 13, 14, 15, 1, 2, 3, 6, 7, 8, 9, 10, 11, 15, 2, 4, 5, 10, 14, 15, 12, 12, 6, 13, 1, 2, 3, 4, 5, 6, 7, 9, 10, 11, 13, 15, 3, 5, 6, 7, 8, 15, 14, 13, 9, 1, 2, 3, 4, 5, 6, 9, 10, 11, 12, 13, 14, 15, 7, 11, 14, 1, 2, 3, 4, 5, 6, 7, 8, 9, 10, 11, 12, 13, 14, 15, 1, 2, 3, 4, 5, 6, 7, 8, 9, 10, 14, 15, 3, 1, 2, 6, 7, 9, 10, 11, 13, 15, 8, 4, 6, 7, 7, 1, 10, 14, 7, 13, 1, 2, 3, 4, 5, 6, 7, 8, 9, 10, 11, 12, 13, 14, 15, 1, 4, 5, 7, 8, 11, 15, 2, 3, 4, 6, 7, 9, 14, 15, 2, 6, 9, 12, 14, 5, 12, 13, 14, 1, 2, 3, 4, 5, 6, 7, 8, 9, 12, 14, 15, 2, 4, 6, 7, 9, 3, 2, 3, 4, 5, 6, 7, 9, 11, 12, 13, 14, 2, 5, 12, 13, 15, 8, 1, 2, 3, 4, 5, 6, 7, 8, 9, 10, 11, 12, 13, 14, 15, 1, 2, 3, 4, 5, 6, 7, 8, 9, 10, 12, 13, 14, 2, 3, 4, 6, 7, 14, 1, 2, 6, 9, 10, 12, 13, 14, 15, 14, 1, 2, 4, 5, 6, 7, 8, 10, 11, 12, 13, 14, 15, 1, 2, 4, 5, 6, 7, 10, 11, 12, 2, 4, 7, 12, 15, 5, 7, 4, 6, 2, 1, 2, 3, 4, 5, 6, 7, 8, 9, 10, 11, 12, 13, 14, 15, 2, 8, 1, 2, 3, 4, 7, 8, 9, 10, 11, 13, 14, 15, 1, 2, 3, 4, 6, 7, 8, 9, 11, 12, 13, 14, 15, 1, 2, 3, 4, 5, 6, 7, 8, 9, 10, 11, 12, 13, 14, 15, 13, 1, 3, 4, 5, 6, 7, 8, 9, 13, 14, 15, 4, 12, 4, 12, 13, 4, 12, 15, 1, 4, 5, 6, 7, 8, 10, 11, 12, 13, 14, 15, 9, 2, 5, 6, 7, 9, 12, 14, 12, 2, 5, 1, 2, 3, 4, 5, 6, 7, 8, 9, 10, 11, 12, 13, 14, 15, 6, 12, 13, 4, 5, 7, 8, 9, 10, 13, 14, 15, 1, 2, 3, 4, 5, 6, 7, 8, 9, 10, 11, 12, 13, 14, 15, 1, 2, 3, 5, 9, 10, 11, 12, 13, 1, 2, 3, 4, 5, 6, 7, 8, 9, 10, 11, 12, 13, 14, 15, 9, 5, 6, 2, 10, 6, 9, 14, 1, 2, 3, 4, 5, 6, 7, 8, 9, 10, 13, 8, 1, 2, 3, 4, 5, 6, 7, 8, 9, 10, 11, 12, 13, 14, 15, 1, 2, 3, 4, 5, 6, 7, 8, 9, 10, 11, 12, 13, 14, 15, 1, 2, 3, 4, 5, 6, 7, 8, 9, 10, 11, 12, 13, 14, 15, 2, 4, 5, 6, 9, 14, 4, 6, 7, 12, 13, 15, 7, 3, 12, 1, 2, 3, 4, 5, 6, 7, 9, 10, 11, 12, 13, 14, 15, 4, 5, 13, 5, 1, 7, 13, 4, 5, 15, 10, 11, 2, 1, 3, 6, 7, 8, 10, 13, 14, 2, 15, 14, 1, 2, 3, 4, 5, 6, 7, 8, 9, 10, 11, 12, 13, 14, 15, 1, 2, 3, 4, 5, 6, 7, 8, 9, 10, 11, 12, 13, 14, 15, 6, 1, 10, 13, 15, 8, 5, 11, 1, 4, 9, 11, 12, 13, 14, 4, 14, 4, 5, 8, 9, 10, 12, 15, 8, 3, 4, 5, 6, 7, 10, 12, 14, 15, 1, 3, 13, 7, 3, 7, 2, 12, 12, 14, 10, 13, 11, 13, 10, 1, 2, 3, 4, 5, 6, 7, 8, 9, 10, 11, 12, 13, 14, 15, 1, 3, 4, 5, 6, 7, 8, 10, 12, 14, 15, 7, 5, 3, 1, 2, 3, 4, 5, 6, 7, 8, 9, 10, 11, 12, 13, 14, 15, 1, 4, 5, 9, 12, 11, 13, 14, 3, 5, 1, 2, 3, 4, 5, 7, 8, 10, 11, 12, 13, 14, 15, 5, 13, 7, 12, 1, 2, 3, 4, 6, 11, 12, 15, 11, 9, 12, 13, 12, 1, 2, 3, 4, 5, 6, 7, 8, 9, 10, 11, 14, 15, 1, 3, 6, 7, 9, 14, 3, 14, 1, 2, 3, 4, 5, 6, 7, 8, 9, 10, 11, 13, 14, 15, 4, 7, 5, 1, 2, 3, 4, 5, 6, 7, 8, 9, 10, 11, 12, 13, 14, 15, 1, 2, 3, 4, 5, 6, 7, 8, 10, 12, 13, 14, 15, 1, 2, 3, 4, 5, 6, 7, 8, 9, 10, 11, 12, 13, 14, 15, 1, 6, 7, 9, 10, 11, 14, 15, 1, 2, 3, 4, 5, 6, 7, 8, 9, 10, 11, 12, 13, 15, 2, 3, 6, 11, 12, 13, 15, 8, 10, 14, 1, 2, 3, 5, 6, 7, 8, 11, 12, 13, 1, 2, 3, 5, 6, 7, 8, 9, 10, 12, 1, 2, 3, 4, 6, 7, 9, 10, 12, 13, 14, 15, 1, 2, 3, 7, 8, 11, 2, 6, 1, 2, 3, 4, 7, 8, 10, 11, 5, 1, 2, 3, 4, 5, 6, 7, 8, 9, 10, 11, 13, 14, 15, 5, 4, 12, 1, 2, 6, 7, 13, 14, 15, 12, 7, 3, 6, 7, 9, 10, 15, 1, 2, 3, 4, 5, 6, 7, 8, 9, 10, 11, 12, 13, 14, 15, 2, 1, 2, 3, 4, 7, 8, 9, 10, 11, 12, 15, 1, 2, 3, 4, 5, 6, 7, 8, 9, 10, 11, 12, 13, 14, 15, 1, 6, 11, 2, 6, 1, 2, 3, 4, 5, 6, 7, 8, 9, 10, 11, 12, 13, 14, 15, 1, 3, 4, 6, 8, 9, 10, 11, 12, 13, 14, 15, 9, 15, 1, 2, 3, 4, 5, 7, 8, 9, 11, 13, 14, 3, 3, 5, 7, 8, 9, 10, 2, 1, 1, 2, 3, 4, 5, 6, 7, 8, 9, 10, 11, 12, 13, 14, 15, 1, 3, 7, 11, 12, 14, 4, 7, 1, 2, 3, 4, 5, 6, 7, 8, 9, 10, 11, 12, 13, 14, 15, 1, 13, 1, 2, 3, 4, 6, 7, 8, 9, 10, 11, 12, 14, 15, 1, 3, 4, 5, 7, 8, 9, 10, 12, 1, 2, 3, 4, 5, 6, 7, 8, 9, 10, 11, 12, 13, 14, 15, 1, 2, 3, 4, 5, 6, 7, 8, 9, 10, 11, 12, 13, 14, 15, 2, 3, 4, 5, 6, 7, 8, 9, 10, 11, 12, 13, 14, 15, 1, 2, 3, 4, 5, 6, 7, 8, 9, 10, 11, 12, 13, 14, 15, 4, 1, 2, 3, 4, 5, 6, 7, 9, 10, 11, 12, 13, 14, 15, 1, 2, 3, 4, 5, 6, 7, 8, 9, 10, 11, 12, 13, 14, 15, 4, 1, 3, 3, 10, 15, 15, 1, 2, 3, 4, 5, 6, 7, 8, 9, 10, 11, 12, 13, 14, 15, 6, 9, 15, 9, 11, 5, 1, 2, 3, 4, 5, 6, 7, 8, 9, 11, 12, 13, 14, 15, 3, 1, 6, 8, 10, 13, 3, 7, 8, 10, 11, 13, 8, 9, 9, 11, 7, 10, 9, 1, 3, 4, 6, 7, 9, 10, 11, 15, 1, 2, 4, 5, 6, 7, 9, 10, 11, 13, 14, 15, 1, 4, 15, 1, 2, 3, 4, 5, 6, 7, 8, 9, 10, 13, 14, 15, 13, 3, 11, 12, 7, 8, 15, 1, 2, 3, 4, 5, 6, 7, 8, 9, 10, 11, 12, 13, 14, 15, 1, 1, 2, 3, 4, 5, 6, 7, 8, 10, 11, 13, 14, 3, 1, 2, 3, 4, 5, 6, 7, 8, 9, 10, 11, 12, 13, 14, 15, 1, 2, 3, 4, 5, 6, 7, 8, 9, 10, 12, 13, 14, 15, 6, 14, 1, 2, 4, 7, 12, 4, 4, 1, 2, 3, 4, 7, 8, 9, 10, 11, 13, 15, 8, 8, 1, 2, 3, 4, 5, 6, 7, 8, 9, 10, 11, 12, 13, 14, 15, 3, 12, 1, 2, 3, 4, 5, 6, 7, 8, 9, 10, 11, 12, 13, 14, 15, 1, 1, 3, 6, 7, 14, 10, 1, 3, 4, 8, 9, 10, 11, 12, 6, 4, 9, 1, 2, 3, 4, 6, 7, 8, 9, 10, 11, 15, 8, 3, 7, 13, 3, 8, 1, 3, 4, 6, 7, 8, 9, 10, 11, 12, 13, 3, 5, 12, 14, 1, 2, 3, 4, 5, 6, 7, 8, 9, 10, 11, 12, 13, 14, 15, 1, 3, 4, 5, 6, 7, 8, 9, 11, 12, 13, 14, 15, 1, 2, 3, 4, 5, 6, 7, 8, 9, 10, 11, 12, 13, 14, 15, 2, 4, 5, 6, 7, 8, 9, 12, 14, 1, 2, 3, 4, 5, 6, 7, 8, 9, 10, 11, 12, 13, 14, 15, 5, 7, 12, 4, 6, 1, 3, 4, 6, 7, 8, 11, 2, 3, 12, 1, 2, 3, 6, 7, 8, 10, 11, 13, 14, 15, 1, 2, 7, 10, 13, 1, 2, 4, 5, 6, 8, 9, 10, 14, 15, 1, 2, 3, 7, 9, 13, 14, 15, 7, 3, 10, 11, 14, 1, 2, 3, 4, 5, 7, 8, 9, 10, 11, 12, 13, 15, 3, 8, 1, 2, 6, 7, 8, 9, 10, 12, 13, 14, 1, 2, 3, 5, 7, 8, 11, 13, 1, 3, 4, 6, 9, 10, 11, 12, 14, 9, 10, 14, 1, 5, 6, 9, 10, 11, 12, 13, 15, 8, 1, 3, 5, 6, 7, 9, 10, 11, 12, 14, 15, 1, 2, 3, 4, 5, 6, 7, 9, 10, 11, 12, 13, 14, 13, 5, 7, 13, 15, 1, 2, 3, 4, 5, 6, 7, 8, 9, 10, 11, 12, 13, 14, 15, 1, 2, 9, 4, 8, 11, 13, 2, 3, 5, 6, 8, 13, 15, 2, 14, 2, 3, 11, 13, 15, 6, 3, 5, 8, 12, 14, 1, 2, 3, 4, 5, 6, 7, 8, 9, 10, 11, 12, 13, 14, 15, 1, 2, 3, 4, 5, 6, 7, 9, 10, 11, 12, 13, 14, 15, 5, 3, 4, 5, 9, 10, 12, 13, 4, 7, 4, 6, 10, 14, 15, 1, 6, 10, 4, 8, 2, 5, 11, 15, 14, 6, 10, 3, 3, 3, 4, 11, 12, 13, 8, 4, 1, 2, 3, 4, 5, 6, 7, 8, 9, 10, 11, 12, 13, 14, 15, 1, 3, 4, 6, 8, 9, 10, 11, 12, 14, 1, 2, 3, 4, 5, 6, 7, 8, 9, 10, 11, 12, 13, 14, 15, 1, 2, 7, 9, 10, 11, 12, 13, 14, 15, 1, 2, 3, 4, 5, 6, 7, 8, 9, 10, 11, 12, 13, 14, 15, 1, 2, 3, 4, 5, 6, 7, 8, 9, 10, 11, 12, 13, 14, 15, 6, 2, 11, 12, 14, 15, 1, 2, 3, 4, 5, 6, 7, 8, 9, 10, 11, 12, 13, 14, 15, 5, 7, 7, 15, 4, 5, 1, 2, 3, 4, 5, 6, 7, 8, 9, 10, 11, 12, 13, 14, 15, 15, 2, 12, 1, 2, 4, 8, 11, 13, 14, 1, 3, 5, 7, 9, 12, 5, 4, 6, 7, 9, 14, 1, 5, 12, 6, 11, 9, 4, 5, 6, 7, 1, 4, 5, 6, 7, 9, 10, 12, 13, 7, 15, 2, 12, 6, 1, 2, 3, 4, 5, 6, 7, 8, 9, 10, 11, 12, 13, 14, 15, 13, 1, 2, 3, 4, 5, 6, 7, 8, 9, 10, 11, 12, 13, 14, 15, 2, 4, 6, 7, 8, 9, 11, 13, 14, 1, 2, 5, 11, 14, 13, 5, 8, 1, 2, 3, 5, 6, 7, 8, 9, 10, 11, 12, 13, 14, 15, 2, 14, 1, 1, 7, 2, 14, 15, 13, 6, 13, 15, 1, 2, 3, 4, 5, 6, 7, 8, 9, 10, 11, 12, 13, 14, 15, 2, 5, 13, 15, 6, 8, 1, 2, 6, 7, 8, 9, 10, 11, 12, 13, 14, 15, 1, 2, 3, 5, 6, 8, 10, 11, 15, 1, 2, 3, 4, 5, 6, 7, 8, 9, 10, 11, 12, 13, 14, 15, 15, 1, 10, 7, 1, 2, 3, 4, 5, 6, 7, 8, 9, 10, 11, 12, 13, 14, 15, 5, 13, 14, 7, 3, 6, 4, 13, 14, 4, 13, 1, 2, 3, 6, 9, 10, 12, 14, 2, 11, 1, 2, 3, 4, 5, 6, 7, 8, 9, 10, 11, 12, 13, 15, 8, 11, 1, 2, 3, 4, 5, 6, 7, 8, 9, 10, 11, 15, 8, 5, 9, 10, 2, 3, 9, 15, 8, 7, 10, 1, 2, 3, 9, 11, 15, 13, 14, 3, 6, 4, 5, 7, 12, 14, 15, 4, 5, 7, 1, 2, 3, 4, 5, 6, 7, 8, 9, 10, 11, 12, 13, 14, 15, 1, 3, 4, 7, 8, 10, 13, 15, 8, 10, 10, 4, 12, 14, 4, 10, 12, 6, 9, 10, 12, 5, 8, 9, 13, 1, 2, 3, 4, 5, 6, 7, 8, 9, 10, 11, 12, 13, 14, 15, 9, 1, 2, 3, 4, 6, 7, 8, 9, 12, 14, 1, 1, 5, 6, 2, 5, 6, 10, 11, 12, 13, 14, 15, 3, 4, 13, 4, 1, 2, 3, 4, 5, 6, 7, 8, 9, 10, 11, 12, 13, 14, 15, 2, 10, 5, 13, 11, 12, 14, 1, 5, 1, 2, 3, 6, 7, 15, 11, 14, 1, 15, 1, 13, 2, 6, 1, 2, 3, 4, 6, 9, 12, 11, 1, 2, 3, 4, 5, 6, 7, 8, 9, 10, 11, 12, 13, 14, 15, 9, 4, 8, 11, 1, 2, 3, 4, 5, 6, 8, 9, 11, 12, 13, 14, 3, 6, 15, 3, 6, 7, 14, 3, 7, 3, 15, 1, 4, 11, 1, 2, 3, 4, 5, 6, 7, 8, 9, 10, 11, 12, 13, 14, 15, 1, 2, 5, 6, 7, 8, 9, 13, 14, 10, 10, 12, 14, 13, 9, 5, 11, 13, 2, 3, 4, 6, 7, 14, 11, 4, 7, 8, 11, 13, 10, 15, 2, 4, 5, 7, 11, 14, 15, 4, 11, 1, 6, 8, 9, 11, 12, 1, 2, 6, 8, 9, 13, 15, 1, 2, 3, 4, 6, 7, 8, 9, 10, 11, 12, 13, 14, 15, 9, 1, 2, 3, 4, 6, 8, 11, 12, 2, 7, 14, 4, 1, 2, 3, 7, 11, 14, 2, 3, 7, 12, 13, 14, 15, 8, 12, 1, 2, 3, 5, 6, 7, 10, 11, 13, 14, 15, 4, 6, 15, 14, 11, 5, 6, 14, 2, 3, 3, 6, 13, 1, 2, 3, 4, 5, 6, 7, 8, 9, 10, 11, 12, 13, 14, 15, 2, 1, 2, 3, 4, 5, 6, 7, 8, 9, 10, 11, 12, 13, 14, 15, 12, 1, 2, 3, 4, 5, 6, 7, 8, 9, 10, 11, 12, 13, 14, 15, 8, 6, 11, 10, 15, 10, 3, 10, 2, 1, 4, 6, 13, 15, 8, 15, 1, 2, 3, 4, 5, 9, 10, 14, 13, 1, 5, 6, 12, 1, 2, 3, 4, 5, 6, 7, 8, 9, 10, 11, 12, 13, 15, 6, 1, 2, 3, 5, 7, 8, 13, 14, 15, 7, 1, 2, 3, 5, 7, 8, 10, 12, 13, 14, 1, 2, 3, 5, 6, 10, 11, 13, 14, 15, 1, 2, 3, 4, 5, 6, 8, 9, 10, 11, 12, 13, 14, 15, 2, 5, 7, 8, 11, 12, 5, 9, 1, 14, 11, 1, 2, 3, 4, 5, 6, 7, 9, 10, 11, 13, 14, 15, 1, 8, 9, 10, 2, 13, 3, 4, 1, 2, 3, 4, 5, 6, 7, 8, 9, 10, 11, 12, 13, 14, 15, 6, 12, 15, 4, 6, 7, 9, 11, 8, 3, 2, 1, 3, 5, 6, 7, 8, 9, 14, 7, 10, 13, 15, 1, 2, 3, 4, 5, 6, 7, 8, 9, 10, 11, 12, 13, 14, 15, 1, 2, 3, 4, 6, 7, 9, 10, 11, 12, 13, 14, 15, 3, 5, 6, 8, 10, 13, 14, 15, 6, 13, 10, 4, 5, 6, 14, 13, 3, 10, 10, 1, 3, 4, 5, 6, 8, 9, 10, 11, 12, 14, 14, 15, 11, 3, 4, 9, 10, 1, 2, 3, 7, 10, 15, 1, 5, 1, 2, 3, 6, 8, 9, 10, 11, 12, 13, 14, 15, 9, 5, 9, 14, 1, 2, 3, 4, 5, 6, 7, 8, 9, 10, 11, 12, 13, 14, 15, 13, 1, 2, 3, 4, 5, 6, 7, 8, 9, 10, 11, 12, 13, 14, 15, 10, 11, 3, 1, 2, 3, 4, 5, 6, 7, 10, 11, 12, 14, 15, 1, 2, 3, 4, 5, 7, 10, 11, 12, 13, 15, 10, 6, 1, 2, 3, 5, 6, 8, 9, 10, 12, 13, 14, 15, 2, 4, 10, 1, 2, 3, 4, 6, 10, 11, 13, 14, 15, 2, 1, 2, 3, 4, 5, 6, 8, 9, 10, 11, 14, 15, 1, 3, 6, 8, 9, 13, 15, 14, 7, 9, 1, 2, 3, 4, 5, 7, 8, 9, 10, 12, 13, 14, 15, 2, 5, 1, 6, 8, 9, 10, 11, 14, 15, 7, 1, 2, 3, 4, 5, 6, 7, 8, 9, 10, 11, 12, 13, 14, 15, 1, 2, 3, 4, 5, 6, 7, 8, 9, 10, 11, 12, 13, 15, 3, 4, 5, 6, 7, 9, 10, 11, 12, 14, 15, 6, 1, 5, 6, 7, 9, 10, 1, 3, 4, 5, 6, 7, 8, 9, 10, 11, 12, 13, 14, 4, 8, 12, 13, 14, 1, 2, 3, 4, 5, 6, 7, 8, 9, 10, 11, 12, 13, 14, 15, 1, 2, 3, 4, 5, 6, 7, 8, 9, 10, 11, 12, 13, 14, 15, 1, 3, 4, 5, 7, 8, 9, 10, 13, 14, 15, 11, 1, 2, 3, 4, 5, 8, 9, 10, 11, 12, 12, 9, 1, 2, 3, 4, 5, 6, 7, 9, 10, 11, 12, 13, 14, 15, 5, 9, 10, 3, 9, 11, 7, 1, 2, 3, 4, 5, 6, 7, 8, 9, 10, 11, 12, 13, 14, 15, 1, 3, 4, 6, 9, 12, 13, 14, 1, 2, 3, 4, 6, 7, 8, 9, 10, 11, 12, 13, 14, 15, 1, 2, 3, 4, 5, 6, 7, 8, 9, 10, 11, 12, 13, 14, 15, 4, 8, 13, 8, 1, 2, 3, 4, 5, 6, 7, 8, 9, 10, 11, 12, 13, 14, 15, 13, 1, 10, 13, 1, 1, 3, 6, 12, 1, 2, 3, 4, 5, 6, 7, 8, 9, 10, 11, 12, 13, 14, 15, 1, 3, 4, 5, 6, 7, 9, 10, 12, 13, 14, 15, 14, 1, 7, 12, 1, 3, 4, 7, 8, 9, 10, 14, 1, 4, 5, 7, 8, 9, 10, 11, 12, 13, 15], \"Freq\": [0.7163083553314209, 0.016466859728097916, 0.057634007185697556, 0.04940057918429375, 0.04940057918429375, 0.04940057918429375, 0.04940057918429375, 0.805104672908783, 0.860459566116333, 0.7997716665267944, 0.8015695810317993, 0.05237547308206558, 0.005819497164338827, 0.011638994328677654, 0.3084333539009094, 0.19204340875148773, 0.06401447206735611, 0.0029097485821694136, 0.07274371385574341, 0.043646227568387985, 0.06983396410942078, 0.17458491027355194, 0.8949123024940491, 0.8592255711555481, 0.8186122179031372, 0.9332292079925537, 0.9383848309516907, 0.03182124346494675, 0.05303540453314781, 0.05480325222015381, 0.11314219981431961, 0.05480325222015381, 0.10607080906629562, 0.028285549953579903, 0.01237492822110653, 0.03182124346494675, 0.028285549953579903, 0.07248172163963318, 0.1184457391500473, 0.27401626110076904, 0.019446315243840218, 0.0030263138469308615, 0.04539470747113228, 0.06355258822441101, 0.3510524034500122, 0.0030263138469308615, 0.006052627693861723, 0.01815788261592388, 0.03631576523184776, 0.06960521638393402, 0.04539470747113228, 0.015131569467484951, 0.0574999637901783, 0.12710517644882202, 0.06960521638393402, 0.08776310086250305, 0.014514485374093056, 0.33383315801620483, 0.638637363910675, 0.8301488161087036, 0.8706202507019043, 0.08908871561288834, 0.0010998606448993087, 0.03739526495337486, 0.2221718579530716, 0.051693450659513474, 0.003299582051113248, 0.2364700436592102, 0.029696239158511162, 0.051693450659513474, 0.004399442579597235, 0.01869763247668743, 0.13418300449848175, 0.005499303340911865, 0.06489177793264389, 0.04949373006820679, 0.9291638731956482, 0.878443717956543, 0.9295060634613037, 0.12413999438285828, 0.0049002631567418575, 0.02940157800912857, 0.21561157703399658, 0.14374104142189026, 0.0049002631567418575, 0.0980052575469017, 0.008167104795575142, 0.009800526313483715, 0.044102367013692856, 0.009800526313483715, 0.06370341777801514, 0.03266841918230057, 0.11270605027675629, 0.0996386781334877, 0.8203359246253967, 0.17936642467975616, 0.022207271307706833, 0.04783104360103607, 0.2784450054168701, 0.03245678171515465, 0.0034165033139288425, 0.08028782904148102, 0.0034165033139288425, 0.05466405302286148, 0.008541258051991463, 0.0034165033139288425, 0.17936642467975616, 0.03928978741168976, 0.011957760900259018, 0.05295579880475998, 0.08450908958911896, 0.7605817914009094, 0.2009846717119217, 0.7034463286399841, 0.7471475005149841, 0.02850634977221489, 0.627139687538147, 0.11402539908885956, 0.22805079817771912, 0.1608361154794693, 0.010581323876976967, 0.059255413711071014, 0.3428348898887634, 0.004232529550790787, 0.06772047281265259, 0.09099938720464706, 0.008465059101581573, 0.008465059101581573, 0.033860236406326294, 0.016930118203163147, 0.1460222750902176, 0.0021162647753953934, 0.0486740879714489, 0.10523471236228943, 0.0640559121966362, 0.5124472975730896, 0.009150844067335129, 0.004575422033667564, 0.027452532202005386, 0.06863133609294891, 0.05032964423298836, 0.11896097660064697, 0.009150844067335129, 0.009150844067335129, 0.022877110168337822, 0.8464206457138062, 0.8282799124717712, 0.8515080809593201, 0.0030039052944630384, 0.0030039052944630384, 0.10213278234004974, 0.018023433163762093, 0.05407029762864113, 0.12015621364116669, 0.4986482858657837, 0.027035148814320564, 0.11114449799060822, 0.015019526705145836, 0.05106639117002487, 0.028411706909537315, 0.11364682763814926, 0.1325879693031311, 0.018941137939691544, 0.6439986824989319, 0.028411706909537315, 0.028411706909537315, 0.9448153972625732, 0.03761829808354378, 0.007919641211628914, 0.005939731374382973, 0.26332807540893555, 0.015839282423257828, 0.005939731374382973, 0.05741740018129349, 0.051477670669555664, 0.3445044159889221, 0.025738835334777832, 0.015839282423257828, 0.06731695681810379, 0.003959820605814457, 0.09503570199012756, 0.042722854763269424, 0.03417828306555748, 0.08544570952653885, 0.00854457076638937, 0.14525771141052246, 0.05126742646098137, 0.05126742646098137, 0.042722854763269424, 0.4784959554672241, 0.01708914153277874, 0.042722854763269424, 0.00854457076638937, 0.07559642195701599, 0.9071570038795471, 0.013903697952628136, 0.08342219144105911, 0.0973258912563324, 0.7368960380554199, 0.041711095720529556, 0.8835697770118713, 0.008372274227440357, 0.7535046339035034, 0.016744548454880714, 0.03348909690976143, 0.008372274227440357, 0.008372274227440357, 0.10883956402540207, 0.008372274227440357, 0.016744548454880714, 0.03348909690976143, 0.9408697485923767, 0.8794698715209961, 0.8219619989395142, 0.6118680834770203, 0.21635113656520844, 0.003380486508831382, 0.016902433708310127, 0.006760973017662764, 0.006760973017662764, 0.010141460224986076, 0.11831703037023544, 0.006760973017662764, 0.7680689096450806, 0.11099261790513992, 0.013319114223122597, 0.0044397045858204365, 0.017758818343281746, 0.0044397045858204365, 0.0044397045858204365, 0.062155865132808685, 0.008879409171640873, 0.10444127023220062, 0.01714707352221012, 0.08105889707803726, 0.19952958822250366, 0.07170594483613968, 0.06547065079212189, 0.04520592465996742, 0.03741179779171944, 0.08105889707803726, 0.049882397055625916, 0.09197067469358444, 0.06547065079212189, 0.032735325396060944, 0.05144122242927551, 0.007794124539941549, 0.0896272212266922, 0.0107552669942379, 0.0788719579577446, 0.4839870035648346, 0.0179254449903965, 0.1254781186580658, 0.0537763349711895, 0.0286807119846344, 0.0466061569750309, 0.0035850889980793, 0.0537763349711895, 0.06019541621208191, 0.004630416631698608, 0.24772728979587555, 0.053249791264534, 0.17827104032039642, 0.020836874842643738, 0.06945624947547913, 0.009260833263397217, 0.1111299991607666, 0.08103229105472565, 0.006945624947547913, 0.020836874842643738, 0.1088147908449173, 0.02778249979019165, 0.9501195549964905, 0.7747678160667419, 0.09684597700834274, 0.620491623878479, 0.11544030159711838, 0.08658022433519363, 0.028860075399279594, 0.12987034022808075, 0.10849996656179428, 0.8679997324943542, 0.8638371229171753, 0.10797964036464691, 0.004953102674335241, 0.029718616977334023, 0.1882179081439972, 0.024765513837337494, 0.06439033895730972, 0.0941089540719986, 0.1832648068666458, 0.029718616977334023, 0.07924964278936386, 0.059437233954668045, 0.23774893581867218, 0.7817034721374512, 0.07656510174274445, 0.12031657993793488, 0.010937871411442757, 0.08750297129154205, 0.40470123291015625, 0.04375148564577103, 0.054689355194568634, 0.10937871038913727, 0.08750297129154205, 0.9120609164237976, 0.01688838191330433, 0.675535261631012, 0.11821866780519485, 0.05066514387726784, 0.10133028775453568, 0.01688838191330433, 0.7355620861053467, 0.06490253657102585, 0.1298050731420517, 0.0216341782361269, 0.0216341782361269, 0.8447532057762146, 0.2652524709701538, 0.39271146059036255, 0.027558699250221252, 0.0034448374062776566, 0.0034448374062776566, 0.11367963254451752, 0.02066902443766594, 0.034448374062776566, 0.04133804887533188, 0.006889674812555313, 0.0034448374062776566, 0.06200707331299782, 0.0034448374062776566, 0.017224187031388283, 0.006889674812555313, 0.9418206214904785, 0.044242434203624725, 0.029494956135749817, 0.4030977487564087, 0.18680138885974884, 0.009831652045249939, 0.009831652045249939, 0.039326608180999756, 0.054074086248874664, 0.0049158260226249695, 0.054074086248874664, 0.14747478067874908, 0.014747478067874908, 0.009831652045249939, 0.8539471626281738, 0.7870925664901733, 0.1015603318810463, 0.0063475207425653934, 0.0063475207425653934, 0.0063475207425653934, 0.012695041485130787, 0.0063475207425653934, 0.038085125386714935, 0.03173760324716568, 0.8888096213340759, 0.8693864941596985, 0.9330543279647827, 0.0927732065320015, 0.061848804354667664, 0.12369760870933533, 0.6030258536338806, 0.10823541134595871, 0.15669292211532593, 0.016493991017341614, 0.5113137364387512, 0.02474098652601242, 0.03298798203468323, 0.06597596406936646, 0.07422295957803726, 0.03298798203468323, 0.041234977543354034, 0.008246995508670807, 0.02474098652601242, 0.8743942975997925, 0.0658300518989563, 0.4147293269634247, 0.09874507784843445, 0.009874507784843445, 0.0658300518989563, 0.08557906746864319, 0.12836860120296478, 0.049372538924217224, 0.003291502594947815, 0.036206528544425964, 0.04608103632926941, 0.9380364418029785, 0.7884013056755066, 0.8558760285377502, 0.09643252938985825, 0.8678928017616272, 0.16203929483890533, 0.7291768193244934, 0.06138579547405243, 0.5831650495529175, 0.013154098764061928, 0.019731147214770317, 0.017538798972964287, 0.002192349871620536, 0.12057923525571823, 0.019731147214770317, 0.028500547632575035, 0.004384699743241072, 0.026308197528123856, 0.0591934435069561, 0.04165464639663696, 0.06970952451229095, 0.8365142941474915, 0.08072002232074738, 0.08879202604293823, 0.44396013021469116, 0.016144003719091415, 0.08879202604293823, 0.09686402231454849, 0.008072001859545708, 0.008072001859545708, 0.1130080297589302, 0.03228800743818283, 0.024216005578637123, 0.044966503977775574, 0.007494417484849691, 0.2296016961336136, 0.045647814869880676, 0.11241625994443893, 0.05382354557514191, 0.16215194761753082, 0.0517796128988266, 0.04973568022251129, 0.04155995324254036, 0.04087864235043526, 0.02316456288099289, 0.0510983020067215, 0.023845873773097992, 0.06199927255511284, 0.14978967607021332, 0.14978967607021332, 0.6740534901618958, 0.925874650478363, 0.8377596735954285, 0.09770415723323822, 0.8793374300003052, 0.025130953639745712, 0.2136131078004837, 0.03769643232226372, 0.4020952582359314, 0.012565476819872856, 0.07539286464452744, 0.08795834332704544, 0.025130953639745712, 0.08795834332704544, 0.050261907279491425, 0.8515872359275818, 0.9298569560050964, 0.939236581325531, 0.19423414766788483, 0.08879275619983673, 0.022198189049959183, 0.002774773631244898, 0.12486480921506882, 0.019423414021730423, 0.07214411348104477, 0.005549547262489796, 0.005549547262489796, 0.05549547076225281, 0.09711707383394241, 0.038846828043460846, 0.038846828043460846, 0.016648640856146812, 0.22198188304901123, 0.8398160934448242, 0.022430559620261192, 0.5831945538520813, 0.08972223848104477, 0.044861119240522385, 0.17944447696208954, 0.06729167699813843, 0.1325245499610901, 0.7951472997665405, 0.8359156847000122, 0.8963696956634521, 0.024816051125526428, 0.22334446012973785, 0.09926420450210571, 0.049632102251052856, 0.5707691311836243, 0.12156189233064651, 0.09527824074029922, 0.12813280522823334, 0.013141825795173645, 0.009856369346380234, 0.09856369346380234, 0.02628365159034729, 0.30226200819015503, 0.016427282243967056, 0.02299819514155388, 0.062423672527074814, 0.04928184673190117, 0.05256730318069458, 0.7998353838920593, 0.253118097782135, 0.5484225153923035, 0.007031057961285114, 0.014062115922570229, 0.007031057961285114, 0.028124231845140457, 0.014062115922570229, 0.007031057961285114, 0.07734163850545883, 0.042186349630355835, 0.8720583915710449, 0.37587711215019226, 0.4698463976383209, 0.0031323092989623547, 0.0031323092989623547, 0.006264618597924709, 0.006264618597924709, 0.0031323092989623547, 0.0031323092989623547, 0.10336621105670929, 0.012529237195849419, 0.009396928362548351, 0.6931558847427368, 0.22801180183887482, 0.004560236353427172, 0.0009120472241193056, 0.010032519698143005, 0.006384330801665783, 0.002736141672357917, 0.0018240944482386112, 0.004560236353427172, 0.002736141672357917, 0.03283369913697243, 0.008208424784243107, 0.0036481888964772224, 0.43756040930747986, 0.12449418008327484, 0.03661593422293663, 0.02013876475393772, 0.0018307967111468315, 0.014036107808351517, 0.11778125911951065, 0.05431363731622696, 0.03234407678246498, 0.041498057544231415, 0.07323186844587326, 0.027461951598525047, 0.0024410623591393232, 0.009153983555734158, 0.006102655548602343, 0.8764782547950745, 0.9181693196296692, 0.17998331785202026, 0.7649291157722473, 0.903418242931366, 0.18382778763771057, 0.08753704279661179, 0.017507407814264297, 0.020425308495759964, 0.0029179013799875975, 0.005835802759975195, 0.0029179013799875975, 0.0029179013799875975, 0.005835802759975195, 0.0029179013799875975, 0.0029179013799875975, 0.5864981412887573, 0.07586543262004852, 0.02529391646385193, 0.8094053268432617, 0.15176349878311157, 0.8604816198348999, 0.08158992975950241, 0.1352277547121048, 0.024174794554710388, 0.029463030397892, 0.01813109591603279, 0.04381681606173515, 0.09065547585487366, 0.07101345807313919, 0.0642142966389656, 0.029463030397892, 0.043061353266239166, 0.08687816560268402, 0.01813109591603279, 0.19717566668987274, 0.06648068130016327, 0.9436671733856201, 0.3693874776363373, 0.06142623350024223, 0.06889699399471283, 0.028222864493727684, 0.00249025272205472, 0.0332033708691597, 0.00498050544410944, 0.05810589715838432, 0.25234559178352356, 0.028222864493727684, 0.0332033708691597, 0.006640673615038395, 0.024902526289224625, 0.0008300842018797994, 0.027392780408263206, 0.915010929107666, 0.04592939466238022, 0.02870587259531021, 0.04018821939826012, 0.05741174519062042, 0.017223523929715157, 0.10908231139183044, 0.4592939615249634, 0.08611761778593063, 0.14927053451538086, 0.9318903684616089, 0.05295417830348015, 0.5401325821876526, 0.08472668379545212, 0.06354501098394394, 0.010590835474431515, 0.14827169477939606, 0.04236334189772606, 0.04236334189772606, 0.013016798533499241, 0.0032541996333748102, 0.0032541996333748102, 0.052067194133996964, 0.026033597066998482, 0.03579619526863098, 0.09111759066581726, 0.052067194133996964, 0.013016798533499241, 0.26359015703201294, 0.02928779646754265, 0.0032541996333748102, 0.016270997002720833, 0.4002665579319, 0.7740532755851746, 0.878522515296936, 0.10485056787729263, 0.07231073826551437, 0.018077684566378593, 0.11208163946866989, 0.10485056787729263, 0.014462146908044815, 0.126543790102005, 0.24585649371147156, 0.021693220362067223, 0.07954180985689163, 0.06507965922355652, 0.03253982961177826, 0.013357440941035748, 0.04007232189178467, 0.1870041787624359, 0.04007232189178467, 0.04007232189178467, 0.5342976450920105, 0.13357441127300262, 0.04736410826444626, 0.03157607093453407, 0.04420650005340576, 0.015788035467267036, 0.27155423164367676, 0.058942001312971115, 0.025260858237743378, 0.0357862152159214, 0.010525357909500599, 0.214717298746109, 0.07894018292427063, 0.0052626789547502995, 0.0178931076079607, 0.05367932468652725, 0.08946553617715836, 0.0135657899081707, 0.0271315798163414, 0.010174342431128025, 0.07800329476594925, 0.1220921128988266, 0.11191777139902115, 0.0339144766330719, 0.15261514484882355, 0.22044408321380615, 0.1288750022649765, 0.04408881813287735, 0.0610460564494133, 0.9370129704475403, 0.9090994596481323, 0.8889150619506836, 0.09574171900749207, 0.013942969031631947, 0.04337812587618828, 0.15925969183444977, 0.13323281705379486, 0.01270359382033348, 0.03996984288096428, 0.043068282306194305, 0.060109689831733704, 0.05639156326651573, 0.029435157775878906, 0.1521332859992981, 0.05763093754649162, 0.02416781336069107, 0.07901015877723694, 0.5984956622123718, 0.07580944895744324, 0.03191976621747017, 0.003989970777183771, 0.015959883108735085, 0.06782950460910797, 0.015959883108735085, 0.003989970777183771, 0.003989970777183771, 0.18353866040706635, 0.9375842809677124, 0.927574872970581, 0.9229925870895386, 0.11209230870008469, 0.8967384696006775, 0.6703810691833496, 0.2721348702907562, 0.0066374363377690315, 0.0013274871744215488, 0.014602359384298325, 0.0013274871744215488, 0.0026549743488430977, 0.0013274871744215488, 0.0039824615232646465, 0.0013274871744215488, 0.011947385035455227, 0.00929241068661213, 0.0026549743488430977, 0.9356390237808228, 0.9064537882804871, 0.025179272517561913, 0.025179272517561913, 0.7321956157684326, 0.11331598460674286, 0.008716613985598087, 0.008716613985598087, 0.03486645594239235, 0.017433227971196175, 0.017433227971196175, 0.05229968577623367, 0.008716613985598087, 0.9416800141334534, 0.6370997428894043, 0.2535056471824646, 0.010006802156567574, 0.003335600718855858, 0.003335600718855858, 0.006671201437711716, 0.003335600718855858, 0.053369611501693726, 0.003335600718855858, 0.003335600718855858, 0.010006802156567574, 0.003335600718855858, 0.006671201437711716, 0.486989825963974, 0.4524787366390228, 0.0038345656357705593, 0.007669131271541119, 0.007669131271541119, 0.030676525086164474, 0.0038345656357705593, 0.0038345656357705593, 0.0038345656357705593, 0.7447360157966614, 0.054975979030132294, 0.027487989515066147, 0.018325326964259148, 0.16492794454097748, 0.09162663668394089, 0.5589224696159363, 0.018325326964259148, 0.027487989515066147, 0.036650653928518295, 0.8768026232719421, 0.8759093284606934, 0.02828304097056389, 0.014141520485281944, 0.07070760428905487, 0.5232362747192383, 0.07070760428905487, 0.014141520485281944, 0.2121228128671646, 0.07070760428905487, 0.8784171342849731, 0.7752473950386047, 0.15504948794841766, 0.10144703090190887, 0.3458421528339386, 0.034007810056209564, 0.016139300540089607, 0.0017292107222601771, 0.06398079544305801, 0.058793164789676666, 0.09453018754720688, 0.0599459744989872, 0.027090968564152718, 0.0149864936247468, 0.06282798945903778, 0.005764035973697901, 0.05187632143497467, 0.060522377490997314, 0.17337939143180847, 0.1195719987154007, 0.0478287972509861, 0.0478287972509861, 0.029892999678850174, 0.041850198060274124, 0.0717431977391243, 0.005978599656373262, 0.13750779628753662, 0.0478287972509861, 0.029892999678850174, 0.2152295857667923, 0.02391439862549305, 0.5204421281814575, 0.03797217085957527, 0.0022336570546031, 0.022336570546030998, 0.0089346282184124, 0.10051456838846207, 0.0357385128736496, 0.044673141092061996, 0.0089346282184124, 0.0357385128736496, 0.0022336570546031, 0.03797217085957527, 0.10944920033216476, 0.0089346282184124, 0.0178692564368248, 0.803601861000061, 0.21990017592906952, 0.14660011231899261, 0.058640047907829285, 0.5570804476737976, 0.8398189544677734, 0.729160726070404, 0.19444285333156586, 0.22279465198516846, 0.07298445701599121, 0.019206436350941658, 0.057619307190179825, 0.02304772287607193, 0.318826824426651, 0.034571584314107895, 0.026889009401202202, 0.04225415736436844, 0.13444505631923676, 0.034571584314107895, 0.011523861438035965, 0.1527133733034134, 0.012517489492893219, 0.08762242645025253, 0.05257345363497734, 0.021279731765389442, 0.04756645858287811, 0.05382520332932472, 0.0075104935094714165, 0.035048969089984894, 0.01001399103552103, 0.0075104935094714165, 0.02002798207104206, 0.03129372373223305, 0.400559663772583, 0.06133569777011871, 0.8569939732551575, 0.8572933673858643, 0.03297282010316849, 0.08243205398321152, 0.9007789492607117, 0.04508814215660095, 0.04508814215660095, 0.1803525686264038, 0.04508814215660095, 0.6312339901924133, 0.15765531361103058, 0.009273841977119446, 0.16692915558815002, 0.1391076296567917, 0.055643051862716675, 0.027821525931358337, 0.33385831117630005, 0.01854768395423889, 0.08346457779407501, 0.022004103288054466, 0.05867760628461838, 0.062344957143068314, 0.022004103288054466, 0.0036673503927886486, 0.0036673503927886486, 0.007334700785577297, 0.7444721460342407, 0.0036673503927886486, 0.0036673503927886486, 0.022004103288054466, 0.0036673503927886486, 0.025671452283859253, 0.01833675242960453, 0.07787717878818512, 0.8566489815711975, 0.010411067865788937, 0.013385658152401447, 0.017847545444965363, 0.0788266584277153, 0.0981614962220192, 0.029745908454060555, 0.3733111321926117, 0.019334839656949043, 0.06097911298274994, 0.07585206627845764, 0.020822135731577873, 0.10262338072061539, 0.014872954227030277, 0.0490807481110096, 0.034207794815301895, 0.5694452524185181, 0.020337330177426338, 0.040674660354852676, 0.24404796957969666, 0.12202398478984833, 0.9207684993743896, 0.1610969454050064, 0.002777533605694771, 0.03888547047972679, 0.1610969454050064, 0.016665201634168625, 0.08610354363918304, 0.12221147865056992, 0.027775336056947708, 0.022220268845558167, 0.07221587747335434, 0.18053968250751495, 0.005555067211389542, 0.07777094095945358, 0.027775336056947708, 0.03479784354567528, 0.16238993406295776, 0.22038634121418, 0.046397123485803604, 0.011599280871450901, 0.37117698788642883, 0.09279424697160721, 0.03479784354567528, 0.011599280871450901, 0.8279708623886108, 0.07527007907629013, 0.3100663423538208, 0.6545844674110413, 0.034451816231012344, 0.8752362728118896, 0.057080626487731934, 0.019026875495910645, 0.019026875495910645, 0.11319983005523682, 0.07546655088663101, 0.037733275443315506, 0.16979974508285522, 0.5093992352485657, 0.07546655088663101, 0.00550055643543601, 0.06600667536258698, 0.05500556528568268, 0.0742575153708458, 0.42904341220855713, 0.12101224064826965, 0.07700779289007187, 0.0632563978433609, 0.02200222574174404, 0.02750278264284134, 0.038503896445035934, 0.016501668840646744, 0.0036116386763751507, 0.02166983112692833, 0.11918407678604126, 0.13001899421215057, 0.03611638769507408, 0.5236876010894775, 0.014446554705500603, 0.01805819384753704, 0.0036116386763751507, 0.11196079850196838, 0.010834915563464165, 0.12350711971521378, 0.18526066839694977, 0.10292259603738785, 0.08233807981014252, 0.4734439551830292, 0.8498663902282715, 0.9357528686523438, 0.9144222736358643, 0.8471531271934509, 0.019689572975039482, 0.025747904554009438, 0.024233320727944374, 0.19538114964962006, 0.27565401792526245, 0.027262486517429352, 0.024233320727944374, 0.0015145825454965234, 0.018174991011619568, 0.031806234270334244, 0.051495809108018875, 0.2438477873802185, 0.03029165230691433, 0.028777068480849266, 0.009474420920014381, 0.6063629388809204, 0.08526978641748428, 0.004737210460007191, 0.004737210460007191, 0.05684652552008629, 0.009474420920014381, 0.12316747009754181, 0.018948841840028763, 0.07579536736011505, 0.8000020980834961, 0.09294616430997849, 0.836515486240387, 0.8770486116409302, 0.9098383784294128, 0.8950502872467041, 0.8399637937545776, 0.946095883846283, 0.936289370059967, 0.8872064352035522, 0.056693803519010544, 0.10307963937520981, 0.07730972766876221, 0.11854159086942673, 0.025769909843802452, 0.04638583958148956, 0.32470086216926575, 0.06700176745653152, 0.02061592787504196, 0.051539819687604904, 0.10307963937520981, 0.7467296123504639, 0.02155272662639618, 0.0242468174546957, 0.13470454514026642, 0.0781286358833313, 0.013470454141497612, 0.08082272112369537, 0.34484362602233887, 0.12931635975837708, 0.005388181656599045, 0.0026940908282995224, 0.0026940908282995224, 0.05657590553164482, 0.005388181656599045, 0.07274045050144196, 0.026940908282995224, 0.8152017593383789, 0.08152017742395401, 0.9358825087547302, 0.921011209487915, 0.8679861426353455, 0.9202194809913635, 0.800821840763092, 0.8487424850463867, 0.0983857661485672, 0.7870861291885376, 0.9136976599693298, 0.010997707024216652, 0.005498853512108326, 0.3739220201969147, 0.07148509472608566, 0.038491975516080856, 0.021995414048433304, 0.14846904575824738, 0.19795872271060944, 0.04399082809686661, 0.016496559605002403, 0.07148509472608566, 0.0351952388882637, 0.10949629545211792, 0.1016751304268837, 0.07821164280176163, 0.011731745675206184, 0.08212222158908844, 0.32066771388053894, 0.011731745675206184, 0.08994338661432266, 0.039105821400880814, 0.07821164280176163, 0.007821164093911648, 0.019552910700440407, 0.015642328187823296, 0.35210368037223816, 0.027084898203611374, 0.5687828660011292, 0.0036526829935610294, 0.06209561228752136, 0.029221463948488235, 0.0036526829935610294, 0.39448976516723633, 0.04017951339483261, 0.05479024350643158, 0.04017951339483261, 0.3287414610385895, 0.007305365987122059, 0.03287414833903313, 0.8908122777938843, 0.010629087686538696, 0.08503270149230957, 0.021258175373077393, 0.010629087686538696, 0.23383992910385132, 0.18069449067115784, 0.39327624440193176, 0.010629087686538696, 0.05314543843269348, 0.9431915283203125, 0.547574520111084, 0.15002042055130005, 0.018752552568912506, 0.0037505105137825012, 0.011251531541347504, 0.05250714719295502, 0.015002042055130005, 0.011251531541347504, 0.06375867873430252, 0.02625357359647751, 0.02625357359647751, 0.02625357359647751, 0.048756636679172516, 0.10698520392179489, 0.8558816313743591, 0.9378024339675903, 0.020387010648846626, 0.020387010648846626, 0.9581201076507568, 0.94843989610672, 0.8192639946937561, 0.9269103407859802, 0.1004972755908966, 0.12562158703804016, 0.7537295818328857, 0.9503282308578491, 0.785149097442627, 0.034038882702589035, 0.48789066076278687, 0.011346294544637203, 0.14750182628631592, 0.14750182628631592, 0.05673147365450859, 0.09077035635709763, 0.9507697820663452, 0.8834439516067505, 0.9544094204902649, 0.016850514337420464, 0.007777160499244928, 0.02203528769314289, 0.2812739610671997, 0.34867602586746216, 0.03499722108244896, 0.011665740981698036, 0.025923868641257286, 0.12702696025371552, 0.015554320998489857, 0.0012961934553459287, 0.019442901015281677, 0.04277438297867775, 0.02203528769314289, 0.02073909528553486, 0.9136972427368164, 0.8800708055496216, 0.1306949406862259, 0.017425991594791412, 0.004356497898697853, 0.017425991594791412, 0.15247742831707, 0.33109384775161743, 0.05227797478437424, 0.01306949369609356, 0.02613898739218712, 0.034851983189582825, 0.12198194116353989, 0.06099097058176994, 0.03920847922563553, 0.17466995120048523, 0.034933991730213165, 0.034933991730213165, 0.08733497560024261, 0.6637458205223083, 0.8528401255607605, 0.04373538866639137, 0.04373538866639137, 0.021867694333195686, 0.021867694333195686, 0.09235881268978119, 0.5113524198532104, 0.06307430565357208, 0.0067579615861177444, 0.042800422757864, 0.054063692688941956, 0.11713800579309464, 0.011263268999755383, 0.0067579615861177444, 0.01576857641339302, 0.022526537999510765, 0.0022526539396494627, 0.01576857641339302, 0.0360424630343914, 0.02705717645585537, 0.135285884141922, 0.811715304851532, 0.1424684077501297, 0.10122755169868469, 0.1837092638015747, 0.029993349686264992, 0.014996674843132496, 0.018745843321084976, 0.2436959594488144, 0.003749168710783124, 0.08623088151216507, 0.007498337421566248, 0.0674850344657898, 0.026244180276989937, 0.0749833732843399, 0.9582909941673279, 0.06299494206905365, 0.0984296053647995, 0.047246210277080536, 0.03543465584516525, 0.25985413789749146, 0.015748735517263412, 0.03543465584516525, 0.15748736262321472, 0.04330902546644211, 0.05512057617306709, 0.0708693116903305, 0.08268086612224579, 0.027560288086533546, 0.8179152607917786, 0.8542520999908447, 0.7894504070281982, 0.864363968372345, 0.10804549604654312, 0.04948028549551964, 0.09896057099103928, 0.7916845679283142, 0.02474014274775982, 0.9383510947227478, 0.06979992240667343, 0.9073989987373352, 0.05044146999716759, 0.036029621958732605, 0.2363543063402176, 0.01585303246974945, 0.0864710882306099, 0.0634121298789978, 0.19744232296943665, 0.07061805576086044, 0.04179435968399048, 0.061970945447683334, 0.03747080639004707, 0.09223582595586777, 0.0014411847805604339, 0.007205924019217491, 0.8658477663993835, 0.19342674314975739, 0.012399150058627129, 0.08927387744188309, 0.061995748430490494, 0.02975795976817608, 0.17606793344020844, 0.06695540994405746, 0.061995748430490494, 0.02975795976817608, 0.02975795976817608, 0.04711677134037018, 0.04711677134037018, 0.05207642912864685, 0.05207642912864685, 0.049596600234508514, 0.7269373536109924, 0.01773018017411232, 0.05319053679704666, 0.0886508971452713, 0.05319053679704666, 0.03546036034822464, 0.9499078392982483, 0.6298805475234985, 0.04887004569172859, 0.03801003471016884, 0.021720020100474358, 0.04887004569172859, 0.005430005025118589, 0.08145007491111755, 0.005430005025118589, 0.03258002921938896, 0.010860010050237179, 0.01629001460969448, 0.05973005294799805, 0.020373566076159477, 0.040747132152318954, 0.08149426430463791, 0.6927012205123901, 0.08149426430463791, 0.06112069636583328, 0.18311995267868042, 0.7324798107147217, 0.8398213386535645, 0.9043681621551514, 0.9090226888656616, 0.9373610615730286, 0.8791477084159851, 0.8194655776023865, 0.7100925445556641, 0.10144179314374924, 0.10144179314374924, 0.9393559098243713, 0.8235867619514465, 0.11142603307962418, 0.010365212336182594, 0.2772694230079651, 0.05182606354355812, 0.02073042467236519, 0.15547819435596466, 0.04923475906252861, 0.18139122426509857, 0.02591303177177906, 0.0025913030840456486, 0.062191274017095566, 0.02073042467236519, 0.031095637008547783, 0.08280709385871887, 0.7452638149261475, 0.2743125259876251, 0.09143750369548798, 0.20365625619888306, 0.004987500142306089, 0.03408125042915344, 0.12302500754594803, 0.06899375468492508, 0.06234375387430191, 0.009143750183284283, 0.018287500366568565, 0.008312500081956387, 0.02161250077188015, 0.024937501177191734, 0.04073125123977661, 0.01413125079125166, 0.7510054111480713, 0.9224011301994324, 0.0768667608499527, 0.9585679173469543, 0.00971201341599226, 0.17870105803012848, 0.01942402683198452, 0.07575370371341705, 0.005827208049595356, 0.11071695387363434, 0.062156885862350464, 0.027193637564778328, 0.07575370371341705, 0.2369731366634369, 0.05632967874407768, 0.0505024716258049, 0.06798409670591354, 0.021366430446505547, 0.159458190202713, 0.1913498193025589, 0.637832760810852, 0.859680712223053, 0.02042103372514248, 0.13477881252765656, 0.012252619490027428, 0.3144839107990265, 0.1429472267627716, 0.0939367488026619, 0.07351572066545486, 0.004084206651896238, 0.04084206745028496, 0.02042103372514248, 0.12252619862556458, 0.008168413303792477, 0.012252619490027428, 0.15012823045253754, 0.2251923382282257, 0.6005129218101501, 0.927174985408783, 0.7914798259735107, 0.16365183889865875, 0.00595097616314888, 0.00595097616314888, 0.00297548808157444, 0.00297548808157444, 0.00595097616314888, 0.00297548808157444, 0.00297548808157444, 0.00297548808157444, 0.01190195232629776, 0.8834412693977356, 0.05048235505819321, 0.22088921070098877, 0.7178899645805359, 0.9460328221321106, 0.8736870288848877, 0.7800024747848511, 0.06744443625211716, 0.014198828488588333, 0.0212982427328825, 0.014198828488588333, 0.1668362319469452, 0.09939180314540863, 0.04614619165658951, 0.031947363168001175, 0.03904677927494049, 0.24492979049682617, 0.09584209322929382, 0.08519297093153, 0.0212982427328825, 0.04614619165658951, 0.0009186417446471751, 0.19383341073989868, 0.028477894142270088, 0.10196923464536667, 0.13412170112133026, 0.05756821483373642, 0.030008964240550995, 0.008267776109278202, 0.017147978767752647, 0.07042919844388962, 0.045319657772779465, 0.060936570167541504, 0.19444583356380463, 0.03123381920158863, 0.025721969082951546, 0.9282790422439575, 0.9237874150276184, 0.03553028404712677, 0.9532065987586975, 0.0038536915089935064, 0.0192684568464756, 0.2736120820045471, 0.1464402675628662, 0.2389288693666458, 0.0500979870557785, 0.0385369136929512, 0.0192684568464756, 0.1079033613204956, 0.007707383017987013, 0.0346832238137722, 0.0539516806602478, 0.8793588280677795, 0.8573029637336731, 0.7858554720878601, 0.7999542355537415, 0.1422140896320343, 0.005925586912781, 0.005925586912781, 0.005925586912781, 0.005925586912781, 0.005925586912781, 0.005925586912781, 0.017776761204004288, 0.9375531673431396, 0.9539379477500916, 0.022120708599686623, 0.10322996973991394, 0.031952135264873505, 0.03440999239683151, 0.0909406915307045, 0.0909406915307045, 0.02703642100095749, 0.022120708599686623, 0.029494278132915497, 0.34655776619911194, 0.1548449546098709, 0.017204996198415756, 0.017204996198415756, 0.002457856433466077, 0.017086323350667953, 0.011390882544219494, 0.005695441272109747, 0.649280309677124, 0.12529970705509186, 0.005695441272109747, 0.017086323350667953, 0.045563530176877975, 0.10251794010400772, 0.005695441272109747, 0.017086323350667953, 0.3188275098800659, 0.5796863436698914, 0.057968635112047195, 0.014492158778011799, 0.014492158778011799, 0.014492158778011799, 0.027781780809164047, 0.33338138461112976, 0.6389809846878052, 0.24004361033439636, 0.7201308608055115, 0.16041897237300873, 0.7218853235244751, 0.7746126651763916, 0.11065895110368729, 0.021880123764276505, 0.04376024752855301, 0.04376024752855301, 0.08752049505710602, 0.24068136513233185, 0.021880123764276505, 0.5032428503036499, 0.8504094481468201, 0.8219514489173889, 0.8606281280517578, 0.9338851571083069, 0.0632898211479187, 0.408949613571167, 0.02596505545079708, 0.009736895561218262, 0.05679855868220329, 0.04706166312098503, 0.0843864306807518, 0.019473791122436523, 0.004868447780609131, 0.08763206005096436, 0.030833503231406212, 0.00811407994478941, 0.030833503231406212, 0.08276361227035522, 0.03732476755976677, 0.9302932024002075, 0.048962801694869995, 0.034474655985832214, 0.13789862394332886, 0.6894931197166443, 0.13789862394332886, 0.0633569285273552, 0.0633569285273552, 0.1583923101425171, 0.1267138570547104, 0.5702123045921326, 0.11128818243741989, 0.008560629561543465, 0.11128818243741989, 0.008560629561543465, 0.09416691958904266, 0.16265195608139038, 0.4793952405452728, 0.6824647784233093, 0.01186895277351141, 0.017803428694605827, 0.005934476386755705, 0.059344761073589325, 0.04747581109404564, 0.04747581109404564, 0.005934476386755705, 0.017803428694605827, 0.06527923792600632, 0.035606857389211655, 0.8768940567970276, 0.8910917043685913, 0.9162307977676392, 0.7850507497787476, 0.1767665445804596, 0.0441916361451149, 0.7070661783218384, 0.0441916361451149, 0.021528955549001694, 0.10226254165172577, 0.03229343518614769, 0.021528955549001694, 0.22067180275917053, 0.3121698796749115, 0.048440150916576385, 0.03229343518614769, 0.005382238887250423, 0.05920463055372238, 0.06996911019086838, 0.06458687037229538, 0.8763989210128784, 0.5936174988746643, 0.104143425822258, 0.16662947833538055, 0.010414342395961285, 0.08331473916769028, 0.04165736958384514, 0.9224107265472412, 0.3300367295742035, 0.21263235807418823, 0.011740436777472496, 0.023480873554944992, 0.016958408057689667, 0.07174711674451828, 0.016958408057689667, 0.041743773967027664, 0.03130783140659332, 0.028698844835162163, 0.0013044929364696145, 0.04043928161263466, 0.06261566281318665, 0.022176381200551987, 0.08609654009342194, 0.13668587803840637, 0.02070998027920723, 0.04970395192503929, 0.07041393220424652, 0.02070998027920723, 0.07869792729616165, 0.6088734269142151, 0.004141996148973703, 0.004141996148973703, 0.012425987981259823, 0.19383712112903595, 0.11630227416753769, 0.07753484696149826, 0.058151137083768845, 0.11630227416753769, 0.44582536816596985, 0.7858186364173889, 0.875653088092804, 0.15769563615322113, 0.7884781956672668, 0.23453660309314728, 0.03350523114204407, 0.39089435338974, 0.005584205035120249, 0.027921024709939957, 0.011168410070240498, 0.07259466499090195, 0.027921024709939957, 0.07817886769771576, 0.04467364028096199, 0.06701046228408813, 0.011168410070240498, 0.5965027809143066, 0.06278976052999496, 0.14127697050571442, 0.03139488026499748, 0.04709232226014137, 0.09418464452028275, 0.8978539705276489, 0.7840231657028198, 0.8640453219413757, 0.3169060945510864, 0.08106900006532669, 0.10072209686040878, 0.17196455597877502, 0.0024566364008933306, 0.16213800013065338, 0.01473981887102127, 0.04913272708654404, 0.0024566364008933306, 0.0024566364008933306, 0.019653091207146645, 0.031936272978782654, 0.046676091849803925, 0.8914370536804199, 0.8461980819702148, 0.07051650434732437, 0.06495163589715958, 0.05953900143504143, 0.036535296589136124, 0.06179426610469818, 0.04781162366271019, 0.051420047879219055, 0.021650545299053192, 0.03879056125879288, 0.37482506036758423, 0.07442375272512436, 0.037437401711940765, 0.011727378703653812, 0.008118954487144947, 0.037437401711940765, 0.07352164387702942, 0.06711604446172714, 0.04847269877791405, 0.03355802223086357, 0.007457338273525238, 0.03355802223086357, 0.003728669136762619, 0.007457338273525238, 0.022372014820575714, 0.257278174161911, 0.369138240814209, 0.04101536050438881, 0.11186007410287857, 0.8566537499427795, 0.0858045369386673, 0.01716090738773346, 0.04290226846933365, 0.0858045369386673, 0.00858045369386673, 0.07722408324480057, 0.5234076976776123, 0.06006317585706711, 0.0858045369386673, 0.8400919437408447, 0.8472642302513123, 0.9370042681694031, 0.9239602088928223, 0.9035938382148743, 0.9330488443374634, 0.8848324418067932, 0.8987904191017151, 0.8035303950309753, 0.17856231331825256, 0.003476829966530204, 0.003476829966530204, 0.15124210715293884, 0.10604331642389297, 0.0782286748290062, 0.06084452569484711, 0.16167259216308594, 0.09213599562644958, 0.013907319866120815, 0.06084452569484711, 0.04172195866703987, 0.008692075498402119, 0.01564573496580124, 0.13733477890491486, 0.06084452569484711, 0.0150127112865448, 0.07005932182073593, 0.0150127112865448, 0.07005932182073593, 0.0900762677192688, 0.300254225730896, 0.4353686273097992, 0.034227557480335236, 0.034227557480335236, 0.017113778740167618, 0.05134133622050285, 0.1882515698671341, 0.05134133622050285, 0.06845511496067047, 0.5305271148681641, 0.11376960575580597, 0.13905173540115356, 0.06320533156394958, 0.6194123029708862, 0.05056426674127579, 0.10671735554933548, 0.02667933888733387, 0.6136247515678406, 0.21343471109867096, 0.010944685898721218, 0.0948539450764656, 0.014592914842069149, 0.13133622705936432, 0.18241143226623535, 0.4013051688671112, 0.058371659368276596, 0.058371659368276596, 0.014592914842069149, 0.0036482287105172873, 0.0036482287105172873, 0.025537600740790367, 0.2708512246608734, 0.1100333109498024, 0.490917831659317, 0.025392301380634308, 0.08464100956916809, 0.8985271453857422, 0.09445114433765411, 0.06570514291524887, 0.053385429084300995, 0.07802485674619675, 0.09034457802772522, 0.19300886988639832, 0.0492788590490818, 0.07802485674619675, 0.032852571457624435, 0.23818115890026093, 0.028746001422405243, 0.8913611769676208, 0.18282446265220642, 0.18282446265220642, 0.11426529288291931, 0.5027672648429871, 0.9638569355010986, 0.02524673566222191, 0.0031558419577777386, 0.08678565174341202, 0.41814905405044556, 0.07968501001596451, 0.01814609207212925, 0.05680515617132187, 0.07889604568481445, 0.005522723309695721, 0.07021748274564743, 0.04023698344826698, 0.048915550112724304, 0.02287985384464264, 0.028402578085660934, 0.019724011421203613, 0.043332211673259735, 0.009285473264753819, 0.08356926590204239, 0.3126109540462494, 0.09285473823547363, 0.02476126328110695, 0.037141893059015274, 0.06809347122907639, 0.03095157817006111, 0.08666442334651947, 0.08356926590204239, 0.06809347122907639, 0.05880799889564514, 0.09577873349189758, 0.019155746325850487, 0.05746724084019661, 0.13409022986888885, 0.2107132077217102, 0.4597379267215729, 0.01104295626282692, 0.06625773757696152, 0.09938661009073257, 0.6073626279830933, 0.01104295626282692, 0.01104295626282692, 0.02208591252565384, 0.055214785039424896, 0.12147252261638641, 0.8039937615394592, 0.020025694742798805, 0.0012516059214249253, 0.047561027109622955, 0.5832483768463135, 0.02878693677484989, 0.033793359994888306, 0.030038543045520782, 0.023780513554811478, 0.0012516059214249253, 0.02878693677484989, 0.10138007998466492, 0.0025032118428498507, 0.09512205421924591, 0.004450391046702862, 0.11125977337360382, 0.13796211779117584, 0.1201605573296547, 0.004450391046702862, 0.008900782093405724, 0.07565664499998093, 0.035603128373622894, 0.4939934015274048, 0.019030923023819923, 0.03806184604763985, 0.03806184604763985, 0.7422059774398804, 0.13321645557880402, 0.8169130086898804, 0.9149168729782104, 0.9312834143638611, 0.9426875710487366, 0.9421619772911072, 0.18842631578445435, 0.137437641620636, 0.06790763884782791, 0.014137767255306244, 0.02781200222671032, 0.0030129668302834034, 0.05098867043852806, 0.34672296047210693, 0.002781200222671032, 0.03847326710820198, 0.03685090318322182, 0.028507301583886147, 0.00695300055667758, 0.01691896840929985, 0.033142633736133575, 0.866657018661499, 0.1056898757815361, 0.1507294476032257, 0.5242763161659241, 0.0567966029047966, 0.03713623806834221, 0.01092242356389761, 0.04805866256356239, 0.004368969239294529, 0.039320725947618484, 0.03713623806834221, 0.04150521010160446, 0.04368969425559044, 0.0021844846196472645, 0.018116462975740433, 0.0020129403565078974, 0.7850467562675476, 0.020129403099417686, 0.030194105580449104, 0.0020129403565078974, 0.024155285209417343, 0.03421998769044876, 0.04428468644618988, 0.004025880713015795, 0.0020129403565078974, 0.014090582728385925, 0.018116462975740433, 0.048713162541389465, 0.0638861134648323, 0.055101774632930756, 0.15492382645606995, 0.12457792460918427, 0.06548327207565308, 0.01517295278608799, 0.05190746858716011, 0.08305194973945618, 0.06787899881601334, 0.044720280915498734, 0.059893231838941574, 0.0351373627781868, 0.05669892579317093, 0.07187187671661377, 0.9147240519523621, 0.005997567903250456, 0.03598540648818016, 0.2878832519054413, 0.4558151662349701, 0.011995135806500912, 0.08396594971418381, 0.01799270324409008, 0.06597324460744858, 0.011995135806500912, 0.005997567903250456, 0.005997567903250456, 0.7491899132728577, 0.8623943328857422, 0.055224962532520294, 0.828374445438385, 0.07363328337669373, 0.2057531327009201, 0.6858437657356262, 0.0685843750834465, 0.06926975399255753, 0.4427240788936615, 0.29213765263557434, 0.009035184979438782, 0.009035184979438782, 0.0030117284040898085, 0.048187654465436935, 0.0030117284040898085, 0.02108209952712059, 0.05722283944487572, 0.030117284506559372, 0.015058642253279686, 0.9007173180580139, 0.006955026648938656, 0.1808307021856308, 0.013910053297877312, 0.006955026648938656, 0.027820106595754623, 0.7094127535820007, 0.041730161756277084, 0.9375922083854675, 0.8503483533859253, 0.08503483235836029, 0.009875702671706676, 0.002468925667926669, 0.004937851335853338, 0.25183039903640747, 0.21973437070846558, 0.02222033031284809, 0.004937851335853338, 0.009875702671706676, 0.002468925667926669, 0.1950451135635376, 0.009875702671706676, 0.2345479279756546, 0.009875702671706676, 0.017282478511333466, 0.004937851335853338, 0.1230287179350853, 0.8365952372550964, 0.02460574358701706, 0.11452019959688187, 0.22904039919376373, 0.08328741788864136, 0.02082185447216034, 0.02082185447216034, 0.07287649065256119, 0.09369834512472153, 0.04164370894432068, 0.32273873686790466, 0.04570557177066803, 0.36944282054901123, 0.027980418875813484, 0.03975498303771019, 0.08381464332342148, 0.054694753140211105, 0.0954626053571701, 0.0182315856218338, 0.012660822831094265, 0.05520118772983551, 0.048744168132543564, 0.007723101880401373, 0.02886667661368847, 0.05456814542412758, 0.05722691863775253, 0.613499104976654, 0.058895912021398544, 0.019631970673799515, 0.034355949610471725, 0.06871189922094345, 0.08834386616945267, 0.004907992668449879, 0.009815985336899757, 0.09815985709428787, 0.1461344063282013, 0.247415691614151, 0.010128127411007881, 0.02170312963426113, 0.002893750788643956, 0.02315000630915165, 0.09404689818620682, 0.10562190413475037, 0.039065636694431305, 0.02170312963426113, 0.09404689818620682, 0.018809380009770393, 0.09115314483642578, 0.002893750788643956, 0.07957814633846283, 0.8186637759208679, 0.09688509255647659, 0.7750807404518127, 0.8601626753807068, 0.05734417587518692, 0.9027772545814514, 0.8172557353973389, 0.7323569059371948, 0.8577295541763306, 0.012898189015686512, 0.03869456797838211, 0.006449094507843256, 0.006449094507843256, 0.019347283989191055, 0.012898189015686512, 0.006449094507843256, 0.019347283989191055, 0.006449094507843256, 0.006449094507843256, 0.8405413031578064, 0.05784156545996666, 0.0874677300453186, 0.028215397149324417, 0.03526924550533295, 0.06348464637994766, 0.11145082116127014, 0.0437338650226593, 0.08605696260929108, 0.08464619517326355, 0.10439696907997131, 0.0014107698807492852, 0.12414775043725967, 0.11568313091993332, 0.022572318091988564, 0.032447706907987595, 0.23900538682937622, 0.02835657261312008, 0.05873861536383629, 0.0789933055639267, 0.07494237273931503, 0.08912065625190735, 0.03240751102566719, 0.006076408084481955, 0.0729169026017189, 0.06278955191373825, 0.08304424583911896, 0.0020254694391041994, 0.1255791038274765, 0.0020254694391041994, 0.040509387850761414, 0.02946397289633751, 0.007857059128582478, 0.017678383737802505, 0.03339250385761261, 0.12964148819446564, 0.015714118257164955, 0.017678383737802505, 0.02946397289633751, 0.5617797374725342, 0.019642649218440056, 0.02749970741569996, 0.0019642647821456194, 0.015714118257164955, 0.007857059128582478, 0.08839192241430283, 0.015987610444426537, 0.015987610444426537, 0.1279008835554123, 0.015987610444426537, 0.703454852104187, 0.1119132712483406, 0.30049315094947815, 0.009693327359855175, 0.009693327359855175, 0.28110650181770325, 0.0581599660217762, 0.3295731246471405, 0.8913033604621887, 0.8218947649002075, 0.8790059685707092, 0.011240139603614807, 0.039340488612651825, 0.08992111682891846, 0.09554118663072586, 0.08992111682891846, 0.08430104702711105, 0.022480279207229614, 0.08992111682891846, 0.03372041881084442, 0.05058062821626663, 0.011240139603614807, 0.0056200698018074036, 0.3147239089012146, 0.06744083762168884, 0.8717474937438965, 0.9392879009246826, 0.7823153734207153, 0.8969972133636475, 0.04688974842429161, 0.18755899369716644, 0.7502359747886658, 0.6852492094039917, 0.045683279633522034, 0.22841639816761017, 0.9502670764923096, 0.9021353721618652, 0.8454515337944031, 0.11500470340251923, 0.215633824467659, 0.014375587925314903, 0.05750235170125961, 0.41689205169677734, 0.08625353127717972, 0.028751175850629807, 0.05750235170125961, 0.9024545550346375, 0.8854002952575684, 0.7502700090408325, 0.2388978749513626, 0.024639692157506943, 0.14890943467617035, 0.005356454756110907, 0.023568401113152504, 0.04606550931930542, 0.03642389178276062, 0.08463198691606522, 0.077132947742939, 0.02892485447227955, 0.021425819024443626, 0.020354527980089188, 0.18640461564064026, 0.03321002051234245, 0.024639692157506943, 0.24813571572303772, 0.11790846288204193, 0.09503070265054703, 0.021117933094501495, 0.0035196554381400347, 0.05103500559926033, 0.029917072504758835, 0.05279483273625374, 0.05807431787252426, 0.0017598277190700173, 0.014078621752560139, 0.18302208185195923, 0.04223586618900299, 0.007039310876280069, 0.07391276955604553, 0.9332482218742371, 0.08317991346120834, 0.13863319158554077, 0.6099860668182373, 0.13863319158554077, 0.9151022434234619, 0.7991437315940857, 0.9164369106292725, 0.08112511783838272, 0.013520852662622929, 0.7436469197273254, 0.08112511783838272, 0.013520852662622929, 0.013520852662622929, 0.054083410650491714, 0.15438278019428253, 0.7719138860702515, 0.03601693734526634, 0.007203387096524239, 0.16567790508270264, 0.6627116203308105, 0.028813548386096954, 0.07203387469053268, 0.014406774193048477, 0.9302316904067993, 0.11757728457450867, 0.11757728457450867, 0.05344421789050102, 0.1282661259174347, 0.4275537431240082, 0.06413306295871735, 0.05344421789050102, 0.01068884413689375, 0.03206653147935867, 0.9011747241020203, 0.1546534299850464, 0.7732671499252319, 0.8540046215057373, 0.8559313416481018, 0.8826038837432861, 0.08875147998332977, 0.7987633347511292, 0.10768517851829529, 0.7537962198257446, 0.8831819891929626, 0.8175959587097168, 0.8035227656364441, 0.1147889718413353, 0.878811776638031, 0.0794563964009285, 0.0015579686732962728, 0.060760777443647385, 0.0888042151927948, 0.08413030207157135, 0.06855061650276184, 0.01713765412569046, 0.1464490443468094, 0.03739124536514282, 0.07478249073028564, 0.19474607706069946, 0.0015579686732962728, 0.0732245221734047, 0.03271733969449997, 0.040507182478904724, 0.052507780492305756, 0.13652022182941437, 0.015752334147691727, 0.1942787915468216, 0.0630093365907669, 0.026253890246152878, 0.3675544559955597, 0.07351089268922806, 0.0052507780492305756, 0.042006224393844604, 0.026253890246152878, 0.9204833507537842, 0.7998068928718567, 0.9018350839614868, 0.003865336999297142, 0.009663342498242855, 0.005798005498945713, 0.1217581182718277, 0.4541770815849304, 0.01932668499648571, 0.027057358995079994, 0.005798005498945713, 0.04831671342253685, 0.001932668499648571, 0.08117207884788513, 0.021259352564811707, 0.04445137456059456, 0.04251870512962341, 0.11402744054794312, 0.030985310673713684, 0.13943389058113098, 0.6971694827079773, 0.1084485873579979, 0.8763502836227417, 0.8008965849876404, 0.8609743714332581, 0.09566381573677063, 0.925547182559967, 0.8171008229255676, 0.14226368069648743, 0.01123134233057499, 0.0037437807768583298, 0.01871890388429165, 0.5278730988502502, 0.0037437807768583298, 0.01123134233057499, 0.056156713515520096, 0.029950246214866638, 0.0037437807768583298, 0.02620646543800831, 0.0748756155371666, 0.08236318081617355, 0.8740717768669128, 0.9039947986602783, 0.26843568682670593, 0.671089231967926, 0.023086143657565117, 0.5309813022613525, 0.09811611473560333, 0.04040075093507767, 0.07502996921539307, 0.09234457463026047, 0.06348689645528793, 0.06348689645528793, 0.8715674877166748, 0.07353556156158447, 0.8456589579582214, 0.07353556156158447, 0.9403049945831299, 0.01991877518594265, 0.0398375503718853, 0.003983755130320787, 0.3943917453289032, 0.438213050365448, 0.02390252985060215, 0.003983755130320787, 0.01991877518594265, 0.003983755130320787, 0.011951264925301075, 0.003983755130320787, 0.003983755130320787, 0.0318700410425663, 0.006889210548251867, 0.24801158905029297, 0.04133526235818863, 0.17223027348518372, 0.05511368438601494, 0.4753555357456207, 0.8978615403175354, 0.804118275642395, 0.009532175958156586, 0.021447395905852318, 0.05957609787583351, 0.15728089213371277, 0.2597517967224121, 0.10723697394132614, 0.03812870383262634, 0.1382165402173996, 0.057193052023649216, 0.04051174595952034, 0.023830439895391464, 0.05242696776986122, 0.02621348388493061, 0.009532175958156586, 0.11258549243211746, 0.7880984544754028, 0.9305608868598938, 0.03495679423213005, 0.10946996510028839, 0.14488671720027924, 0.05887460336089134, 0.16926448047161102, 0.04599578306078911, 0.12740832567214966, 0.04507586732506752, 0.0703735500574112, 0.02483772300183773, 0.032197047024965286, 0.03495679423213005, 0.03679662570357323, 0.025297680869698524, 0.040016330778598785, 0.0023557243403047323, 0.0023557243403047323, 0.028268691152334213, 0.03769158944487572, 0.16490070521831512, 0.02355724200606346, 0.2638411223888397, 0.10600759088993073, 0.12014193832874298, 0.044758763164281845, 0.11543048918247223, 0.04711448401212692, 0.044758763164281845, 0.09172607958316803, 0.020172126591205597, 0.010656972415745258, 0.01636606454849243, 0.03615758568048477, 0.12598063051700592, 0.022836368530988693, 0.010276366025209427, 0.223415806889534, 0.22569943964481354, 0.05823273956775665, 0.02093333750963211, 0.00342545541934669, 0.040344253182411194, 0.09362911432981491, 0.038192812353372574, 0.2355223447084427, 0.025461874902248383, 0.006365468725562096, 0.038192812353372574, 0.45194825530052185, 0.12094390392303467, 0.07638562470674515, 0.2367616444826126, 0.06026659905910492, 0.004304756876081228, 0.027980919927358627, 0.10977130383253098, 0.16142839193344116, 0.002152378438040614, 0.07533324509859085, 0.20017120242118835, 0.02367616444826126, 0.03013329952955246, 0.01506664976477623, 0.017219027504324913, 0.034438055008649826, 0.9359320998191833, 0.07867215573787689, 0.1730787307024002, 0.047203291207551956, 0.22028203308582306, 0.45629850029945374, 0.01573443040251732, 0.6014067530632019, 0.24056269228458405, 0.12028134614229202, 0.04261210560798645, 0.014204035513103008, 0.14204035699367523, 0.05681614205241203, 0.014204035513103008, 0.014204035513103008, 0.5965694785118103, 0.07102017849683762, 0.04261210560798645, 0.014204035513103008, 0.05448886752128601, 0.10897773504257202, 0.027244433760643005, 0.021795546635985374, 0.027244433760643005, 0.027244433760643005, 0.005448886658996344, 0.6484175324440002, 0.010897773317992687, 0.05993775278329849, 0.6202369928359985, 0.09054554253816605, 0.01810910925269127, 0.009054554626345634, 0.009054554626345634, 0.013581831939518452, 0.031690940260887146, 0.004527277313172817, 0.1177092045545578, 0.004527277313172817, 0.004527277313172817, 0.07696371525526047, 0.24959984421730042, 0.6893709897994995, 0.005942853633314371, 0.011885707266628742, 0.005942853633314371, 0.023771414533257484, 0.9521963596343994, 0.8611520528793335, 0.2921907901763916, 0.1203138530254364, 0.005729231052100658, 0.01718769408762455, 0.0859384685754776, 0.14323078095912933, 0.26927387714385986, 0.06302154064178467, 0.7999641299247742, 0.009406625293195248, 0.01646159403026104, 0.02821987494826317, 0.21870402991771698, 0.41153985261917114, 0.06114306300878525, 0.007054968737065792, 0.039978157728910446, 0.002351656323298812, 0.05643974989652634, 0.023516563698649406, 0.07760465890169144, 0.039978157728910446, 0.007054968737065792, 0.8166627883911133, 0.7482805848121643, 0.8562434911727905, 0.8054043054580688, 0.0503377690911293, 0.012584442272782326, 0.012584442272782326, 0.012584442272782326, 0.012584442272782326, 0.07550664991140366, 0.8753628134727478, 0.90545254945755, 0.17516501247882843, 0.21270036697387695, 0.012511787004768848, 0.10009429603815079, 0.012511787004768848, 0.4629361033439636, 0.3439929783344269, 0.10779502987861633, 0.06499406695365906, 0.01743743196129799, 0.011096547357738018, 0.0031704420689493418, 0.11413591355085373, 0.038045305758714676, 0.03646008297801018, 0.04755663126707077, 0.1426699012517929, 0.05072707310318947, 0.01585221104323864, 0.0031704420689493418, 0.0031704420689493418, 0.919813871383667, 0.6154741644859314, 0.09899234771728516, 0.025824090465903282, 0.004304015077650547, 0.09468833357095718, 0.04734416678547859, 0.034432120621204376, 0.030128106474876404, 0.008608030155301094, 0.02152007631957531, 0.012912045232951641, 0.084918312728405, 0.12466730922460556, 0.014454180374741554, 0.007227090187370777, 0.050589632242918015, 0.16622307896614075, 0.08130476623773575, 0.01987449824810028, 0.030715133994817734, 0.17164339125156403, 0.14454181492328644, 0.01987449824810028, 0.0018067725468426943, 0.027101589366793633, 0.05600995197892189, 0.2934630811214447, 0.026678461581468582, 0.6402830481529236, 0.9681658744812012, 0.9057110548019409, 0.19663561880588531, 0.06383160501718521, 0.11652480810880661, 0.0526932030916214, 0.05869080498814583, 0.07925400882959366, 0.08953560888767242, 0.016279201954603195, 0.06040440499782562, 0.030844802036881447, 0.1053864061832428, 0.035557202994823456, 0.020134801045060158, 0.05055120587348938, 0.024418802931904793, 0.033441122621297836, 0.028663821518421173, 0.12420988827943802, 0.028663821518421173, 0.0047773034311831, 0.10032337158918381, 0.14809641242027283, 0.08121415972709656, 0.25797438621520996, 0.0382184274494648, 0.0047773034311831, 0.14331910014152527, 0.9495152235031128, 0.942895770072937, 0.05961817875504494, 0.02980908937752247, 0.4024227261543274, 0.014904544688761234, 0.11178408563137054, 0.05961817875504494, 0.05961817875504494, 0.11923635751008987, 0.007452272344380617, 0.0745227262377739, 0.04471363499760628, 0.9176648855209351, 0.10060607641935349, 0.13414143025875092, 0.08383839577436447, 0.16767679154872894, 0.05030303820967674, 0.43595966696739197, 0.889829158782959, 0.9226698279380798, 0.10532242804765701, 0.053193144500255585, 0.1776650995016098, 0.12659968435764313, 0.12872740626335144, 0.12872740626335144, 0.03936292603611946, 0.05212927982211113, 0.040426790714263916, 0.04787382856011391, 0.0010638629319146276, 0.019149532541632652, 0.05744859576225281, 0.020213395357131958, 0.0010638629319146276, 0.1442336142063141, 0.03605840355157852, 0.07211680710315704, 0.03605840355157852, 0.270438015460968, 0.43270084261894226, 0.7470036149024963, 0.925004780292511, 0.30387791991233826, 0.4689253270626068, 0.02562107890844345, 0.021450206637382507, 0.0077459076419472694, 0.0071500688791275024, 0.05064631998538971, 0.03277114778757095, 0.02502524107694626, 0.023237723857164383, 0.008341746404767036, 0.008937586098909378, 0.0035750344395637512, 0.011916780844330788, 0.0011916781077161431, 0.927272617816925, 0.01972920447587967, 0.5356191396713257, 0.10654789209365845, 0.0575934536755085, 0.02879672683775425, 0.0259170550853014, 0.014398363418877125, 0.05471378192305565, 0.002879672683775425, 0.0691121444106102, 0.0230373814702034, 0.014398363418877125, 0.0115186907351017, 0.05471378192305565, 0.05873912572860718, 0.07048694789409637, 0.07048694789409637, 0.01174782495945692, 0.01174782495945692, 0.01174782495945692, 0.5169042944908142, 0.09398259967565536, 0.16446955502033234, 0.08151417970657349, 0.10393057763576508, 0.13449838757514954, 0.014264981262385845, 0.02037854492664337, 0.09374130517244339, 0.016302835196256638, 0.06521134078502655, 0.04075708985328674, 0.1548769325017929, 0.04483279585838318, 0.04483279585838318, 0.04483279585838318, 0.07947631925344467, 0.06317348778247833, 0.24003146588802338, 0.03910624980926514, 0.025621335953474045, 0.0026969825848937035, 0.060682110488414764, 0.07147004455327988, 0.0620306022465229, 0.10113684833049774, 0.08765193819999695, 0.07686400413513184, 0.05663663521409035, 0.029666809365153313, 0.03236379101872444, 0.04854568839073181, 0.06472758203744888, 0.030414359644055367, 0.08617401868104935, 0.1723480373620987, 0.11658837646245956, 0.05069059878587723, 0.0785704255104065, 0.06336324661970139, 0.05575965717434883, 0.025345299392938614, 0.01013811957091093, 0.0025345298927277327, 0.2914709448814392, 0.012672649696469307, 0.0025345298927277327, 0.04837293550372124, 0.09171285480260849, 0.010066044516861439, 0.08612060546875, 0.23822972178459167, 0.06319238990545273, 0.049491386860609055, 0.010345657356083393, 0.040823403745889664, 0.0338330939412117, 0.15965865552425385, 0.06934386491775513, 0.04138262942433357, 0.04501758888363838, 0.01258255634456873, 0.8250186443328857, 0.00687352754175663, 0.02062058262526989, 0.004582351539283991, 0.05269704386591911, 0.24744698405265808, 0.025202933698892593, 0.08019115030765533, 0.059570569545030594, 0.057279396802186966, 0.018329406157135963, 0.3505499064922333, 0.043532341718673706, 0.00687352754175663, 0.025202933698892593, 0.0035823544021695852, 0.001343382871709764, 0.008955885656177998, 0.25658613443374634, 0.3528619110584259, 0.00403014849871397, 0.007612503133714199, 0.008508091792464256, 0.03268898278474808, 0.06448237597942352, 0.002686765743419528, 0.014329417608678341, 0.10657504200935364, 0.004477942828088999, 0.13165152072906494, 0.9277055859565735, 0.21089103817939758, 0.7644800543785095, 0.732630729675293, 0.1648419201374054, 0.05494730547070503, 0.8996596932411194, 0.02325970120728016, 0.01550646685063839, 0.0025844110641628504, 0.07236351072788239, 0.10854526609182358, 0.03618175536394119, 0.10596086084842682, 0.08011674880981445, 0.15248025953769684, 0.012922056019306183, 0.05427263304591179, 0.0775323361158371, 0.18866202235221863, 0.05168822407722473, 0.020675288513302803, 0.7823556065559387, 0.8167955875396729, 0.9205844402313232, 0.8176975250244141, 0.8672197461128235, 0.7445815205574036, 0.11583777517080307, 0.057918887585401535, 0.07860420644283295, 0.01654825359582901, 0.012411190196871758, 0.008274126797914505, 0.020685316994786263, 0.3806098401546478, 0.028959443792700768, 0.1696196049451828, 0.05378182604908943, 0.012411190196871758, 0.012411190196871758, 0.03723357245326042, 0.8747627139091492, 0.16176098585128784, 0.08088049292564392, 0.14154085516929626, 0.12132073193788528, 0.5055030584335327, 0.029193416237831116, 0.21895061433315277, 0.5400782227516174, 0.029193416237831116, 0.11677366495132446, 0.043790124356746674, 0.08894848823547363, 0.8894848823547363, 0.10075794160366058, 0.8060635328292847, 0.715186357498169, 0.2554236948490143, 0.8167626261711121, 0.09490664303302765, 0.05799850448966026, 0.047453321516513824, 0.036908138543367386, 0.036908138543367386, 0.4481702446937561, 0.005272591486573219, 0.05799850448966026, 0.2056310623884201, 0.004775000736117363, 0.009550001472234726, 0.362900048494339, 0.20055001974105835, 0.13370001316070557, 0.023875003680586815, 0.04775000736117363, 0.0716250091791153, 0.004775000736117363, 0.09550001472234726, 0.004775000736117363, 0.04297500476241112, 0.09083918482065201, 0.8175526857376099, 0.8895261883735657, 0.4827761650085449, 0.0729193165898323, 0.005028918385505676, 0.030173510313034058, 0.005028918385505676, 0.0528036430478096, 0.002514459192752838, 0.18606998026371002, 0.030173510313034058, 0.01257229596376419, 0.002514459192752838, 0.060347020626068115, 0.05783256143331528, 0.8734256029129028, 0.23942811787128448, 0.7182843685150146, 0.9291636943817139, 0.20294710993766785, 0.04058942198753357, 0.7306095957756042, 0.09222786873579025, 0.0038428278639912605, 0.12681332230567932, 0.08262079954147339, 0.14026321470737457, 0.03458544984459877, 0.08646362274885178, 0.11912766098976135, 0.0537995882332325, 0.1287347376346588, 0.059563830494880676, 0.0019214139319956303, 0.04803534597158432, 0.023056967183947563, 0.9320143461227417, 0.9412423968315125, 0.022499248385429382, 0.07874736934900284, 0.05062330886721611, 0.11249624192714691, 0.11812105029821396, 0.11812105029821396, 0.022499248385429382, 0.05062330886721611, 0.033748872578144073, 0.033748872578144073, 0.27561578154563904, 0.08437217772006989, 0.9001873135566711, 0.19977982342243195, 0.037932876497507095, 0.0543704591691494, 0.024024154990911484, 0.04425502195954323, 0.2124241143465042, 0.03287516161799431, 0.06448589265346527, 0.027817443013191223, 0.006322146393358707, 0.04425502195954323, 0.03919730708003044, 0.1087409183382988, 0.06195703148841858, 0.04299059510231018, 0.1964973509311676, 0.06191012263298035, 0.06998535990715027, 0.08344408124685287, 0.029609190300107002, 0.11036152392625809, 0.04306791350245476, 0.02691744454205036, 0.059218380600214005, 0.05114314705133438, 0.01345872227102518, 0.23418177664279938, 0.0026917445939034224, 0.016150467097759247, 0.8359850645065308, 0.08359850943088531, 0.04385288804769516, 0.7126094698905945, 0.03288966789841652, 0.1096322238445282, 0.08770577609539032, 0.8733435273170471, 0.9273911714553833, 0.03831740468740463, 0.014369026757776737, 0.26822182536125183, 0.06705545634031296, 0.07184513658285141, 0.3640153408050537, 0.004789675585925579, 0.05747610703110695, 0.004789675585925579, 0.11016253381967545, 0.004789675585925579, 0.839872419834137, 0.8399943709373474, 0.11836569011211395, 0.024919092655181885, 0.03945523127913475, 0.05502966046333313, 0.05087647959589958, 0.08617852628231049, 0.024919092655181885, 0.019727615639567375, 0.40701183676719666, 0.08825511485338211, 0.03322545811533928, 0.00415318226441741, 0.014536136761307716, 0.01349784154444933, 0.019727615639567375, 0.9378105401992798, 0.9017016887664795, 0.050753433257341385, 0.14395518600940704, 0.19932258129119873, 0.03967995569109917, 0.016610214486718178, 0.05167622119188309, 0.044293906539678574, 0.10150686651468277, 0.02306974306702614, 0.05536738038063049, 0.1181170791387558, 0.011073476634919643, 0.06644085794687271, 0.03967995569109917, 0.038757167756557465, 0.9361685514450073, 0.023840587586164474, 0.023840587586164474, 0.11920294165611267, 0.07152176648378372, 0.7628988027572632, 0.8593581318855286, 0.38849493861198425, 0.019424747675657272, 0.038849495351314545, 0.038849495351314545, 0.038849495351314545, 0.09712373465299606, 0.3593578338623047, 0.019424747675657272, 0.8383177518844604, 0.8304729461669922, 0.9332023859024048, 0.00898863933980465, 0.0179772786796093, 0.0539318323135376, 0.0179772786796093, 0.0898863896727562, 0.0359545573592186, 0.0808977484703064, 0.134829580783844, 0.3415682911872864, 0.1258409470319748, 0.0808977484703064, 0.9149779081344604, 0.8570916652679443, 0.856849730014801, 0.8264604806900024, 0.9329429864883423, 0.9471571445465088, 0.20841793715953827, 0.1799973100423813, 0.023683855310082436, 0.009473542682826519, 0.037894170731306076, 0.014210313558578491, 0.037894170731306076, 0.04736771062016487, 0.023683855310082436, 0.40736231207847595, 0.014210313558578491, 0.36448436975479126, 0.08576102554798126, 0.08576102554798126, 0.4502454102039337, 0.026775868609547615, 0.0010298410197719932, 0.0005149205098859966, 0.4809357821941376, 0.059730783104896545, 0.008753648959100246, 0.034499675035476685, 0.004119364079087973, 0.08702156692743301, 0.0839320495724678, 0.0005149205098859966, 0.06539490818977356, 0.026775868609547615, 0.022656504064798355, 0.09731998294591904, 0.003999888896942139, 0.011999666690826416, 0.2919918894767761, 0.06799811124801636, 0.019999444484710693, 0.23599344491958618, 0.003999888896942139, 0.011999666690826416, 0.05999833345413208, 0.23999333381652832, 0.003999888896942139, 0.02799922227859497, 0.015999555587768555, 0.08806979656219482, 0.04403489828109741, 0.017613958567380905, 0.12329771369695663, 0.02935659885406494, 0.011742639355361462, 0.02935659885406494, 0.03522791713476181, 0.32292258739471436, 0.02935659885406494, 0.06164885684847832, 0.10568375885486603, 0.02935659885406494, 0.023485278710722923, 0.04990621656179428, 0.01150443684309721, 0.0805310532450676, 0.01150443684309721, 0.0805310532450676, 0.01150443684309721, 0.17256654798984528, 0.5292040705680847, 0.04601774737238884, 0.034513309597969055, 0.09097663313150406, 0.014673651196062565, 0.011738920584321022, 0.07923771440982819, 0.06749879568815231, 0.035216763615608215, 0.04402095451951027, 0.0322820320725441, 0.41379696130752563, 0.05575987324118614, 0.05575987324118614, 0.017608381807804108, 0.04108622297644615, 0.0322820320725441, 0.005869460292160511, 0.7997370362281799, 0.06117298826575279, 0.8564218282699585, 0.2854585647583008, 0.6779640913009644, 0.0413157120347023, 0.5233323574066162, 0.0413157120347023, 0.02754380740225315, 0.1652628481388092, 0.0688595175743103, 0.1239471361041069, 0.05538421869277954, 0.05538421869277954, 0.8307632803916931, 0.6186935901641846, 0.11211225390434265, 0.04982766881585121, 0.11211225390434265, 0.0456753633916378, 0.024913834407925606, 0.004152305889874697, 0.004152305889874697, 0.004152305889874697, 0.004152305889874697, 0.016609223559498787, 0.19418945908546448, 0.15257743000984192, 0.15257743000984192, 0.45773229002952576, 0.01387067511677742, 0.007516505662351847, 0.007516505662351847, 0.060132045298814774, 0.007516505662351847, 0.06764855235815048, 0.030066022649407387, 0.46602335572242737, 0.12026409059762955, 0.015033011324703693, 0.22549517452716827, 0.12638643383979797, 0.011489675380289555, 0.4940560460090637, 0.09191740304231644, 0.1608554571866989, 0.04595870152115822, 0.011489675380289555, 0.03446902707219124, 0.842818558216095, 0.10148382931947708, 0.10148382931947708, 0.7103868126869202, 0.05074191465973854, 0.06150631234049797, 0.010251051746308804, 0.12642964720726013, 0.07859139889478683, 0.02391912043094635, 0.22894015908241272, 0.17426788806915283, 0.05125525966286659, 0.027336139231920242, 0.08542542904615402, 0.08200841397047043, 0.030753156170248985, 0.013668069615960121, 0.06102688983082771, 0.9154033660888672, 0.6506803035736084, 0.1514514535665512, 0.016827939078211784, 0.005609313026070595, 0.005609313026070595, 0.01121862605214119, 0.005609313026070595, 0.005609313026070595, 0.13462351262569427, 0.01121862605214119, 0.7900195717811584, 0.03246656060218811, 0.01082218624651432, 0.01082218624651432, 0.01082218624651432, 0.01082218624651432, 0.01082218624651432, 0.1082218661904335, 0.07302629202604294, 0.18256573379039764, 0.009128286503255367, 0.20995059609413147, 0.009128286503255367, 0.07302629202604294, 0.3925163149833679, 0.027384860441088676, 0.018256573006510735, 0.14475001394748688, 0.07237500697374344, 0.7599375247955322, 0.02892290987074375, 0.0433843620121479, 0.115691639482975, 0.02892290987074375, 0.5495352745056152, 0.1012301817536354, 0.0433843620121479, 0.0578458197414875, 0.0433843620121479, 0.9160504341125488, 0.11966998130083084, 0.02991749532520771, 0.04487624391913414, 0.49363866448402405, 0.014958747662603855, 0.02991749532520771, 0.11966998130083084, 0.02991749532520771, 0.04487624391913414, 0.014958747662603855, 0.05983499065041542, 0.001903840689919889, 0.04759601876139641, 0.02474992908537388, 0.03236529231071472, 0.017134565860033035, 0.02284608781337738, 0.3426913321018219, 0.009519203566014767, 0.07615362852811813, 0.026653770357370377, 0.34078750014305115, 0.005711521953344345, 0.05330754071474075, 0.7755851149559021, 0.8244836926460266, 0.18949466943740845, 0.7579786777496338, 0.8707848787307739, 0.018221577629446983, 0.104267917573452, 0.03948008641600609, 0.08300941437482834, 0.2733236849308014, 0.02834467776119709, 0.07592324167490005, 0.02632005698978901, 0.012147719040513039, 0.059726282954216, 0.033406227827072144, 0.07592324167490005, 0.15083417296409607, 0.01619695872068405, 0.0010123099200427532, 0.8842825889587402, 0.03537130355834961, 0.058952175080776215, 0.04871659725904465, 0.04871659725904465, 0.8281821012496948, 0.0974331945180893, 0.19140779972076416, 0.012760519981384277, 0.10208415985107422, 0.07656311988830566, 0.025521039962768555, 0.5359418392181396, 0.05104207992553711, 0.9024103879928589, 0.8052810430526733, 0.11664964258670807, 0.20413687825202942, 0.5832481980323792, 0.029162410646677017, 0.029162410646677017, 0.7816655039787292, 0.08793597668409348, 0.08793597668409348, 0.15388795733451843, 0.1099199652671814, 0.5276158452033997, 0.04820118099451065, 0.008763850666582584, 0.2909598648548126, 0.30147647857666016, 0.02716793864965439, 0.06748165190219879, 0.03505540266633034, 0.08238019794225693, 0.025415167212486267, 0.006134695839136839, 0.032426249235868454, 0.01402216125279665, 0.006134695839136839, 0.0017527701565995812, 0.052583105862140656, 0.05708878114819527, 0.05189889296889305, 0.00518988911062479, 0.22835512459278107, 0.033734280616045, 0.01556966733187437, 0.04151911288499832, 0.04151911288499832, 0.4463304579257965, 0.028544390574097633, 0.01556966733187437, 0.002594944555312395, 0.02075955644249916, 0.012974723242223263, 0.820611834526062, 0.013804834336042404, 0.36582809686660767, 0.26919427514076233, 0.03451208397746086, 0.2899015247821808, 0.013804834336042404, 0.006902417168021202, 0.9602901935577393, 0.8928672671318054, 0.021991852670907974, 0.06597555428743362, 0.10995925962924957, 0.6597555875778198, 0.0879674106836319, 0.8989672660827637, 0.10532159358263016, 0.8425727486610413, 0.17843742668628693, 0.7732288241386414, 0.07573967427015305, 0.07573967427015305, 0.7952666282653809, 0.7868693470954895, 0.9112620949745178, 0.9088111519813538, 0.800535261631012, 0.9347755312919617, 0.8221140503883362, 0.04962116852402687, 0.06616155803203583, 0.7443175315856934, 0.04962116852402687, 0.04962116852402687, 0.8400530219078064, 0.9260110259056091, 0.14803951978683472, 0.15373334288597107, 0.09110123664140701, 0.06263209879398346, 0.017081482335925102, 0.015183540061116219, 0.05883621796965599, 0.15563128888607025, 0.0018979425076395273, 0.04175473377108574, 0.03606090694665909, 0.02657119557261467, 0.045550618320703506, 0.0037958850152790546, 0.14234568178653717, 0.08752989023923874, 0.019451085478067398, 0.0048627713695168495, 0.06321603059768677, 0.0048627713695168495, 0.5835325717926025, 0.048627715557813644, 0.08266711980104446, 0.03403940051794052, 0.06807880103588104, 0.19777485728263855, 0.25718870759010315, 0.043543025851249695, 0.019533319398760796, 0.009766659699380398, 0.011394436471164227, 0.006511106621474028, 0.1005152091383934, 0.008952771313488483, 0.014243045821785927, 0.1757998764514923, 0.0024416649248450994, 0.03377636522054672, 0.04435691237449646, 0.07447078078985214, 0.09382355213165283, 0.7783879637718201, 0.024324623867869377, 0.003474946366623044, 0.006949892733246088, 0.003474946366623044, 0.003474946366623044, 0.017374731600284576, 0.05907408893108368, 0.006949892733246088, 0.20238767564296722, 0.48163142800331116, 0.030742432922124863, 0.025618692860007286, 0.0025618693325668573, 0.03330430015921593, 0.02049495466053486, 0.09478916972875595, 0.02818056382238865, 0.005123738665133715, 0.023056823760271072, 0.025618692860007286, 0.005123738665133715, 0.01024747733026743, 0.012809346430003643, 0.1593182235956192, 0.28847426176071167, 0.0479501448571682, 0.01005406305193901, 0.012374230660498142, 0.08043250441551208, 0.06651148945093155, 0.14230366051197052, 0.0007733894162811339, 0.005413725972175598, 0.015467789024114609, 0.013921010307967663, 0.019334735348820686, 0.04872353374958038, 0.08893978595733643, 0.9351599812507629, 0.7514969706535339, 0.1073567122220993, 0.03578557074069977, 0.03578557074069977, 0.03578557074069977, 0.08927556872367859, 0.002289117081090808, 0.14879260957241058, 0.03662587329745293, 0.10529939085245132, 0.04807145893573761, 0.02060205489397049, 0.17397290468215942, 0.05264969542622566, 0.009156468324363232, 0.1854184865951538, 0.002289117081090808, 0.02060205489397049, 0.08011910319328308, 0.022891171276569366, 0.1122148334980011, 0.7855038046836853, 0.9044522047042847, 0.9303795099258423, 0.7482201457023621, 0.8743652701377869, 0.09727755188941956, 0.49179208278656006, 0.030881764367222786, 0.047094687819480896, 0.071800097823143, 0.045550599694252014, 0.04323446750640869, 0.03551402688026428, 0.006948396563529968, 0.0007720440626144409, 0.006176352500915527, 0.02547745406627655, 0.018529057502746582, 0.027793586254119873, 0.05172695219516754, 0.8781043291091919, 0.8969322443008423, 0.9156633615493774, 0.08833896368741989, 0.22084741294384003, 0.029446322470903397, 0.05889264494180679, 0.014723161235451698, 0.05889264494180679, 0.5153106451034546, 0.08251306414604187, 0.16502612829208374, 0.17877830564975739, 0.4263174831867218, 0.06876088678836823, 0.05500870943069458, 0.7421824932098389, 0.6863567233085632, 0.07844076305627823, 0.07844076305627823, 0.09805095940828323, 0.019610190764069557, 0.20392091572284698, 0.6117627024650574, 0.14565779268741608, 0.9078182578086853, 0.881956160068512, 0.8996435403823853, 0.025865593925118446, 0.025865593925118446, 0.36211833357810974, 0.5690430998802185, 0.007555527146905661, 0.030222108587622643, 0.09822185337543488, 0.06799974292516708, 0.3173321485519409, 0.08311080187559128, 0.015111054293811321, 0.2795545160770416, 0.09822185337543488, 0.9663830995559692, 0.8913975954055786, 0.0826905369758606, 0.8269054293632507, 0.937721312046051, 0.20486679673194885, 0.07770809531211853, 0.04238623380661011, 0.05121669918298721, 0.07240981608629227, 0.09536902606487274, 0.022959209978580475, 0.06357935070991516, 0.01589483767747879, 0.06534544378519058, 0.04945060610771179, 0.09360293298959732, 0.03178967535495758, 0.10243339836597443, 0.012362651526927948, 0.9022430181503296, 0.18581123650074005, 0.015844369307160378, 0.03312913700938225, 0.11955296993255615, 0.11235098540782928, 0.0432119183242321, 0.03024834208190441, 0.02160595916211605, 0.04609271138906479, 0.038170527666807175, 0.01944536343216896, 0.17140726745128632, 0.05473509430885315, 0.024486752226948738, 0.08498343825340271, 0.014921780675649643, 0.05968712270259857, 0.4774969816207886, 0.1044524684548378, 0.014921780675649643, 0.014921780675649643, 0.07460890710353851, 0.16413959860801697, 0.08953068405389786, 0.018527783453464508, 0.07411113381385803, 0.055583350360393524, 0.7781669497489929, 0.07411113381385803, 0.8732885122299194, 0.9596115350723267, 0.9287605285644531, 0.22239595651626587, 0.34173035621643066, 0.036885183304548264, 0.03471546620130539, 0.03797003999352455, 0.055327773094177246, 0.06834607571363449, 0.04339433088898659, 0.01518801599740982, 0.047733765095472336, 0.00759400799870491, 0.044479191303253174, 0.013018299825489521, 0.029291175305843353, 0.3363690972328186, 0.5886459350585938, 0.9406105875968933, 0.07441028207540512, 0.8929233551025391, 0.38823381066322327, 0.5823507308959961, 0.8237856030464172, 0.9139339923858643, 0.8483273386955261, 0.05655515566468239, 0.05655515566468239, 0.04646669700741768, 0.002630190458148718, 0.031562287360429764, 0.02279498428106308, 0.1849900633096695, 0.1516743153333664, 0.005260380916297436, 0.04558996856212616, 0.03857612609863281, 0.06750822067260742, 0.21479888260364532, 0.006137111224234104, 0.0569874607026577, 0.06487803161144257, 0.059617649763822556, 0.031785670667886734, 0.15892836451530457, 0.6357134580612183, 0.15892836451530457, 0.7455739974975586, 0.229407399892807, 0.08657891303300858, 0.04556784778833389, 0.16860103607177734, 0.004556784871965647, 0.022783923894166946, 0.022783923894166946, 0.29619100689888, 0.17771461606025696, 0.036454278975725174, 0.05923820286989212, 0.013670355081558228, 0.05923820286989212, 0.051180288195610046, 0.11942066997289658, 0.008530047722160816, 0.08530048280954361, 0.05971033498644829, 0.025590144097805023, 0.4776826798915863, 0.06824038177728653, 0.10236057639122009, 0.07241441309452057, 0.01609209179878235, 0.0643683671951294, 0.021120870485901833, 0.0945410430431366, 0.0472705215215683, 0.0010057557374238968, 0.036207206547260284, 0.04928203299641609, 0.3650893568992615, 0.08850650489330292, 0.006034534890204668, 0.05632232502102852, 0.07543168216943741, 0.006034534890204668, 0.8323706984519958, 0.9081680774688721, 0.8023443818092346, 0.791060209274292, 0.13163655996322632, 0.29501527547836304, 0.03080855682492256, 0.0056015560403466225, 0.13163655996322632, 0.08122255653142929, 0.02894137240946293, 0.041078075766563416, 0.06068352237343788, 0.0158710740506649, 0.0018671852303668857, 0.019605444744229317, 0.09802722930908203, 0.008402333594858646, 0.048546817153692245, 0.875400960445404, 0.8486339449882507, 0.9001708626747131, 0.7894206047058105, 0.9391822218894958, 0.9433309435844421, 0.15265940129756927, 0.030531879514455795, 0.7938288450241089, 0.869042158126831, 0.09656023979187012, 0.7116871476173401, 0.09419389069080353, 0.07326191663742065, 0.005232993979007006, 0.005232993979007006, 0.005232993979007006, 0.047096945345401764, 0.05232993885874748, 0.9065864682197571, 0.9191836714744568, 0.2186077982187271, 0.011210656724870205, 0.05044795200228691, 0.036434631794691086, 0.036434631794691086, 0.019618649035692215, 0.014013320207595825, 0.0812772586941719, 0.2242131233215332, 0.07006660103797913, 0.0812772586941719, 0.0812772586941719, 0.025223976001143456, 0.04484262689948082, 0.8399482369422913, 0.9385481476783752, 0.07976456731557846, 0.12271472066640854, 0.05522162467241287, 0.03681441769003868, 0.024542944505810738, 0.06135736033320427, 0.05522162467241287, 0.29451534152030945, 0.09817177802324295, 0.01840720884501934, 0.09203603863716125, 0.06749309599399567, 0.9257959127426147, 0.0760602056980133, 0.0760602056980133, 0.7606020569801331, 0.037314705550670624, 0.7089794278144836, 0.07462941110134125, 0.11194411665201187, 0.8397215604782104, 0.8568521738052368, 0.7999944090843201, 0.07387062162160873, 0.8125768303871155, 0.07387062162160873, 0.014774124138057232, 0.014774124138057232, 0.014774124138057232, 0.911329448223114, 0.8035660982131958, 0.8332265019416809, 0.08332265168428421, 0.19108158349990845, 0.1592346578836441, 0.12738771736621857, 0.07961732894182205, 0.01592346467077732, 0.39808663725852966, 0.16333146393299103, 0.18666453659534454, 0.6066597700119019, 0.544127881526947, 0.09261751919984818, 0.11963095515966415, 0.03859063237905502, 0.01543625257909298, 0.011577189899981022, 0.03859063237905502, 0.03859063237905502, 0.03473156690597534, 0.003859063144773245, 0.003859063144773245, 0.03087250515818596, 0.01929531618952751, 0.003859063144773245, 0.00771812628954649, 0.00957263633608818, 0.6030761003494263, 0.08615372329950333, 0.01914527267217636, 0.13401690125465393, 0.07658109068870544, 0.0478631816804409, 0.01914527267217636, 0.08343689143657684, 0.834368884563446, 0.799881100654602, 0.14306440949440002, 0.09537627547979355, 0.7153220772743225, 0.8882163166999817, 0.7668675184249878, 0.0852075070142746, 0.5888180136680603, 0.2479233592748642, 0.09297125786542892, 0.030990419909358025, 0.11111880838871002, 0.03703960403800011, 0.18519802391529083, 0.6296732425689697, 0.05087089538574219, 0.04408811032772064, 0.09767211973667145, 0.05901023745536804, 0.07732375711202621, 0.11666391789913177, 0.04273155331611633, 0.0834282711148262, 0.17770899832248688, 0.023061472922563553, 0.10309834778308868, 0.012209014967083931, 0.04069671779870987, 0.0671495795249939, 0.0040696715004742146, 0.9367292523384094, 0.009568335488438606, 0.01435250323265791, 0.09089919179677963, 0.004784167744219303, 0.004784167744219303, 0.02392083965241909, 0.7176252007484436, 0.0861150249838829, 0.02870500646531582, 0.01435250323265791, 0.9597154855728149, 0.06198270991444588, 0.6818097829818726, 0.12396541982889175, 0.07812369614839554, 0.031249478459358215, 0.4531174302101135, 0.007812369614839554, 0.031249478459358215, 0.09374843537807465, 0.015624739229679108, 0.2343710958957672, 0.03906184807419777, 0.8131002187728882, 0.04279474914073944, 0.12838424742221832, 0.8888100385665894, 0.0011630075750872493, 0.08722556382417679, 0.04884631559252739, 0.1314198523759842, 0.1151377484202385, 0.0930406004190445, 0.11048571765422821, 0.012793082743883133, 0.02907518856227398, 0.009304060600697994, 0.003489022608846426, 0.22097143530845642, 0.03023819625377655, 0.07908451557159424, 0.027912180870771408, 0.12388996034860611, 0.867229700088501, 0.23993046581745148, 0.7197913527488708, 0.8331056237220764, 0.12817008793354034, 0.791882336139679, 0.9202081561088562, 0.7384305000305176, 0.8092531561851501, 0.014713694341480732, 0.029427388682961464, 0.07356847077608109, 0.014713694341480732, 0.05885477736592293, 0.8640146255493164, 0.08640146255493164, 0.13386322557926178, 0.8031793832778931, 0.06741355359554291, 0.876376211643219, 0.901381254196167, 0.8774230480194092, 0.13410767912864685, 0.616895318031311, 0.08046460151672363, 0.040232300758361816, 0.09387537091970444, 0.013410767540335655, 0.8825482726097107, 0.8957026600837708, 0.024682287126779556, 0.1610843986272812, 0.07144872844219208, 0.024682287126779556, 0.25851449370384216, 0.0064953388646245, 0.07014966011047363, 0.02078508399426937, 0.016887880861759186, 0.0012990677496418357, 0.2221405953168869, 0.010392541997134686, 0.05456084758043289, 0.05066364258527756, 0.005196270998567343, 0.8551405072212219, 0.748914361000061, 0.8566509485244751, 0.07138757407665253, 0.022032497450709343, 0.0044064996764063835, 0.20710548758506775, 0.1586339920759201, 0.022032497450709343, 0.008812999352812767, 0.348113477230072, 0.08812998980283737, 0.03525199741125107, 0.022032497450709343, 0.017625998705625534, 0.06609749048948288, 0.7878022789955139, 0.0576440691947937, 0.1345028281211853, 0.8730363249778748, 0.8565449714660645, 0.8243876695632935, 0.14988866448402405, 0.855912446975708, 0.933258056640625, 0.9031651020050049, 0.8522951602935791, 0.05592738837003708, 0.05592738837003708, 0.8948382139205933, 0.04935313016176224, 0.03824867308139801, 0.057989925146102905, 0.22208908200263977, 0.11597985029220581, 0.009870626032352448, 0.045651644468307495, 0.020975079387426376, 0.014805939048528671, 0.056756097823381424, 0.028378048911690712, 0.07402969151735306, 0.05552227050065994, 0.01233828254044056, 0.19988016784191132, 0.02542731910943985, 0.0169515460729599, 0.12713660299777985, 0.1017092764377594, 0.0508546382188797, 0.3898855745792389, 0.1356123685836792, 0.05933041125535965, 0.09323350340127945, 0.7821823358535767, 0.8215282559394836, 0.2453586757183075, 0.637932538986206, 0.8723859190940857, 0.8182564973831177, 0.746329128742218, 0.8419358730316162, 0.09354842454195023, 0.11969990283250809, 0.047879960387945175, 0.07181993871927261, 0.023939980193972588, 0.2633397877216339, 0.4548596143722534, 0.937183141708374, 0.04716232791543007, 0.04716232791543007, 0.7545972466468811, 0.04716232791543007, 0.09432465583086014, 0.8019773364067078, 0.9069043397903442, 0.15687096118927002, 0.08715053647756577, 0.06972042471170425, 0.6274838447570801, 0.017430106177926064, 0.03486021235585213, 0.017430106177926064, 0.09950235486030579, 0.7960188388824463, 0.9246522784233093, 0.42979079484939575, 0.026861924678087234, 0.040292888879776, 0.05372384935617447, 0.4566527307033539, 0.05069179832935333, 0.10138359665870667, 0.24332062900066376, 0.4663645625114441, 0.040553439408540726, 0.05069179832935333, 0.020276719704270363, 0.2221805304288864, 0.05174067243933678, 0.386533260345459, 0.019783196970820427, 0.05326245725154877, 0.03804461285471916, 0.024348551407456398, 0.03652282804250717, 0.009130707010626793, 0.024348551407456398, 0.08521992713212967, 0.016739629209041595, 0.02587033621966839, 0.0076089221984148026, 0.8173816204071045, 0.23005832731723785, 0.01000253576785326, 0.6001521348953247, 0.01000253576785326, 0.01000253576785326, 0.02000507153570652, 0.08002028614282608, 0.02000507153570652, 0.07236488163471222, 0.6874663233757019, 0.21709464490413666, 0.8888106942176819, 0.013641570694744587, 0.3410392701625824, 0.1091325655579567, 0.4501718282699585, 0.013641570694744587, 0.05456628277897835, 0.013641702011227608, 0.13641701638698578, 0.4501761794090271, 0.20462553203105927, 0.0954919159412384, 0.06820850819349289, 0.013641702011227608, 0.7517091631889343, 0.15034182369709015, 0.012048808857798576, 0.29318767786026, 0.06024404242634773, 0.02811388671398163, 0.10442300885915756, 0.14458569884300232, 0.032130155712366104, 0.048195235431194305, 0.23695990443229675, 0.020081346854567528, 0.020081346854567528, 0.859518826007843, 0.0955020934343338, 0.752785861492157, 0.8830165863037109, 0.919280469417572, 0.22599643468856812, 0.723188579082489, 0.8079715371131897, 0.21166697144508362, 0.7408343553543091, 0.10561954975128174, 0.8449563980102539, 0.9004720449447632, 0.04940805584192276, 0.08937045186758041, 0.09590975195169449, 0.11752577871084213, 0.10735353082418442, 0.10244905203580856, 0.07665514200925827, 0.13805191218852997, 0.027973677963018417, 0.02379579097032547, 0.023432496935129166, 0.029790150001645088, 0.042687106877565384, 0.029426855966448784, 0.04650169983506203, 0.9445403814315796, 0.06789746880531311, 0.05107882618904114, 0.11274717003107071, 0.08160154521465302, 0.14700736105442047, 0.06353707611560822, 0.04796426370739937, 0.09717435389757156, 0.06353707611560822, 0.05606212839484215, 0.07474950700998306, 0.018687376752495766, 0.0012458250857889652, 0.04734135419130325, 0.06976620107889175, 0.78443443775177, 0.05200231820344925, 0.08722969889640808, 0.16439442336559296, 0.06206728518009186, 0.09393967688083649, 0.026839906349778175, 0.058712296187877655, 0.016774941235780716, 0.06877726316452026, 0.038582365959882736, 0.06374477595090866, 0.13084454834461212, 0.04025986045598984, 0.06709976494312286, 0.030194895341992378, 0.8397178649902344, 0.7590954303741455, 0.18977385759353638, 0.22165434062480927, 0.7203766107559204, 0.8460977077484131, 0.09291093051433563, 0.8361983299255371, 0.9065985083580017, 0.8788065910339355, 0.024755116552114487, 0.012377558276057243, 0.03713267296552658, 0.024755116552114487, 0.2600891888141632, 0.7152453064918518, 0.006172351073473692, 0.06789585947990417, 0.049378808587789536, 0.006172351073473692, 0.006172351073473692, 0.055551160126924515, 0.030861755833029747, 0.7777162194252014, 0.8277744054794312, 0.0352315828204155, 0.1056947410106659, 0.6341684460639954, 0.1761579066514969, 0.21804240345954895, 0.09593866020441055, 0.1264646053314209, 0.015262968838214874, 0.0654127225279808, 0.03706720843911171, 0.05669102817773819, 0.008721696212887764, 0.021804241463541985, 0.01962381787598133, 0.026165088638663292, 0.24202707409858704, 0.05451060086488724, 0.010902120731770992, 0.8516865968704224, 0.16837958991527557, 0.11657048761844635, 0.01295227650552988, 0.06476138532161713, 0.06476138532161713, 0.05180910602211952, 0.10361821204423904, 0.37561601400375366, 0.038856830447912216, 0.9329942464828491, 0.7920987606048584, 0.014805584214627743, 0.044416751712560654, 0.007402792107313871, 0.007402792107313871, 0.007402792107313871, 0.007402792107313871, 0.022208375856280327, 0.07402791827917099, 0.014805584214627743, 0.33902695775032043, 0.12892575562000275, 0.05730033293366432, 0.01432508323341608, 0.09550055861473083, 0.02387513965368271, 0.02865016646683216, 0.3056017756462097, 0.004775027744472027, 0.004775027744472027, 0.2208993136882782, 0.1472662091255188, 0.24940244853496552, 0.002375261392444372, 0.026127876713871956, 0.1235135942697525, 0.030878398567438126, 0.05938153713941574, 0.014251568354666233, 0.042754705995321274, 0.011876307427883148, 0.045129965990781784, 0.023752614855766296, 0.002375261392444372, 0.024231066927313805, 0.12115533649921417, 0.09692426770925522, 0.09692426770925522, 0.6057766675949097, 0.04846213385462761, 0.7177098989486694, 0.10252998769283295, 0.923740029335022, 0.8985133171081543, 0.8670878410339355, 0.01606413535773754, 0.09236878156661987, 0.13654515147209167, 0.020080169662833214, 0.02811223827302456, 0.31726667284965515, 0.012048101983964443, 0.02811223827302456, 0.06024051085114479, 0.12851308286190033, 0.11646498739719391, 0.020080169662833214, 0.024096203967928886, 0.9583418965339661, 0.7637773752212524, 0.10183697938919067, 0.10183697938919067, 0.8968150019645691, 0.9429425001144409, 0.8340933322906494, 0.07582666724920273, 0.14705930650234222, 0.09043753892183304, 0.07077720761299133, 0.011796200647950172, 0.05190328508615494, 0.11245711892843246, 0.06841796636581421, 0.08178699761629105, 0.022805988788604736, 0.09908808767795563, 0.040107082575559616, 0.05504893884062767, 0.004718480631709099, 0.08178699761629105, 0.062126658856868744, 0.9317929744720459, 0.7030012607574463, 0.2590004801750183, 0.018386363983154297, 0.036772727966308594, 0.22063636779785156, 0.14709091186523438, 0.5699772834777832, 0.8396605253219604, 0.873422384262085, 0.9440481066703796, 0.1516890674829483, 0.12135124951601028, 0.09101343899965286, 0.04045041650533676, 0.07078822702169418, 0.09101343899965286, 0.1011260375380516, 0.3236033320426941, 0.15991142392158508, 0.2842869758605957, 0.461966335773468, 0.053303807973861694, 0.12830331921577454, 0.17736047506332397, 0.007547254208475351, 0.01132088154554367, 0.1132088154554367, 0.030189016833901405, 0.08301979303359985, 0.07547254115343094, 0.0037736271042376757, 0.02264176309108734, 0.03773627057671547, 0.04528352618217468, 0.23019124567508698, 0.02264176309108734, 0.01132088154554367, 0.005840573459863663, 0.005840573459863663, 0.18105778098106384, 0.035043440759181976, 0.2861880958080292, 0.07008688151836395, 0.1109708920121193, 0.0934491753578186, 0.052565161138772964, 0.052565161138772964, 0.029202867299318314, 0.04088401421904564, 0.04088401421904564, 0.08088422566652298, 0.5965211987495422, 0.09099475294351578, 0.04044211283326149, 0.08088422566652298, 0.060663171112537384, 0.010110528208315372, 0.04044211283326149, 0.886174201965332, 0.08056128770112991, 0.859815776348114, 0.8739879727363586, 0.9675765037536621, 0.20767448842525482, 0.7268607020378113, 0.9165523648262024, 0.1102231964468956, 0.771562397480011, 0.8005293607711792, 0.09427555650472641, 0.09982117265462875, 0.005545620806515217, 0.03327372297644615, 0.3050091564655304, 0.02772810310125351, 0.08318430930376053, 0.011091241613030434, 0.022182483226060867, 0.1996423453092575, 0.12200365960597992, 0.7799611687660217, 0.15599223971366882, 0.9366482496261597, 0.854376494884491, 0.12483790516853333, 0.8322527408599854, 0.9009162187576294, 0.08112769573926926, 0.09126865863800049, 0.06084577366709709, 0.07098674029111862, 0.010140961967408657, 0.6693035364151001, 0.9681371450424194, 0.9264712333679199, 0.05555981025099754, 0.02525446005165577, 0.020203568041324615, 0.020203568041324615, 0.02525446005165577, 0.3990204632282257, 0.19193390011787415, 0.03535624220967293, 0.060610704123973846, 0.03535624220967293, 0.05555981025099754, 0.07071248441934586, 0.8164982199668884, 0.22381645441055298, 0.7034231424331665, 0.06394755840301514, 0.15726865828037262, 0.07834309339523315, 0.07630442827939987, 0.052422888576984406, 0.07135337591171265, 0.03786097466945648, 0.05009298026561737, 0.05475279316306114, 0.023007823154330254, 0.05154917389154434, 0.04281202331185341, 0.0946524366736412, 0.14474542438983917, 0.020969154313206673, 0.044559452682733536, 0.8998364210128784, 0.04499117657542229, 0.18310362100601196, 0.018833516165614128, 0.12660308182239532, 0.13811244070529938, 0.07847297936677933, 0.029296578839421272, 0.013601982966065407, 0.039759643375873566, 0.14020505547523499, 0.017787208780646324, 0.037667032331228256, 0.08579712361097336, 0.039759643375873566, 0.006277838256210089, 0.8929422497749329, 0.8925415277481079, 0.9434741139411926, 0.005968752782791853, 0.14325006306171417, 0.01790625788271427, 0.03581251576542854, 0.06565628200769424, 0.525250256061554, 0.12534381449222565, 0.0029843763913959265, 0.01790625788271427, 0.0029843763913959265, 0.029843764379620552, 0.01790625788271427, 0.17412009835243225, 0.008706004358828068, 0.04062802344560623, 0.0754520371556282, 0.339534193277359, 0.0029020016081631184, 0.29600414633750916, 0.023216012865304947, 0.014510007575154305, 0.005804003216326237, 0.014510007575154305, 0.8567820191383362, 0.9424107670783997, 0.12100842595100403, 0.22991600632667542, 0.024201685562729836, 0.004033613950014114, 0.010084034875035286, 0.03428572043776512, 0.002016806975007057, 0.02218487672507763, 0.004033613950014114, 0.002016806975007057, 0.48806729912757874, 0.060504212975502014, 0.6741265058517456, 0.08870085328817368, 0.21288204193115234, 0.00998000893741846, 0.38922035694122314, 0.024950021877884865, 0.01996001787483692, 0.03992003574967384, 0.2694602310657501, 0.029940027743577957, 0.1497001349925995, 0.03992003574967384, 0.029940027743577957, 0.8426946997642517, 0.047452304512262344, 0.004745230544358492, 0.2182806134223938, 0.04270707443356514, 0.004745230544358492, 0.028471384197473526, 0.06168799847364426, 0.446051687002182, 0.03321661427617073, 0.009490461088716984, 0.004745230544358492, 0.0996498391032219, 0.07633917778730392, 0.1308671534061432, 0.09815037250518799, 0.04362238571047783, 0.5234686136245728, 0.021811192855238914, 0.10905596613883972, 0.9038736820220947, 0.7877621650695801, 0.9192957878112793, 0.08001559227705002, 0.0693468526005745, 0.10135308653116226, 0.010668746195733547, 0.016003118827939034, 0.021337492391467094, 0.2720530331134796, 0.03734061121940613, 0.08534996956586838, 0.13335932791233063, 0.026671865954995155, 0.08001559227705002, 0.0693468526005745, 0.90544593334198, 0.796567976474762, 0.029668360948562622, 0.48952794075012207, 0.014834180474281311, 0.014834180474281311, 0.014834180474281311, 0.4005228579044342, 0.029668360948562622, 0.7547609806060791, 0.8435873985290527, 0.08941029757261276, 0.021037716418504715, 0.29277488589286804, 0.01753143034875393, 0.12797944247722626, 0.11044801026582718, 0.04207543283700943, 0.06661943346261978, 0.03506286069750786, 0.03856914862990379, 0.010518858209252357, 0.007012572139501572, 0.07889143377542496, 0.03506286069750786, 0.02629714645445347, 0.08105500042438507, 0.03647474944591522, 0.07902862876653671, 0.06281762570142746, 0.006079125218093395, 0.1681891232728958, 0.02431650087237358, 0.04458025097846985, 0.09118687361478806, 0.17426824569702148, 0.008105499669909477, 0.008105499669909477, 0.13779349625110626, 0.0749758780002594, 0.1614789366722107, 0.09227367490530014, 0.0830463096499443, 0.004613684024661779, 0.4060041904449463, 0.004613684024661779, 0.04152315482497215, 0.04152315482497215, 0.055364206433296204, 0.07843262702226639, 0.03229578584432602, 0.8766109943389893, 0.8076878190040588, 0.015532458201050758, 0.031064916402101517, 0.06212983280420303, 0.015532458201050758, 0.06212983280420303, 0.1283559799194336, 0.11409421265125275, 0.27097374200820923, 0.10339787602424622, 0.008913610130548477, 0.09091882407665253, 0.11944237351417542, 0.010696331970393658, 0.041002608835697174, 0.04991621896624565, 0.017827220261096954, 0.024958109483122826, 0.0160444974899292, 0.5808374285697937, 0.13829463720321655, 0.11063570529222488, 0.08297678083181381, 0.08297678083181381, 0.011786981485784054, 0.03536094352602959, 0.07661537826061249, 0.09429585188627243, 0.014733727090060711, 0.017680471763014793, 0.023573962971568108, 0.11492306739091873, 0.03536094352602959, 0.3595029413700104, 0.011786981485784054, 0.02062721736729145, 0.06482839584350586, 0.1031360849738121, 0.017680471763014793, 0.24156665802001953, 0.06338983029127121, 0.20558865368366241, 0.04283096641302109, 0.008566193282604218, 0.0908016487956047, 0.022272102534770966, 0.0051397159695625305, 0.03426477313041687, 0.04968392476439476, 0.12506642937660217, 0.0017132387729361653, 0.017132386565208435, 0.08052221685647964, 0.013705910183489323, 0.21602779626846313, 0.17366939783096313, 0.004235839005559683, 0.01694335602223873, 0.01694335602223873, 0.12283933162689209, 0.008471678011119366, 0.06777342408895493, 0.07624510675668716, 0.0423583909869194, 0.2499145120382309, 0.8946132659912109, 0.10527213662862778, 0.03509071096777916, 0.07018142193555832, 0.01754535548388958, 0.061408743262290955, 0.01754535548388958, 0.05263606831431389, 0.03509071096777916, 0.08772677928209305, 0.5088152885437012, 0.9466307163238525, 0.8174940943717957, 0.08826164156198502, 0.002847149735316634, 0.005694299470633268, 0.07117874175310135, 0.3644351661205292, 0.03701294586062431, 0.005694299470633268, 0.011388598941266537, 0.13381603360176086, 0.022777197882533073, 0.05694299563765526, 0.1024973914027214, 0.002847149735316634, 0.0911087915301323, 0.02356303296983242, 0.28275638818740845, 0.6597649455070496, 0.8559470176696777, 0.9001930952072144, 0.8372021913528442, 0.8423165678977966, 0.7452707886695862, 0.009047293104231358, 0.007350925821810961, 0.007350925821810961, 0.019225498661398888, 0.04297464340925217, 0.033927351236343384, 0.019790953025221825, 0.021487321704626083, 0.00395819079130888, 0.024314600974321365, 0.02035640925168991, 0.02488005720078945, 0.010178204625844955, 0.010178204625844955, 0.6203738451004028, 0.05986063554883003, 0.005441876128315926, 0.07074438780546188, 0.03809313103556633, 0.005441876128315926, 0.13060502707958221, 0.05986063554883003, 0.27284324169158936, 0.003687070682644844, 0.15485696494579315, 0.05161898955702782, 0.011061212047934532, 0.047931917011737823, 0.10323797911405563, 0.003687070682644844, 0.003687070682644844, 0.014748282730579376, 0.022122424095869064, 0.011061212047934532, 0.07374141365289688, 0.22491131722927094, 0.05497603490948677, 0.4072299003601074, 0.028506092727184296, 0.0542973168194294, 0.026469942182302475, 0.015610478818416595, 0.05701218545436859, 0.13642200827598572, 0.02375507727265358, 0.1085946336388588, 0.031899675726890564, 0.001357432920485735, 0.04208042100071907, 0.009502030909061432, 0.0033935823012143373, 0.887926459312439, 0.8742654919624329, 0.7895830273628235, 0.8262726664543152, 0.23156732320785522, 0.0249729473143816, 0.06583777070045471, 0.01362160686403513, 0.04767562448978424, 0.05221616104245186, 0.05221616104245186, 0.07264856994152069, 0.04540535807609558, 0.009081071242690086, 0.17481063306331635, 0.07037830352783203, 0.038594555109739304, 0.061297234147787094, 0.04086482152342796, 0.8200187087059021, 0.1558513641357422, 0.10390090942382812, 0.7013311386108398, 0.9836803078651428, 0.27315324544906616, 0.6373575925827026, 0.03035036288201809, 0.8724964261054993, 0.009196010418236256, 0.001724251895211637, 0.009196010418236256, 0.5517606139183044, 0.06207306683063507, 0.01839202083647251, 0.1454119086265564, 0.003448503790423274, 0.020116271451115608, 0.03161128610372543, 0.005747506394982338, 0.03908304125070572, 0.005172755569219589, 0.0471295528113842, 0.050003305077552795, 0.09347524493932724, 0.06899362802505493, 0.07567043602466583, 0.04006081819534302, 0.04896322265267372, 0.06454242765903473, 0.16692008078098297, 0.09124964475631714, 0.18249928951263428, 0.002225601114332676, 0.055640026926994324, 0.10905444622039795, 0.8658738732337952, 0.05821521207690239, 0.08732281625270844, 0.8441205620765686, 0.07583846896886826, 0.46881961822509766, 0.0344720333814621, 0.02068321965634823, 0.1516769379377365, 0.07583846896886826, 0.11031050235033035, 0.062049657106399536, 0.030795060098171234, 0.3310469090938568, 0.04234320670366287, 0.019246913492679596, 0.05774073675274849, 0.026945678517222404, 0.04619259014725685, 0.03849382698535919, 0.30410122871398926, 0.04619259014725685, 0.06159012019634247], \"Term\": [\"!\", \"!\", \"!\", \"!\", \"!\", \"!\", \"!\", \"\\\"\", \"\\\"ipad\\\",\", \"$100,\", \"$50.\", \"&\", \"&\", \"&\", \"&\", \"&\", \"&\", \"&\", \"&\", \"&\", \"&\", \"&\", \"(5\", \"(about\", \"(ages\", \"(don't\", \",,\", \"-\", \"-\", \"-\", \"-\", \"-\", \"-\", \"-\", \"-\", \"-\", \"-\", \"-\", \"-\", \"-\", \"-\", \".\", \".\", \".\", \".\", \".\", \".\", \".\", \".\", \".\", \".\", \".\", \".\", \".\", \".\", \".\", \"..\", \"..\", \"..\", \"17\", \"19\", \"2\", \"2\", \"2\", \"2\", \"2\", \"2\", \"2\", \"2\", \"2\", \"2\", \"2\", \"2\", \"2\", \"2\", \"2\", \"2-3\", \"20-40\", \"21\", \"3\", \"3\", \"3\", \"3\", \"3\", \"3\", \"3\", \"3\", \"3\", \"3\", \"3\", \"3\", \"3\", \"3\", \"3\", \"3.0\", \"4\", \"4\", \"4\", \"4\", \"4\", \"4\", \"4\", \"4\", \"4\", \"4\", \"4\", \"4\", \"4\", \"4\", \"4\", \"4,\", \"4,\", \"40\", \"40\", \"4yo\", \"4yr\", \"4yr\", \"4yr\", \"4yr\", \"5\", \"5\", \"5\", \"5\", \"5\", \"5\", \"5\", \"5\", \"5\", \"5\", \"5\", \"5\", \"5\", \"5\", \"6\", \"6\", \"6\", \"6\", \"6\", \"6\", \"6\", \"6\", \"6\", \"6\", \"6\", \"6\", \"6,\", \"6.\", \"6yr\", \"7\", \"7\", \"7\", \"7\", \"7\", \"7\", \"7\", \"7\", \"7\", \"7\", \"7\", \"7\\\"\", \"7\\\"\", \"7\\\"\", \"7\\\"\", \"7\\\"\", \"7\\\"\", \"7\\\"\", \"7\\\",\", \"8\", \"8\", \"8\", \"8\", \"8\", \"8\", \"8\", \"8\", \"8\", \"8\", \"8\", \"8\", \"8\", \"8\", \"8\\\"\", \"8\\\"\", \"8\\\"\", \"8\\\"\", \"8\\\"\", \"8\\\"\", \"8\\\"\", \"8\\\"\", \"8\\\"\", \"8\\\"\", \"8\\\"\", \"8\\\"\", \"8,\", \"8,\", \"8.\", \"8.\", \"8.\", \"8.\", \"8.\", \"87\", \"9\", \"9\", \"9\", \"9\", \"9\", \"9\", \"9\", \"9\", \"9\", \"9\", \"9,\", \"9.\", \":\", \"aa\", \"aa\", \"aa\", \"aa\", \"aa\", \"aa\", \"aa\", \"aa\", \"aa\", \"aaa\", \"aaa\", \"aaa\", \"aaa\", \"aaa\", \"aaa\", \"aaa\", \"aaa\", \"aaa\", \"able\", \"able\", \"able\", \"able\", \"able\", \"able\", \"able\", \"able\", \"able\", \"able\", \"able\", \"able\", \"able\", \"able\", \"able\", \"absolutely\", \"absolutely\", \"absolutely\", \"absolutely\", \"absolutely\", \"absolutely\", \"absolutely\", \"absolutely\", \"absolutely\", \"absolutely\", \"absolutely\", \"access\", \"access\", \"access\", \"access\", \"access\", \"access\", \"access\", \"access\", \"access\", \"access\", \"access\", \"access\", \"access\", \"access\", \"accident\", \"accidental\", \"accidental\", \"account.\", \"account.\", \"account.\", \"account.\", \"account.\", \"active.\", \"active.\", \"adapter\", \"adapter\", \"add\", \"add\", \"add\", \"add\", \"add\", \"add\", \"add\", \"add\", \"add\", \"add\", \"add\", \"adult.\", \"adults\", \"adults\", \"adults\", \"adults\", \"adults\", \"adults\", \"adults\", \"adults\", \"adults\", \"advertised!\", \"advertised.\", \"advertised.\", \"advertised.\", \"advertised.\", \"advertised.\", \"advertised.\", \"again!\", \"again!\", \"again!\", \"again!\", \"again!\", \"again!!\", \"again.\", \"again.\", \"again.\", \"again.\", \"again.\", \"again.\", \"again.\", \"again.\", \"again.\", \"again.\", \"again.\", \"again.\", \"again.\", \"again.\", \"again.\", \"again...\", \"age\", \"age\", \"age\", \"age\", \"age\", \"age\", \"age\", \"age\", \"age\", \"age\", \"age\", \"age\", \"age\", \"alexa,\", \"alkaline\", \"alkaline\", \"alkaline\", \"alkaline\", \"alkaline\", \"alkaline\", \"alkaline\", \"alkaline\", \"alkaline\", \"allows.\", \"also!\", \"alternate\", \"amazing.\", \"amazing.\", \"amazing.\", \"amazing.\", \"amazing.\", \"amazon's\", \"amazon's\", \"amazon's\", \"amazon's\", \"amazon's\", \"amazon's\", \"amazon's\", \"amazon's\", \"amazon's\", \"amazon's\", \"amazon's\", \"amd\", \"android\", \"android\", \"android\", \"android\", \"android\", \"android\", \"android\", \"android\", \"android\", \"android\", \"android\", \"angles\", \"annoyed\", \"annoyed.\", \"annoying,\", \"annoying,\", \"anything.\", \"anything.\", \"app\", \"app\", \"app\", \"app\", \"app\", \"app\", \"app\", \"app\", \"app\", \"app\", \"app\", \"app\", \"app\", \"apparently\", \"apparently\", \"appropriate\", \"appropriate\", \"appropriate\", \"appropriate\", \"appropriate\", \"appropriate\", \"appropriate\", \"appropriate\", \"appropriate\", \"appropriate\", \"appropriate\", \"apps\", \"apps\", \"apps\", \"apps\", \"apps\", \"apps\", \"apps\", \"apps\", \"apps\", \"apps\", \"apps\", \"apps\", \"apps\", \"apps\", \"apps\", \"apps!\", \"apps!\", \"apps!\", \"appstore\", \"areas.\", \"around!\", \"around!\", \"ask\", \"ask\", \"ask\", \"ask\", \"ask\", \"ask\", \"ask\", \"ask\", \"ask\", \"ask\", \"asked.\", \"asleep\", \"autistic\", \"awesome\", \"awesome\", \"awesome\", \"awesome\", \"awesome\", \"awesome\", \"awesome\", \"awesome\", \"awesome\", \"awesome\", \"awesome\", \"awesome\", \"awesome\", \"awesome\", \"awesome\", \"back...\", \"backlight\", \"backlight\", \"backlight\", \"backlight\", \"backlight\", \"backlight\", \"backlighting\", \"backlighting\", \"bad,\", \"bag,\", \"bang\", \"bang\", \"bang\", \"bang\", \"bang\", \"basic\", \"basic\", \"basic\", \"basic\", \"basic\", \"basic\", \"basic\", \"basic\", \"basic\", \"basic\", \"basic\", \"basic\", \"basic\", \"batery\", \"batteries!\", \"batteries!\", \"batteries!\", \"batteries!\", \"batteries!\", \"batteries!\", \"batteries!\", \"batteries!\", \"batteries!\", \"batteries!\", \"batteries!!\", \"batteries,\", \"batteries,\", \"batteries,\", \"batteries,\", \"batteries,\", \"batteries,\", \"batteries,\", \"batteries,\", \"batteries,\", \"batteries,\", \"batteries,\", \"batteries.\", \"batteries.\", \"batteries.\", \"batteries.\", \"batteries.\", \"batteries.\", \"batteries.\", \"batteries.\", \"batteries.\", \"batteries.\", \"batteries.\", \"batteries.\", \"batteries.\", \"battery\", \"battery\", \"battery\", \"battery\", \"battery\", \"battery\", \"battery\", \"battery\", \"battery\", \"battery\", \"battery\", \"battery\", \"battery\", \"battery\", \"battery\", \"battery!\", \"batts\", \"bb\", \"bb\", \"beach.\", \"beat\", \"beat\", \"beat\", \"beat\", \"beat\", \"beat\", \"beat\", \"beat\", \"beat\", \"beat\", \"beat\", \"beat\", \"beat\", \"beginners\", \"beginners\", \"beginners\", \"beneficial.\", \"best\", \"best\", \"best\", \"best\", \"best\", \"best\", \"best\", \"best\", \"best\", \"best\", \"best\", \"best\", \"best\", \"best\", \"best\", \"bet\", \"better\", \"better\", \"better\", \"better\", \"better\", \"better\", \"better\", \"better\", \"better\", \"better\", \"better\", \"better\", \"better\", \"better\", \"better\", \"bf\", \"bigger\", \"bigger\", \"bigger\", \"bigger\", \"bigger\", \"bigger\", \"bigger\", \"bigger\", \"bigger\", \"bike\", \"birthday\", \"birthday\", \"birthday\", \"birthday\", \"birthday\", \"birthday\", \"birthday\", \"birthday\", \"black\", \"black\", \"black\", \"black\", \"black\", \"black\", \"black\", \"black\", \"black\", \"black\", \"black\", \"black\", \"black\", \"black\", \"blow\", \"blue.\", \"book\", \"book\", \"book\", \"book\", \"book\", \"book\", \"book\", \"book\", \"book\", \"book\", \"book\", \"book\", \"book.\", \"book.\", \"book.\", \"book.\", \"book.\", \"book.\", \"book.\", \"books\", \"books\", \"books\", \"books\", \"books\", \"books\", \"books\", \"books\", \"books\", \"books\", \"books\", \"books\", \"books\", \"books\", \"books\", \"books.\", \"books.\", \"books.\", \"books.\", \"books.\", \"books.\", \"books.\", \"books.\", \"books.\", \"books.\", \"books.\", \"books.\", \"boost\", \"boot\", \"bothering\", \"bought\", \"bought\", \"bought\", \"bought\", \"bought\", \"bought\", \"bought\", \"bought\", \"bought\", \"bought\", \"bought\", \"bought\", \"bought\", \"bought\", \"bought\", \"box\", \"box\", \"box\", \"box\", \"box\", \"box\", \"box\", \"box\", \"box\", \"box\", \"box,\", \"boy.\", \"boys!\", \"brain\", \"brain\", \"brand\", \"brand\", \"brand\", \"brand\", \"brand\", \"brand\", \"brand\", \"brand\", \"brand\", \"brand\", \"brand\", \"brand\", \"brand\", \"brand!\", \"brand,\", \"brand,\", \"brand,\", \"brand.\", \"brand.\", \"brand.\", \"brand.\", \"brand.\", \"brand.\", \"brand.\", \"brand.\", \"brand.\", \"branded\", \"brands\", \"brands\", \"brands\", \"brands\", \"brands\", \"brands\", \"brands\", \"brands\", \"brands\", \"brands\", \"brands\", \"brands\", \"brands\", \"brands.\", \"brands.\", \"brands.\", \"brands.\", \"brands.\", \"brands.\", \"brands.\", \"brands.\", \"brands.\", \"bringing\", \"broke\", \"broke\", \"broke\", \"broke\", \"broke\", \"broke\", \"broke\", \"broke\", \"broke\", \"brother's\", \"brothers\", \"brought\", \"brought\", \"brought\", \"brought\", \"brought\", \"brought\", \"brought\", \"brought\", \"buck.\", \"built-in\", \"built-in\", \"buy\", \"buy\", \"buy\", \"buy\", \"buy\", \"buy\", \"buy\", \"buy\", \"buy\", \"buy\", \"buy\", \"buy\", \"buy\", \"buy\", \"buy\", \"buy.\", \"buy.\", \"buy.\", \"buy.\", \"buy.\", \"buy.\", \"buy.\", \"buy.\", \"buy.\", \"buy.\", \"buy.\", \"buy.\", \"buy.\", \"buying\", \"buying\", \"buying\", \"buying\", \"buying\", \"buying\", \"buying\", \"buying\", \"buying\", \"buying\", \"buying\", \"buying\", \"buying\", \"buying\", \"buying\", \"by,\", \"cable\", \"cable\", \"cable\", \"cable\", \"cache\", \"calls\", \"calls\", \"camera\", \"camera\", \"camera\", \"camera\", \"camera\", \"camera\", \"camera\", \"camera\", \"camera\", \"camera\", \"camera\", \"camera\", \"can't\", \"can't\", \"can't\", \"can't\", \"can't\", \"can't\", \"can't\", \"can't\", \"can't\", \"can't\", \"can't\", \"can't\", \"can't\", \"can't\", \"can't\", \"candle\", \"candles\", \"candles\", \"candles\", \"capability.\", \"capacity\", \"capacity\", \"capacity\", \"capacity\", \"capacity\", \"car\", \"car\", \"car\", \"car\", \"car\", \"car\", \"car\", \"car\", \"car\", \"card\", \"card\", \"card\", \"card\", \"card\", \"card\", \"card\", \"card\", \"card\", \"card\", \"card\", \"card\", \"card\", \"card\", \"cards\", \"cards\", \"case\", \"case\", \"case\", \"case\", \"case\", \"case\", \"case\", \"case\", \"case\", \"case\", \"case\", \"case\", \"case\", \"case\", \"case\", \"case,\", \"case,\", \"case,\", \"case,\", \"case,\", \"cash\", \"charge\", \"charge\", \"charge\", \"charge\", \"charge\", \"charge\", \"charge\", \"charge\", \"charge\", \"charge\", \"charge\", \"charge\", \"charge\", \"charge\", \"charged\", \"charged\", \"charged\", \"charged\", \"charged\", \"charged\", \"charged\", \"charged\", \"charged\", \"charger,\", \"charger,\", \"cheap,\", \"cheap,\", \"cheap,\", \"cheaper.\", \"cheaper.\", \"cheaper.\", \"cheaper.\", \"checking\", \"checking\", \"checking\", \"checking\", \"checking\", \"checking\", \"child\", \"child\", \"child\", \"child\", \"child\", \"child\", \"child\", \"child\", \"child\", \"child\", \"child\", \"child\", \"children\", \"children\", \"children\", \"children\", \"children\", \"children\", \"children\", \"children\", \"children\", \"children\", \"children\", \"children's\", \"children's\", \"children's\", \"children's\", \"children's\", \"children,\", \"choice!\", \"choices.\", \"choose.\", \"christmas\", \"christmas\", \"christmas\", \"christmas\", \"christmas\", \"christmas\", \"christmas\", \"christmas\", \"christmas\", \"christmas\", \"christmas\", \"christmas\", \"christmas\", \"christmas\", \"christmas.\", \"christmas.\", \"christmas.\", \"christmas.\", \"christmas.\", \"christmas.\", \"christmas.\", \"christmas.\", \"christmas.\", \"christmas.\", \"circadian\", \"clarity.\", \"clarity.\", \"clash\", \"classes\", \"clean.\", \"clearing\", \"clocks,\", \"coat\", \"coffee\", \"color\", \"color\", \"color\", \"color\", \"color\", \"color\", \"color\", \"color\", \"color\", \"color\", \"color\", \"color!\", \"comes\", \"comes\", \"comes\", \"comes\", \"comes\", \"comes\", \"comes\", \"comes\", \"comes\", \"comes\", \"comes\", \"comes\", \"comes\", \"comes\", \"comes\", \"comfortable.\", \"comfortable.\", \"comforting\", \"commercials\", \"comparing\", \"component\", \"compromise\", \"constantly.\", \"contact\", \"contact\", \"contemplating\", \"content\", \"content\", \"content\", \"content\", \"content\", \"content\", \"content\", \"content\", \"content\", \"content\", \"content\", \"control\", \"control\", \"control\", \"control\", \"control\", \"control\", \"control\", \"control\", \"control\", \"control\", \"control\", \"control\", \"control\", \"control\", \"controllers\", \"controllers\", \"controllers\", \"controls\", \"controls\", \"controls\", \"controls\", \"controls\", \"controls\", \"controls\", \"controls\", \"controls\", \"controls\", \"controls\", \"controls!\", \"controls.\", \"controls.\", \"controls.\", \"controls.\", \"controls.\", \"controls.\", \"controls.\", \"controls.\", \"controls.\", \"cool,\", \"cost\", \"cost\", \"cost\", \"cost\", \"cost\", \"cost\", \"cost\", \"cost\", \"cost\", \"cost\", \"cost\", \"cost\", \"cost\", \"cost!\", \"cost!\", \"costco\", \"costco\", \"costco\", \"costing\", \"couch\", \"could.\", \"crap\", \"credit\", \"credit\", \"credit\", \"crisp.\", \"curfew\", \"customer\", \"customer\", \"customer\", \"customer\", \"customer\", \"customer\", \"customer\", \"d\", \"dad.\", \"darn\", \"daughter\", \"daughter\", \"daughter\", \"daughter\", \"daughter\", \"daughter\", \"daughter\", \"daughter\", \"daughter\", \"daughter\", \"daughter\", \"daughter\", \"daughter\", \"daughter\", \"daughter\", \"daugther\", \"dauther\", \"day\", \"day\", \"day\", \"day\", \"day\", \"day\", \"day\", \"day\", \"day\", \"day\", \"day\", \"day\", \"day\", \"days.\", \"days.\", \"days.\", \"days.\", \"days.\", \"dead.\", \"dead.\", \"dead.\", \"dead.\", \"dead.\", \"deal\", \"deal\", \"deal\", \"deal\", \"deal\", \"deal\", \"deal\", \"deal\", \"deal\", \"deal\", \"deal\", \"deal\", \"deal\", \"deal\", \"deal!\", \"deal!\", \"deal!\", \"decent\", \"decent\", \"decent\", \"decent\", \"decent\", \"decent\", \"decent\", \"decent\", \"decent\", \"decent\", \"decent\", \"decent\", \"decent\", \"decent.\", \"decided\", \"decided\", \"decided\", \"decided\", \"decided\", \"decided\", \"decided\", \"decided\", \"decided\", \"decided\", \"decided\", \"decided\", \"decided\", \"deducted\", \"deleted\", \"department\", \"described\", \"described\", \"described.\", \"described.\", \"described.\", \"described.\", \"details\", \"determine\", \"determine\", \"device\", \"device\", \"device\", \"device\", \"device\", \"device\", \"device\", \"device\", \"device\", \"device\", \"device\", \"device\", \"device\", \"device\", \"did,\", \"didn't\", \"didn't\", \"didn't\", \"didn't\", \"didn't\", \"didn't\", \"didn't\", \"didn't\", \"didn't\", \"didn't\", \"didn't\", \"didn't\", \"didn't\", \"didn't\", \"didn't\", \"died\", \"died\", \"died\", \"died\", \"died\", \"died\", \"dies\", \"difference\", \"difference\", \"difference\", \"difference\", \"difference\", \"difference\", \"difference\", \"difference\", \"difference\", \"difference\", \"difference\", \"difference\", \"difference.\", \"difference.\", \"difference.\", \"difference.\", \"difference.\", \"difference.\", \"difficulty\", \"difficulty\", \"dirt\", \"disable\", \"disabled\", \"disadvantage\", \"discover\", \"dislike\", \"do,\", \"do,\", \"do,\", \"doctors\", \"document\", \"doesn't\", \"doesn't\", \"doesn't\", \"doesn't\", \"doesn't\", \"doesn't\", \"doesn't\", \"doesn't\", \"doesn't\", \"doesn't\", \"doesn't\", \"doesn't\", \"doesn't\", \"dog\", \"dog\", \"don't\", \"don't\", \"don't\", \"don't\", \"don't\", \"don't\", \"don't\", \"don't\", \"don't\", \"don't\", \"don't\", \"don't\", \"don't\", \"don't\", \"don't\", \"done,\", \"down!\", \"down!\", \"down,\", \"download\", \"download\", \"download\", \"download\", \"download\", \"download\", \"download\", \"download\", \"download\", \"download\", \"download\", \"download\", \"download\", \"download\", \"download.\", \"download.\", \"download.\", \"ds\", \"durable\", \"durable\", \"durable\", \"durable\", \"durable\", \"durable\", \"durable\", \"durable\", \"durable\", \"durable\", \"durable\", \"durable\", \"durable\", \"durable.\", \"durable.\", \"durable.\", \"duracel\", \"duracell\", \"duracell\", \"duracell\", \"duracell\", \"duracell\", \"duracell\", \"duracell\", \"duracell\", \"duracell\", \"duracell\", \"duracell\", \"duracell,\", \"duracell,\", \"e-book\", \"e-book\", \"e-books.\", \"e-mail\", \"e-readers.\", \"easier\", \"easier\", \"easier\", \"easier\", \"easier\", \"easier\", \"easier\", \"easier\", \"easier\", \"easier\", \"easier\", \"easier\", \"easier\", \"easier\", \"easy\", \"easy\", \"easy\", \"easy\", \"easy\", \"easy\", \"easy\", \"easy\", \"easy\", \"easy\", \"easy\", \"easy\", \"easy\", \"easy\", \"easy\", \"easy-to-use\", \"eat\", \"eat\", \"ebooks.\", \"educational\", \"educational\", \"educational\", \"educational\", \"educational\", \"educational\", \"educational\", \"educational\", \"educational\", \"educational\", \"educational\", \"educational\", \"effect\", \"electronic.\", \"emergency\", \"energizer\", \"energizer\", \"energizer\", \"energizer\", \"energizer\", \"energizer\", \"energizer\", \"energizer\", \"energizer\", \"energizer,\", \"energy\", \"enjoy\", \"enjoy\", \"enjoy\", \"enjoy\", \"enjoy\", \"enjoy\", \"enjoy\", \"enjoy\", \"enjoy\", \"enjoy\", \"enjoy\", \"enjoy\", \"enjoy\", \"enjoy\", \"enjoys\", \"enjoys\", \"enjoys\", \"enjoys\", \"enjoys\", \"enjoys\", \"enjoys\", \"enjoys\", \"enjoys\", \"enjoys\", \"enjoys\", \"entertained\", \"entertained\", \"entertained\", \"entertained\", \"entertained\", \"entertained\", \"entertaining\", \"entertaining\", \"entertaining\", \"entry\", \"entry\", \"equipment\", \"equipment\", \"equipment.\", \"equipment.\", \"ereader\", \"ereader\", \"ereader\", \"ereader\", \"ereader\", \"ereader\", \"ereader\", \"ereader,\", \"error\", \"everywhere!\", \"excelent\", \"excellent\", \"excellent\", \"excellent\", \"excellent\", \"excellent\", \"excellent\", \"excellent\", \"excellent\", \"excellent\", \"excellent\", \"excellent\", \"excellent\", \"excellent\", \"excellent\", \"excellent\", \"excellent.\", \"excellent.\", \"exchange\", \"exchange\", \"exchange\", \"exchange\", \"expand\", \"expand\", \"expand\", \"expand\", \"expand\", \"expected\", \"expected\", \"expected\", \"expected\", \"expected\", \"expected\", \"expected\", \"expected.\", \"expected.\", \"expected.\", \"expected.\", \"expected.\", \"expected.\", \"expected.\", \"expected.\", \"expected.\", \"expected.\", \"expected.\", \"explained\", \"ez\", \"facing\", \"failed.\", \"fall\", \"fall\", \"fall\", \"fall\", \"family\", \"family\", \"family\", \"family\", \"family\", \"family\", \"family\", \"family\", \"family\", \"family\", \"family\", \"family\", \"fan.\", \"fantastic\", \"fantastic\", \"fantastic\", \"fantastic\", \"fantastic\", \"fantastic\", \"fantastic,\", \"far\", \"far\", \"far\", \"far\", \"far\", \"far\", \"far\", \"far\", \"far\", \"far\", \"far\", \"far\", \"far\", \"far\", \"far\", \"faster\", \"faster\", \"faster\", \"faster\", \"faster\", \"faster\", \"faster\", \"faster\", \"faster\", \"faster\", \"father\", \"father\", \"father\", \"father\", \"father\", \"father\", \"fault.\", \"february\", \"feedback\", \"feedback\", \"feel\", \"feel\", \"feel\", \"feel\", \"feel\", \"feel\", \"feel\", \"feel\", \"feel\", \"feel\", \"feel\", \"feel\", \"feels\", \"feels\", \"feels\", \"feels\", \"feels\", \"feels\", \"fianc\\u221a\\u00a9\", \"figure.\", \"fills\", \"find\", \"find\", \"find\", \"find\", \"find\", \"find\", \"find\", \"find\", \"find\", \"find\", \"find\", \"find\", \"find\", \"find.\", \"fir\", \"fir\", \"fire\", \"fire\", \"fire\", \"fire\", \"fire\", \"fire\", \"fire\", \"fire\", \"fire\", \"fire\", \"fire\", \"fire\", \"fire\", \"fire\", \"fire\", \"fire.\", \"fire.\", \"fire.\", \"fire.\", \"fire.\", \"fire.\", \"fire.\", \"fire.\", \"fire.\", \"fire.\", \"fire.\", \"fire.\", \"fireos\", \"fits\", \"fits\", \"fits\", \"fits\", \"fits\", \"fits\", \"fits\", \"fits\", \"fits\", \"fix,\", \"fixed.\", \"flawlessly!\", \"florida.\", \"folder.\", \"following\", \"foot\", \"forward.\", \"four.\", \"four.\", \"free\", \"free\", \"free\", \"free\", \"free\", \"free\", \"free\", \"free\", \"free\", \"free\", \"free\", \"free\", \"free\", \"free\", \"free\", \"friday\", \"friday\", \"friday\", \"friday\", \"friday\", \"friday\", \"friday\", \"friday.\", \"friday.\", \"friday.\", \"friday.\", \"friday.\", \"friday.\", \"friday.\", \"friday.\", \"friend\", \"friend\", \"friend\", \"friend\", \"friend\", \"friend.\", \"friend.\", \"friend.\", \"friend.\", \"friendly\", \"friendly\", \"friendly\", \"friendly\", \"friendly\", \"friendly\", \"friendly\", \"friendly\", \"friendly\", \"friendly\", \"friendly\", \"friendly\", \"friendly.\", \"friendly.\", \"friendly.\", \"friendly.\", \"friendly.\", \"frozen\", \"fun\", \"fun\", \"fun\", \"fun\", \"fun\", \"fun\", \"fun\", \"fun\", \"fun\", \"fun\", \"fun\", \"fun!\", \"functionality\", \"functionality\", \"functionality\", \"functionality\", \"fuss.\", \"games\", \"games\", \"games\", \"games\", \"games\", \"games\", \"games\", \"games\", \"games\", \"games\", \"games\", \"games\", \"games\", \"games\", \"games\", \"games.\", \"games.\", \"games.\", \"games.\", \"games.\", \"games.\", \"games.\", \"games.\", \"games.\", \"games.\", \"games.\", \"games.\", \"games.\", \"geek\", \"geek\", \"geek\", \"geek\", \"geek\", \"geek\", \"generation\", \"generation\", \"generation\", \"generation\", \"generation\", \"generation\", \"generation\", \"generation\", \"generation\", \"giant\", \"gift\", \"gift\", \"gift\", \"gift\", \"gift\", \"gift\", \"gift\", \"gift\", \"gift\", \"gift\", \"gift\", \"gift\", \"gift\", \"gift.\", \"gift.\", \"gift.\", \"gift.\", \"gift.\", \"gift.\", \"gift.\", \"gift.\", \"gift.\", \"gifts\", \"gifts\", \"gifts\", \"gifts\", \"gifts\", \"gifts...\", \"gigs\", \"girls\", \"glued\", \"goo\", \"good\", \"good\", \"good\", \"good\", \"good\", \"good\", \"good\", \"good\", \"good\", \"good\", \"good\", \"good\", \"good\", \"good\", \"good\", \"good!\", \"good!\", \"good.\", \"good.\", \"good.\", \"good.\", \"good.\", \"good.\", \"good.\", \"good.\", \"good.\", \"good.\", \"good.\", \"good.\", \"google\", \"google\", \"google\", \"google\", \"google\", \"google\", \"google\", \"google\", \"google\", \"google\", \"google\", \"google\", \"google\", \"got\", \"got\", \"got\", \"got\", \"got\", \"got\", \"got\", \"got\", \"got\", \"got\", \"got\", \"got\", \"got\", \"got\", \"got\", \"grade\", \"grand\", \"grand\", \"grand\", \"grand\", \"grand\", \"grand\", \"grand\", \"grand\", \"grand\", \"grand\", \"grand\", \"grandbaby\", \"grandchild.\", \"grandchildren\", \"grandchildren\", \"grandchildren\", \"grandchildren.\", \"grandchildren.\", \"grandchildren.\", \"granddaughter\", \"granddaughter\", \"granddaughter\", \"granddaughter\", \"granddaughter\", \"granddaughter\", \"granddaughter\", \"granddaughter\", \"granddaughter\", \"granddaughter\", \"granddaughter\", \"granddaughter\", \"granddaughter,\", \"grandkids\", \"grandkids\", \"grandkids\", \"grandkids\", \"grandkids\", \"grandkids\", \"grandkids\", \"grandma.\", \"grandpa\", \"grandpa\", \"grandson\", \"grandson\", \"grandson\", \"grandson\", \"grandson\", \"grandson\", \"grandson\", \"grandson\", \"grandson\", \"grandson\", \"grandson\", \"grandson\", \"grandson\", \"grandson\", \"grandson\", \"grandson,\", \"grandson,\", \"grandson,\", \"grandson.\", \"grandson.\", \"grandson.\", \"grandson.\", \"grandson.\", \"grandson.\", \"grandson.\", \"grandson.\", \"grandson.\", \"great\", \"great\", \"great\", \"great\", \"great\", \"great\", \"great\", \"great\", \"great\", \"great\", \"great\", \"great\", \"great\", \"great\", \"great\", \"great!\", \"great!\", \"great!\", \"great!\", \"great!\", \"great!\", \"great!\", \"great!\", \"great!\", \"great.\", \"great.\", \"great.\", \"great.\", \"great.\", \"great.\", \"great.\", \"great.\", \"great.\", \"great.\", \"great.\", \"great.\", \"great.\", \"great.\", \"great.\", \"group.\", \"groups.\", \"groups.\", \"grows\", \"grows\", \"guarantee.\", \"guide\", \"guns\", \"half\", \"half\", \"half\", \"half\", \"half\", \"half\", \"half\", \"half\", \"half\", \"half\", \"half\", \"happens.\", \"happy\", \"happy\", \"happy\", \"happy\", \"happy\", \"happy\", \"happy\", \"happy\", \"happy\", \"happy\", \"happy\", \"happy\", \"happy\", \"happy\", \"happy\", \"having\", \"having\", \"having\", \"having\", \"having\", \"having\", \"having\", \"having\", \"having\", \"having\", \"having\", \"having\", \"having\", \"having\", \"having\", \"hd\", \"hd\", \"hd\", \"hd\", \"hd\", \"hd\", \"hd\", \"hd\", \"hd\", \"hd\", \"hd\", \"hd\", \"hd\", \"hd\", \"hd\", \"hd.\", \"hd.\", \"hd.\", \"hd.\", \"hd.\", \"hd.\", \"he's\", \"he's\", \"he's\", \"he's\", \"he's\", \"he's\", \"headphone\", \"headphones,\", \"heart\", \"help\", \"help\", \"help\", \"help\", \"help\", \"help\", \"help\", \"help\", \"help\", \"help\", \"help\", \"help\", \"help\", \"help\", \"hers.\", \"him!\", \"hindsight\", \"hit!\", \"holidays\", \"holidays\", \"holidays\", \"homework\", \"homework\", \"homework\", \"homework,\", \"honest.\", \"hooked.\", \"hope\", \"hope\", \"hope\", \"hope\", \"hope\", \"hope\", \"hope\", \"hope\", \"hoped.\", \"hour.\", \"hurt\", \"i'm\", \"i'm\", \"i'm\", \"i'm\", \"i'm\", \"i'm\", \"i'm\", \"i'm\", \"i'm\", \"i'm\", \"i'm\", \"i'm\", \"i'm\", \"i'm\", \"i'm\", \"i've\", \"i've\", \"i've\", \"i've\", \"i've\", \"i've\", \"i've\", \"i've\", \"i've\", \"i've\", \"i've\", \"i've\", \"i've\", \"i've\", \"i've\", \"i.e.\", \"im\", \"im\", \"im\", \"im\", \"imagined\", \"implemented.\", \"impressive\", \"improvement\", \"improvement\", \"improvement\", \"improvement\", \"improvement\", \"improvement\", \"improvement\", \"improvements\", \"improvements\", \"inch\", \"inch\", \"inch\", \"inch\", \"inch\", \"inch\", \"inch\", \"inch,\", \"included\", \"included\", \"included\", \"included\", \"included\", \"included\", \"included\", \"included\", \"included\", \"indoor\", \"inexpensive.\", \"inexpensive.\", \"inside.\", \"instance)\", \"instant\", \"instantly\", \"instantly\", \"interactive.\", \"interactive.\", \"introducing\", \"intuitive.\", \"investment.\", \"investment.\", \"ios\", \"ipad\", \"ipad\", \"ipad\", \"ipad\", \"ipad\", \"ipad\", \"ipad\", \"ipad\", \"ipad\", \"ipad\", \"ipad\", \"ipad\", \"ipad\", \"ipad\", \"ipad\", \"ipad.\", \"ipad.\", \"ipad.\", \"ipad.\", \"ipad.\", \"ipad.\", \"ipad.\", \"ipad.\", \"ipad.\", \"ipad.\", \"ipad.\", \"ipod\", \"issues!\", \"issues,\", \"it!\", \"it!\", \"it!\", \"it!\", \"it!\", \"it!\", \"it!\", \"it!\", \"it!\", \"it!\", \"it!\", \"it!\", \"it!\", \"it!\", \"it!\", \"it!!\", \"it!!\", \"it!!\", \"it!!\", \"it!!!!\", \"it!!!!!\", \"it!.\", \"it!.\", \"it'll\", \"it..my\", \"item\", \"item\", \"item\", \"item\", \"item\", \"item\", \"item\", \"item\", \"item\", \"item\", \"item\", \"item\", \"item\", \"item!\", \"item,\", \"ive\", \"ive\", \"job\", \"job\", \"job\", \"job\", \"job\", \"job\", \"job\", \"job\", \"job!\", \"junk\", \"junk\", \"junk\", \"junk,\", \"keeps\", \"keeps\", \"keeps\", \"keeps\", \"keeps\", \"keeps\", \"keeps\", \"keeps\", \"keeps\", \"keeps\", \"keeps\", \"keeps\", \"keeps\", \"keyboard\", \"keyboard\", \"keyboard\", \"keyboard\", \"keyboard\", \"keyboard\", \"keys,\", \"kickstand\", \"kid\", \"kid\", \"kid\", \"kid\", \"kid\", \"kid\", \"kid\", \"kid\", \"kid\", \"kid\", \"kid\", \"kid\", \"kid\", \"kid\", \"kid-friendly\", \"kid-friendly\", \"kiddo\", \"kids\", \"kids\", \"kids\", \"kids\", \"kids\", \"kids\", \"kids\", \"kids\", \"kids\", \"kids\", \"kids\", \"kids\", \"kids\", \"kids\", \"kids\", \"kids.\", \"kids.\", \"kids.\", \"kids.\", \"kids.\", \"kids.\", \"kids.\", \"kids.\", \"kids.\", \"kids.\", \"kids.\", \"kids.\", \"kids.\", \"kindle\", \"kindle\", \"kindle\", \"kindle\", \"kindle\", \"kindle\", \"kindle\", \"kindle\", \"kindle\", \"kindle\", \"kindle\", \"kindle\", \"kindle\", \"kindle\", \"kindle\", \"kindle,\", \"kindle,\", \"kindle,\", \"kindle,\", \"kindle,\", \"kindle,\", \"kindle,\", \"kindle,\", \"kindle.\", \"kindle.\", \"kindle.\", \"kindle.\", \"kindle.\", \"kindle.\", \"kindle.\", \"kindle.\", \"kindle.\", \"kindle.\", \"kindle.\", \"kindle.\", \"kindle.\", \"kindle.\", \"kindles!\", \"kindles.\", \"kindles.\", \"kindles.\", \"kindles.\", \"kindles.\", \"kindles.\", \"lag\", \"lag\", \"lag\", \"laptop.\", \"laptop.\", \"laptop.\", \"laptop.\", \"laptop.\", \"laptop.\", \"laptop.\", \"laptop.\", \"laptop.\", \"laptop.\", \"larger\", \"larger\", \"larger\", \"larger\", \"larger\", \"larger\", \"larger\", \"larger\", \"larger\", \"larger\", \"lasted\", \"lasted\", \"lasted\", \"lasted\", \"lasted\", \"lasted\", \"lasted\", \"lasted\", \"lasted\", \"lasted\", \"lasted\", \"lasted\", \"lasting\", \"lasting\", \"lasting\", \"lasting\", \"lasting\", \"lasting\", \"lasting,\", \"lastly,\", \"lasts\", \"lasts\", \"lasts\", \"lasts\", \"lasts\", \"lasts\", \"lasts\", \"lasts\", \"laugh\", \"learning\", \"learning\", \"learning\", \"learning\", \"learning\", \"learning\", \"learning\", \"learning\", \"learning\", \"learning\", \"learning\", \"learning\", \"learning\", \"learning\", \"learning!\", \"learning,\", \"leather\", \"led\", \"led\", \"led\", \"led\", \"led\", \"led\", \"led\", \"left.\", \"letting\", \"level\", \"level\", \"level\", \"level\", \"level\", \"level\", \"life\", \"life\", \"life\", \"life\", \"life\", \"life\", \"life\", \"life\", \"life\", \"life\", \"life\", \"life\", \"life\", \"life\", \"life\", \"life!\", \"life.\", \"life.\", \"life.\", \"life.\", \"life.\", \"life.\", \"life.\", \"life.\", \"life.\", \"life.\", \"life.\", \"light\", \"light\", \"light\", \"light\", \"light\", \"light\", \"light\", \"light\", \"light\", \"light\", \"light\", \"light\", \"light\", \"light\", \"light\", \"lighting\", \"lighting\", \"lighting\", \"lighting,\", \"lighting.\", \"like\", \"like\", \"like\", \"like\", \"like\", \"like\", \"like\", \"like\", \"like\", \"like\", \"like\", \"like\", \"like\", \"like\", \"like\", \"likes\", \"likes\", \"likes\", \"likes\", \"likes\", \"likes\", \"likes\", \"likes\", \"likes\", \"likes\", \"likes\", \"likes\", \"likes.\", \"lil\", \"limited\", \"limited\", \"limited\", \"limited\", \"limited\", \"limited\", \"limited\", \"limited\", \"limited\", \"limited\", \"limited\", \"limited.\", \"listening\", \"listening\", \"listening\", \"listening\", \"listening\", \"listening\", \"lite\", \"lithium\", \"little\", \"little\", \"little\", \"little\", \"little\", \"little\", \"little\", \"little\", \"little\", \"little\", \"little\", \"little\", \"little\", \"little\", \"little\", \"live\", \"live\", \"live\", \"live\", \"live\", \"live\", \"locks,\", \"logic\", \"long\", \"long\", \"long\", \"long\", \"long\", \"long\", \"long\", \"long\", \"long\", \"long\", \"long\", \"long\", \"long\", \"long\", \"long\", \"long,\", \"long,\", \"longer\", \"longer\", \"longer\", \"longer\", \"longer\", \"longer\", \"longer\", \"longer\", \"longer\", \"longer\", \"longer\", \"longer\", \"longer\", \"looked\", \"looked\", \"looked\", \"looked\", \"looked\", \"looked\", \"looked\", \"looked\", \"looked\", \"looking\", \"looking\", \"looking\", \"looking\", \"looking\", \"looking\", \"looking\", \"looking\", \"looking\", \"looking\", \"looking\", \"looking\", \"looking\", \"looking\", \"looking\", \"lot\", \"lot\", \"lot\", \"lot\", \"lot\", \"lot\", \"lot\", \"lot\", \"lot\", \"lot\", \"lot\", \"lot\", \"lot\", \"lot\", \"lot\", \"lots\", \"lots\", \"lots\", \"lots\", \"lots\", \"lots\", \"lots\", \"lots\", \"lots\", \"lots\", \"lots\", \"lots\", \"lots\", \"lots\", \"love\", \"love\", \"love\", \"love\", \"love\", \"love\", \"love\", \"love\", \"love\", \"love\", \"love\", \"love\", \"love\", \"love\", \"love\", \"love!\", \"loved\", \"loved\", \"loved\", \"loved\", \"loved\", \"loved\", \"loved\", \"loved\", \"loved\", \"loved\", \"loved\", \"loved\", \"loved\", \"loved\", \"loves\", \"loves\", \"loves\", \"loves\", \"loves\", \"loves\", \"loves\", \"loves\", \"loves\", \"loves\", \"loves\", \"loves\", \"loves\", \"loves\", \"loves\", \"loves.\", \"magazine\", \"magazine\", \"magazines\", \"magazines\", \"magazines\", \"mah\", \"makes\", \"makes\", \"makes\", \"makes\", \"makes\", \"makes\", \"makes\", \"makes\", \"makes\", \"makes\", \"makes\", \"makes\", \"makes\", \"makes\", \"makes\", \"manufacturer.\", \"mastered\", \"material.\", \"mb\", \"me)\", \"members,\", \"memory\", \"memory\", \"memory\", \"memory\", \"memory\", \"memory\", \"memory\", \"memory\", \"memory\", \"memory\", \"memory\", \"memory\", \"memory\", \"memory\", \"message\", \"met\", \"met\", \"met\", \"met\", \"met\", \"micro\", \"micro\", \"micro\", \"micro\", \"micro\", \"micro\", \"mine.\", \"mine.\", \"missed\", \"missed\", \"mobile\", \"mobile\", \"mode,\", \"model\", \"model\", \"model\", \"model\", \"model\", \"model\", \"model\", \"model\", \"model\", \"mom\", \"mom\", \"mom\", \"mom\", \"mom\", \"mom\", \"mom\", \"mom\", \"mom\", \"mom\", \"mom\", \"mom\", \"mom's\", \"mom's\", \"mommy\", \"money\", \"money\", \"money\", \"money\", \"money\", \"money\", \"money\", \"money\", \"money\", \"money\", \"money\", \"money\", \"money\", \"monitor.\", \"more!\", \"more!\", \"mother-in-law\", \"mother.\", \"mother.\", \"mother.\", \"movies\", \"movies\", \"movies\", \"movies\", \"movies\", \"movies\", \"movies\", \"movies\", \"movies\", \"movies\", \"movies\", \"movies\", \"movies\", \"movies\", \"mp3\", \"national\", \"navigate\", \"navigate\", \"navigate\", \"navigate\", \"navigate\", \"navigate\", \"navigate\", \"navigate\", \"navigate\", \"navigate\", \"navigate\", \"navigate\", \"navigation\", \"need\", \"need\", \"need\", \"need\", \"need\", \"need\", \"need\", \"need\", \"need\", \"need\", \"need\", \"need\", \"need\", \"need\", \"need\", \"needed\", \"needed\", \"needed\", \"needed\", \"needed\", \"needed\", \"needed\", \"needed\", \"needed\", \"needed\", \"needed\", \"needed\", \"needed\", \"needed\", \"needed,\", \"needed,\", \"needed.\", \"needed.\", \"needed.\", \"needed.\", \"needed.\", \"neice\", \"nephew.\", \"netflix\", \"netflix\", \"netflix\", \"netflix\", \"netflix\", \"netflix\", \"netflix\", \"netflix\", \"netflix\", \"netflix\", \"netflix\", \"netflix!!\", \"netflix....\", \"new\", \"new\", \"new\", \"new\", \"new\", \"new\", \"new\", \"new\", \"new\", \"new\", \"new\", \"new\", \"new\", \"new\", \"new\", \"newspaper\", \"next!\", \"nice\", \"nice\", \"nice\", \"nice\", \"nice\", \"nice\", \"nice\", \"nice\", \"nice\", \"nice\", \"nice\", \"nice\", \"nice\", \"nice\", \"nice\", \"nicely.\", \"night.\", \"night.\", \"night.\", \"night.\", \"night.\", \"noble\", \"nook\", \"nook\", \"nook\", \"nook\", \"nook\", \"nook\", \"nook\", \"nook\", \"note:\", \"nothing.\", \"noticeably\", \"now.\", \"now.\", \"now.\", \"now.\", \"now.\", \"now.\", \"now.\", \"now.\", \"now.\", \"now.\", \"now.\", \"now...\", \"numbers.\", \"nursery\", \"obvious\", \"offers,\", \"oh\", \"ok\", \"ok\", \"ok\", \"ok\", \"ok\", \"ok\", \"ok\", \"ok\", \"ok\", \"ok\", \"ok\", \"ok.\", \"ok.\", \"ok.\", \"ok.\", \"old\", \"old\", \"old\", \"old\", \"old\", \"old\", \"old\", \"old\", \"old\", \"old\", \"old\", \"old\", \"old\", \"old\", \"old\", \"old.\", \"old.\", \"old.\", \"old.\", \"old.\", \"old.\", \"old.\", \"old.\", \"old.\", \"old.\", \"old.\", \"old.\", \"old.\", \"older\", \"older\", \"older\", \"older\", \"older\", \"older\", \"older\", \"older\", \"older\", \"older\", \"older\", \"older\", \"older\", \"older\", \"older\", \"one,\", \"one,\", \"one,\", \"one,\", \"one,\", \"one,\", \"one,\", \"one,\", \"one,\", \"one.\", \"one.\", \"one.\", \"one.\", \"one.\", \"one.\", \"one.\", \"one.\", \"one.\", \"one.\", \"one.\", \"one.\", \"one.\", \"one.\", \"one.\", \"onother\", \"opens\", \"opens\", \"operate.\", \"operate.\", \"operating\", \"operating\", \"operating\", \"operating\", \"operating\", \"operating\", \"operating\", \"opinion.\", \"opinion.\", \"opinion.\", \"order\", \"order\", \"order\", \"order\", \"order\", \"order\", \"order\", \"order\", \"order\", \"order\", \"order\", \"ordering\", \"ordering\", \"ordering\", \"ordering\", \"ordering\", \"original\", \"original\", \"original\", \"original\", \"original\", \"original\", \"original\", \"original\", \"original\", \"original\", \"os\", \"os\", \"os\", \"os\", \"os\", \"os\", \"os\", \"os\", \"outlet.\", \"outside.\", \"outside.\", \"outside.\", \"outside.\", \"overall\", \"overall\", \"overall\", \"overall\", \"overall\", \"overall\", \"overall\", \"overall\", \"overall\", \"overall\", \"overall\", \"overall\", \"overall\", \"overpriced\", \"overpriced\", \"pack\", \"pack\", \"pack\", \"pack\", \"pack\", \"pack\", \"pack\", \"pack\", \"pack\", \"pack\", \"packaged\", \"packaged\", \"packaged\", \"packaged\", \"packaged\", \"packaged\", \"packaged\", \"packaged\", \"page\", \"page\", \"page\", \"page\", \"page\", \"page\", \"page\", \"page\", \"page\", \"paired\", \"paired\", \"paired\", \"paper\", \"paper\", \"paper\", \"paper\", \"paper\", \"paper\", \"paper\", \"paper\", \"paper\", \"paperweight.\", \"paperwhite\", \"paperwhite\", \"paperwhite\", \"paperwhite\", \"paperwhite\", \"paperwhite\", \"paperwhite\", \"paperwhite\", \"paperwhite\", \"paperwhite\", \"paperwhite\", \"parental\", \"parental\", \"parental\", \"parental\", \"parental\", \"parental\", \"parental\", \"parental\", \"parental\", \"parental\", \"parental\", \"parental\", \"parental\", \"parents!\", \"parents.\", \"party.\", \"party.\", \"people.\", \"perfect\", \"perfect\", \"perfect\", \"perfect\", \"perfect\", \"perfect\", \"perfect\", \"perfect\", \"perfect\", \"perfect\", \"perfect\", \"perfect\", \"perfect\", \"perfect\", \"perfect\", \"perform\", \"perform\", \"perform\", \"performing\", \"performing\", \"performing\", \"performing\", \"person\", \"person\", \"person\", \"person\", \"person\", \"person\", \"person\", \"personnel\", \"phones.\", \"photos.\", \"photos.\", \"photos.\", \"photos.\", \"photos.\", \"pic\", \"plane\", \"plane\", \"plane\", \"plane\", \"plane\", \"play\", \"play\", \"play\", \"play\", \"play\", \"play\", \"play\", \"play\", \"play\", \"play\", \"play\", \"play\", \"play\", \"play\", \"play\", \"playing\", \"playing\", \"playing\", \"playing\", \"playing\", \"playing\", \"playing\", \"playing\", \"playing\", \"playing\", \"playing\", \"playing\", \"playing\", \"playing\", \"playing.\", \"plays\", \"plays\", \"plays\", \"plays\", \"plays\", \"plays\", \"plays\", \"plays,\", \"pleasant\", \"pleased.\", \"pleased.\", \"pleased.\", \"pleased.\", \"pleased.\", \"pleasure.\", \"plus!\", \"plus!\", \"policy\", \"policy\", \"portability\", \"portability\", \"portability\", \"portion\", \"power!\", \"powerful.\", \"praise\", \"pre-installed\", \"prefect\", \"prefer\", \"prefer\", \"prefer\", \"prefer\", \"prefer\", \"prepaid\", \"present!\", \"pretty\", \"pretty\", \"pretty\", \"pretty\", \"pretty\", \"pretty\", \"pretty\", \"pretty\", \"pretty\", \"pretty\", \"pretty\", \"pretty\", \"pretty\", \"pretty\", \"pretty\", \"previous\", \"previous\", \"previous\", \"previous\", \"previous\", \"previous\", \"previous\", \"previous\", \"previous\", \"previous\", \"price\", \"price\", \"price\", \"price\", \"price\", \"price\", \"price\", \"price\", \"price\", \"price\", \"price\", \"price\", \"price\", \"price\", \"price\", \"price!\", \"price!\", \"price!\", \"price!\", \"price!\", \"price!\", \"price!\", \"price!\", \"price!\", \"price!\", \"price,\", \"price,\", \"price,\", \"price,\", \"price,\", \"price,\", \"price,\", \"price,\", \"price,\", \"price,\", \"price,\", \"price,\", \"price,\", \"price,\", \"price,\", \"price.\", \"price.\", \"price.\", \"price.\", \"price.\", \"price.\", \"price.\", \"price.\", \"price.\", \"price.\", \"price.\", \"price.\", \"price.\", \"price.\", \"price.\", \"priced,\", \"prices\", \"prices\", \"prices\", \"prices\", \"prices\", \"prime\", \"prime\", \"prime\", \"prime\", \"prime\", \"prime\", \"prime\", \"prime\", \"prime\", \"prime\", \"prime\", \"prime\", \"prime\", \"prime\", \"prime\", \"prime!\", \"prime!\", \"prior.\", \"prize\", \"problems!\", \"produces\", \"product\", \"product\", \"product\", \"product\", \"product\", \"product\", \"product\", \"product\", \"product\", \"product\", \"product\", \"product\", \"product\", \"product\", \"product\", \"product!!\", \"product...\", \"products!\", \"products.\", \"products.\", \"products.\", \"products.\", \"products.\", \"products.\", \"products.\", \"profile\", \"profile\", \"profile\", \"profile\", \"profile\", \"profile\", \"programming.\", \"programs\", \"programs\", \"programs\", \"programs\", \"programs\", \"programs.\", \"programs.\", \"programs.\", \"prompt\", \"promptly\", \"proof.\", \"protect\", \"protect\", \"protect\", \"protect\", \"protective\", \"protective\", \"protective\", \"protective\", \"protective\", \"protective\", \"protective\", \"protective\", \"protective\", \"protective.\", \"proudly\", \"public\", \"public\", \"pulled\", \"purchase\", \"purchase\", \"purchase\", \"purchase\", \"purchase\", \"purchase\", \"purchase\", \"purchase\", \"purchase\", \"purchase\", \"purchase\", \"purchase\", \"purchase\", \"purchase\", \"purchase\", \"purchase!!\", \"purchased\", \"purchased\", \"purchased\", \"purchased\", \"purchased\", \"purchased\", \"purchased\", \"purchased\", \"purchased\", \"purchased\", \"purchased\", \"purchased\", \"purchased\", \"purchased\", \"purchased\", \"purpose\", \"purpose\", \"purpose\", \"purpose\", \"purpose\", \"purpose\", \"purpose\", \"purpose\", \"purpose\", \"purse\", \"purse\", \"purse\", \"purse\", \"purse\", \"purse,\", \"puzzles\", \"quad\", \"quality\", \"quality\", \"quality\", \"quality\", \"quality\", \"quality\", \"quality\", \"quality\", \"quality\", \"quality\", \"quality\", \"quality\", \"quality\", \"quality\", \"quality!\", \"quality!\", \"quicker\", \"quickly!\", \"quickly!\", \"r\", \"r\", \"raffle\", \"random\", \"reached\", \"reached\", \"reached\", \"read\", \"read\", \"read\", \"read\", \"read\", \"read\", \"read\", \"read\", \"read\", \"read\", \"read\", \"read\", \"read\", \"read\", \"read\", \"read,\", \"read,\", \"read,\", \"read,\", \"readable\", \"readable\", \"reader\", \"reader\", \"reader\", \"reader\", \"reader\", \"reader\", \"reader\", \"reader\", \"reader\", \"reader\", \"reader\", \"reader\", \"reader.\", \"reader.\", \"reader.\", \"reader.\", \"reader.\", \"reader.\", \"reader.\", \"reader.\", \"reader.\", \"reading\", \"reading\", \"reading\", \"reading\", \"reading\", \"reading\", \"reading\", \"reading\", \"reading\", \"reading\", \"reading\", \"reading\", \"reading\", \"reading\", \"reading\", \"reasonable.\", \"receiver\", \"recharged\", \"recieved\", \"recommend\", \"recommend\", \"recommend\", \"recommend\", \"recommend\", \"recommend\", \"recommend\", \"recommend\", \"recommend\", \"recommend\", \"recommend\", \"recommend\", \"recommend\", \"recommend\", \"recommend\", \"recommendation\", \"recommending\", \"reduction\", \"refund.\", \"refused\", \"regrets\", \"reliable.\", \"reliable.\", \"reliable.\", \"remaining\", \"remaining\", \"remote\", \"remote\", \"remote\", \"remote\", \"remote\", \"remote\", \"remote\", \"remote\", \"repair\", \"repeat\", \"replace\", \"replace\", \"replace\", \"replace\", \"replace\", \"replace\", \"replace\", \"replace\", \"replace\", \"replace\", \"replace\", \"replace\", \"replace\", \"replace\", \"repossess\", \"request\", \"resolution\", \"resolution\", \"resolution\", \"resolution\", \"resolution\", \"resolution\", \"resolution\", \"resolution\", \"resolution\", \"resolution\", \"resolution\", \"resolution\", \"respond\", \"responds\", \"responds\", \"responds\", \"rest\", \"rest\", \"rest\", \"rest\", \"restart...\", \"rhymes\", \"rhythm\", \"right.\", \"right.\", \"right.\", \"right.\", \"right.\", \"right.\", \"rolling\", \"rooms\", \"rooting\", \"rooting\", \"rough\", \"rough\", \"rough\", \"rough\", \"rough\", \"rough\", \"rubber\", \"rubber\", \"rubber\", \"run\", \"run\", \"run\", \"run\", \"run\", \"run\", \"run\", \"run\", \"run\", \"run\", \"run\", \"run\", \"run\", \"run\", \"run\", \"runs\", \"runs\", \"runs\", \"runs\", \"runs\", \"runs\", \"runs\", \"runs\", \"s2\", \"s2\", \"safeguard\", \"salesman\", \"salesman\", \"salesman\", \"samsung.\", \"satisfactory\", \"satisfactory\", \"savvy\", \"savvy\", \"savvy\", \"savvy\", \"say.\", \"say.\", \"say.\", \"say.\", \"screen\", \"screen\", \"screen\", \"screen\", \"screen\", \"screen\", \"screen\", \"screen\", \"screen\", \"screen\", \"screen\", \"screen\", \"screen\", \"screen\", \"screen\", \"screen!\", \"sd\", \"sd\", \"sd\", \"sd\", \"sd\", \"sd\", \"sd\", \"sd\", \"sd\", \"sd\", \"season\", \"security\", \"security\", \"security\", \"service\", \"service\", \"service\", \"service\", \"service\", \"service\", \"service\", \"service\", \"service\", \"services.\", \"services.\", \"services.\", \"sesame\", \"set\", \"set\", \"set\", \"set\", \"set\", \"set\", \"set\", \"set\", \"set\", \"set\", \"set\", \"set\", \"set\", \"set\", \"set\", \"set-up\", \"set-up\", \"setup.\", \"setup.\", \"shade\", \"shade\", \"shame\", \"sharing\", \"she'll\", \"shelf\", \"shelf\", \"shelf\", \"shelf\", \"shelf\", \"shelf\", \"shortly\", \"shortly\", \"shown\", \"shown\", \"shrink\", \"shrink\", \"signal.\", \"silly\", \"similar\", \"similar\", \"similar\", \"similar\", \"similar\", \"similar\", \"sister,\", \"situation.\", \"size\", \"size\", \"size\", \"size\", \"size\", \"size\", \"size\", \"size\", \"size\", \"size\", \"size\", \"size\", \"size\", \"size\", \"size\", \"sleeker\", \"slides\", \"slot.\", \"slot.\", \"slow\", \"slow\", \"slow\", \"slow\", \"slow\", \"slow\", \"slow\", \"slow\", \"slow\", \"slow\", \"slow\", \"slow\", \"slow.\", \"slow.\", \"slow.\", \"slowly\", \"snappy\", \"soft\", \"soft\", \"soft,\", \"solid.\", \"solve\", \"someone.\", \"sometimes.\", \"sometimes.\", \"sometimes.\", \"son\", \"son\", \"son\", \"son\", \"son\", \"son\", \"son\", \"son\", \"son\", \"son\", \"son\", \"son\", \"son\", \"son\", \"son\", \"space\", \"space\", \"space\", \"space\", \"space\", \"space\", \"space\", \"space\", \"space\", \"span.\", \"spare\", \"speak\", \"speak\", \"sports\", \"spot.\", \"spouse\", \"spring\", \"spring\", \"squad\", \"squad\", \"squad\", \"squad\", \"squad\", \"squad\", \"standards\", \"starting\", \"starting\", \"starting\", \"starting\", \"starting\", \"staying\", \"stepkids\", \"stock\", \"stock\", \"stock\", \"stock\", \"stock\", \"stock\", \"stock\", \"stock.\", \"stock.\", \"stocked\", \"stop\", \"stop\", \"stop\", \"stop\", \"stop\", \"storage.\", \"storage.\", \"storage.\", \"storage.\", \"storage.\", \"storage.\", \"storage.\", \"store\", \"store\", \"store\", \"store\", \"store\", \"store\", \"store\", \"store\", \"store\", \"store\", \"store\", \"store\", \"store\", \"store\", \"store).\", \"store,\", \"store,\", \"store,\", \"store,\", \"store,\", \"store,\", \"store,\", \"store,\", \"straight\", \"straight\", \"straight\", \"street\", \"strong\", \"strong\", \"strong\", \"strong\", \"strong\", \"strong\", \"sturdy\", \"sturdy\", \"sturdy\", \"sturdy\", \"sturdy\", \"sturdy\", \"sturdy\", \"sun.\", \"sun.\", \"super\", \"super\", \"super\", \"super\", \"super\", \"super\", \"super\", \"super\", \"super\", \"super\", \"super\", \"supervise\", \"supervise\", \"supporting\", \"sure,\", \"surface,\", \"surprise\", \"surprise\", \"surprises\", \"swipe\", \"swipe\", \"sync\", \"sync\", \"tables\", \"tablet\", \"tablet\", \"tablet\", \"tablet\", \"tablet\", \"tablet\", \"tablet\", \"tablet\", \"tablet\", \"tablet\", \"tablet\", \"tablet\", \"tablet\", \"tablet\", \"tablet\", \"tablet!!!\", \"tablet.\", \"tablet.\", \"tablet.\", \"tablet.\", \"tablet.\", \"tablet.\", \"tablet.\", \"tablet.\", \"tablet.\", \"tablet.\", \"tablet.\", \"tablet.\", \"tablet.\", \"tablet.\", \"tablet.\", \"tablet;\", \"tablets\", \"tablets\", \"tablets\", \"tablets\", \"tablets\", \"tablets\", \"tablets\", \"tablets\", \"tablets\", \"tablets\", \"tablets\", \"tablets\", \"tablets\", \"tablets\", \"tablets\", \"tablets...\", \"tasks.\", \"tasks.\", \"tell.\", \"tell.\", \"telling\", \"tells\", \"tells\", \"term.\", \"test\", \"test\", \"test\", \"test\", \"test\", \"textbooks\", \"textbooks\", \"thanks\", \"thanks\", \"thanks\", \"thanks\", \"thanks\", \"thanks\", \"thanks\", \"thanks\", \"thanks!\", \"thats\", \"thats\", \"thats\", \"thats\", \"them.\", \"them.\", \"them.\", \"them.\", \"them.\", \"them.\", \"them.\", \"them.\", \"them.\", \"them.\", \"them.\", \"them.\", \"them.\", \"them.\", \"then,\", \"there.\", \"there.\", \"there.\", \"there.\", \"there.\", \"there.\", \"there.\", \"there.\", \"there.\", \"theres\", \"these.\", \"these.\", \"these.\", \"these.\", \"these.\", \"these.\", \"these.\", \"these.\", \"these.\", \"these.\", \"they're\", \"they're\", \"they're\", \"they're\", \"they're\", \"they're\", \"they're\", \"they're\", \"they're\", \"they're\", \"think\", \"think\", \"think\", \"think\", \"think\", \"think\", \"think\", \"think\", \"think\", \"think\", \"think\", \"think\", \"think\", \"think\", \"this!\", \"this!\", \"this!\", \"this!\", \"this!\", \"this!\", \"tho\", \"tho\", \"tho.\", \"thomas\", \"those.\", \"thought\", \"thought\", \"thought\", \"thought\", \"thought\", \"thought\", \"thought\", \"thought\", \"thought\", \"thought\", \"thought\", \"thought\", \"thought\", \"thoughts\", \"thousands\", \"thousands\", \"thousands\", \"three.\", \"through.\", \"thumbs\", \"thumbs\", \"time\", \"time\", \"time\", \"time\", \"time\", \"time\", \"time\", \"time\", \"time\", \"time\", \"time\", \"time\", \"time\", \"time\", \"time\", \"timely\", \"timer\", \"timer\", \"times.\", \"times.\", \"times.\", \"times.\", \"times.\", \"times...\", \"tip\", \"toddler,\", \"tons\", \"tons\", \"tons\", \"tons\", \"tons\", \"tons\", \"tons\", \"tons\", \"too!\", \"too!\", \"too!\", \"too!\", \"too.\", \"too.\", \"too.\", \"too.\", \"too.\", \"too.\", \"too.\", \"too.\", \"too.\", \"too.\", \"too.\", \"too.\", \"too.\", \"too.\", \"too.\", \"took\", \"took\", \"took\", \"took\", \"took\", \"took\", \"took\", \"took\", \"took\", \"took\", \"took\", \"took\", \"took\", \"tool\", \"tool\", \"tool\", \"tool\", \"tool\", \"tool\", \"tool\", \"tool\", \"top.\", \"top.\", \"tough.\", \"toys..\", \"traded\", \"train\", \"train\", \"travels\", \"trips,\", \"trips,\", \"true.\", \"turn\", \"turn\", \"turn\", \"turn\", \"turn\", \"turn\", \"turn\", \"turn\", \"turn\", \"turn\", \"turn\", \"types\", \"types\", \"u.\", \"uncomfortable\", \"unlock\", \"unlock\", \"unnecessary\", \"update\", \"update\", \"update\", \"update\", \"update\", \"update\", \"update.\", \"updates.\", \"upgrade\", \"upgrade\", \"upgrade\", \"upgrade\", \"upgrade\", \"upgrade\", \"upgrade\", \"upgrade\", \"upgrade\", \"upgrade\", \"upgrade\", \"upgrade\", \"upgrade!\", \"upgrade.\", \"upgrade.\", \"upgrade.\", \"use\", \"use\", \"use\", \"use\", \"use\", \"use\", \"use\", \"use\", \"use\", \"use\", \"use\", \"use\", \"use\", \"use\", \"use\", \"use!!\", \"use.\", \"use.\", \"use.\", \"use.\", \"use.\", \"use.\", \"use.\", \"use.\", \"use.\", \"use.\", \"use.\", \"use.\", \"use.\", \"use.\", \"use.\", \"use.the\", \"useful,\", \"useful.\", \"user\", \"user\", \"user\", \"user\", \"user\", \"user\", \"user\", \"user\", \"user\", \"user\", \"user\", \"user\", \"uses\", \"uses\", \"uses\", \"uses\", \"uses\", \"uses\", \"uses\", \"uses\", \"uses\", \"uses\", \"uses\", \"vacation\", \"vacation.\", \"value\", \"value\", \"value\", \"value\", \"value\", \"value\", \"value\", \"value\", \"value\", \"value\", \"value\", \"value\", \"value!\", \"value!\", \"value!\", \"value.\", \"value.\", \"value.\", \"value.\", \"value.\", \"value.\", \"value.\", \"value.\", \"value.\", \"value.\", \"vehicle\", \"version\", \"version\", \"version\", \"version\", \"version\", \"version\", \"version\", \"version\", \"version\", \"version\", \"version\", \"version\", \"version.\", \"version.\", \"version.\", \"version.\", \"version.\", \"version.\", \"version.\", \"versions!\", \"versions,\", \"versions.\", \"video\", \"video\", \"video\", \"video\", \"video\", \"video\", \"video\", \"video\", \"video\", \"video\", \"video\", \"video\", \"video\", \"videos!\", \"visits\", \"voyage\", \"voyage\", \"voyage\", \"voyage\", \"voyage\", \"voyage\", \"voyage\", \"waking\", \"wanna\", \"want\", \"want\", \"want\", \"want\", \"want\", \"want\", \"want\", \"want\", \"want\", \"want\", \"want\", \"want\", \"want\", \"want\", \"want\", \"wanted\", \"wanted\", \"wanted\", \"wanted\", \"wanted\", \"wanted\", \"wanted\", \"wanted\", \"wanted\", \"wanted\", \"wanted\", \"wanted\", \"wanted\", \"wanted\", \"warranty\", \"warranty\", \"warranty\", \"warranty\", \"warranty\", \"warranty\", \"warranty\", \"warranty\", \"warranty\", \"warranty\", \"warranty\", \"was.\", \"waste\", \"waste\", \"waste\", \"waste\", \"waste\", \"waste\", \"watch\", \"watch\", \"watch\", \"watch\", \"watch\", \"watch\", \"watch\", \"watch\", \"watch\", \"watch\", \"watch\", \"watch\", \"watch\", \"watches\", \"watches\", \"watches\", \"watches\", \"watches\", \"watching\", \"watching\", \"watching\", \"watching\", \"watching\", \"watching\", \"watching\", \"watching\", \"watching\", \"watching\", \"watching\", \"watching\", \"watching\", \"watching\", \"watching\", \"way\", \"way\", \"way\", \"way\", \"way\", \"way\", \"way\", \"way\", \"way\", \"way\", \"way\", \"way\", \"way\", \"way\", \"way\", \"web\", \"web\", \"web\", \"web\", \"web\", \"web\", \"web\", \"web\", \"web\", \"web\", \"web\", \"website.\", \"week\", \"week\", \"week\", \"week\", \"week\", \"week\", \"week\", \"week\", \"week\", \"week\", \"weekend\", \"wider\", \"wife\", \"wife\", \"wife\", \"wife\", \"wife\", \"wife\", \"wife\", \"wife\", \"wife\", \"wife\", \"wife\", \"wife\", \"wife\", \"wife\", \"wife.\", \"wife.\", \"wife.\", \"wish,\", \"wizard\", \"wonderfully\", \"wonders\", \"work\", \"work\", \"work\", \"work\", \"work\", \"work\", \"work\", \"work\", \"work\", \"work\", \"work\", \"work\", \"work\", \"work\", \"work\", \"work.\", \"work.\", \"work.\", \"work.\", \"work.\", \"work.\", \"work.\", \"work.\", \"working\", \"working\", \"working\", \"working\", \"working\", \"working\", \"working\", \"working\", \"working\", \"working\", \"working\", \"working\", \"working\", \"working\", \"works\", \"works\", \"works\", \"works\", \"works\", \"works\", \"works\", \"works\", \"works\", \"works\", \"works\", \"works\", \"works\", \"works\", \"works\", \"works,\", \"works...\", \"worm\", \"worn\", \"worth\", \"worth\", \"worth\", \"worth\", \"worth\", \"worth\", \"worth\", \"worth\", \"worth\", \"worth\", \"worth\", \"worth\", \"worth\", \"worth\", \"worth\", \"would,\", \"wrapped\", \"wrapped\", \"wrapped\", \"wrong!\", \"wrong.\", \"wrong.\", \"wrong.\", \"xmas.\", \"year\", \"year\", \"year\", \"year\", \"year\", \"year\", \"year\", \"year\", \"year\", \"year\", \"year\", \"year\", \"year\", \"year\", \"year\", \"years\", \"years\", \"years\", \"years\", \"years\", \"years\", \"years\", \"years\", \"years\", \"years\", \"years\", \"years\", \"yet!\", \"youngest\", \"youngest\", \"youngest\", \"youtube\", \"youtube\", \"youtube\", \"youtube\", \"youtube\", \"youtube\", \"youtube\", \"youtube\", \"yr\", \"yr\", \"yr\", \"yr\", \"yr\", \"yr\", \"yr\", \"yr\", \"yr\", \"yr\", \"yr\"]}, \"R\": 30, \"lambda.step\": 0.01, \"plot.opts\": {\"xlab\": \"PC1\", \"ylab\": \"PC2\"}, \"topic.order\": [11, 1, 15, 7, 8, 3, 2, 13, 12, 14, 4, 10, 9, 5, 6]};\n",
       "\n",
       "function LDAvis_load_lib(url, callback){\n",
       "  var s = document.createElement('script');\n",
       "  s.src = url;\n",
       "  s.async = true;\n",
       "  s.onreadystatechange = s.onload = callback;\n",
       "  s.onerror = function(){console.warn(\"failed to load library \" + url);};\n",
       "  document.getElementsByTagName(\"head\")[0].appendChild(s);\n",
       "}\n",
       "\n",
       "if(typeof(LDAvis) !== \"undefined\"){\n",
       "   // already loaded: just create the visualization\n",
       "   !function(LDAvis){\n",
       "       new LDAvis(\"#\" + \"ldavis_el4688855497593688860682271\", ldavis_el4688855497593688860682271_data);\n",
       "   }(LDAvis);\n",
       "}else if(typeof define === \"function\" && define.amd){\n",
       "   // require.js is available: use it to load d3/LDAvis\n",
       "   require.config({paths: {d3: \"https://cdnjs.cloudflare.com/ajax/libs/d3/3.5.5/d3.min\"}});\n",
       "   require([\"d3\"], function(d3){\n",
       "      window.d3 = d3;\n",
       "      LDAvis_load_lib(\"https://cdn.rawgit.com/bmabey/pyLDAvis/files/ldavis.v1.0.0.js\", function(){\n",
       "        new LDAvis(\"#\" + \"ldavis_el4688855497593688860682271\", ldavis_el4688855497593688860682271_data);\n",
       "      });\n",
       "    });\n",
       "}else{\n",
       "    // require.js not available: dynamically load d3 & LDAvis\n",
       "    LDAvis_load_lib(\"https://cdnjs.cloudflare.com/ajax/libs/d3/3.5.5/d3.min.js\", function(){\n",
       "         LDAvis_load_lib(\"https://cdn.rawgit.com/bmabey/pyLDAvis/files/ldavis.v1.0.0.js\", function(){\n",
       "                 new LDAvis(\"#\" + \"ldavis_el4688855497593688860682271\", ldavis_el4688855497593688860682271_data);\n",
       "            })\n",
       "         });\n",
       "}\n",
       "</script>"
      ],
      "text/plain": [
       "PreparedData(topic_coordinates=              x         y  topics  cluster       Freq\n",
       "topic                                                \n",
       "10     0.165686 -0.014732       1        1  15.110454\n",
       "0      0.161725  0.127964       2        1   9.549674\n",
       "14     0.044277 -0.075292       3        1   7.892624\n",
       "6     -0.158254  0.020116       4        1   7.216490\n",
       "7     -0.133318  0.060805       5        1   7.050409\n",
       "2      0.025988 -0.020817       6        1   6.245560\n",
       "1     -0.016023  0.032103       7        1   6.050344\n",
       "12     0.078620 -0.062920       8        1   5.936544\n",
       "11    -0.043653 -0.176576       9        1   5.839010\n",
       "13    -0.039880 -0.003736      10        1   5.208476\n",
       "3      0.034052 -0.020308      11        1   4.981923\n",
       "9     -0.100516  0.044933      12        1   4.889476\n",
       "8     -0.005027  0.102818      13        1   4.885525\n",
       "4      0.016736 -0.004187      14        1   4.622989\n",
       "5     -0.030413 -0.010171      15        1   4.520493, topic_info=         Term         Freq        Total Category  logprob  loglift\n",
       "62       good  4314.000000  4314.000000  Default  30.0000  30.0000\n",
       "73      great  7898.000000  7898.000000  Default  29.0000  29.0000\n",
       "2629    loves  2233.000000  2233.000000  Default  28.0000  28.0000\n",
       "2982   kindle  2627.000000  2627.000000  Default  27.0000  27.0000\n",
       "112      year  1739.000000  1739.000000  Default  26.0000  26.0000\n",
       "...       ...          ...          ...      ...      ...      ...\n",
       "191      time    78.711418  1271.595825  Topic15  -5.1931   0.3143\n",
       "210      kids    87.078362  2174.112305  Topic15  -5.0921  -0.1210\n",
       "991      easy    83.558075  3265.690918  Topic15  -5.1334  -0.5691\n",
       "1037     read    68.461212  1140.601807  Topic15  -5.3326   0.2835\n",
       "313   product    67.288734  1295.262817  Topic15  -5.3499   0.1391\n",
       "\n",
       "[1283 rows x 6 columns], token_table=      Topic      Freq Term\n",
       "term                      \n",
       "1551      2  0.716308    !\n",
       "1551      4  0.016467    !\n",
       "1551      5  0.057634    !\n",
       "1551      7  0.049401    !\n",
       "1551     10  0.049401    !\n",
       "...     ...       ...  ...\n",
       "4200     10  0.046193   yr\n",
       "4200     11  0.038494   yr\n",
       "4200     12  0.304101   yr\n",
       "4200     13  0.046193   yr\n",
       "4200     15  0.061590   yr\n",
       "\n",
       "[4723 rows x 3 columns], R=30, lambda_step=0.01, plot_opts={'xlab': 'PC1', 'ylab': 'PC2'}, topic_order=[11, 1, 15, 7, 8, 3, 2, 13, 12, 14, 4, 10, 9, 5, 6])"
      ]
     },
     "execution_count": 42,
     "metadata": {},
     "output_type": "execute_result"
    }
   ],
   "source": [
    "%%time\n",
    "pyLDAvis.gensim.prepare(lda, corpus, id2word)\n",
    "# you can change 'gensim' for 'sklearn'"
   ]
  },
  {
   "cell_type": "code",
   "execution_count": 59,
   "metadata": {},
   "outputs": [
    {
     "data": {
      "text/plain": [
       "10"
      ]
     },
     "execution_count": 59,
     "metadata": {},
     "output_type": "execute_result"
    }
   ],
   "source": [
    "len(corpus[0])"
   ]
  },
  {
   "cell_type": "code",
   "execution_count": 60,
   "metadata": {},
   "outputs": [
    {
     "data": {
      "text/plain": [
       "[(1, 0.17083204), (3, 0.22905114), (8, 0.14718126), (10, 0.38621452)]"
      ]
     },
     "execution_count": 60,
     "metadata": {},
     "output_type": "execute_result"
    }
   ],
   "source": [
    "lda[corpus[0]]"
   ]
  },
  {
   "cell_type": "code",
   "execution_count": 61,
   "metadata": {},
   "outputs": [],
   "source": [
    "distro = [lda[d] for d in corpus]"
   ]
  },
  {
   "cell_type": "code",
   "execution_count": 62,
   "metadata": {},
   "outputs": [
    {
     "data": {
      "text/plain": [
       "[(0, 0.013333522),\n",
       " (1, 0.01333347),\n",
       " (2, 0.013333472),\n",
       " (3, 0.013333499),\n",
       " (4, 0.013333475),\n",
       " (5, 0.013333483),\n",
       " (6, 0.013333471),\n",
       " (7, 0.013333468),\n",
       " (8, 0.013333475),\n",
       " (9, 0.013333468),\n",
       " (10, 0.8133313),\n",
       " (11, 0.013333487),\n",
       " (12, 0.013333485),\n",
       " (13, 0.013333471),\n",
       " (14, 0.013333475)]"
      ]
     },
     "execution_count": 62,
     "metadata": {},
     "output_type": "execute_result"
    }
   ],
   "source": [
    "distro[3]"
   ]
  },
  {
   "cell_type": "code",
   "execution_count": 63,
   "metadata": {},
   "outputs": [],
   "source": [
    "distro = [lda[d] for d in corpus]\n",
    "\n",
    "def update(doc):\n",
    "        d_dist = {k:0 for k in range(0,15)}\n",
    "        for t in doc:\n",
    "            d_dist[t[0]] = t[1]\n",
    "        return d_dist\n",
    "    \n",
    "new_distro = [update(d) for d in distro]"
   ]
  },
  {
   "cell_type": "code",
   "execution_count": 64,
   "metadata": {},
   "outputs": [
    {
     "data": {
      "text/plain": [
       "28332"
      ]
     },
     "execution_count": 64,
     "metadata": {},
     "output_type": "execute_result"
    }
   ],
   "source": [
    "len(new_distro)"
   ]
  },
  {
   "cell_type": "code",
   "execution_count": 65,
   "metadata": {},
   "outputs": [
    {
     "data": {
      "text/plain": [
       "{0: 0,\n",
       " 1: 0.1710166,\n",
       " 2: 0,\n",
       " 3: 0.22866186,\n",
       " 4: 0,\n",
       " 5: 0,\n",
       " 6: 0,\n",
       " 7: 0,\n",
       " 8: 0.14770316,\n",
       " 9: 0,\n",
       " 10: 0.3858975,\n",
       " 11: 0,\n",
       " 12: 0,\n",
       " 13: 0,\n",
       " 14: 0}"
      ]
     },
     "execution_count": 65,
     "metadata": {},
     "output_type": "execute_result"
    }
   ],
   "source": [
    "new_distro[0]"
   ]
  },
  {
   "cell_type": "code",
   "execution_count": 66,
   "metadata": {},
   "outputs": [
    {
     "data": {
      "text/html": [
       "<div>\n",
       "<style scoped>\n",
       "    .dataframe tbody tr th:only-of-type {\n",
       "        vertical-align: middle;\n",
       "    }\n",
       "\n",
       "    .dataframe tbody tr th {\n",
       "        vertical-align: top;\n",
       "    }\n",
       "\n",
       "    .dataframe thead th {\n",
       "        text-align: right;\n",
       "    }\n",
       "</style>\n",
       "<table border=\"1\" class=\"dataframe\">\n",
       "  <thead>\n",
       "    <tr style=\"text-align: right;\">\n",
       "      <th></th>\n",
       "      <th>id</th>\n",
       "      <th>dateAdded</th>\n",
       "      <th>dateUpdated</th>\n",
       "      <th>name</th>\n",
       "      <th>asins</th>\n",
       "      <th>brand</th>\n",
       "      <th>categories</th>\n",
       "      <th>primaryCategories</th>\n",
       "      <th>imageURLs</th>\n",
       "      <th>keys</th>\n",
       "      <th>...</th>\n",
       "      <th>reviews.numHelpful</th>\n",
       "      <th>reviews.rating</th>\n",
       "      <th>reviews.sourceURLs</th>\n",
       "      <th>reviews.text</th>\n",
       "      <th>reviews.title</th>\n",
       "      <th>reviews.username</th>\n",
       "      <th>sourceURLs</th>\n",
       "      <th>tokens</th>\n",
       "      <th>bad_review</th>\n",
       "      <th>good_review</th>\n",
       "    </tr>\n",
       "  </thead>\n",
       "  <tbody>\n",
       "    <tr>\n",
       "      <th>0</th>\n",
       "      <td>AVpgNzjwLJeJML43Kpxn</td>\n",
       "      <td>2015-10-30T08:59:32Z</td>\n",
       "      <td>2019-04-25T09:08:16Z</td>\n",
       "      <td>AmazonBasics AAA Performance Alkaline Batterie...</td>\n",
       "      <td>B00QWO9P0O,B00LH3DMUO</td>\n",
       "      <td>Amazonbasics</td>\n",
       "      <td>AA,AAA,Health,Electronics,Health &amp; Household,C...</td>\n",
       "      <td>Health &amp; Beauty</td>\n",
       "      <td>https://images-na.ssl-images-amazon.com/images...</td>\n",
       "      <td>amazonbasics/hl002619,amazonbasicsaaaperforman...</td>\n",
       "      <td>...</td>\n",
       "      <td>NaN</td>\n",
       "      <td>3</td>\n",
       "      <td>https://www.amazon.com/product-reviews/B00QWO9...</td>\n",
       "      <td>i order 3 of them and one of the item is bad q...</td>\n",
       "      <td>... 3 of them and one of the item is bad quali...</td>\n",
       "      <td>Byger yang</td>\n",
       "      <td>https://www.barcodable.com/upc/841710106442,ht...</td>\n",
       "      <td>[order, 3, item, bad, quality., missing, backu...</td>\n",
       "      <td>True</td>\n",
       "      <td>0</td>\n",
       "    </tr>\n",
       "    <tr>\n",
       "      <th>1</th>\n",
       "      <td>AVpgNzjwLJeJML43Kpxn</td>\n",
       "      <td>2015-10-30T08:59:32Z</td>\n",
       "      <td>2019-04-25T09:08:16Z</td>\n",
       "      <td>AmazonBasics AAA Performance Alkaline Batterie...</td>\n",
       "      <td>B00QWO9P0O,B00LH3DMUO</td>\n",
       "      <td>Amazonbasics</td>\n",
       "      <td>AA,AAA,Health,Electronics,Health &amp; Household,C...</td>\n",
       "      <td>Health &amp; Beauty</td>\n",
       "      <td>https://images-na.ssl-images-amazon.com/images...</td>\n",
       "      <td>amazonbasics/hl002619,amazonbasicsaaaperforman...</td>\n",
       "      <td>...</td>\n",
       "      <td>NaN</td>\n",
       "      <td>4</td>\n",
       "      <td>https://www.amazon.com/product-reviews/B00QWO9...</td>\n",
       "      <td>bulk is always the less expensive way to go fo...</td>\n",
       "      <td>... always the less expensive way to go for pr...</td>\n",
       "      <td>ByMG</td>\n",
       "      <td>https://www.barcodable.com/upc/841710106442,ht...</td>\n",
       "      <td>[bulk, expensive, way, products, like]</td>\n",
       "      <td>False</td>\n",
       "      <td>1</td>\n",
       "    </tr>\n",
       "    <tr>\n",
       "      <th>2</th>\n",
       "      <td>AVpgNzjwLJeJML43Kpxn</td>\n",
       "      <td>2015-10-30T08:59:32Z</td>\n",
       "      <td>2019-04-25T09:08:16Z</td>\n",
       "      <td>AmazonBasics AAA Performance Alkaline Batterie...</td>\n",
       "      <td>B00QWO9P0O,B00LH3DMUO</td>\n",
       "      <td>Amazonbasics</td>\n",
       "      <td>AA,AAA,Health,Electronics,Health &amp; Household,C...</td>\n",
       "      <td>Health &amp; Beauty</td>\n",
       "      <td>https://images-na.ssl-images-amazon.com/images...</td>\n",
       "      <td>amazonbasics/hl002619,amazonbasicsaaaperforman...</td>\n",
       "      <td>...</td>\n",
       "      <td>NaN</td>\n",
       "      <td>5</td>\n",
       "      <td>https://www.amazon.com/product-reviews/B00QWO9...</td>\n",
       "      <td>well they are not duracell but for the price i...</td>\n",
       "      <td>... are not Duracell but for the price i am ha...</td>\n",
       "      <td>BySharon Lambert</td>\n",
       "      <td>https://www.barcodable.com/upc/841710106442,ht...</td>\n",
       "      <td>[duracell, price, happy.]</td>\n",
       "      <td>False</td>\n",
       "      <td>1</td>\n",
       "    </tr>\n",
       "    <tr>\n",
       "      <th>3</th>\n",
       "      <td>AVpgNzjwLJeJML43Kpxn</td>\n",
       "      <td>2015-10-30T08:59:32Z</td>\n",
       "      <td>2019-04-25T09:08:16Z</td>\n",
       "      <td>AmazonBasics AAA Performance Alkaline Batterie...</td>\n",
       "      <td>B00QWO9P0O,B00LH3DMUO</td>\n",
       "      <td>Amazonbasics</td>\n",
       "      <td>AA,AAA,Health,Electronics,Health &amp; Household,C...</td>\n",
       "      <td>Health &amp; Beauty</td>\n",
       "      <td>https://images-na.ssl-images-amazon.com/images...</td>\n",
       "      <td>amazonbasics/hl002619,amazonbasicsaaaperforman...</td>\n",
       "      <td>...</td>\n",
       "      <td>NaN</td>\n",
       "      <td>5</td>\n",
       "      <td>https://www.amazon.com/product-reviews/B00QWO9...</td>\n",
       "      <td>seem to work as well as name brand batteries a...</td>\n",
       "      <td>... as well as name brand batteries at a much ...</td>\n",
       "      <td>Bymark sexson</td>\n",
       "      <td>https://www.barcodable.com/upc/841710106442,ht...</td>\n",
       "      <td>[work, brand, better, price]</td>\n",
       "      <td>False</td>\n",
       "      <td>1</td>\n",
       "    </tr>\n",
       "    <tr>\n",
       "      <th>4</th>\n",
       "      <td>AVpgNzjwLJeJML43Kpxn</td>\n",
       "      <td>2015-10-30T08:59:32Z</td>\n",
       "      <td>2019-04-25T09:08:16Z</td>\n",
       "      <td>AmazonBasics AAA Performance Alkaline Batterie...</td>\n",
       "      <td>B00QWO9P0O,B00LH3DMUO</td>\n",
       "      <td>Amazonbasics</td>\n",
       "      <td>AA,AAA,Health,Electronics,Health &amp; Household,C...</td>\n",
       "      <td>Health &amp; Beauty</td>\n",
       "      <td>https://images-na.ssl-images-amazon.com/images...</td>\n",
       "      <td>amazonbasics/hl002619,amazonbasicsaaaperforman...</td>\n",
       "      <td>...</td>\n",
       "      <td>NaN</td>\n",
       "      <td>5</td>\n",
       "      <td>https://www.amazon.com/product-reviews/B00QWO9...</td>\n",
       "      <td>these batteries are very long lasting the pric...</td>\n",
       "      <td>... batteries are very long lasting the price ...</td>\n",
       "      <td>Bylinda</td>\n",
       "      <td>https://www.barcodable.com/upc/841710106442,ht...</td>\n",
       "      <td>[long, lasting, price, great.]</td>\n",
       "      <td>False</td>\n",
       "      <td>1</td>\n",
       "    </tr>\n",
       "  </tbody>\n",
       "</table>\n",
       "<p>5 rows × 27 columns</p>\n",
       "</div>"
      ],
      "text/plain": [
       "                     id             dateAdded           dateUpdated  \\\n",
       "0  AVpgNzjwLJeJML43Kpxn  2015-10-30T08:59:32Z  2019-04-25T09:08:16Z   \n",
       "1  AVpgNzjwLJeJML43Kpxn  2015-10-30T08:59:32Z  2019-04-25T09:08:16Z   \n",
       "2  AVpgNzjwLJeJML43Kpxn  2015-10-30T08:59:32Z  2019-04-25T09:08:16Z   \n",
       "3  AVpgNzjwLJeJML43Kpxn  2015-10-30T08:59:32Z  2019-04-25T09:08:16Z   \n",
       "4  AVpgNzjwLJeJML43Kpxn  2015-10-30T08:59:32Z  2019-04-25T09:08:16Z   \n",
       "\n",
       "                                                name                  asins  \\\n",
       "0  AmazonBasics AAA Performance Alkaline Batterie...  B00QWO9P0O,B00LH3DMUO   \n",
       "1  AmazonBasics AAA Performance Alkaline Batterie...  B00QWO9P0O,B00LH3DMUO   \n",
       "2  AmazonBasics AAA Performance Alkaline Batterie...  B00QWO9P0O,B00LH3DMUO   \n",
       "3  AmazonBasics AAA Performance Alkaline Batterie...  B00QWO9P0O,B00LH3DMUO   \n",
       "4  AmazonBasics AAA Performance Alkaline Batterie...  B00QWO9P0O,B00LH3DMUO   \n",
       "\n",
       "          brand                                         categories  \\\n",
       "0  Amazonbasics  AA,AAA,Health,Electronics,Health & Household,C...   \n",
       "1  Amazonbasics  AA,AAA,Health,Electronics,Health & Household,C...   \n",
       "2  Amazonbasics  AA,AAA,Health,Electronics,Health & Household,C...   \n",
       "3  Amazonbasics  AA,AAA,Health,Electronics,Health & Household,C...   \n",
       "4  Amazonbasics  AA,AAA,Health,Electronics,Health & Household,C...   \n",
       "\n",
       "  primaryCategories                                          imageURLs  \\\n",
       "0   Health & Beauty  https://images-na.ssl-images-amazon.com/images...   \n",
       "1   Health & Beauty  https://images-na.ssl-images-amazon.com/images...   \n",
       "2   Health & Beauty  https://images-na.ssl-images-amazon.com/images...   \n",
       "3   Health & Beauty  https://images-na.ssl-images-amazon.com/images...   \n",
       "4   Health & Beauty  https://images-na.ssl-images-amazon.com/images...   \n",
       "\n",
       "                                                keys  ... reviews.numHelpful  \\\n",
       "0  amazonbasics/hl002619,amazonbasicsaaaperforman...  ...                NaN   \n",
       "1  amazonbasics/hl002619,amazonbasicsaaaperforman...  ...                NaN   \n",
       "2  amazonbasics/hl002619,amazonbasicsaaaperforman...  ...                NaN   \n",
       "3  amazonbasics/hl002619,amazonbasicsaaaperforman...  ...                NaN   \n",
       "4  amazonbasics/hl002619,amazonbasicsaaaperforman...  ...                NaN   \n",
       "\n",
       "  reviews.rating                                 reviews.sourceURLs  \\\n",
       "0              3  https://www.amazon.com/product-reviews/B00QWO9...   \n",
       "1              4  https://www.amazon.com/product-reviews/B00QWO9...   \n",
       "2              5  https://www.amazon.com/product-reviews/B00QWO9...   \n",
       "3              5  https://www.amazon.com/product-reviews/B00QWO9...   \n",
       "4              5  https://www.amazon.com/product-reviews/B00QWO9...   \n",
       "\n",
       "                                        reviews.text  \\\n",
       "0  i order 3 of them and one of the item is bad q...   \n",
       "1  bulk is always the less expensive way to go fo...   \n",
       "2  well they are not duracell but for the price i...   \n",
       "3  seem to work as well as name brand batteries a...   \n",
       "4  these batteries are very long lasting the pric...   \n",
       "\n",
       "                                       reviews.title  reviews.username  \\\n",
       "0  ... 3 of them and one of the item is bad quali...        Byger yang   \n",
       "1  ... always the less expensive way to go for pr...              ByMG   \n",
       "2  ... are not Duracell but for the price i am ha...  BySharon Lambert   \n",
       "3  ... as well as name brand batteries at a much ...     Bymark sexson   \n",
       "4  ... batteries are very long lasting the price ...           Bylinda   \n",
       "\n",
       "                                          sourceURLs  \\\n",
       "0  https://www.barcodable.com/upc/841710106442,ht...   \n",
       "1  https://www.barcodable.com/upc/841710106442,ht...   \n",
       "2  https://www.barcodable.com/upc/841710106442,ht...   \n",
       "3  https://www.barcodable.com/upc/841710106442,ht...   \n",
       "4  https://www.barcodable.com/upc/841710106442,ht...   \n",
       "\n",
       "                                              tokens  bad_review good_review  \n",
       "0  [order, 3, item, bad, quality., missing, backu...        True           0  \n",
       "1             [bulk, expensive, way, products, like]       False           1  \n",
       "2                          [duracell, price, happy.]       False           1  \n",
       "3                       [work, brand, better, price]       False           1  \n",
       "4                     [long, lasting, price, great.]       False           1  \n",
       "\n",
       "[5 rows x 27 columns]"
      ]
     },
     "execution_count": 66,
     "metadata": {},
     "output_type": "execute_result"
    }
   ],
   "source": [
    "df.head()"
   ]
  },
  {
   "cell_type": "code",
   "execution_count": 68,
   "metadata": {},
   "outputs": [],
   "source": [
    "df_d = pd.DataFrame.from_records(new_distro)\n",
    "df_d.columns = topics\n",
    "df_d['good_review'] = df.reset_index()['good_review'].tolist()"
   ]
  },
  {
   "cell_type": "code",
   "execution_count": 69,
   "metadata": {},
   "outputs": [
    {
     "data": {
      "text/html": [
       "<div>\n",
       "<style scoped>\n",
       "    .dataframe tbody tr th:only-of-type {\n",
       "        vertical-align: middle;\n",
       "    }\n",
       "\n",
       "    .dataframe tbody tr th {\n",
       "        vertical-align: top;\n",
       "    }\n",
       "\n",
       "    .dataframe thead th {\n",
       "        text-align: right;\n",
       "    }\n",
       "</style>\n",
       "<table border=\"1\" class=\"dataframe\">\n",
       "  <thead>\n",
       "    <tr style=\"text-align: right;\">\n",
       "      <th></th>\n",
       "      <th>great long product easy price buy works good tablet price.</th>\n",
       "      <th>great tablet kids year case apps good 2 like battery</th>\n",
       "      <th>tablet great kindle love easy like user read screen need</th>\n",
       "      <th>love price great like read size good kindle screen easy</th>\n",
       "      <th>great can't best value beat tablet love - thanks like</th>\n",
       "      <th>great loves tablet bought kindle old price fire son use</th>\n",
       "      <th>year old tablet loves games bought play easy great love</th>\n",
       "      <th>love loves great tablet gift easy bought kids perfect daughter</th>\n",
       "      <th>easy use loves tablet great bought i'm perfect love lots</th>\n",
       "      <th>bought use love purchased easy set parental tablet christmas loved</th>\n",
       "      <th>work good batteries. battery use long brand price like better</th>\n",
       "      <th>fire kindle new better hd screen bought 8 old 7</th>\n",
       "      <th>good tablet price card works use price. buy tablet. sd</th>\n",
       "      <th>kindle great reading easy books bought use playing good fire</th>\n",
       "      <th>tablet google apps play kids good like app use store</th>\n",
       "      <th>good_review</th>\n",
       "    </tr>\n",
       "  </thead>\n",
       "  <tbody>\n",
       "    <tr>\n",
       "      <th>0</th>\n",
       "      <td>0.000000</td>\n",
       "      <td>0.171017</td>\n",
       "      <td>0.000000</td>\n",
       "      <td>0.228662</td>\n",
       "      <td>0.000000</td>\n",
       "      <td>0.000000</td>\n",
       "      <td>0.000000</td>\n",
       "      <td>0.000000</td>\n",
       "      <td>0.147703</td>\n",
       "      <td>0.000000</td>\n",
       "      <td>0.385897</td>\n",
       "      <td>0.000000</td>\n",
       "      <td>0.000000</td>\n",
       "      <td>0.000000</td>\n",
       "      <td>0.000000</td>\n",
       "      <td>0</td>\n",
       "    </tr>\n",
       "    <tr>\n",
       "      <th>1</th>\n",
       "      <td>0.844432</td>\n",
       "      <td>0.011112</td>\n",
       "      <td>0.011112</td>\n",
       "      <td>0.011112</td>\n",
       "      <td>0.011112</td>\n",
       "      <td>0.011112</td>\n",
       "      <td>0.011112</td>\n",
       "      <td>0.011112</td>\n",
       "      <td>0.011112</td>\n",
       "      <td>0.011112</td>\n",
       "      <td>0.011112</td>\n",
       "      <td>0.011112</td>\n",
       "      <td>0.011112</td>\n",
       "      <td>0.011112</td>\n",
       "      <td>0.011112</td>\n",
       "      <td>1</td>\n",
       "    </tr>\n",
       "    <tr>\n",
       "      <th>2</th>\n",
       "      <td>0.016670</td>\n",
       "      <td>0.016669</td>\n",
       "      <td>0.016669</td>\n",
       "      <td>0.016670</td>\n",
       "      <td>0.016669</td>\n",
       "      <td>0.016670</td>\n",
       "      <td>0.016669</td>\n",
       "      <td>0.016669</td>\n",
       "      <td>0.330801</td>\n",
       "      <td>0.016669</td>\n",
       "      <td>0.452495</td>\n",
       "      <td>0.016669</td>\n",
       "      <td>0.016670</td>\n",
       "      <td>0.016669</td>\n",
       "      <td>0.016670</td>\n",
       "      <td>1</td>\n",
       "    </tr>\n",
       "    <tr>\n",
       "      <th>3</th>\n",
       "      <td>0.013334</td>\n",
       "      <td>0.013333</td>\n",
       "      <td>0.013333</td>\n",
       "      <td>0.013334</td>\n",
       "      <td>0.013333</td>\n",
       "      <td>0.013333</td>\n",
       "      <td>0.013333</td>\n",
       "      <td>0.013333</td>\n",
       "      <td>0.013333</td>\n",
       "      <td>0.013333</td>\n",
       "      <td>0.813331</td>\n",
       "      <td>0.013333</td>\n",
       "      <td>0.013333</td>\n",
       "      <td>0.013333</td>\n",
       "      <td>0.013333</td>\n",
       "      <td>1</td>\n",
       "    </tr>\n",
       "    <tr>\n",
       "      <th>4</th>\n",
       "      <td>0.813330</td>\n",
       "      <td>0.013334</td>\n",
       "      <td>0.013334</td>\n",
       "      <td>0.013334</td>\n",
       "      <td>0.013334</td>\n",
       "      <td>0.013334</td>\n",
       "      <td>0.013334</td>\n",
       "      <td>0.013334</td>\n",
       "      <td>0.013334</td>\n",
       "      <td>0.013334</td>\n",
       "      <td>0.013334</td>\n",
       "      <td>0.013334</td>\n",
       "      <td>0.013334</td>\n",
       "      <td>0.013334</td>\n",
       "      <td>0.013334</td>\n",
       "      <td>1</td>\n",
       "    </tr>\n",
       "  </tbody>\n",
       "</table>\n",
       "</div>"
      ],
      "text/plain": [
       "   great long product easy price buy works good tablet price.  \\\n",
       "0                                           0.000000            \n",
       "1                                           0.844432            \n",
       "2                                           0.016670            \n",
       "3                                           0.013334            \n",
       "4                                           0.813330            \n",
       "\n",
       "   great tablet kids year case apps good 2 like battery  \\\n",
       "0                                           0.171017      \n",
       "1                                           0.011112      \n",
       "2                                           0.016669      \n",
       "3                                           0.013333      \n",
       "4                                           0.013334      \n",
       "\n",
       "   tablet great kindle love easy like user read screen need  \\\n",
       "0                                           0.000000          \n",
       "1                                           0.011112          \n",
       "2                                           0.016669          \n",
       "3                                           0.013333          \n",
       "4                                           0.013334          \n",
       "\n",
       "   love price great like read size good kindle screen easy  \\\n",
       "0                                           0.228662         \n",
       "1                                           0.011112         \n",
       "2                                           0.016670         \n",
       "3                                           0.013334         \n",
       "4                                           0.013334         \n",
       "\n",
       "   great can't best value beat tablet love - thanks like  \\\n",
       "0                                           0.000000       \n",
       "1                                           0.011112       \n",
       "2                                           0.016669       \n",
       "3                                           0.013333       \n",
       "4                                           0.013334       \n",
       "\n",
       "   great loves tablet bought kindle old price fire son use  \\\n",
       "0                                           0.000000         \n",
       "1                                           0.011112         \n",
       "2                                           0.016670         \n",
       "3                                           0.013333         \n",
       "4                                           0.013334         \n",
       "\n",
       "   year old tablet loves games bought play easy great love  \\\n",
       "0                                           0.000000         \n",
       "1                                           0.011112         \n",
       "2                                           0.016669         \n",
       "3                                           0.013333         \n",
       "4                                           0.013334         \n",
       "\n",
       "   love loves great tablet gift easy bought kids perfect daughter  \\\n",
       "0                                           0.000000                \n",
       "1                                           0.011112                \n",
       "2                                           0.016669                \n",
       "3                                           0.013333                \n",
       "4                                           0.013334                \n",
       "\n",
       "   easy use loves tablet great bought i'm perfect love lots  \\\n",
       "0                                           0.147703          \n",
       "1                                           0.011112          \n",
       "2                                           0.330801          \n",
       "3                                           0.013333          \n",
       "4                                           0.013334          \n",
       "\n",
       "   bought use love purchased easy set parental tablet christmas loved  \\\n",
       "0                                           0.000000                    \n",
       "1                                           0.011112                    \n",
       "2                                           0.016669                    \n",
       "3                                           0.013333                    \n",
       "4                                           0.013334                    \n",
       "\n",
       "   work good batteries. battery use long brand price like better  \\\n",
       "0                                           0.385897               \n",
       "1                                           0.011112               \n",
       "2                                           0.452495               \n",
       "3                                           0.813331               \n",
       "4                                           0.013334               \n",
       "\n",
       "   fire kindle new better hd screen bought 8 old 7  \\\n",
       "0                                         0.000000   \n",
       "1                                         0.011112   \n",
       "2                                         0.016669   \n",
       "3                                         0.013333   \n",
       "4                                         0.013334   \n",
       "\n",
       "   good tablet price card works use price. buy tablet. sd  \\\n",
       "0                                           0.000000        \n",
       "1                                           0.011112        \n",
       "2                                           0.016670        \n",
       "3                                           0.013333        \n",
       "4                                           0.013334        \n",
       "\n",
       "   kindle great reading easy books bought use playing good fire  \\\n",
       "0                                           0.000000              \n",
       "1                                           0.011112              \n",
       "2                                           0.016669              \n",
       "3                                           0.013333              \n",
       "4                                           0.013334              \n",
       "\n",
       "   tablet google apps play kids good like app use store  good_review  \n",
       "0                                           0.000000               0  \n",
       "1                                           0.011112               1  \n",
       "2                                           0.016670               1  \n",
       "3                                           0.013333               1  \n",
       "4                                           0.013334               1  "
      ]
     },
     "execution_count": 69,
     "metadata": {},
     "output_type": "execute_result"
    }
   ],
   "source": [
    "df_d.head()"
   ]
  },
  {
   "cell_type": "code",
   "execution_count": 70,
   "metadata": {},
   "outputs": [
    {
     "data": {
      "text/html": [
       "<div>\n",
       "<style scoped>\n",
       "    .dataframe tbody tr th:only-of-type {\n",
       "        vertical-align: middle;\n",
       "    }\n",
       "\n",
       "    .dataframe tbody tr th {\n",
       "        vertical-align: top;\n",
       "    }\n",
       "\n",
       "    .dataframe thead th {\n",
       "        text-align: right;\n",
       "    }\n",
       "</style>\n",
       "<table border=\"1\" class=\"dataframe\">\n",
       "  <thead>\n",
       "    <tr style=\"text-align: right;\">\n",
       "      <th></th>\n",
       "      <th>great long product easy price buy works good tablet price.</th>\n",
       "      <th>great tablet kids year case apps good 2 like battery</th>\n",
       "      <th>tablet great kindle love easy like user read screen need</th>\n",
       "      <th>love price great like read size good kindle screen easy</th>\n",
       "      <th>great can't best value beat tablet love - thanks like</th>\n",
       "      <th>great loves tablet bought kindle old price fire son use</th>\n",
       "      <th>year old tablet loves games bought play easy great love</th>\n",
       "      <th>love loves great tablet gift easy bought kids perfect daughter</th>\n",
       "      <th>easy use loves tablet great bought i'm perfect love lots</th>\n",
       "      <th>bought use love purchased easy set parental tablet christmas loved</th>\n",
       "      <th>work good batteries. battery use long brand price like better</th>\n",
       "      <th>fire kindle new better hd screen bought 8 old 7</th>\n",
       "      <th>good tablet price card works use price. buy tablet. sd</th>\n",
       "      <th>kindle great reading easy books bought use playing good fire</th>\n",
       "      <th>tablet google apps play kids good like app use store</th>\n",
       "    </tr>\n",
       "    <tr>\n",
       "      <th>good_review</th>\n",
       "      <th></th>\n",
       "      <th></th>\n",
       "      <th></th>\n",
       "      <th></th>\n",
       "      <th></th>\n",
       "      <th></th>\n",
       "      <th></th>\n",
       "      <th></th>\n",
       "      <th></th>\n",
       "      <th></th>\n",
       "      <th></th>\n",
       "      <th></th>\n",
       "      <th></th>\n",
       "      <th></th>\n",
       "      <th></th>\n",
       "    </tr>\n",
       "  </thead>\n",
       "  <tbody>\n",
       "    <tr>\n",
       "      <th>0</th>\n",
       "      <td>0.086960</td>\n",
       "      <td>0.045627</td>\n",
       "      <td>0.065810</td>\n",
       "      <td>0.023945</td>\n",
       "      <td>0.039420</td>\n",
       "      <td>0.031132</td>\n",
       "      <td>0.042894</td>\n",
       "      <td>0.026888</td>\n",
       "      <td>0.038272</td>\n",
       "      <td>0.065031</td>\n",
       "      <td>0.267397</td>\n",
       "      <td>0.047577</td>\n",
       "      <td>0.060642</td>\n",
       "      <td>0.028972</td>\n",
       "      <td>0.084903</td>\n",
       "    </tr>\n",
       "    <tr>\n",
       "      <th>1</th>\n",
       "      <td>0.152433</td>\n",
       "      <td>0.045881</td>\n",
       "      <td>0.044607</td>\n",
       "      <td>0.050131</td>\n",
       "      <td>0.047974</td>\n",
       "      <td>0.041169</td>\n",
       "      <td>0.064934</td>\n",
       "      <td>0.084232</td>\n",
       "      <td>0.051701</td>\n",
       "      <td>0.043721</td>\n",
       "      <td>0.121281</td>\n",
       "      <td>0.044457</td>\n",
       "      <td>0.065378</td>\n",
       "      <td>0.049024</td>\n",
       "      <td>0.042549</td>\n",
       "    </tr>\n",
       "  </tbody>\n",
       "</table>\n",
       "</div>"
      ],
      "text/plain": [
       "             great long product easy price buy works good tablet price.  \\\n",
       "good_review                                                               \n",
       "0                                                     0.086960            \n",
       "1                                                     0.152433            \n",
       "\n",
       "             great tablet kids year case apps good 2 like battery  \\\n",
       "good_review                                                         \n",
       "0                                                     0.045627      \n",
       "1                                                     0.045881      \n",
       "\n",
       "             tablet great kindle love easy like user read screen need  \\\n",
       "good_review                                                             \n",
       "0                                                     0.065810          \n",
       "1                                                     0.044607          \n",
       "\n",
       "             love price great like read size good kindle screen easy  \\\n",
       "good_review                                                            \n",
       "0                                                     0.023945         \n",
       "1                                                     0.050131         \n",
       "\n",
       "             great can't best value beat tablet love - thanks like  \\\n",
       "good_review                                                          \n",
       "0                                                     0.039420       \n",
       "1                                                     0.047974       \n",
       "\n",
       "             great loves tablet bought kindle old price fire son use  \\\n",
       "good_review                                                            \n",
       "0                                                     0.031132         \n",
       "1                                                     0.041169         \n",
       "\n",
       "             year old tablet loves games bought play easy great love  \\\n",
       "good_review                                                            \n",
       "0                                                     0.042894         \n",
       "1                                                     0.064934         \n",
       "\n",
       "             love loves great tablet gift easy bought kids perfect daughter  \\\n",
       "good_review                                                                   \n",
       "0                                                     0.026888                \n",
       "1                                                     0.084232                \n",
       "\n",
       "             easy use loves tablet great bought i'm perfect love lots  \\\n",
       "good_review                                                             \n",
       "0                                                     0.038272          \n",
       "1                                                     0.051701          \n",
       "\n",
       "             bought use love purchased easy set parental tablet christmas loved  \\\n",
       "good_review                                                                       \n",
       "0                                                     0.065031                    \n",
       "1                                                     0.043721                    \n",
       "\n",
       "             work good batteries. battery use long brand price like better  \\\n",
       "good_review                                                                  \n",
       "0                                                     0.267397               \n",
       "1                                                     0.121281               \n",
       "\n",
       "             fire kindle new better hd screen bought 8 old 7  \\\n",
       "good_review                                                    \n",
       "0                                                   0.047577   \n",
       "1                                                   0.044457   \n",
       "\n",
       "             good tablet price card works use price. buy tablet. sd  \\\n",
       "good_review                                                           \n",
       "0                                                     0.060642        \n",
       "1                                                     0.065378        \n",
       "\n",
       "             kindle great reading easy books bought use playing good fire  \\\n",
       "good_review                                                                 \n",
       "0                                                     0.028972              \n",
       "1                                                     0.049024              \n",
       "\n",
       "             tablet google apps play kids good like app use store  \n",
       "good_review                                                        \n",
       "0                                                     0.084903     \n",
       "1                                                     0.042549     "
      ]
     },
     "execution_count": 70,
     "metadata": {},
     "output_type": "execute_result"
    }
   ],
   "source": [
    "df_d.groupby('good_review').mean()"
   ]
  },
  {
   "cell_type": "markdown",
   "metadata": {},
   "source": [
    "## Stretch Goals\n",
    "\n",
    "* Incorporate Named Entity Recognition in your analysis\n",
    "* Incorporate some custom pre-processing from our previous lessons (like spacy lemmatization)\n",
    "* Analyze a dataset of interest to you with topic modeling"
   ]
  }
 ],
 "metadata": {
  "kernelspec": {
   "display_name": "U4-S1-NLP (Python3)",
   "language": "python",
   "name": "u4-s1-nlp"
  },
  "language_info": {
   "codemirror_mode": {
    "name": "ipython",
    "version": 3
   },
   "file_extension": ".py",
   "mimetype": "text/x-python",
   "name": "python",
   "nbconvert_exporter": "python",
   "pygments_lexer": "ipython3",
   "version": "3.7.0"
  }
 },
 "nbformat": 4,
 "nbformat_minor": 2
}
