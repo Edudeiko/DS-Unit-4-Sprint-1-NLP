{
 "cells": [
  {
   "cell_type": "markdown",
   "metadata": {},
   "source": [
    "<img align=\"left\" src=\"https://lever-client-logos.s3.amazonaws.com/864372b1-534c-480e-acd5-9711f850815c-1524247202159.png\" width=200>\n",
    "<br></br>\n",
    "\n",
    "# Vector Representations\n",
    "## *Data Science Unit 4 Sprint 2 Assignment 2*"
   ]
  },
  {
   "cell_type": "code",
   "execution_count": 1,
   "metadata": {
    "colab": {
     "base_uri": "https://localhost:8080/",
     "height": 159
    },
    "colab_type": "code",
    "id": "hyj-f9FDcVFp",
    "outputId": "5dd045fe-6e4c-458c-e2fc-253c3da9c805"
   },
   "outputs": [],
   "source": [
    "import re\n",
    "import string\n",
    "\n",
    "from sklearn.feature_extraction.text import CountVectorizer, TfidfVectorizer\n",
    "import matplotlib.pyplot as plt\n",
    "import pandas as pd\n",
    "import numpy as np\n",
    "import spacy\n",
    "\n",
    "from bs4 import BeautifulSoup"
   ]
  },
  {
   "cell_type": "markdown",
   "metadata": {
    "colab_type": "text",
    "id": "M7bcmqfGXrFG"
   },
   "source": [
    "## 1) *Clean:* Job Listings from indeed.com that contain the title \"Data Scientist\" \n",
    "\n",
    "You have `job_listings.csv` in the data folder for this module. The text data in the description column is still messy - full of html tags. Use the [BeautifulSoup](https://www.crummy.com/software/BeautifulSoup/bs4/doc/) library to clean up this column. You will need to read through the documentation to accomplish this task. "
   ]
  },
  {
   "cell_type": "code",
   "execution_count": 2,
   "metadata": {
    "colab": {},
    "colab_type": "code",
    "id": "KcYlc1URXhlC"
   },
   "outputs": [],
   "source": [
    "# from bs4 import BeautifulSoup\n",
    "import requests\n",
    "\n",
    "##### Your Code Here #####\n",
    "file = 'data/job_listings.csv'\n",
    "DS = pd.read_csv(file, index_col=False)\n",
    "\n",
    "# raise Exception(\"\\nThis task is not complete. \\nReplace this line with your code for the task.\")\n",
    "                \n",
    "# clean markdown from raw html"
   ]
  },
  {
   "cell_type": "code",
   "execution_count": null,
   "metadata": {},
   "outputs": [],
   "source": [
    "pip install lxml"
   ]
  },
  {
   "cell_type": "code",
   "execution_count": 3,
   "metadata": {},
   "outputs": [
    {
     "name": "stdout",
     "output_type": "stream",
     "text": [
      "(426, 3)\n"
     ]
    },
    {
     "data": {
      "text/html": [
       "<div>\n",
       "<style scoped>\n",
       "    .dataframe tbody tr th:only-of-type {\n",
       "        vertical-align: middle;\n",
       "    }\n",
       "\n",
       "    .dataframe tbody tr th {\n",
       "        vertical-align: top;\n",
       "    }\n",
       "\n",
       "    .dataframe thead th {\n",
       "        text-align: right;\n",
       "    }\n",
       "</style>\n",
       "<table border=\"1\" class=\"dataframe\">\n",
       "  <thead>\n",
       "    <tr style=\"text-align: right;\">\n",
       "      <th></th>\n",
       "      <th>Unnamed: 0</th>\n",
       "      <th>description</th>\n",
       "      <th>title</th>\n",
       "    </tr>\n",
       "  </thead>\n",
       "  <tbody>\n",
       "    <tr>\n",
       "      <th>0</th>\n",
       "      <td>0</td>\n",
       "      <td>b\"&lt;div&gt;&lt;div&gt;Job Requirements:&lt;/div&gt;&lt;ul&gt;&lt;li&gt;&lt;p&gt;...</td>\n",
       "      <td>Data scientist</td>\n",
       "    </tr>\n",
       "    <tr>\n",
       "      <th>1</th>\n",
       "      <td>1</td>\n",
       "      <td>b'&lt;div&gt;Job Description&lt;br/&gt;\\n&lt;br/&gt;\\n&lt;p&gt;As a Da...</td>\n",
       "      <td>Data Scientist I</td>\n",
       "    </tr>\n",
       "    <tr>\n",
       "      <th>2</th>\n",
       "      <td>2</td>\n",
       "      <td>b'&lt;div&gt;&lt;p&gt;As a Data Scientist you will be work...</td>\n",
       "      <td>Data Scientist - Entry Level</td>\n",
       "    </tr>\n",
       "    <tr>\n",
       "      <th>3</th>\n",
       "      <td>3</td>\n",
       "      <td>b'&lt;div class=\"jobsearch-JobMetadataHeader icl-...</td>\n",
       "      <td>Data Scientist</td>\n",
       "    </tr>\n",
       "    <tr>\n",
       "      <th>4</th>\n",
       "      <td>4</td>\n",
       "      <td>b'&lt;ul&gt;&lt;li&gt;Location: USA \\xe2\\x80\\x93 multiple ...</td>\n",
       "      <td>Data Scientist</td>\n",
       "    </tr>\n",
       "  </tbody>\n",
       "</table>\n",
       "</div>"
      ],
      "text/plain": [
       "   Unnamed: 0                                        description  \\\n",
       "0           0  b\"<div><div>Job Requirements:</div><ul><li><p>...   \n",
       "1           1  b'<div>Job Description<br/>\\n<br/>\\n<p>As a Da...   \n",
       "2           2  b'<div><p>As a Data Scientist you will be work...   \n",
       "3           3  b'<div class=\"jobsearch-JobMetadataHeader icl-...   \n",
       "4           4  b'<ul><li>Location: USA \\xe2\\x80\\x93 multiple ...   \n",
       "\n",
       "                          title  \n",
       "0               Data scientist   \n",
       "1              Data Scientist I  \n",
       "2  Data Scientist - Entry Level  \n",
       "3                Data Scientist  \n",
       "4                Data Scientist  "
      ]
     },
     "execution_count": 3,
     "metadata": {},
     "output_type": "execute_result"
    }
   ],
   "source": [
    "print(DS.shape)\n",
    "DS.head()"
   ]
  },
  {
   "cell_type": "code",
   "execution_count": 4,
   "metadata": {},
   "outputs": [
    {
     "data": {
      "text/plain": [
       "'b\"<div><div>Job Requirements:</div><ul><li><p>\\\\nConceptual understanding in Machine Learning models like Nai\\\\xc2\\\\xa8ve Bayes, K-Means, SVM, Apriori, Linear/ Logistic Regression, Neural, Random Forests, Decision Trees, K-NN along with hands-on experience in at least 2 of them</p>\\\\n</li><li><p>Intermediate to expert level coding skills in Python/R. (Ability to write functions, clean and efficient data manipulation are mandatory for this role)</p>\\\\n</li><li><p>Exposure to packages like NumPy, SciPy, Pandas, Matplotlib etc in Python or GGPlot2, dplyr, tidyR in R</p>\\\\n</li><li><p>Ability to communicate Model findings to both Technical and Non-Technical stake holders</p>\\\\n</li><li><p>Hands on experience in SQL/Hive or similar programming language</p>\\\\n</li><li><p>Must show past work via GitHub, Kaggle or any other published article</p>\\\\n</li><li><p>Master\\'s degree in Statistics/Mathematics/Computer Science or any other quant specific field.</p></li></ul><div><div><div><div><div><div>\\\\nApply Now</div></div></div></div></div></div></div><div></div>\"'"
      ]
     },
     "execution_count": 4,
     "metadata": {},
     "output_type": "execute_result"
    }
   ],
   "source": [
    "DS['description'][0]"
   ]
  },
  {
   "cell_type": "code",
   "execution_count": 5,
   "metadata": {},
   "outputs": [
    {
     "data": {
      "text/plain": [
       "'b\"<div><div>job requirements:</div><ul><li><p>\\\\nconceptual understanding in machine learning models like nai\\\\xc2\\\\xa8ve bayes, k-means, svm, apriori, linear/ logistic regression, neural, random forests, decision trees, k-nn along with hands-on experience in at least 2 of them</p>\\\\n</li><li><p>intermediate to expert level coding skills in python/r. (ability to write functions, clean and efficient data manipulation are mandatory for this role)</p>\\\\n</li><li><p>exposure to packages like numpy, scipy, pandas, matplotlib etc in python or ggplot2, dplyr, tidyr in r</p>\\\\n</li><li><p>ability to communicate model findings to both technical and non-technical stake holders</p>\\\\n</li><li><p>hands on experience in sql/hive or similar programming language</p>\\\\n</li><li><p>must show past work via github, kaggle or any other published article</p>\\\\n</li><li><p>master\\'s degree in statistics/mathematics/computer science or any other quant specific field.</p></li></ul><div><div><div><div><div><div>\\\\napply now</div></div></div></div></div></div></div><div></div>\"'"
      ]
     },
     "execution_count": 5,
     "metadata": {},
     "output_type": "execute_result"
    }
   ],
   "source": [
    "DS['description'] = DS['description'].apply(lambda x: x.lower())\n",
    "to_clean = DS['description'][0]\n",
    "to_clean"
   ]
  },
  {
   "cell_type": "code",
   "execution_count": 6,
   "metadata": {},
   "outputs": [
    {
     "data": {
      "text/plain": [
       "'b\"job requirements:\\\\nconceptual understanding in machine learning models like nai\\\\xc2\\\\xa8ve bayes, k-means, svm, apriori, linear/ logistic regression, neural, random forests, decision trees, k-nn along with hands-on experience in at least 2 of them\\\\nintermediate to expert level coding skills in python/r. (ability to write functions, clean and efficient data manipulation are mandatory for this role)\\\\nexposure to packages like numpy, scipy, pandas, matplotlib etc in python or ggplot2, dplyr, tidyr in r\\\\nability to communicate model findings to both technical and non-technical stake holders\\\\nhands on experience in sql/hive or similar programming language\\\\nmust show past work via github, kaggle or any other published article\\\\nmaster\\'s degree in statistics/mathematics/computer science or any other quant specific field.\\\\napply now\"'"
      ]
     },
     "execution_count": 6,
     "metadata": {},
     "output_type": "execute_result"
    }
   ],
   "source": [
    "soup = BeautifulSoup(to_clean).text\n",
    "soup"
   ]
  },
  {
   "cell_type": "code",
   "execution_count": 7,
   "metadata": {},
   "outputs": [
    {
     "data": {
      "text/plain": [
       "'b\"job requirements:conceptual understanding in machine learning models like nai\\\\xc2\\\\xa8ve bayes, k-means, svm, apriori, linear/ logistic regression, neural, random forests, decision trees, k-nn along with hands-on experience in at least 2 of themintermediate to expert level coding skills in python/r. (ability to write functions, clean and efficient data manipulation are mandatory for this role)exposure to packages like numpy, scipy, pandas, matplotlib etc in python or ggplot2, dplyr, tidyr in rability to communicate model findings to both technical and non-technical stake holdershands on experience in sql/hive or similar programming languagemust show past work via github, kaggle or any other published articlemaster\\'s degree in statistics/mathematics/computer science or any other quant specific field.apply now\"'"
      ]
     },
     "execution_count": 7,
     "metadata": {},
     "output_type": "execute_result"
    }
   ],
   "source": [
    "clean_text = re.sub(\"\\\\\\\\n\", '', soup)\n",
    "clean_text"
   ]
  },
  {
   "cell_type": "code",
   "execution_count": 8,
   "metadata": {},
   "outputs": [],
   "source": [
    "no_html = []\n",
    "for text in DS['description']:\n",
    "    no_html_text = BeautifulSoup(text).text\n",
    "    no_html_text = re.sub('\\\\\\\\n', '', no_html_text)\n",
    "    no_html.append(no_html_text)\n",
    "DS['description'] = no_html"
   ]
  },
  {
   "cell_type": "code",
   "execution_count": 9,
   "metadata": {},
   "outputs": [
    {
     "data": {
      "text/html": [
       "<div>\n",
       "<style scoped>\n",
       "    .dataframe tbody tr th:only-of-type {\n",
       "        vertical-align: middle;\n",
       "    }\n",
       "\n",
       "    .dataframe tbody tr th {\n",
       "        vertical-align: top;\n",
       "    }\n",
       "\n",
       "    .dataframe thead th {\n",
       "        text-align: right;\n",
       "    }\n",
       "</style>\n",
       "<table border=\"1\" class=\"dataframe\">\n",
       "  <thead>\n",
       "    <tr style=\"text-align: right;\">\n",
       "      <th></th>\n",
       "      <th>Unnamed: 0</th>\n",
       "      <th>description</th>\n",
       "      <th>title</th>\n",
       "    </tr>\n",
       "  </thead>\n",
       "  <tbody>\n",
       "    <tr>\n",
       "      <th>0</th>\n",
       "      <td>0</td>\n",
       "      <td>b\"job requirements:conceptual understanding in...</td>\n",
       "      <td>Data scientist</td>\n",
       "    </tr>\n",
       "    <tr>\n",
       "      <th>1</th>\n",
       "      <td>1</td>\n",
       "      <td>b'job descriptionas a data scientist 1, you wi...</td>\n",
       "      <td>Data Scientist I</td>\n",
       "    </tr>\n",
       "    <tr>\n",
       "      <th>2</th>\n",
       "      <td>2</td>\n",
       "      <td>b'as a data scientist you will be working on c...</td>\n",
       "      <td>Data Scientist - Entry Level</td>\n",
       "    </tr>\n",
       "    <tr>\n",
       "      <th>3</th>\n",
       "      <td>3</td>\n",
       "      <td>b'$4,969 - $6,756 a monthcontractunder the gen...</td>\n",
       "      <td>Data Scientist</td>\n",
       "    </tr>\n",
       "    <tr>\n",
       "      <th>4</th>\n",
       "      <td>4</td>\n",
       "      <td>b'location: usa \\xe2\\x80\\x93 multiple location...</td>\n",
       "      <td>Data Scientist</td>\n",
       "    </tr>\n",
       "  </tbody>\n",
       "</table>\n",
       "</div>"
      ],
      "text/plain": [
       "   Unnamed: 0                                        description  \\\n",
       "0           0  b\"job requirements:conceptual understanding in...   \n",
       "1           1  b'job descriptionas a data scientist 1, you wi...   \n",
       "2           2  b'as a data scientist you will be working on c...   \n",
       "3           3  b'$4,969 - $6,756 a monthcontractunder the gen...   \n",
       "4           4  b'location: usa \\xe2\\x80\\x93 multiple location...   \n",
       "\n",
       "                          title  \n",
       "0               Data scientist   \n",
       "1              Data Scientist I  \n",
       "2  Data Scientist - Entry Level  \n",
       "3                Data Scientist  \n",
       "4                Data Scientist  "
      ]
     },
     "execution_count": 9,
     "metadata": {},
     "output_type": "execute_result"
    }
   ],
   "source": [
    "DS.head()"
   ]
  },
  {
   "cell_type": "code",
   "execution_count": 10,
   "metadata": {},
   "outputs": [
    {
     "data": {
      "text/plain": [
       "'b\"job requirements:conceptual understanding in machine learning models like nai\\\\xc2\\\\xa8ve bayes, k-means, svm, apriori, linear/ logistic regression, neural, random forests, decision trees, k-nn along with hands-on experience in at least 2 of themintermediate to expert level coding skills in python/r. (ability to write functions, clean and efficient data manipulation are mandatory for this role)exposure to packages like numpy, scipy, pandas, matplotlib etc in python or ggplot2, dplyr, tidyr in rability to communicate model findings to both technical and non-technical stake holdershands on experience in sql/hive or similar programming languagemust show past work via github, kaggle or any other published articlemaster\\'s degree in statistics/mathematics/computer science or any other quant specific field.apply now\"'"
      ]
     },
     "execution_count": 10,
     "metadata": {},
     "output_type": "execute_result"
    }
   ],
   "source": [
    "DS['description'][0]"
   ]
  },
  {
   "cell_type": "markdown",
   "metadata": {
    "colab_type": "text",
    "id": "5C4xFZNtX1m2"
   },
   "source": [
    "## 2) Use Spacy to tokenize the listings "
   ]
  },
  {
   "cell_type": "code",
   "execution_count": 11,
   "metadata": {},
   "outputs": [],
   "source": [
    "\"\"\"\n",
    "Import Statements\n",
    "\"\"\"\n",
    "\n",
    "# Base\n",
    "from collections import Counter\n",
    "import re\n",
    " \n",
    "import pandas as pd\n",
    "\n",
    "# Plotting\n",
    "import squarify\n",
    "import matplotlib.pyplot as plt\n",
    "import seaborn as sns\n",
    "\n",
    "# NLP Libraries\n",
    "import spacy\n",
    "from spacy.tokenizer import Tokenizer\n",
    "from nltk.stem import PorterStemmer\n",
    "\n",
    "nlp = spacy.load(\"en_core_web_lg\")"
   ]
  },
  {
   "cell_type": "code",
   "execution_count": 12,
   "metadata": {},
   "outputs": [],
   "source": [
    "def tokenize(document):\n",
    "    \n",
    "    doc = nlp(document)\n",
    "    \n",
    "    return [token.lemma_.strip() for token in doc if (token.is_stop != True) and (token.is_punct != True)]"
   ]
  },
  {
   "cell_type": "code",
   "execution_count": 13,
   "metadata": {
    "collapsed": true
   },
   "outputs": [
    {
     "data": {
      "text/plain": [
       "['b\"job',\n",
       " 'requirement',\n",
       " 'conceptual',\n",
       " 'understanding',\n",
       " 'machine',\n",
       " 'learning',\n",
       " 'model',\n",
       " 'like',\n",
       " 'nai\\\\xc2\\\\xa8ve',\n",
       " 'bayes',\n",
       " 'k',\n",
       " 'means',\n",
       " 'svm',\n",
       " 'apriori',\n",
       " 'linear/',\n",
       " 'logistic',\n",
       " 'regression',\n",
       " 'neural',\n",
       " 'random',\n",
       " 'forest',\n",
       " 'decision',\n",
       " 'tree',\n",
       " 'k',\n",
       " 'nn',\n",
       " 'hand',\n",
       " 'experience',\n",
       " '2',\n",
       " 'themintermediate',\n",
       " 'expert',\n",
       " 'level',\n",
       " 'coding',\n",
       " 'skill',\n",
       " 'python',\n",
       " 'r',\n",
       " 'ability',\n",
       " 'write',\n",
       " 'function',\n",
       " 'clean',\n",
       " 'efficient',\n",
       " 'datum',\n",
       " 'manipulation',\n",
       " 'mandatory',\n",
       " 'role)exposure',\n",
       " 'package',\n",
       " 'like',\n",
       " 'numpy',\n",
       " 'scipy',\n",
       " 'panda',\n",
       " 'matplotlib',\n",
       " 'etc',\n",
       " 'python',\n",
       " 'ggplot2',\n",
       " 'dplyr',\n",
       " 'tidyr',\n",
       " 'rability',\n",
       " 'communicate',\n",
       " 'model',\n",
       " 'finding',\n",
       " 'technical',\n",
       " 'non',\n",
       " 'technical',\n",
       " 'stake',\n",
       " 'holdershand',\n",
       " 'experience',\n",
       " 'sql',\n",
       " 'hive',\n",
       " 'similar',\n",
       " 'programming',\n",
       " 'languagemust',\n",
       " 'past',\n",
       " 'work',\n",
       " 'github',\n",
       " 'kaggle',\n",
       " 'publish',\n",
       " 'articlemaster',\n",
       " 'degree',\n",
       " 'statistic',\n",
       " 'mathematic',\n",
       " 'computer',\n",
       " 'science',\n",
       " 'quant',\n",
       " 'specific',\n",
       " 'field.apply']"
      ]
     },
     "execution_count": 13,
     "metadata": {},
     "output_type": "execute_result"
    }
   ],
   "source": [
    "# try on my sample data\n",
    "tokenize(clean_text)"
   ]
  },
  {
   "cell_type": "code",
   "execution_count": 14,
   "metadata": {},
   "outputs": [],
   "source": [
    "# two ways how to apply 'tokenize' to a data\n",
    "DS['tokens'] = DS['description'].apply(tokenize)\n",
    "\n",
    "# new_tokens = []\n",
    "# for text in DS['description']:\n",
    "#     strip_text = tokenize(text)\n",
    "#     new_tokens.append(strip_text)\n",
    "# DS['tokens'] = new_tokens"
   ]
  },
  {
   "cell_type": "code",
   "execution_count": 15,
   "metadata": {},
   "outputs": [
    {
     "data": {
      "text/html": [
       "<div>\n",
       "<style scoped>\n",
       "    .dataframe tbody tr th:only-of-type {\n",
       "        vertical-align: middle;\n",
       "    }\n",
       "\n",
       "    .dataframe tbody tr th {\n",
       "        vertical-align: top;\n",
       "    }\n",
       "\n",
       "    .dataframe thead th {\n",
       "        text-align: right;\n",
       "    }\n",
       "</style>\n",
       "<table border=\"1\" class=\"dataframe\">\n",
       "  <thead>\n",
       "    <tr style=\"text-align: right;\">\n",
       "      <th></th>\n",
       "      <th>Unnamed: 0</th>\n",
       "      <th>description</th>\n",
       "      <th>title</th>\n",
       "      <th>tokens</th>\n",
       "    </tr>\n",
       "  </thead>\n",
       "  <tbody>\n",
       "    <tr>\n",
       "      <th>0</th>\n",
       "      <td>0</td>\n",
       "      <td>b\"job requirements:conceptual understanding in...</td>\n",
       "      <td>Data scientist</td>\n",
       "      <td>[b\"job, requirement, conceptual, understanding...</td>\n",
       "    </tr>\n",
       "    <tr>\n",
       "      <th>1</th>\n",
       "      <td>1</td>\n",
       "      <td>b'job descriptionas a data scientist 1, you wi...</td>\n",
       "      <td>Data Scientist I</td>\n",
       "      <td>[b'job, descriptionas, data, scientist, 1, hel...</td>\n",
       "    </tr>\n",
       "    <tr>\n",
       "      <th>2</th>\n",
       "      <td>2</td>\n",
       "      <td>b'as a data scientist you will be working on c...</td>\n",
       "      <td>Data Scientist - Entry Level</td>\n",
       "      <td>[b'as, data, scientist, work, consult, busines...</td>\n",
       "    </tr>\n",
       "    <tr>\n",
       "      <th>3</th>\n",
       "      <td>3</td>\n",
       "      <td>b'$4,969 - $6,756 a monthcontractunder the gen...</td>\n",
       "      <td>Data Scientist</td>\n",
       "      <td>[b'$4,969, $, 6,756, monthcontractunder, gener...</td>\n",
       "    </tr>\n",
       "    <tr>\n",
       "      <th>4</th>\n",
       "      <td>4</td>\n",
       "      <td>b'location: usa \\xe2\\x80\\x93 multiple location...</td>\n",
       "      <td>Data Scientist</td>\n",
       "      <td>[b'location, usa, \\xe2\\x80\\x93, multiple, loca...</td>\n",
       "    </tr>\n",
       "  </tbody>\n",
       "</table>\n",
       "</div>"
      ],
      "text/plain": [
       "   Unnamed: 0                                        description  \\\n",
       "0           0  b\"job requirements:conceptual understanding in...   \n",
       "1           1  b'job descriptionas a data scientist 1, you wi...   \n",
       "2           2  b'as a data scientist you will be working on c...   \n",
       "3           3  b'$4,969 - $6,756 a monthcontractunder the gen...   \n",
       "4           4  b'location: usa \\xe2\\x80\\x93 multiple location...   \n",
       "\n",
       "                          title  \\\n",
       "0               Data scientist    \n",
       "1              Data Scientist I   \n",
       "2  Data Scientist - Entry Level   \n",
       "3                Data Scientist   \n",
       "4                Data Scientist   \n",
       "\n",
       "                                              tokens  \n",
       "0  [b\"job, requirement, conceptual, understanding...  \n",
       "1  [b'job, descriptionas, data, scientist, 1, hel...  \n",
       "2  [b'as, data, scientist, work, consult, busines...  \n",
       "3  [b'$4,969, $, 6,756, monthcontractunder, gener...  \n",
       "4  [b'location, usa, \\xe2\\x80\\x93, multiple, loca...  "
      ]
     },
     "execution_count": 15,
     "metadata": {},
     "output_type": "execute_result"
    }
   ],
   "source": [
    "DS.head()"
   ]
  },
  {
   "cell_type": "code",
   "execution_count": 16,
   "metadata": {},
   "outputs": [
    {
     "data": {
      "text/plain": [
       "[('datum', 2886),\n",
       " ('work', 1387),\n",
       " ('data', 1326),\n",
       " ('team', 1203),\n",
       " ('business', 1171),\n",
       " ('experience', 1153),\n",
       " ('science', 924),\n",
       " ('product', 825),\n",
       " ('model', 748),\n",
       " ('analysis', 699)]"
      ]
     },
     "execution_count": 16,
     "metadata": {},
     "output_type": "execute_result"
    }
   ],
   "source": [
    "# Object from Base Python\n",
    "from collections import Counter\n",
    "\n",
    "# The object `Counter` takes an iterable, but you can instaniate an empty one and update it. \n",
    "word_counts = Counter()\n",
    "\n",
    "# Update it based on a split of each of our documents\n",
    "DS['tokens'].apply(lambda x: word_counts.update(x))\n",
    "\n",
    "# Print out the 10 most common words\n",
    "word_counts.most_common(10)"
   ]
  },
  {
   "cell_type": "code",
   "execution_count": 17,
   "metadata": {},
   "outputs": [
    {
     "data": {
      "text/plain": [
       "0    [b\"job, requirement, conceptual, understanding...\n",
       "1    [b'job, descriptionas, data, scientist, 1, hel...\n",
       "2    [b'as, data, scientist, work, consult, busines...\n",
       "3    [b'$4,969, $, 6,756, monthcontractunder, gener...\n",
       "4    [b'location, usa, \\xe2\\x80\\x93, multiple, loca...\n",
       "5    [b'create, business, intelligence, analytical,...\n",
       "6    [b'as, spotify, premium, swell, 96, m, subscri...\n",
       "7    [b\"everytown, gun, safety, nation, large, gun,...\n",
       "8    [b\"ms, quantitative, discipline, statistic, ma...\n",
       "9    [b'slack, hire, experienced, datum, scientist,...\n",
       "Name: tokens, dtype: object"
      ]
     },
     "execution_count": 17,
     "metadata": {},
     "output_type": "execute_result"
    }
   ],
   "source": [
    "DS_tokens = DS['tokens']\n",
    "DS_tokens[0:10]"
   ]
  },
  {
   "cell_type": "code",
   "execution_count": 18,
   "metadata": {},
   "outputs": [],
   "source": [
    "def count(docs):\n",
    "\n",
    "        word_counts = Counter()\n",
    "        appears_in = Counter()\n",
    "        \n",
    "        total_docs = len(docs)\n",
    "\n",
    "        for doc in docs:\n",
    "            word_counts.update(doc)\n",
    "            appears_in.update(set(doc))\n",
    "\n",
    "        temp = zip(word_counts.keys(), word_counts.values())\n",
    "        \n",
    "        wc = pd.DataFrame(temp, columns = ['word', 'count'])\n",
    "\n",
    "        wc['rank'] = wc['count'].rank(method='first', ascending=False)\n",
    "        total = wc['count'].sum()\n",
    "\n",
    "        wc['pct_total'] = wc['count'].apply(lambda x: x / total)\n",
    "        \n",
    "        wc = wc.sort_values(by='rank')\n",
    "        wc['cul_pct_total'] = wc['pct_total'].cumsum()\n",
    "\n",
    "        t2 = zip(appears_in.keys(), appears_in.values())\n",
    "        ac = pd.DataFrame(t2, columns=['word', 'appears_in'])\n",
    "        wc = ac.merge(wc, on='word')\n",
    "\n",
    "        wc['appears_in_pct'] = wc['appears_in'].apply(lambda x: x / total_docs)\n",
    "        \n",
    "        return wc.sort_values(by='rank')"
   ]
  },
  {
   "cell_type": "code",
   "execution_count": 19,
   "metadata": {},
   "outputs": [
    {
     "data": {
      "text/html": [
       "<div>\n",
       "<style scoped>\n",
       "    .dataframe tbody tr th:only-of-type {\n",
       "        vertical-align: middle;\n",
       "    }\n",
       "\n",
       "    .dataframe tbody tr th {\n",
       "        vertical-align: top;\n",
       "    }\n",
       "\n",
       "    .dataframe thead th {\n",
       "        text-align: right;\n",
       "    }\n",
       "</style>\n",
       "<table border=\"1\" class=\"dataframe\">\n",
       "  <thead>\n",
       "    <tr style=\"text-align: right;\">\n",
       "      <th></th>\n",
       "      <th>word</th>\n",
       "      <th>appears_in</th>\n",
       "      <th>count</th>\n",
       "      <th>rank</th>\n",
       "      <th>pct_total</th>\n",
       "      <th>cul_pct_total</th>\n",
       "      <th>appears_in_pct</th>\n",
       "    </tr>\n",
       "  </thead>\n",
       "  <tbody>\n",
       "    <tr>\n",
       "      <th>43</th>\n",
       "      <td>datum</td>\n",
       "      <td>411</td>\n",
       "      <td>2886</td>\n",
       "      <td>1.0</td>\n",
       "      <td>0.022591</td>\n",
       "      <td>0.022591</td>\n",
       "      <td>0.964789</td>\n",
       "    </tr>\n",
       "    <tr>\n",
       "      <th>22</th>\n",
       "      <td>work</td>\n",
       "      <td>365</td>\n",
       "      <td>1387</td>\n",
       "      <td>2.0</td>\n",
       "      <td>0.010857</td>\n",
       "      <td>0.033448</td>\n",
       "      <td>0.856808</td>\n",
       "    </tr>\n",
       "    <tr>\n",
       "      <th>262</th>\n",
       "      <td>data</td>\n",
       "      <td>378</td>\n",
       "      <td>1326</td>\n",
       "      <td>3.0</td>\n",
       "      <td>0.010380</td>\n",
       "      <td>0.043828</td>\n",
       "      <td>0.887324</td>\n",
       "    </tr>\n",
       "    <tr>\n",
       "      <th>228</th>\n",
       "      <td>team</td>\n",
       "      <td>359</td>\n",
       "      <td>1203</td>\n",
       "      <td>4.0</td>\n",
       "      <td>0.009417</td>\n",
       "      <td>0.053245</td>\n",
       "      <td>0.842723</td>\n",
       "    </tr>\n",
       "    <tr>\n",
       "      <th>296</th>\n",
       "      <td>business</td>\n",
       "      <td>319</td>\n",
       "      <td>1171</td>\n",
       "      <td>5.0</td>\n",
       "      <td>0.009166</td>\n",
       "      <td>0.062411</td>\n",
       "      <td>0.748826</td>\n",
       "    </tr>\n",
       "  </tbody>\n",
       "</table>\n",
       "</div>"
      ],
      "text/plain": [
       "         word  appears_in  count  rank  pct_total  cul_pct_total  \\\n",
       "43      datum         411   2886   1.0   0.022591       0.022591   \n",
       "22       work         365   1387   2.0   0.010857       0.033448   \n",
       "262      data         378   1326   3.0   0.010380       0.043828   \n",
       "228      team         359   1203   4.0   0.009417       0.053245   \n",
       "296  business         319   1171   5.0   0.009166       0.062411   \n",
       "\n",
       "     appears_in_pct  \n",
       "43         0.964789  \n",
       "22         0.856808  \n",
       "262        0.887324  \n",
       "228        0.842723  \n",
       "296        0.748826  "
      ]
     },
     "execution_count": 19,
     "metadata": {},
     "output_type": "execute_result"
    }
   ],
   "source": [
    "wc = count(DS['tokens'])\n",
    "wc[0:5]"
   ]
  },
  {
   "cell_type": "code",
   "execution_count": 20,
   "metadata": {},
   "outputs": [
    {
     "data": {
      "image/png": "[encoded data removed]",
      "text/plain": [
       "<Figure size 432x288 with 1 Axes>"
      ]
     },
     "metadata": {
      "needs_background": "light"
     },
     "output_type": "display_data"
    }
   ],
   "source": [
    "# Cumulative Distribution Plot\n",
    "sns.lineplot(x='rank', y='cul_pct_total', data=wc);"
   ]
  },
  {
   "cell_type": "code",
   "execution_count": null,
   "metadata": {},
   "outputs": [],
   "source": [
    "nlp.Defaults.stop_words"
   ]
  },
  {
   "cell_type": "code",
   "execution_count": 26,
   "metadata": {},
   "outputs": [],
   "source": [
    "# add some additional tokens\n",
    "STOP_WORDS = nlp.Defaults.stop_words.union(['and', 'a', 'i', 'to', 'I', ' ', ' -', '-', '1', 'date', '/', 'amazon', 'Amazon', 'it', \"it's\", 'it.', 'the', 'this',])"
   ]
  },
  {
   "cell_type": "code",
   "execution_count": 27,
   "metadata": {},
   "outputs": [],
   "source": [
    "# Tokenizer Pipe for reviews\n",
    "\n",
    "\n",
    "tokens = []\n",
    "\n",
    "# Tokenizer\n",
    "tokenizer = Tokenizer(nlp.vocab)\n",
    "\n",
    "\"\"\" Make them tokens \"\"\"\n",
    "for doc in tokenizer.pipe(DS['description'], batch_size=500):\n",
    "    \n",
    "    doc_tokens = []\n",
    "    \n",
    "    for token in doc:\n",
    "        if token.text.lower() not in STOP_WORDS:\n",
    "            doc_tokens.append(token.text.lower())\n",
    "   \n",
    "    tokens.append(doc_tokens)\n",
    "    \n",
    "DS['tokens'] = tokens"
   ]
  },
  {
   "cell_type": "code",
   "execution_count": 28,
   "metadata": {},
   "outputs": [
    {
     "data": {
      "text/html": [
       "<div>\n",
       "<style scoped>\n",
       "    .dataframe tbody tr th:only-of-type {\n",
       "        vertical-align: middle;\n",
       "    }\n",
       "\n",
       "    .dataframe tbody tr th {\n",
       "        vertical-align: top;\n",
       "    }\n",
       "\n",
       "    .dataframe thead th {\n",
       "        text-align: right;\n",
       "    }\n",
       "</style>\n",
       "<table border=\"1\" class=\"dataframe\">\n",
       "  <thead>\n",
       "    <tr style=\"text-align: right;\">\n",
       "      <th></th>\n",
       "      <th>word</th>\n",
       "      <th>appears_in</th>\n",
       "      <th>count</th>\n",
       "      <th>rank</th>\n",
       "      <th>pct_total</th>\n",
       "      <th>cul_pct_total</th>\n",
       "      <th>appears_in_pct</th>\n",
       "    </tr>\n",
       "  </thead>\n",
       "  <tbody>\n",
       "    <tr>\n",
       "      <th>56</th>\n",
       "      <td>data</td>\n",
       "      <td>419</td>\n",
       "      <td>3751</td>\n",
       "      <td>1.0</td>\n",
       "      <td>0.029842</td>\n",
       "      <td>0.029842</td>\n",
       "      <td>0.983568</td>\n",
       "    </tr>\n",
       "    <tr>\n",
       "      <th>313</th>\n",
       "      <td>business</td>\n",
       "      <td>303</td>\n",
       "      <td>1008</td>\n",
       "      <td>2.0</td>\n",
       "      <td>0.008019</td>\n",
       "      <td>0.037862</td>\n",
       "      <td>0.711268</td>\n",
       "    </tr>\n",
       "    <tr>\n",
       "      <th>11</th>\n",
       "      <td>experience</td>\n",
       "      <td>357</td>\n",
       "      <td>944</td>\n",
       "      <td>3.0</td>\n",
       "      <td>0.007510</td>\n",
       "      <td>0.045372</td>\n",
       "      <td>0.838028</td>\n",
       "    </tr>\n",
       "    <tr>\n",
       "      <th>7</th>\n",
       "      <td>work</td>\n",
       "      <td>326</td>\n",
       "      <td>876</td>\n",
       "      <td>4.0</td>\n",
       "      <td>0.006969</td>\n",
       "      <td>0.052341</td>\n",
       "      <td>0.765258</td>\n",
       "    </tr>\n",
       "    <tr>\n",
       "      <th>238</th>\n",
       "      <td>team</td>\n",
       "      <td>314</td>\n",
       "      <td>726</td>\n",
       "      <td>5.0</td>\n",
       "      <td>0.005776</td>\n",
       "      <td>0.058117</td>\n",
       "      <td>0.737089</td>\n",
       "    </tr>\n",
       "  </tbody>\n",
       "</table>\n",
       "</div>"
      ],
      "text/plain": [
       "           word  appears_in  count  rank  pct_total  cul_pct_total  \\\n",
       "56         data         419   3751   1.0   0.029842       0.029842   \n",
       "313    business         303   1008   2.0   0.008019       0.037862   \n",
       "11   experience         357    944   3.0   0.007510       0.045372   \n",
       "7          work         326    876   4.0   0.006969       0.052341   \n",
       "238        team         314    726   5.0   0.005776       0.058117   \n",
       "\n",
       "     appears_in_pct  \n",
       "56         0.983568  \n",
       "313        0.711268  \n",
       "11         0.838028  \n",
       "7          0.765258  \n",
       "238        0.737089  "
      ]
     },
     "execution_count": 28,
     "metadata": {},
     "output_type": "execute_result"
    }
   ],
   "source": [
    "wc = count(DS['tokens'])\n",
    "wc[0:5]"
   ]
  },
  {
   "cell_type": "code",
   "execution_count": 29,
   "metadata": {},
   "outputs": [
    {
     "data": {
      "image/png": "[encoded data removed]",
      "text/plain": [
       "<Figure size 432x288 with 1 Axes>"
      ]
     },
     "metadata": {
      "needs_background": "light"
     },
     "output_type": "display_data"
    }
   ],
   "source": [
    "sns.lineplot(x='rank', y='cul_pct_total', data=wc);"
   ]
  },
  {
   "cell_type": "code",
   "execution_count": 30,
   "metadata": {},
   "outputs": [
    {
     "data": {
      "text/html": [
       "<div>\n",
       "<style scoped>\n",
       "    .dataframe tbody tr th:only-of-type {\n",
       "        vertical-align: middle;\n",
       "    }\n",
       "\n",
       "    .dataframe tbody tr th {\n",
       "        vertical-align: top;\n",
       "    }\n",
       "\n",
       "    .dataframe thead th {\n",
       "        text-align: right;\n",
       "    }\n",
       "</style>\n",
       "<table border=\"1\" class=\"dataframe\">\n",
       "  <thead>\n",
       "    <tr style=\"text-align: right;\">\n",
       "      <th></th>\n",
       "      <th>Unnamed: 0</th>\n",
       "      <th>description</th>\n",
       "      <th>title</th>\n",
       "      <th>tokens</th>\n",
       "    </tr>\n",
       "  </thead>\n",
       "  <tbody>\n",
       "    <tr>\n",
       "      <th>0</th>\n",
       "      <td>0</td>\n",
       "      <td>b\"job requirements:conceptual understanding in...</td>\n",
       "      <td>Data scientist</td>\n",
       "      <td>[b\"job, requirements:conceptual, understanding...</td>\n",
       "    </tr>\n",
       "    <tr>\n",
       "      <th>1</th>\n",
       "      <td>1</td>\n",
       "      <td>b'job descriptionas a data scientist 1, you wi...</td>\n",
       "      <td>Data Scientist I</td>\n",
       "      <td>[b'job, descriptionas, data, scientist, 1,, he...</td>\n",
       "    </tr>\n",
       "    <tr>\n",
       "      <th>2</th>\n",
       "      <td>2</td>\n",
       "      <td>b'as a data scientist you will be working on c...</td>\n",
       "      <td>Data Scientist - Entry Level</td>\n",
       "      <td>[b'as, data, scientist, working, consulting, b...</td>\n",
       "    </tr>\n",
       "    <tr>\n",
       "      <th>3</th>\n",
       "      <td>3</td>\n",
       "      <td>b'$4,969 - $6,756 a monthcontractunder the gen...</td>\n",
       "      <td>Data Scientist</td>\n",
       "      <td>[b'$4,969, $6,756, monthcontractunder, general...</td>\n",
       "    </tr>\n",
       "    <tr>\n",
       "      <th>4</th>\n",
       "      <td>4</td>\n",
       "      <td>b'location: usa \\xe2\\x80\\x93 multiple location...</td>\n",
       "      <td>Data Scientist</td>\n",
       "      <td>[b'location:, usa, \\xe2\\x80\\x93, multiple, loc...</td>\n",
       "    </tr>\n",
       "  </tbody>\n",
       "</table>\n",
       "</div>"
      ],
      "text/plain": [
       "   Unnamed: 0                                        description  \\\n",
       "0           0  b\"job requirements:conceptual understanding in...   \n",
       "1           1  b'job descriptionas a data scientist 1, you wi...   \n",
       "2           2  b'as a data scientist you will be working on c...   \n",
       "3           3  b'$4,969 - $6,756 a monthcontractunder the gen...   \n",
       "4           4  b'location: usa \\xe2\\x80\\x93 multiple location...   \n",
       "\n",
       "                          title  \\\n",
       "0               Data scientist    \n",
       "1              Data Scientist I   \n",
       "2  Data Scientist - Entry Level   \n",
       "3                Data Scientist   \n",
       "4                Data Scientist   \n",
       "\n",
       "                                              tokens  \n",
       "0  [b\"job, requirements:conceptual, understanding...  \n",
       "1  [b'job, descriptionas, data, scientist, 1,, he...  \n",
       "2  [b'as, data, scientist, working, consulting, b...  \n",
       "3  [b'$4,969, $6,756, monthcontractunder, general...  \n",
       "4  [b'location:, usa, \\xe2\\x80\\x93, multiple, loc...  "
      ]
     },
     "execution_count": 30,
     "metadata": {},
     "output_type": "execute_result"
    }
   ],
   "source": [
    "DS.head()"
   ]
  },
  {
   "cell_type": "markdown",
   "metadata": {
    "colab_type": "text",
    "id": "-lgCZNL_YycP"
   },
   "source": [
    "## 3) Use Scikit-Learn's CountVectorizer to get word counts for each listing."
   ]
  },
  {
   "cell_type": "code",
   "execution_count": 31,
   "metadata": {},
   "outputs": [
    {
     "data": {
      "text/plain": [
       "(426, 4)"
      ]
     },
     "execution_count": 31,
     "metadata": {},
     "output_type": "execute_result"
    }
   ],
   "source": [
    "DS.shape"
   ]
  },
  {
   "cell_type": "code",
   "execution_count": 32,
   "metadata": {},
   "outputs": [
    {
     "data": {
      "text/plain": [
       "426"
      ]
     },
     "execution_count": 32,
     "metadata": {},
     "output_type": "execute_result"
    }
   ],
   "source": [
    "len(DS['description'])"
   ]
  },
  {
   "cell_type": "code",
   "execution_count": 33,
   "metadata": {},
   "outputs": [],
   "source": [
    "data = DS['description']"
   ]
  },
  {
   "cell_type": "code",
   "execution_count": 34,
   "metadata": {
    "colab": {},
    "colab_type": "code",
    "id": "X2PZ8Pj_YxcF"
   },
   "outputs": [
    {
     "data": {
      "text/plain": [
       "(426, 11808)"
      ]
     },
     "execution_count": 34,
     "metadata": {},
     "output_type": "execute_result"
    }
   ],
   "source": [
    "##### Your Code Here #####\n",
    "# Apply CountVectorizer to our Data\n",
    "# Use custom Spacy Vectorizer\n",
    "# BBC articles in `data` variable\n",
    "\n",
    "from sklearn.feature_extraction.text import CountVectorizer\n",
    "\n",
    "vect = CountVectorizer(stop_words='english')\n",
    "\n",
    "#Learn our Vocab\n",
    "vect.fit(data)\n",
    "\n",
    "# Get sparse dtm\n",
    "dtm = vect.transform(data)\n",
    "\n",
    "# Word counts\n",
    "dtm = pd.DataFrame(dtm.todense(), columns=vect.get_feature_names())\n",
    "dtm.shape"
   ]
  },
  {
   "cell_type": "code",
   "execution_count": 35,
   "metadata": {
    "collapsed": true
   },
   "outputs": [
    {
     "name": "stdout",
     "output_type": "stream",
     "text": [
      "     00  000  000pay  02115job  03  0356  04  062  06366  08  ...  zenreach  \\\n",
      "0     0    0       0         0   0     0   0    0      0   0  ...         0   \n",
      "1     0    0       0         0   0     0   0    0      0   0  ...         0   \n",
      "2     0    0       0         0   0     0   0    0      0   0  ...         0   \n",
      "3     0    0       0         0   0     0   0    0      0   0  ...         0   \n",
      "4     0    0       0         0   0     0   0    0      0   0  ...         0   \n",
      "..   ..  ...     ...       ...  ..   ...  ..  ...    ...  ..  ...       ...   \n",
      "421   0    0       0         0   0     0   0    0      0   0  ...         0   \n",
      "422   0    0       0         0   0     0   0    0      0   0  ...         0   \n",
      "423   0    2       0         0   0     0   0    0      0   0  ...         0   \n",
      "424   0    0       0         0   0     0   0    0      0   0  ...         0   \n",
      "425   0    1       0         0   0     0   0    0      0   0  ...         0   \n",
      "\n",
      "     zero  zeus  zf  zheng  zillow  zonesability  zoom  zuckerberg  zurich  \n",
      "0       0     0   0      0       0             0     0           0       0  \n",
      "1       0     0   0      0       0             0     0           0       0  \n",
      "2       0     0   0      0       0             0     0           0       0  \n",
      "3       0     0   0      1       0             0     0           0       0  \n",
      "4       0     0   0      0       0             0     0           0       0  \n",
      "..    ...   ...  ..    ...     ...           ...   ...         ...     ...  \n",
      "421     0     0   0      0       0             0     0           0       0  \n",
      "422     0     0   0      0       0             0     0           0       0  \n",
      "423     1     0   0      0       0             0     0           0       0  \n",
      "424     0     0   0      0       0             0     0           0       0  \n",
      "425     0     0   0      0       0             0     0           0       0  \n",
      "\n",
      "[426 rows x 11808 columns]\n"
     ]
    }
   ],
   "source": [
    "print(dtm)"
   ]
  },
  {
   "cell_type": "code",
   "execution_count": 36,
   "metadata": {
    "collapsed": true
   },
   "outputs": [
    {
     "name": "stdout",
     "output_type": "stream",
     "text": [
      "['00', '000', '000pay', '02115job', '03', '0356', '04', '062', '06366', '08', '0deep', '10', '100', '1000', '1001', '1008', '100k', '100x', '105', '1079302who', '1082692', '10b', '10ms', '10x', '11', '110k', '112', '114157802wireless', '12', '120', '125', '126', '130', '1315', '1324b', '138', '14', '140', '15', '150', '15000', '159m', '16', '1605', '165', '169334brjob', '17', '170', '17b', '18', '180', '180008jqzurich', '18b', '19', '190', '190007jipreferred', '19000bn4preferred', '19000c1kno', '19004162schedule', '1901744descriptionthe', '1904', '1904labs', '1905', '19050', '1938', '1944', '1967', '1971', '1975', '1979', '1988', '199', '1994', '1999', '1b', '1level', '1st', '1strategy', '1tb', '1under', '20', '200', '2000', '200020183changing', '200041695at', '2004', '2008', '2011', '2012', '2013', '2014', '2015', '2016', '2017', '2018', '2018role', '2019', '2019about', '2019apply', '2019ericsson', '2019expiration', '2019position', '2019responsibilities', '2019role', '2019weekly', '2020', '2050', '20flsa', '21', '210', '2145employment', '2272', '24', '24m', '25', '250', '25256employee', '26', '260', '27', '28', '2nd', '2under', '2x', '30', '300', '30328', '30328united', '30bn', '30k', '31', '317', '320', '3201', '3201about', '33', '33051', '338', '35', '350', '3535', '35million', '36', '360', '365', '374', '37m', '380', '3d', '3rd', '3x', '40', '400', '401', '401k', '401kcompany', '408', '40role', '40shift', '4111axle', '42', '43', '447618', '45', '450', '45040', '457', '461', '47069we', '485', '49', '4901', '4919', '4g', '4th', '50', '500', '5000', '500tm', '503', '510', '52799overviewat', '540', '55', '57', '579', '58', '58490', '59', '5g', '5m', '5pm', '60', '600', '60606', '613', '62', '66', '67', '6890', '695', '6job', '70', '700', '72', '725', '734', '75', '755', '756', '771', '78', '7901', '80', '800', '80bn', '82', '832', '83total', '844', '85', '85034', '866', '877', '8954', '8954job', '90', '900', '907', '908', '920', '9226', '93', '941', '95', '95035', '968', '969', '96m', '98', '9966', '9am', 'aa', 'aap', 'ab', 'ab1minimum', 'abernathy', 'abilities', 'abilitiesability', 'abilitiesdevelops', 'abilitiesexperience', 'abilitiesinterpersonal', 'abilitiesproblem', 'ability', 'able', 'abounds', 'aboveproficiency', 'abovestatistical', 'abroad', 'absence', 'absolutely', 'absorbing', 'abstract', 'abstracting', 'abstraction', 'abstractions', 'abstractly', 'abundant', 'abuse', 'academia', 'academic', 'academicfield', 'academics', 'academies', 'accelerate', 'accelerates', 'accelerating', 'acceleration', 'accelerator', 'accelerometer', 'accept', 'acceptable', 'acceptance', 'accepted', 'accepting', 'access', 'accessibility', 'accessible', 'accessing', 'accidental', 'accolade', 'accolades', 'accommodate', 'accommodating', 'accommodation', 'accommodations', 'accomplish', 'accomplished', 'accomplisheddeep', 'accomplishment', 'accomplishmentlocationthis', 'accomplishments', 'accordance', 'according', 'account', 'accountabilities', 'accountability', 'accountable', 'accountants', 'accounting', 'accounts', 'accountsno', 'accountsproven', 'accountspublic', 'accredited', 'accruals', 'accuracy', 'accuracyexcellent', 'accuracyproficient', 'accuracyutilize', 'accuracywork', 'accurate', 'accurately', 'achieve', 'achieveboth', 'achieved', 'achievedmonitor', 'achievement', 'achievements', 'achievers', 'achieves', 'achieving', 'acknowledge', 'acl', 'acommon', 'acquire', 'acquired', 'acquiring', 'acquisition', 'acquisitions', 'acres', 'acrossthe', 'act', 'acted', 'acting', 'action', 'actionable', 'actions', 'actionsdrive', 'actionsperform', 'actionsprioritize', 'actionssupport', 'activate', 'activation', 'active', 'actively', 'activities', 'activitiesdesign', 'activitiesdevelop', 'activitiesprepare', 'activitiesproduct', 'activity', 'activityinteract', 'actorsto', 'acts', 'actual', 'actually', 'actuarial', 'actuary', 'acuity', 'acumen', 'acumenexcellent', 'acute', 'ad', 'adam', 'adapt', 'adaptability', 'adaptable', 'adaptations', 'adapting', 'adaption', 'adaptive', 'adapts', 'add', 'added', 'adding', 'addition', 'additional', 'additionally', 'additive', 'additives', 'address', 'addressed', 'addressedskills', 'addresses', 'addressing', 'adds', 'addt', 'addthis', 'adept', 'adhere', 'adherence', 'adhering', 'adhoc', 'adjacent', 'adjudicates', 'adjust', 'adjusted', 'adjustments', 'admin', 'administration', 'administrationpreferred', 'administrative', 'administrators', 'admired', 'admission', 'admitting', 'adobe', 'adopt', 'adopting', 'adoption', 'adoptionqualificationsrequired2', 'ads', 'adsrequirementsexperience', 'adtech', 'adtechphd', 'advance', 'advanced', 'advancedorganizational', 'advancedpeople', 'advancedrelationships', 'advancedteamwork', 'advancedwritten', 'advancement', 'advancements', 'advancementwe', 'advances', 'advancing', 'advantage', 'advantagealternate', 'advantagecreate', 'advantageexperience', 'advantages', 'adventures', 'adversarial', 'advertisement', 'advertiser', 'advertisers', 'advertisersuse', 'advertising', 'advertisingfor', 'advice', 'advise', 'advisement', 'advisor', 'advisors', 'advisory', 'advisorybachelors', 'advocacy', 'advocate', 'advocates', 'advocatesmaintain', 'advocating', 'adwords', 'adwordsduration', 'aerial', 'aerospace', 'aetna', 'aetnas', 'afb', 'affairs', 'affect', 'affected', 'affecting', 'affectional', 'affects', 'affiliate', 'affiliates', 'affiliation', 'affinity', 'affirm', 'affirmative', 'afford', 'affordability', 'affordable', 'afni', 'afraid', 'againstapplicants', 'age', 'ageand', 'agencies', 'agency', 'agenda', 'agent', 'agents', 'agentsbuilding', 'agentscontribute', 'aggregate', 'aggregated', 'aggregating', 'aggregation', 'aggressive', 'aggressively', 'agile', 'agile2', 'agility', 'ago', 'agree', 'agreed', 'agreement', 'agricultural', 'agronomic', 'agronomy', 'ah1', 'ahead', 'ai', 'aid', 'aide', 'aiding', 'aids', 'aim', 'aimbridge', 'aimed', 'aiming', 'aims', 'air', 'airbnb', 'aircraft', 'airflow', 'airline', 'akraya', 'akrayaakraya', 'al', 'album', 'albuquerque', 'alcohol', 'alelo', 'aleloalelo', 'alerting', 'alerts', 'alertsunderstanding', 'alex', 'alexa', 'algebra', 'algorithm', 'algorithmic', 'algorithms', 'algorithmsamazon', 'algorithmscollaborate', 'algorithmsdeep', 'algorithmsdemonstrated', 'algorithmsdesign', 'algorithmsdevelop', 'algorithmsexperience', 'algorithmsfamiliarity', 'algorithmsperform', 'algorithmsrequired', 'algorithmssimulation', 'algorithmsstrong', 'algorithmsyou', 'alice', 'alienage', 'align', 'aligned', 'aligning', 'alignment', 'alignmentexperience', 'alike', 'alive', 'allazo', 'allazoengine', 'allazoenginebuild', 'allazohealthlocation', 'allegiance', 'allen', 'allennlp', 'allentown', 'alliance', 'allianz', 'allocates', 'allocation', 'allow', 'allowance', 'allowed', 'allowing', 'allows', 'alongside', 'alpha', 'alpharetta', 'altair', 'altering', 'alternate', 'alternately', 'alternating', 'alternative', 'alternatives', 'alteryx', 'alteryxexperience', 'alto', 'amazing', 'amazon', 'ambassador', 'ambiguity', 'ambiguitycommunicate', 'ambiguitycreative', 'ambiguous', 'ambiguously', 'ambition', 'ambitions', 'ambitious', 'amenities', 'america', 'american', 'americans', 'americas', 'amex', 'aml', 'amnesty', 'amounts', 'amp', 'ampl', 'ample', 'amplion', 'ampreferred', 'amusement', 'anaheim', 'analyse', 'analyses', 'analysesconduct', 'analysescreating', 'analysesexperience', 'analysesimplement', 'analysespractical', 'analysestech', 'analysesunderstanding', 'analyseswhat', 'analyseswork', 'analysing', 'analysis', 'analysisa', 'analysisable', 'analysisanalytical', 'analysisaptitude', 'analysisat', 'analysisba', 'analysisbachelor', 'analysisbuilds', 'analysiscommunicate', 'analysisconducting', 'analysiscreate', 'analysisdeep', 'analysisdemonstrable', 'analysisdemonstrated', 'analysisdevelop', 'analysisdoing', 'analysiseducationmaster', 'analysisevaluating', 'analysisexperience', 'analysishas', 'analysishistory', 'analysisidentify', 'analysismathematicsoperations', 'analysisoptimize', 'analysispartner', 'analysispreferred', 'analysisproposing', 'analysisqualifications', 'analysisqualificationsyou', 'analysisrequirementsmaster', 'analysisrunning', 'analysisstatistical', 'analysisstrengthening', 'analysisstrong', 'analysissupport', 'analysistranslate', 'analysisuse', 'analysisuses', 'analysiswork', 'analyst', 'analysthadoop', 'analystj', 'analysts', 'analystsassist', 'analystswork', 'analystyou', 'analytic', 'analytical', 'analytically', 'analytics', 'analytics1', 'analytics2', 'analytics3', 'analyticsability', 'analyticsavailable', 'analyticsbackground', 'analyticsbusiness', 'analyticscoding', 'analyticscollaborate', 'analyticsdevelop', 'analyticseconomicsengineeringgeospatial', 'analyticseo', 'analyticsextensive', 'analyticsfamiliarity', 'analyticsidentifying', 'analyticsknowledge', 'analyticsmonitor', 'analyticsnetflix', 'analyticso', 'analyticsoracle', 'analyticspresents', 'analyticsrequirementsbachelor', 'analyticsthe', 'analyticsunitedhealthcare', 'analytos', 'analyze', 'analyzed', 'analyzes', 'analyzing', 'analyzingdata', 'ancestry', 'anchor', 'ancillary', 'and5', 'andculture', 'anddata', 'andexperience', 'andgenomics', 'andimplementing', 'andinfrastructure', 'andmanaging', 'andover', 'andoversee', 'andproductscollaborating', 'andproviders', 'andpython', 'andrecommend', 'andrew', 'android', 'andsecurity', 'andsynthetic', 'andusing', 'angeles', 'angles', 'angrist', 'angular', 'ann', 'anna', 'annapolis', 'annotate', 'annotates', 'annotating', 'annotation', 'announced', 'announcements', 'annual', 'annually', 'annuallymatching', 'anomalies', 'anomaliesdesign', 'anomaliespartner', 'anomaly', 'anonymization', 'anonymous', 'anonymously', 'anotheroccasionally', 'anova', 'answer', 'answered', 'answering', 'answers', 'anti', 'anticipate', 'anticipated', 'anticipates', 'anticipating', 'antimalware', 'antonio', 'anum', 'anxious', 'anylogic', 'ap', 'apac', 'apache', 'apart', 'apex', 'api', 'apirequirements', 'apis', 'apisproficiency', 'app', 'apparel', 'appealing', 'appear', 'appended', 'apple', 'applicability', 'applicable', 'applicablecarolinas', 'applicableduties', 'applicablejob', 'applicant', 'applicants', 'application', 'applicationif', 'applications', 'applications4', 'applications5', 'applicationsability', 'applicationsavailability', 'applicationsdrive', 'applicationsmust', 'applicationsstrong', 'applied', 'applies', 'apply', 'applyif', 'applying', 'applyingbe', 'applyour', 'applyplease', 'applystrong', 'appointed', 'appointment', 'appreciate', 'appreciates', 'appreciation', 'apprised', 'approach', 'approachability', 'approachable', 'approachabledefine', 'approachattentive', 'approachdevelop', 'approaches', 'approachescollaborate', 'approachesenable', 'approachesexperience', 'approachesidentifies', 'approachesrequired', 'approachesstellar', 'approachesunderstanding', 'approacheswork', 'approaching', 'appropriate', 'appropriatedrive', 'appropriategenerating', 'appropriately', 'appropriatepresent', 'appropriaterequired', 'approval', 'approve', 'approved', 'approximately', 'approximating', 'approximation', 'apps', 'appsoptimizing', 'appzen', 'apreferred', 'april', 'apriori', 'aptible', 'aptitude', 'aptitudesolid', 'ar', 'arbor', 'arcade', 'arcgis', 'architect', 'architecting', 'architects', 'architectural', 'architecture', 'architectureanalyze', 'architecturebenefits', 'architectures', 'architecturesbenefits', 'architecturesdriven', 'architecturesnatural', 'architecturestrong', 'architecturesworking', 'are3', 'are4', 'are5', 'area', 'areaandexperience', 'areaexceptional', 'areanalytical', 'areas', 'areasact', 'areasinnovation', 'areasprepares', 'areat', 'areatechnical', 'areawilling', 'areawork', 'areblackthorn', 'arehere', 'arekbrwyle', 'arelated', 'aren', 'arequired', 'arethe', 'arewe', 'areyou', 'arise', 'arises', 'arizona', 'arl', 'arlington', 'arm', 'armour', 'armsspecific', 'armstalk', 'army', 'arrange', 'arrangements', 'array', 'arrest', 'arrive', 'art', 'arthur', 'arthurlawrence', 'articlemaster', 'articles', 'articulate', 'articulating', 'artifacts', 'artificial', 'artist', 'artists', 'asap', 'ascensus', 'ascertain', 'asia', 'ask', 'asked', 'asking', 'aspect', 'aspects', 'aspirational', 'aspirations', 'aspire', 'aspires', 'aspiring', 'assault', 'assemble', 'assembled', 'assembly', 'assess', 'assesses', 'assessing', 'assessment', 'assessments', 'asset', 'assets', 'assigned', 'assignedcompliance', 'assigning', 'assignment', 'assignments', 'assignmentsdeep', 'assimilation', 'assist', 'assistance', 'assistancewe', 'assistants', 'assisted', 'assisting', 'assists', 'assistsms', 'associate', 'associated', 'associates', 'associatesyou', 'association', 'assortment', 'assume', 'assuming', 'assumption', 'assumptions', 'assurance', 'assure', 'assured', 'asynchronous', 'athena', 'athenex', 'athlete', 'athletes', 'athletics', 'atlanta', 'atlantic', 'atlassian', 'atmosphere', 'atomic', 'atos', 'atrium', 'attach', 'attached', 'attack', 'attacking', 'attacks', 'attained', 'attempt', 'attend', 'attendance', 'attendees', 'attending', 'attention', 'attitude', 'attitudeour', 'attitudepreferred', 'attitudeproven', 'attitudewe', 'attitudinal', 'attn', 'attorneys', 'attract', 'attracting', 'attractions', 'attracts', 'attributes', 'attributesdevelop', 'attribution', 'attrition', 'atwww', 'au', 'auburn', 'auctions', 'audience', 'audienceability', 'audiencebonus', 'audiencecompany', 'audienceexperience', 'audiencehoneywell', 'audienceknowledge', 'audiencemanage', 'audiencepreferred', 'audienceproficiency', 'audiences', 'audiencesability', 'audiencesadditional', 'audiencesconduct', 'audiencescreate', 'audiencesdeliver', 'audiencesexcellent', 'audienceshave', 'audiencesknowledge', 'audiencesoffers', 'audiencespartner', 'audiencesproven', 'audiencesstrong', 'audiencesteam', 'audiencesteamwork', 'audiencesthe', 'audiencestrong', 'audienceswhere', 'audienceswork', 'audiencesyou', 'audio', 'audit', 'auditing', 'augment', 'augmentation', 'augmented', 'augmenting', 'august', 'aurora', 'austin', 'australia', 'authentic', 'author', 'authoring', 'authoritative', 'authorities', 'authoritiescollaborate', 'authority', 'authorityeffective', 'authoritywhat', 'authorization', 'authorizations', 'authorized', 'autism', 'auto', 'autodesk', 'autodeskinterns', 'autodeskour', 'autodeskwith', 'automate', 'automated', 'automates', 'automatic', 'automatically', 'automating', 'automation', 'automationdemonstrates', 'automationown', 'automationsolid', 'automobiles', 'automotive', 'autonomous', 'autonomously', 'autonomouslyexperience', 'autonomy', 'availability', 'available', 'availableapply', 'availableimprove', 'availableproviding', 'avanade', 'avariety', 'avenues', 'avenuesquick', 'average', 'averageabout', 'averagebroad', 'averagedata', 'avidly', 'avidxchange', 'avoid', 'avp', 'avroexperience', 'award', 'awarded', 'awards', 'aware', 'awaredetailed', 'awareness', 'away', 'awaysability', 'awe', 'awesome', 'aws', 'awsa', 'awsexperience', 'awshave', 'awslocationthis', 'awsplus', 'axians', 'axiologic', 'az', 'azkaban', 'azremote', 'azure', 'azureexperience', 'azureml', 'b2b', 'b2c', 'ba', 'baby', 'babylist', 'babylistbabylist', 'bachelor', 'bachelors', 'backbone', 'backed', 'backend', 'background', 'backgroundat', 'backgroundperks', 'backgroundprogramming', 'backgrounds', 'backgroundsexcellent', 'backgroundskey', 'backgroundunderstanding', 'backing', 'backup', 'backwards', 'bacteria', 'bacterial', 'bad', 'bagged', 'bagging', 'bain', 'bake', 'bakery', 'balance', 'balancecentral', 'balanceopen', 'balancing', 'band', 'bandits', 'bangalore', 'bank', 'banking', 'banks', 'banners', 'bar', 'barriers', 'bart', 'base', 'baseball', 'based', 'baseline', 'baselines', 'bases', 'baseskeep', 'bash', 'basic', 'basically', 'basics', 'basis', 'basiscollaborate', 'basisdevelop', 'basketball', 'baskets', 'bat', 'batch', 'batchesintegrate', 'battery', 'battle', 'bay', 'bayes', 'bayesian', 'baytown', 'bcbs', 'bcbsaz', 'bda', 'beach', 'bear', 'beats', 'beautiful', 'beauty', 'beaverton', 'bed', 'bedrock', 'began', 'begets', 'begin', 'beginning', 'beginnings', 'behalf', 'behave', 'behavior', 'behavioral', 'behaviordesign', 'behaviors', 'behaviour', 'behaviours', 'beijing', 'beings', 'beleveraging', 'belief', 'beliefs', 'believe', 'believes', 'bell', 'bellevue', 'belonging', 'beloweducation', 'benchmark', 'benchmarking', 'benchmarks', 'beneficial', 'benefit', 'benefitflexible', 'benefits', 'benefits100', 'benefits401', 'benefitsat', 'benefitscollaborative', 'benefitscompetitive', 'benefitsdog', 'benefitsflat', 'benefitsfully', 'benefitsgenerous', 'benefitsinclusive', 'benefitsindustry', 'benefitsnote', 'benefitsoffice', 'benefitsproximity', 'benefitsunlimited', 'benefitswe', 'benefitsyou', 'berkley', 'berlin', 'berman', 'best', 'bestembrace', 'bet', 'bethlehem', 'bets', 'better', 'betterdemonstrating', 'betterexperience', 'beverage', 'bf1tag', 'bi', 'bi1', 'bias', 'biases', 'bicycles', 'bidding', 'bids', 'big', 'bigdata', 'biggest', 'bigquery', 'bigquerydeploying', 'bigqueryexperience', 'bike', 'billing', 'billion', 'billions', 'bing', 'bioequivalence', 'bioinformatic', 'bioinformaticians', 'bioinformatics', 'bioinformaticsexperience', 'bioinformaticsmethodsexpertise', 'biological', 'biologists', 'biology', 'biomedical', 'biophysical', 'biorxiv', 'bios', 'bioscience', 'biostatistical', 'biostatisticians', 'biostatistics', 'birthdaygenerous', 'bis', 'bisexual', 'bit', 'bits', 'bitter', 'biz', 'biztalk', 'black', 'blacklists', 'blacksky', 'blast', 'bleeding', 'blend', 'blended', 'blending', 'blends', 'blistering', 'block', 'blockchain', 'blockchains', 'blockersbe', 'blog', 'blogs', 'bloomington', 'bloomnet', 'blow', 'blowouts', 'blue', 'bluekai', 'bluemix', 'blues', 'blueshift', 'bluevine', 'bluntly', 'blurt', 'bmw', 'board', 'boarding', 'boca', 'body', 'bold', 'boldly', 'bolster', 'bonding', 'bonus', 'bonuses', 'book', 'booking', 'bookings', 'books', 'bookwe', 'booming', 'boost', 'boosted', 'boosting', 'boot', 'bootcamps', 'bootstrapping', 'booz', 'borders', 'boston', 'bot', 'botnets', 'bottle', 'bottomlinerequirements', 'bound', 'boundaries', 'bounded', 'bounds', 'bowery', 'bowl', 'bowling', 'box', 'boxes', 'bpo', 'brains', 'brainstorm', 'brainstorming', 'branch', 'branches', 'branching', 'branchingexperience', 'brand', 'branded', 'brands', 'brass', 'breadth', 'break', 'breakdown', 'breakfast', 'breaking', 'breakroom', 'breakthrough', 'breakthroughs', 'breastfeeding', 'breath', 'breeze', 'brentwood', 'brick', 'bridge', 'bridges', 'bridging', 'briefings', 'brigham', 'bright', 'brighter', 'brightest', 'brilliant', 'bring', 'bringing', 'brings', 'bringyou', 'broad', 'broadband', 'broader', 'broadly', 'broadway', 'broken', 'brokerage', 'brokers', 'broomfield', 'brothers', 'brought', 'browse', 'browser', 'browses', 'bruno', 'bs', 'bsjob', 'bu', 'buck', 'budd', 'buddy', 'budget', 'budgeting', 'budgets', 'budgetwellness', 'buffalo', 'bug', 'bugs', 'build', 'builder', 'builders', 'building', 'buildings', 'builds', 'built', 'bulgaria', 'bulk', 'bull', 'burden', 'bureau', 'burns', 'burr', 'bus', 'business', 'businessbenefitsopportunity', 'businessbuild', 'businesscollaborate', 'businesscollaborative', 'businesscome', 'businesscommunicate', 'businesscontributing', 'businesscoordinate', 'businessdevelops', 'businesses', 'businessesconduct', 'businessexperience', 'businessformulate', 'businessidentify', 'businessimplements', 'businessmaintain', 'businessopportunity', 'businesspreferred', 'businessprofessional', 'businessprovide', 'businessrelentlessly', 'businesssome', 'businessunderstanding', 'businesswe', 'businessworked', 'businessyou', 'bustling', 'butterflies', 'button', 'buy', 'buyers', 'buying', 'buys', 'buzzwords', 'bwh', 'byers', 'c3', 'ca', 'caabout', 'caas', 'cable', 'cac', 'caci', 'cadata', 'cadence', 'cafe', 'cafeteria', 'cafeterias', 'caffe', 'caffe2', 'caffeine', 'caffematlab', 'caj', 'calabasas', 'calculated', 'calculates', 'calculations', 'calculus', 'calendar', 'calendars', 'caliber', 'calibrating', 'calibration', 'california', 'californiaeducation', 'californian', 'californiascience', 'called', 'calls', 'calmhsa', 'caltech', 'caltrain', 'cambia', 'cambridgedepartmentshorenstein', 'came', 'camp', 'campaign', 'campaigns', 'campaignsaccess', 'campaignsanalyze', 'campaignsdevelop', 'camps', 'campus', 'campuses', 'campusshift', 'canada', 'canal', 'cancelling', 'cancer', 'candidacy', 'candidate', 'candidates', 'candidatetoolbox', 'candyla', 'canon', 'canonusa', 'canopy', 'capabilities', 'capabilitiescontributing', 'capabilitiesdevelop', 'capabilitiesequal', 'capabilitiesmanages', 'capabilitiesstrong', 'capabilitiesutilizes', 'capability', 'capable', 'capacity', 'capacityexpertise', 'capgemini', 'capgeminia', 'capital', 'capitalist', 'capitalizing', 'capture', 'captured', 'captureidentify', 'captures', 'car', 'carbon', 'card', 'care', 'career', 'careeradditional', 'careerare', 'careers', 'careful', 'carefully', 'caregiver', 'caregivers', 'cares', 'caribbean', 'caring', 'carlo', 'carolina', 'carolinas', 'carpool', 'carpooling', 'carrentals', 'carried', 'carrier', 'carries', 'carry', 'carrying', 'cars', 'cart', 'carve', 'casandra', 'case', 'cases', 'casesbenefitswe', 'casesdevelop', 'casesexperience', 'cash', 'casino', 'cassandra', 'cassandraknowledge', 'castillo', 'casual', 'casualty', 'catalog', 'catalyst', 'catalysteffective', 'catalyze', 'catastrophe', 'catastrophic', 'catch', 'categories', 'categoriesresponsibilitiesthe', 'categorize', 'categorizedesign', 'category', 'catered', 'caufield', 'causal', 'causality', 'cause', 'caused', 'causeemploy', 'causequalificationsbasic', 'causes', 'caveats', 'cbs', 'cco', 'ccoteam', 'ccs', 'cd', 'cdasmicrosoft', 'cdc', 'cdisc', 'cdl', 'cela', 'celebrate', 'celebrated', 'celebrates', 'celebrating', 'celebrations', 'celebratory', 'cell', 'cellphone', 'censored', 'census', 'center', 'centered', 'centering', 'centerpiece', 'centers', 'central', 'centralized', 'centrally', 'centric', 'centuries', 'century', 'ceo', 'cerner', 'certain', 'certainly', 'certainty', 'certificate', 'certificates', 'certification', 'certificationbachelor', 'certifications', 'certificationsn', 'certificationsrequires', 'certified', 'certifying', 'cfa', 'cfamiliar', 'cfds', 'cfdss', 'cfo', 'cfos', 'cgi', 'chaid', 'chain', 'chainconfidence', 'chainincludes1st', 'chains', 'chairman', 'challenge', 'challengeadobe', 'challenged', 'challengeeventbrite', 'challenger', 'challenges', 'challengesa', 'challengesexcellent', 'challengesmanage', 'challengesresults', 'challengesstrong', 'challengeswe', 'challenging', 'chalupa', 'champion', 'championing', 'champions', 'chan', 'chance', 'change', 'changeability', 'changed', 'changes', 'changesassist', 'changesbe', 'changesbuild', 'changescontribute', 'changeseffectively', 'changesthe', 'changeswork', 'changing', 'channel', 'channels', 'channelswork', 'channelsyou', 'chantilly', 'chapel', 'character', 'characteristic', 'characteristics', 'characteristicsexperience', 'characterization', 'characterize', 'charge', 'chargeback', 'charity', 'charles', 'charleston', 'charlotte', 'chart', 'charter', 'chartered', 'charts', 'chartsperform', 'chase', 'chat', 'chatbot', 'chatbots', 'chatting', 'cheap', 'cheapflights', 'cheaptickets', 'check', 'checkfelix', 'checking', 'checklist', 'checks', 'chemical', 'chemicals', 'chemistry', 'chemometric', 'chen', 'cheryl', 'chesapeake', 'chewse', 'chicago', 'chicagoeducation', 'chicagohcsc', 'chief', 'chiefs', 'child', 'childbirth', 'children', 'china', 'chinese', 'chip', 'chipotle', 'chipotlechipotle', 'chipp', 'chocolatesm', 'choice', 'choicefree', 'choices', 'choicescollaborating', 'choose', 'choosing', 'chops', 'chosen', 'christofaris', 'chrome', 'chronic', 'chrysler', 'chs', 'chuck', 'churn', 'ci', 'cia', 'ciain', 'cic', 'cino', 'cio', 'circa', 'circadian', 'circle', 'circleci', 'circleup', 'circumstancesclear', 'cisco', 'citi', 'cities', 'citizen', 'citizenminimum', 'citizens', 'citizenship', 'citizenshipdeloitte', 'city', 'cityallazohealth', 'cityschedule', 'civil', 'civilian', 'civis', 'civisanalytics', 'cjpostmaxar', 'claims', 'clara', 'clarification', 'clarify', 'clarity', 'clarityabout', 'clarivate', 'clarkston', 'class', 'classdojo', 'classdojoclassdojo', 'classes', 'classic', 'classical', 'classically', 'classics', 'classification', 'classificationarchitecting', 'classifications', 'classified', 'classifier', 'classifiers', 'clayton', 'clean', 'cleanchoice', 'cleanchoiceenergy', 'cleaner', 'cleaning', 'cleanse', 'cleansing', 'cleansingpassionate', 'clear', 'clearance', 'clearance2', 'clearanceincludes', 'clearances', 'clearancethese', 'clearanceworking', 'cleared', 'clearer', 'clearly', 'clearnlp', 'cleartk', 'clearwater', 'cleveland', 'click', 'clicking', 'clickstream', 'client', 'clientfollow', 'clientproject', 'clients', 'clientsability', 'clientsbuild', 'clientsgreat', 'clientsposition', 'clientsshare', 'climate', 'climb', 'clinic', 'clinical', 'clinically', 'clinicaltrials', 'clinicians', 'clinton', 'close', 'closed', 'closely', 'closer', 'closing', 'closure', 'cloth', 'cloud', 'cloudcollaborate', 'cloudera', 'cloudrequired', 'club', 'cluster', 'clustering', 'clusteringmachine', 'clusteroptimizing', 'clusters', 'cmg', 'cnn', 'cnns', 'cntk', 'coach', 'coaches', 'coaching', 'code', 'codeabout', 'codebase', 'codeexperience', 'coder', 'coders0057', 'codes', 'coding', 'coe', 'coffee', 'coffeehealth', 'cognitive', 'cognitivein', 'cognos', 'coherent', 'cohesive', 'cohort', 'cohortscollaborate', 'cohortsdesign', 'cold', 'collaborate', 'collaborates', 'collaborating', 'collaboration', 'collaborationproblem', 'collaborations', 'collaborative', 'collaboratively', 'collaborativestrong', 'collaborator', 'collaborators', 'colleague', 'colleagues', 'colleaguesbe', 'colleaguesyou', 'collect', 'collected', 'collecting', 'collection', 'collectionimplement', 'collections', 'collective', 'collectively', 'collects', 'college', 'collegial', 'collisions', 'color', 'colorado', 'colors', 'colour', 'columbia', 'columns', 'com', 'comas', 'combating', 'combination', 'combinations', 'combinator', 'combinatorics', 'combine', 'combined', 'combines', 'combinesbehavioral', 'combining', 'come', 'comedy', 'comeoe', 'comes', 'comet', 'comfort', 'comfortable', 'comfortably', 'comfy', 'comge', 'coming', 'comjob', 'comma', 'command', 'commander', 'commands', 'commence', 'commensurate', 'comments', 'commerce', 'commercial', 'commercializable', 'commercialization', 'commercially', 'commercialten', 'commissionat', 'commissions', 'commit', 'commitment', 'commitments', 'commitmentsmentor', 'commitmentwe', 'commits', 'committed', 'committee', 'committing', 'commodities', 'commodity', 'common', 'commonly', 'commonplace', 'communal', 'communicate', 'communicated', 'communicates', 'communicating', 'communication', 'communication2', 'communicationability', 'communicationqualifications', 'communications', 'communicationsrole', 'communicationsstay', 'communicationstrong', 'communicationswork', 'communicationteam', 'communicative', 'communicator', 'communicatorexcellent', 'communicatorexperience', 'communicatorleader', 'communicatorteam', 'communities', 'communitiesdeploy', 'communitiesdevelop', 'communitiesexperience', 'communitieswhat', 'community', 'communitybe', 'communityminimum', 'communityrequirements', 'commute', 'commuter', 'commuters', 'commvault', 'comp', 'compact', 'companies', 'companieswork', 'company', 'companyabout', 'companybeautiful', 'companycivis', 'companyeyeview', 'companyguide', 'companyhelp', 'companykraft', 'companypartners', 'companypoised', 'companyprojectmanager', 'companythe', 'companywhat', 'companywide', 'comparable', 'compare', 'comparison', 'compassion', 'compelling', 'compensation', 'compensationadaction', 'compete', 'competence', 'competences', 'competencies', 'competenciespreferred', 'competenciesrequired', 'competenciesrequires', 'competency', 'competent', 'competing', 'competition', 'competitionparticipation', 'competitions', 'competitive', 'competitiveness', 'competitiveschedule', 'competitor', 'compilation', 'compile', 'compiled', 'compiling', 'complaint', 'complete', 'completed', 'completely', 'completeness', 'completenessshort', 'completes', 'completestrong', 'completing', 'completion', 'completionexcellent', 'complex', 'complexities', 'complexity', 'complexitycollaborate', 'compliance', 'complicated', 'complied', 'complies', 'complimentary', 'complimented', 'comply', 'complying', 'component', 'components', 'componentssolid', 'componentssql', 'componentsstrong', 'composed', 'composite', 'comprehensive', 'comprise', 'comprised', 'comprises', 'comprising', 'compromise', 'compromises', 'computation', 'computational', 'compute', 'computer', 'computers', 'computing', 'computing3', 'computingpreferred', 'comreq', 'comthey', 'conceive', 'conceiving', 'concentration', 'concept', 'conception', 'concepts', 'conceptsa', 'conceptsadvanced', 'conceptsanalytical', 'conceptscapable', 'conceptsexperience', 'conceptshave', 'conceptsknow', 'conceptsproven', 'conceptual', 'conceptualization', 'conceptualize', 'conceptualizing', 'conceptually', 'concern', 'concerned', 'concerning', 'concerns', 'concerts', 'concierge', 'concise', 'concisely', 'conciselyability', 'conciselybackground', 'conclusions', 'conclusionsbuild', 'conclusionscreate', 'concrete', 'concurrent', 'concurrently', 'condition', 'conditions', 'conditionsnormal', 'conditionswork', 'condo', 'conduct', 'conducted', 'conducting', 'conducts', 'conference', 'conferences', 'conferencescollaborates', 'confidence', 'confident', 'confidential', 'confidentiality', 'confidentialityability', 'confidentially', 'confidently', 'configuration', 'configure', 'configuring', 'confirm', 'conflict', 'conflicting', 'conflicts', 'confluence', 'conform', 'confront', 'conjunction', 'connect', 'connected', 'connecting', 'connection', 'connections', 'connectionspreferred', 'connectivitybachelor', 'connects', 'conscientious', 'consensus', 'consensusconsistently', 'consent', 'consequence', 'consequences', 'consequently', 'conservancy', 'conservancychesapeake', 'conservation', 'conserve', 'conshohocken', 'consider', 'considerable', 'consideration', 'considerations', 'considered', 'consideredprogrammingpython', 'consideredstrong', 'considering', 'considers', 'consist', 'consistency', 'consistent', 'consistently', 'consisting', 'consists', 'consolidate', 'constant', 'constantly', 'constituents', 'constituentsa', 'constituentscompany', 'constrained', 'constraint', 'constraints', 'constraintscontinue', 'constraintsprior', 'construct', 'construction', 'constructive', 'constructs', 'construed', 'consult', 'consultancy', 'consultant', 'consultantcultivating', 'consultants', 'consultation', 'consultations', 'consultative', 'consulting', 'consultingwork', 'consults', 'consumable', 'consumed', 'consumer', 'consumers', 'consuming', 'consumption', 'consumptionin', 'consumptionprovide', 'contact', 'contacted', 'contacting', 'contacts', 'contactsexcellent', 'contactsexperience', 'contain', 'contained', 'container', 'containerization', 'containers', 'contains', 'contamination', 'content', 'contents', 'context', 'contexts', 'contextsdevelop', 'contextual', 'contextualize', 'contingencies', 'contingent', 'continual', 'continually', 'continue', 'continued', 'continues', 'continuing', 'continuous', 'continuously', 'contract', 'contract1', 'contract6', 'contractakraya', 'contractdata', 'contractearly', 'contractjob', 'contractor', 'contracts', 'contractthe', 'contractwe', 'contribute', 'contributed', 'contributes', 'contributing', 'contribution', 'contributions', 'contributionsflex', 'contributor', 'contributordemonstrated', 'contributoreager', 'contributors', 'control', 'controlfamiliarity', 'controlled', 'controlproficiency', 'controls', 'controlsinspires', 'controlsufficient', 'convenience', 'conveniences', 'convenient', 'convention', 'conventional', 'conventions', 'conversant', 'conversation', 'conversational', 'conversations', 'converse', 'conversely', 'conversion', 'conversions', 'convert', 'converting', 'convex', 'convey', 'convicted', 'conviction', 'convince', 'convnet', 'convolutional', 'coo', 'cooked', 'cookies', 'cool', 'cooperation', 'cooperatively', 'coordinate', 'coordinates', 'coordinating', 'coordination', 'coordinators', 'copiers', 'copious', 'copy', 'cor', 'coral', 'cordell', 'core', 'coreference', 'coremetrics', 'corenlp', 'corner', 'corners', 'corp', 'corporate', 'corporation', 'corporations', 'corporganization', 'corpus', 'correct', 'correctdevelop', 'correction', 'corrective', 'correctly', 'correlate', 'correlation', 'correlations', 'corresponding', 'cosine', 'cosmos', 'cost', 'costa', 'costing', 'costs', 'couch', 'couchbase', 'couldn', 'council', 'counselors', 'count', 'counterintelligence', 'counterpart', 'counterparts', 'counting', 'countries', 'country', 'counts', 'courage', 'course', 'coursera', 'courses', 'coursework', 'court', 'courteous', 'cover', 'coverage', 'coverage20', 'coverage401', 'coverage401k', 'coveragebreak', 'coveragelife', 'covered', 'coveredflexible', 'covering', 'covers', 'coworkers', 'cpa', 'cpg', 'cplex', 'cr', 'crack', 'craft', 'crafted', 'crafting', 'craftsmanship', 'cranford', 'craves', 'crazy', 'cre', 'create', 'created', 'creates', 'createyou', 'creating', 'creation', 'creationexperience', 'creative', 'creatively', 'creativity', 'creators', 'credential', 'credentials', 'credibility', 'credible', 'credibly', 'credit', 'creditexperience', 'credits', 'creed', 'crf', 'crime', 'crimelead', 'crimes', 'criminal', 'crimson', 'crisp', 'crisply', 'criteo', 'criteos', 'criteria', 'criteriaadditional', 'criteriaexperience', 'critical', 'critically', 'criticallyrequirementspreferred', 'criticism', 'critics', 'crm', 'cro', 'cross', 'crosscut', 'crosshairs', 'crosswise', 'crouchlift', 'crucial', 'cruise', 'cruiseshipcenters', 'crunch', 'crunching', 'crux', 'crypto', 'cryptoanalysis', 'cryptoanalysisexperience', 'cryptoasset', 'cryptoassets', 'cryptocurrency', 'cryptocurrencydevelop', 'crystallizing', 'cs', 'csc', 'cseo', 'csim', 'css', 'csshigh', 'cst', 'csv', 'ctakes', 'ctjob', 'cto', 'ctr', 'cubes', 'cuda', 'culling', 'cultivate', 'cultivating', 'cultivation', 'cultural', 'culturally', 'culture', 'culturecheck', 'culturecompetitive', 'culturegenerous', 'culturenetflix', 'cultureongoing', 'cultureour', 'cultures', 'cumbersome', 'cumulative', 'curate', 'curated', 'curating', 'curation', 'curators', 'cure', 'cures', 'curiosity', 'curiositybonus', 'curious', 'currencies', 'current', 'currently', 'curriculum', 'curve', 'curvecompany', 'cusa', 'cushman', 'custodian', 'custom', 'customary', 'customer', 'customers', 'customers25', 'customersadditional', 'customersanalyze', 'customersbit', 'customerscapable', 'customersdesign', 'customersin', 'customersjob', 'customerskills', 'customerspreferred', 'customersproviding', 'customersresearch', 'customersresponsibilities', 'customersresponsibilitiesall', 'customize', 'customized', 'cut', 'cuts', 'cutting', 'cv', 'cvs', 'cyber', 'cyberattacks', 'cybersecurity', 'cyberthreat', 'cyberthreats', 'cycle', 'cyclepossess', 'cycles', 'cyclesstrong', 'cyclical', 'czi', 'd3', 'd3basic', 'd3expert', 'dacohpjhujobs', 'daf', 'daily', 'dallas', 'dan', 'dana', 'dare', 'daring', 'dash', 'dashboard', 'dashboarding', 'dashboardingability', 'dashboards', 'dashboardsstrong', 'dashboardswhat', 'data', 'data2', 'data5', 'dataa', 'dataability', 'dataadvanced', 'dataanalyze', 'dataand', 'dataassemble', 'dataassisting', 'dataassists', 'dataat', 'databachelor', 'database', 'databasecompile', 'databaseexperience', 'databases', 'databasesability', 'databasesexperience', 'databasespreferred', 'databasesproficiency', 'databe', 'databricks', 'databricksability', 'databuild', 'datacenter', 'datacollaborate', 'datacompetitive', 'dataconduct', 'datacuriosity', 'datadesign', 'datadesigning', 'datadesired', 'datadevelop', 'dataelevate', 'dataexcellent', 'dataexperience', 'dataexpert', 'dataexplores', 'dataformulates', 'dataframesknowledge', 'datagreat', 'dataidentify', 'dataiku', 'datainspire', 'dataknowledge', 'datalab', 'datalogix', 'datamachine', 'datamaintain', 'datameasure', 'datameer', 'dataminer', 'datamining', 'dataops', 'dataoptimize', 'dataoutstanding', 'dataown', 'dataperiodic', 'datapersuasive', 'datapossessing', 'dataproc', 'dataproficiency', 'dataproven', 'dataqualifications', 'datarequirementsworking', 'datarobot', 'dataset', 'datasets', 'datasets5', 'datasetsa', 'datasetsability', 'datasetsaccess', 'datasetscommunicate', 'datasetsdesign', 'datasetsdevelop', 'datasetsdevelopment', 'datasetsexperience', 'datasetsfluency', 'datasetspersonal', 'datasetspreference', 'datasetswork', 'datasetsyou', 'datasome', 'datastrong', 'datasuperior', 'datatransform', 'dataviz', 'datawages', 'datawhat', 'datawork', 'datawrite', 'dataxpander', 'date', 'dates', 'david', 'davis', 'day', 'dayabout', 'dayanalyzing', 'daycare', 'dayfeature', 'days', 'days401k', 'daysat', 'dayslanguages', 'db', 'db2', 'dba', 'dbscan', 'dc', 'ddi', 'deadline', 'deadlines', 'deadlineseffective', 'deadlinesqualifications3', 'deal', 'dealer', 'dealing', 'deals', 'dearborn', 'death', 'debate', 'debug', 'debugging', 'dec', 'decade', 'decades', 'december', 'decentralized', 'decide', 'decided', 'deciding', 'decision', 'decisioning', 'decisions', 'decisionscollaborate', 'decisionsdeepen', 'decisionsdemonstrated', 'decisionsexcellent', 'decisionsexperience', 'decisionsextensive', 'decisionskey', 'decisionsself', 'decisionsthe', 'decisionsthink', 'decisionstranslate', 'decisionsuse', 'decisionswhat', 'decisionswork', 'decisionsyou', 'decisive', 'decks', 'decompose', 'decomposition', 'decreasing', 'dedicated', 'dedication', 'deducation', 'deductive', 'deemed', 'deep', 'deepen', 'deepening', 'deeper', 'deeply', 'default', 'defaulted', 'defaults', 'defender', 'defending', 'defense', 'defensible', 'defensive', 'defensiveness', 'deferred', 'deficiencies', 'define', 'defined', 'definedpassion', 'defines', 'definethe', 'defining', 'definition', 'definitions', 'definitive', 'degree', 'degree1', 'degreeability', 'degreedate', 'degreedemonstrated', 'degreeenrolled', 'degreeexperience', 'degreefive', 'degreefor', 'degreein', 'degreenice', 'degreepreferred', 'degreeproficiency', 'degreeretail', 'degrees', 'degreesexperience', 'degreeskillscertifications', 'degreestrong', 'delegating', 'delight', 'delightful', 'delimited', 'deliver', 'deliverable', 'deliverables', 'deliverablescomfort', 'deliverablespresent', 'deliverablessupervise', 'delivered', 'delivering', 'deliveringtremendous', 'deliverresponsibilitiesapply', 'delivers', 'delivery', 'deliveryability', 'deliverycoordinate', 'deliveryselect', 'dell', 'deloitte', 'delve', 'demand', 'demanding', 'demands', 'demandssitting', 'demandsthe', 'demeanor', 'democratize', 'democratizing', 'demographic', 'demonstrable', 'demonstrate', 'demonstrated', 'demonstrates', 'demonstrating', 'demonstrations', 'demos', 'demystify', 'dental', 'dental401', 'denver', 'department', 'departmental', 'departments', 'departmentsability', 'departmentsdirect', 'depend', 'dependable', 'dependencies', 'dependenciesbuilding', 'dependency', 'dependent', 'dependentsflexible', 'dependentspaid', 'dependentsparking', 'depending', 'depends', 'deploy', 'deployable', 'deployed', 'deploying', 'deployment', 'deploymentic', 'deploymentinterface', 'deployments', 'deploys', 'deposit', 'depression', 'depth', 'derivation', 'derive', 'derived', 'deriving', 'descent', 'described', 'describes', 'describing', 'description', 'description5', 'descriptiona', 'descriptionability', 'descriptionabout', 'descriptionare', 'descriptionas', 'descriptiondata', 'descriptiondemonstrates', 'descriptionglobal', 'descriptionibm', 'descriptionkeysight', 'descriptionoverviewaxians', 'descriptionpepsico', 'descriptionplease', 'descriptionposition', 'descriptions', 'descriptionsection', 'descriptionstart', 'descriptiontasks', 'descriptionthe', 'descriptiontitle', 'descriptiontoomey', 'descriptionwe', 'descriptionwhat', 'descriptionyou', 'descriptionyour', 'descriptive', 'deserve', 'design', 'designated', 'designdatabase', 'designed', 'designer', 'designers', 'designexcellent', 'designing', 'designlocation', 'designpac', 'designrequirements', 'designs', 'designscompetence', 'desirable', 'desirabledeep', 'desirablegreat', 'desirableminimum', 'desirablemongodb', 'desirableproven', 'desirablestrong', 'desire', 'desired', 'desiredcurrently', 'desiredexperience', 'desiredknowledge', 'desiredmasters', 'desiredstrong', 'desiredtwo', 'desk', 'desktop', 'desktops', 'destination', 'destinations', 'destiny', 'detaila', 'detailability', 'detaildescriptionconceive', 'detailed', 'detailhave', 'detailing', 'detailpassionate', 'details', 'detailsfounded', 'detailssalary', 'detailstrong', 'detailwork', 'detect', 'detecting', 'detection', 'detectionexperience', 'detectionimprove', 'detectionrequirementsprior', 'detector', 'determination', 'determine', 'determines', 'determining', 'deterministic', 'detroit', 'develop', 'developed', 'developedability', 'developedcommunicate', 'developer', 'developers', 'developing', 'development', 'development2', 'development5', 'developmentadditional', 'developmentapprise', 'developmentcan', 'developmentcoding', 'developmentcross', 'developmentdata', 'developmentdeep', 'developmentdesign', 'developmentdevelop', 'developmentexperience', 'developments', 'developmentyou', 'develops', 'developyou', 'device', 'devices', 'devise', 'devises', 'devolve', 'devops', 'devoted', 'dexcom', 'dexterity', 'dhs', 'diabetes', 'diagnose', 'diagnosis', 'diagnostic', 'diagnostics', 'diagnosticsperforming', 'diagrams', 'dialog', 'dialogue', 'dictate', 'did', 'didn', 'die', 'diego', 'dies', 'diesel', 'diets', 'difference', 'differences', 'differencesin', 'different', 'differentiate', 'differentiated', 'differentiation', 'differentiators', 'differently', 'differentour', 'differing', 'difficult', 'difficulties', 'dig', 'digest', 'digestible', 'digging', 'digital', 'digitalization', 'digitalocean', 'digitizing', 'dignity', 'dimension', 'dimensional', 'dimensionality', 'dimensions', 'dimly', 'diner', 'diners', 'dining', 'dinners', 'direct', 'directed', 'direction', 'directions', 'directly', 'director', 'directorate', 'directors', 'directs', 'dirichlet', 'dirt', 'dirty', 'disabilities', 'disability', 'disability_accommodation', 'disabled', 'disadvantages', 'disambiguation', 'discharge', 'discharging', 'disciplinary', 'discipline', 'discipline4', 'disciplinebachelors', 'disciplinebackground', 'disciplined', 'disciplineexperience', 'disciplineprevious', 'disciplinerestaurant', 'disciplines', 'disciplinesstrong', 'disciplinetechnical', 'disciplining', 'disclose', 'disclosed', 'disclosure', 'disclosures', 'disco', 'disconnected', 'discount', 'discounting', 'discounts', 'discover', 'discovered', 'discoveries', 'discoveriesidentify', 'discovering', 'discovery', 'discrete', 'discretion', 'discretionary', 'discriminant', 'discriminate', 'discriminated', 'discriminating', 'discrimination', 'discriminative', 'discriminatory', 'discuss', 'discussed', 'discussing', 'discussion', 'discussions', 'disease', 'diseases', 'dislike', 'disney', 'disorders', 'disparate', 'dispatch', 'dispatches', 'dispatching', 'display', 'displaydevelop', 'displaying', 'displays', 'disposal', 'disposition', 'disprove', 'disqualified', 'disqualifying', 'disrupt', 'disrupted', 'disrupting', 'disruption', 'disruptive', 'disseminates', 'dissemination', 'distance', 'distances', 'distill', 'distilled', 'distilling', 'distinction', 'distinctive', 'distracted', 'distractions', 'distribute', 'distributed', 'distributes', 'distribution', 'distributional', 'distributions', 'distributiontechnology', 'distributor', 'dive', 'diverse', 'diversified', 'diversifying', 'diversity', 'diversityare', 'diversityclassdojo', 'diversityhoneywell', 'dives', 'diving', 'division', 'divisional', 'divisions', 'django', 'djangoexperience', 'dl', 'dli', 'dm', 'dmp', 'dmsnice', 'doactively', 'doanalyze', 'doarchitect', 'dobuild', 'doc2vec', 'docker', 'doclarkston', 'docomo', 'doconduct', 'docs', 'doctoral', 'document', 'documentation', 'documentationstrong', 'documented', 'documenting', 'documents', 'documentswork', 'documentsworking', 'dod', 'dodd', 'dodesign', 'dodevelop', 'doers', 'does', 'doesn', 'doget', 'doin', 'doing', 'doinganalyze', 'doinguse', 'dol', 'dolead', 'doleverage', 'dollar', 'dollars', 'dolots', 'domain', 'domain2', 'domain3', 'domainprogramming', 'domains', 'domestic', 'domo', 'domoexperience', 'don', 'donebs', 'doneexcellent', 'doneresults', 'doneundergraduate', 'donewe', 'door', 'doors', 'dopartner', 'dopush', 'dose', 'dot', 'dothe', 'dots', 'double', 'doubleclick', 'dow', 'dowe', 'download', 'downstream', 'downtime', 'downtown', 'dowork', 'doyou', 'dozens', 'dplyr', 'dr', 'draft', 'drafting', 'dramatic', 'dramatically', 'draper', 'draw', 'drawbacks', 'drawbacksmust', 'drawing', 'draws', 'dream', 'dreams', 'dress', 'drift', 'drink', 'drinks', 'drinksemployee', 'drive', 'driven', 'driver', 'drivers', 'drives', 'drivetime', 'drivewe', 'driving', 'drop', 'dropbox', 'dropoff', 'dropped', 'drug', 'drugs', 'dry', 'drybar', 'ds', 'dsa', 'dscout', 'dscoutwe', 'dsit', 'dsr', 'dss', 'dtabase', 'dual', 'dubai', 'dublin', 'duplication', 'durham', 'duties', 'dutiesperforms', 'dutiesplease', 'duty', 'dw', 'dwi', 'dyadic', 'dylan', 'dynamic', 'dynamically', 'dynamicenvironment', 'dynamics', 'dynamo', 'dynet', 'dyplr', 'e2e', 'eager', 'ear', 'earliest', 'early', 'earmarked', 'earn', 'earned', 'earners', 'earning', 'earnings', 'ears7', 'earth', 'ease', 'easier', 'easily', 'easy', 'eat', 'eat24', 'eaters', 'eating', 'ebookers', 'ec', 'ec2', 'ecd', 'ecdi', 'echo', 'ecl', 'ecolab', 'ecological', 'ecommerce', 'econometric', 'econometrics', 'economic', 'economically', 'economics', 'economics2', 'economics5', 'economies', 'economists', 'economy', 'economywe', 'ecosystem', 'ecosysteman', 'ecosystemdeep', 'ecosystemexperience', 'ecosystemperform', 'ecosystemprevious', 'ecosystemreceive', 'ecosystems', 'ecosystemstrong', 'ecs', 'ect', 'ed1xpo', 'eda', 'edge', 'edgeeducation', 'edit', 'editions', 'editor', 'editorial', 'eds', 'edu', 'educate', 'educated', 'educating', 'education', 'educational', 'educationbachelor', 'educationcurrently', 'educationdesired', 'educationmaster', 'educationthe', 'educators', 'edw', 'edward', 'ee', 'eeg', 'eeo', 'eeoc', 'eeopost', 'ef', 'ef1tableau', 'effect', 'effective', 'effectively', 'effectivelyexploring', 'effectivelyinterpersonal', 'effectivelyproficiency', 'effectiveness', 'effectivenessdeepen', 'effects', 'efficacy', 'efficiencies', 'efficiency', 'efficiencyassess', 'efficiencydesign', 'efficient', 'efficiently', 'efficientlyprocessing', 'efficientpresenting', 'effort', 'effortability', 'efforts', 'effortscollaborate', 'effortseducation', 'effortswork', 'egencia', 'ego', 'egos', 'egowe', 'ehr', 'eighteen', 'el', 'elastic', 'elasticities', 'elasticity', 'elasticsearch', 'elbow', 'elected', 'election', 'electric', 'electrical', 'electricity', 'electronic', 'elegant', 'elegantly', 'element', 'elemental', 'elements', 'elevate', 'elevating', 'eligibility', 'eligible', 'elite', 'elixir', 'elk', 'elliott', 'elliottdavis', 'elseexciting', 'em', 'email', 'emails', 'embed', 'embedded', 'embedding', 'embeddings', 'embeds', 'ember', 'embodied', 'embody', 'embrace', 'embraces', 'embracing', 'emea', 'emergencies', 'emergent', 'emerging', 'emnlp', 'emotion', 'emotional', 'empathetic', 'empathizing', 'empathy', 'emphasis', 'emphasisdevelop', 'emphasizes', 'emphasizing', 'empire', 'empirical', 'employ', 'employed', 'employee', 'employees', 'employeescatered', 'employeesjob', 'employeesmedical', 'employeesserve', 'employeesweekly', 'employer', 'employerascensus', 'employers', 'employing', 'employment', 'employmentwork', 'employs', 'empower', 'empowered', 'empowering', 'empowerment', 'empowers', 'emr', 'emrprevious', 'en', 'enable', 'enabled', 'enablers', 'enables', 'enabling', 'encode', 'encoded', 'encoders', 'encoding', 'encompass', 'encompasses', 'encounter', 'encountered', 'encourage', 'encouraged', 'encourages', 'encouraging', 'end', 'ended', 'ending', 'endless', 'endogeneity', 'endomondo', 'endpoints', 'ends', 'enduring', 'energetic', 'energized', 'energy', 'energyour', 'enforce', 'eng', 'engage', 'engaged', 'engagement', 'engagements', 'engagementscontribute', 'engagementwork', 'engages', 'engaging', 'engine', 'engineer', 'engineered', 'engineering', 'engineeringabout', 'engineeringbuild', 'engineeringexpert', 'engineeringlocation', 'engineeringproficiency', 'engineeringproficient', 'engineeringrequirementsexperience', 'engineerkey', 'engineerrocky', 'engineers', 'engineers2', 'engines', 'englewood', 'english', 'englishamazon', 'englishexperience', 'enhance', 'enhanced', 'enhancement', 'enhancementqualifications', 'enhancements', 'enhances', 'enhancing', 'enjoy', 'enjoyable', 'enjoyed', 'enjoying', 'enjoyment', 'enjoys', 'enormous', 'enquiry', 'enrolled', 'enrollmentdetect', 'ensemble', 'ensembling', 'enskill', 'ensure', 'ensures', 'ensuring', 'entails', 'enter', 'enterprise', 'enterprises', 'entertaining', 'entertainment', 'enthusiasm', 'enthusiast', 'enthusiastic', 'entire', 'entirely', 'entities', 'entity', 'entomology', 'entrepreneur', 'entrepreneurial', 'entrepreneurs', 'entries', 'entrust', 'entry', 'envelope', 'environment', 'environmentability', 'environmentabout', 'environmentadvanced', 'environmental', 'environmentall', 'environmentamazing', 'environmentanalytical', 'environmentcertificates', 'environmentcondition', 'environmentcontinuous', 'environmentdemonstrated', 'environmentdesire', 'environmentdesired', 'environmentenhance', 'environmentexcellent', 'environmentexperience', 'environmentgather', 'environmenthands', 'environmentlearning', 'environmentlive', 'environmentmaintain', 'environmentminimum', 'environmentnormal', 'environmentpaid', 'environmentpotential', 'environmentpragmatic', 'environmentpreferred', 'environmentprofessional', 'environmentproficiency', 'environmentqualifications', 'environments', 'environmentsability', 'environmentsexperience', 'environmentsgood', 'environmentsintellectually', 'environmentsnacks', 'environmentsqualificationswhat', 'environmentsred', 'environmentstrong', 'environmentswork', 'environmentteam', 'environmenttech', 'environmentthe', 'environmentto', 'environmentu', 'environmentutilize', 'environmentwe', 'environmentyou', 'envision', 'envisioned', 'envisioning', 'envisions', 'eo', 'eoe', 'epic', 'epidemiological', 'epidemiologists', 'epidemiology', 'epidemiologyindustry', 'eppac', 'eq', 'equal', 'equally', 'equate', 'equation', 'equations', 'equip', 'equipment', 'equipmentsignificant', 'equipmentthe', 'equipped', 'equips', 'equitable', 'equities', 'equity', 'equitycommuter', 'equivalent', 'equivalent2', 'equivalentadvance', 'equivalentdevelopment', 'equivalentexperience', 'equivalentfamiliar', 'equivalentgraduate', 'equivalentpassion', 'equivalentproficiency', 'equivalents', 'equivalentsix', 'er', 'era', 'eradicating', 'ericsson', 'erp', 'errant', 'erroneous', 'error', 'errors', 'escalates', 'escalations', 'especially', 'esports', 'espresso', 'esri', 'essbase', 'essential', 'essentials', 'establish', 'established', 'establishes', 'establishing', 'establishment', 'estate', 'estimate', 'estimates', 'estimation', 'estimations', 'et', 'etcdesired', 'etcproficiency', 'etfs', 'ethic', 'ethical', 'ethicon', 'ethics', 'ethicsability', 'ethnic', 'ethnicity', 'etl', 'etlexperience', 'eur', 'euronext', 'europaea', 'europe', 'european', 'evaluate', 'evaluated', 'evaluates', 'evaluating', 'evaluation', 'evaluationcurrently', 'evaluations', 'evangelist', 'evangelists', 'evangelize', 'evangelizing', 'evening', 'event', 'eventbrite', 'eventbriteeventbrite', 'events', 'events40', 'eventsabout', 'eventual', 'everett', 'everybody', 'everyday', 'everytown', 'evidence', 'evidenced', 'evidenceteradata', 'evms', 'evolution', 'evolve', 'evolvequantify', 'evolving', 'evp', 'ex', 'exact', 'exactly', 'exactness', 'exama', 'examine', 'examines', 'examining', 'example', 'examplea', 'examples', 'examplessharing', 'exams', 'exceed', 'exceeds', 'excel', 'excellence', 'excellent', 'excelpreferred', 'excels', 'exceptional', 'exceptions', 'excess', 'exchange', 'exchanges', 'excite', 'excited', 'excitement', 'excites', 'exciting', 'exclusive', 'exclusively', 'excursions', 'execute', 'executecrecruiters', 'executed', 'executes', 'executing', 'execution', 'executionconsumer', 'executionensuring', 'executionexperience', 'executionhaving', 'executionhunger', 'executionpassionate', 'executive', 'executives', 'executivesability', 'executivesmeet', 'executivestakes', 'executors', 'exemplary', 'exemplify', 'exemplifying', 'exempt', 'exemptdate', 'exemptjob', 'exemptpursuant', 'exercise', 'exercises', 'exercising', 'exert', 'exhaustive', 'exhibit', 'exist', 'existing', 'exits', 'exogenous', 'expand', 'expanded', 'expanding', 'expansion', 'expect', 'expectations', 'expectationswhile', 'expectationswork', 'expected', 'expecting', 'expectwhen', 'expedia', 'expediado', 'expedite', 'expense', 'expenses', 'expensive', 'experience', 'experience2', 'experience3', 'experience5', 'experience7', 'experience8', 'experiencea', 'experienceability', 'experienceadvanced', 'experienceaerospace', 'experiencealelo', 'experienceat', 'experiencebachelor', 'experiencebachelors', 'experiencebenefits', 'experienceblockchain', 'experiencebs', 'experiencebusiness', 'experiencecollaborate', 'experiencecommunicate', 'experiencecreativityinitiativeintegrityleadership', 'experiencecurrently', 'experienced', 'experiencedata', 'experiencedeep', 'experiencedegree', 'experiencedemonstrated', 'experiencedue', 'experienceexcellent', 'experienceexperience', 'experienceexpertise', 'experienceextensive', 'experiencefamiliarity', 'experiencefar', 'experienceflexible', 'experiencehave', 'experiencehighly', 'experiencejob', 'experiencekeyword', 'experienceknowledge', 'experiencem', 'experiencemarket', 'experiencemarketing', 'experiencemaster', 'experiencemasters', 'experiencems', 'experiencemust', 'experienceoperational', 'experienceoutstanding', 'experiencepractical', 'experienceprefer', 'experienceproficiency', 'experienceprogramming', 'experienceproven', 'experiencequalifications', 'experiencerequired', 'experiencerequirement', 'experiences', 'experiencesbuilding', 'experiencescustomer', 'experiencesexperience', 'experienceskills', 'experiencespecial', 'experiencesskillsms', 'experiencestrong', 'experiencetesting', 'experiencethe', 'experiencethree', 'experiencetypically', 'experienceundergraduate', 'experienceunderstand', 'experienceunderstanding', 'experiencewith', 'experiencework', 'experienceyou', 'experiment', 'experimental', 'experimentally', 'experimentation', 'experimentations', 'experimenter', 'experimenting', 'experiments', 'experimentsexpertise', 'experimentsmonitoring', 'experimentsperform', 'experimentswhat', 'expert', 'expertanalysis', 'expertise', 'expertiseba', 'expertiseblending', 'expertisecurrently', 'expertisemust', 'expertisequerying', 'expertisestrong', 'expertiseunderstanding', 'expertize', 'expertly', 'expertprioritization', 'expertproblem', 'expertprocess', 'experts', 'expertsnatural', 'expertsproject', 'expires', 'explain', 'explainabilityyou', 'explained', 'explaining', 'explainingthe', 'explains', 'explanations', 'explanatory', 'explicit', 'explicitly', 'exploit', 'exploiting', 'exploits', 'exploration', 'explorations', 'exploratory', 'explore', 'explorers', 'explores', 'explorewrangler', 'exploring', 'exponential', 'export', 'expose', 'exposed', 'exposure', 'exposures', 'express', 'expression', 'expressions', 'expressly', 'extant', 'extend', 'extended', 'extending', 'extends', 'extensible', 'extensioncontract', 'extensive', 'external', 'externally', 'extra', 'extract', 'extracting', 'extraction', 'extracts', 'extractsgood', 'extraordinarily', 'extraordinary', 'extreme', 'extremely', 'extremes', 'extrinsic', 'exudes', 'eye', 'eyes', 'eyeview', 'f1', 'fabric', 'face', 'facebook', 'faces', 'faceted', 'facets', 'facilitate', 'facilitation', 'facilities', 'facility', 'facing', 'fact', 'facto', 'factor', 'factorial', 'factoring', 'factorization', 'factors', 'factory', 'facts', 'faculty', 'fail', 'failure', 'failures', 'failurthe', 'fair', 'fairbank', 'fairnessoperationalization', 'fall', 'falls', 'false', 'familial', 'familiar', 'familiarity', 'families', 'family', 'fanatical', 'fans', 'fansms', 'fantastic', 'fantastically', 'far', 'fares', 'farm', 'farmer', 'farmers', 'farming', 'farmland', 'farms', 'fascinated', 'fascinating', 'fashion', 'fast', 'faster', 'fastest', 'fastwe', 'fatal', 'favorite', 'faxes', 'fb', 'fbi', 'fbn', 'fca', 'fcontract', 'fearless', 'fearlessly', 'feasibility', 'feasible', 'feature', 'featured', 'features', 'featurescollaborate', 'federal', 'federation', 'fedramppython', 'fee', 'feed', 'feedback', 'feedbackamazon', 'feedbackidentifying', 'feedbackis', 'feedbacks', 'feedbackwhat', 'feedforward', 'feeding', 'feeds', 'feel', 'feelings', 'feelreach', 'feels', 'fees', 'feet', 'fellow', 'felony', 'felt', 'female', 'females', 'ferry', 'fervor', 'festivals', 'fewer', 'fiat', 'field', 'field0', 'field2', 'field3', 'field4', 'field5', 'fielda', 'fieldadvanced', 'fieldat', 'fieldbonus', 'fieldcomfort', 'fieldcompany', 'fielddeep', 'fieldexcellent', 'fieldexceptional', 'fieldexperience', 'fieldextensive', 'fieldfamiliarity', 'fieldfluency', 'fieldgpa', 'fieldhas', 'fielding', 'fieldminimum', 'fieldmust', 'fieldother', 'fieldpossess', 'fieldpreferredmasters', 'fieldprevious', 'fieldproficiency', 'fieldprojects', 'fieldquantitative', 'fieldrelevant', 'fields', 'fields0', 'fieldsdeep', 'fieldsexperience', 'fieldsolid', 'fieldstrong', 'fieldwho', 'fieldyou', 'fifth', 'figaro', 'figure', 'figures', 'file', 'files', 'filled', 'filter', 'filtering', 'final', 'finalize', 'finally', 'finance', 'financestatisticsall', 'financestatisticsavailability', 'financestatisticsgpa', 'financial', 'financially', 'financialservices', 'financialswhat', 'financing', 'finder', 'finding', 'findings', 'findingsacquires', 'findingsconduct', 'findingsexcellent', 'findingsparticipate', 'findingsstrong', 'finds', 'fine', 'finely', 'fineresponsibilities', 'finger', 'fingerprinting', 'fingerprints', 'fingers', 'fingertips', 'finish', 'finisher', 'finishline', 'finite', 'finlocker', 'fintech', 'fips', 'firewall', 'firm', 'firmdemonstrated', 'firmhave', 'firmproficiency', 'firms', 'firstwe', 'firstweekends', 'fiscal', 'fischbach', 'fish', 'fisma', 'fit', 'fitness', 'fitting', 'fix', 'fixat', 'fixed', 'fixer', 'fixes', 'fixing', 'flagship', 'flask', 'flat', 'flavor', 'flavors', 'flawless', 'flawlessly', 'flaws', 'fleet', 'fleets', 'flex', 'flexibility', 'flexibilitydeliver', 'flexible', 'flexibleinternship', 'flight', 'flights', 'flip', 'floodgate', 'floor', 'flopped', 'flops', 'floral', 'florida', 'florists', 'flourishes', 'flow', 'flowers', 'flows', 'flsa', 'flu', 'fluency', 'fluent', 'fluently', 'fluentpreferred', 'fluffy', 'fluid', 'fluidity', 'flume', 'flws', 'fly', 'fmri', 'focus', 'focused', 'focusedstrong', 'focuses', 'focusing', 'focusreasonable', 'focussed', 'focusses', 'fold', 'folder', 'follow', 'following', 'followingresumecover', 'follows', 'food', 'football', 'footprint', 'footwear', 'for3', 'fora', 'forabout', 'forbearance', 'forbes', 'forbidden', 'force', 'forced', 'forces', 'ford', 'forecast', 'forecasting', 'forecastingadditional', 'forecastingat', 'forecasts', 'forefront', 'foreign', 'foremost', 'forescout', 'forest', 'foresting', 'forests', 'forestsfamiliarity', 'forexpertise', 'forge', 'forget', 'form', 'forma', 'formal', 'formalize', 'formally', 'format', 'formatexperience', 'formation', 'formats', 'formatsstatistical', 'formatting', 'formed', 'forms', 'formsbuilding', 'formulas', 'formulate', 'formulation', 'forngs', 'fortune', 'forums', 'forward', 'forwardclean', 'forwarded', 'forwarders', 'forwe', 'foster', 'fostering', 'fosters', 'foundation', 'foundational', 'foundationproven', 'foundations', 'founded', 'founder', 'founders', 'founding', 'foundry', 'fourier', 'fourth', 'fraank', 'fraction', 'fractional', 'fragmented', 'frame', 'frames', 'framework', 'frameworkbusiness', 'frameworkexperience', 'frameworkfamiliar', 'frameworkminimum', 'frameworks', 'frameworks6', 'frameworksability', 'frameworksassemble', 'frameworksassess', 'frameworkscompile', 'frameworksexperience', 'frameworksqualifications', 'frameworkswhat', 'framing', 'franca', 'france', 'francis', 'francisco', 'frank', 'fraud', 'freakishly', 'free', 'freedom', 'freely', 'freesurfer', 'freight', 'french', 'frequent', 'frequentist', 'frequently', 'fresh', 'freshness', 'friction', 'frictionless', 'friday', 'fridaysalary', 'friendly', 'friends', 'friendships', 'frighten', 'frontend', 'frontier', 'frontiers', 'fruitbouquets', 'fsa', 'fsa401k', 'fsl', 'ftp', 'fuel', 'fueled', 'fuels', 'fulfill', 'fulfilling', 'fulfillment', 'fullest', 'fullpower', 'fulltime', 'fully', 'fun', 'function', 'function___________________________________________________________________________________privacy', 'functional', 'functionalities', 'functionality', 'functionally', 'functionallystrong', 'functiondata', 'functioninformation', 'functions', 'functionsadvanced', 'functionscreate', 'functionsdesign', 'functionsdevelop', 'functionsdevelops', 'functionsexcellent', 'functionsexperience', 'functionslisted', 'functionsperforms', 'functionstrong', 'functionswith', 'functionswork', 'fund', 'fundamental', 'fundamentally', 'fundamentals', 'fundamentalsmastery', 'funded', 'fundedthe', 'funders', 'funding', 'fundraisers', 'funds', 'funnel', 'funnels', 'furnish', 'furniture', 'furry', 'furtherance', 'furthermore', 'furthers', 'furthest', 'fused', 'fusion', 'future', 'futures', 'futuristic', 'fuzzy', 'ga', 'ga1000', 'gaap', 'gables', 'gadget', 'gain', 'gained', 'gaining', 'gains', 'galvanize', 'galvanizing', 'gambling', 'game', 'gamers', 'games', 'gaming', 'gans', 'gap', 'gaps', 'gapsidentify', 'gapsmaintain', 'garage', 'garden', 'garner', 'gartner', 'gas', 'gases', 'gates', 'gather', 'gathered', 'gathering', 'gatheringssharp', 'gatos', 'gauge', 'gaussian', 'gay', 'gbas', 'gbm', 'gcdo', 'gcp', 'gdit', 'ge', 'gear', 'geared', 'geek', 'gelman', 'gen', 'gender', 'general', 'generalist', 'generality', 'generalizable', 'generalize', 'generalized', 'generally', 'generate', 'generated', 'generates', 'generating', 'generation', 'generations', 'generationsbuild', 'generationwe', 'generative', 'generosity', 'generous', 'genes', 'genetic', 'geneticists', 'genetics', 'genism', 'genome', 'genomes', 'genomic', 'genomics', 'genre', 'gensim', 'genuine', 'genuinely', 'geo', 'geographic', 'geographical', 'geographically', 'geographies', 'geography', 'geoint', 'georgetown', 'georgia', 'georgian', 'geospatial', 'german', 'germany', 'gets', 'getting', 'ggplot', 'ggplot2', 'ggplot2experience', 'giants', 'gift', 'gifting', 'gifts', 'gillette', 'gis', 'git', 'gitcollecting', 'gitflow', 'github', 'given', 'givers', 'gives', 'giving', 'glad', 'glanceopenx', 'glidepath', 'glm', 'glms', 'global', 'globalization', 'globally', 'globe', 'globyou', 'glove', 'gloves', 'glucose', 'gm', 'gmmcb', 'gny', 'goal', 'goals', 'goalsa', 'goalsbe', 'goalsclearly', 'goalsdesigning', 'goalsdevelop', 'goalsdrive', 'goalslead', 'goalsstrategize', 'goalsweekly', 'goes', 'going', 'gold', 'golden', 'good', 'gooders', 'goods', 'google', 'goose', 'gov', 'govern', 'governance', 'governancequalificationsrequirements', 'governing', 'government', 'governmental', 'governmentkbr', 'governmentknowledge', 'governments', 'governmentyou', 'governors', 'gpa', 'gpl', 'gpu', 'grad', 'grade', 'grade057pre', 'gradient', 'grading', 'gradinternships', 'gradinternshipsminimum', 'graduate', 'graduated', 'graduates', 'graduating', 'graduation', 'graduationattending', 'grainger', 'grandkids', 'grant', 'granted', 'grantmaking', 'grants', 'granular', 'granularity', 'grapeshot', 'graph', 'graphical', 'graphics', 'graphlabdatabases', 'graphql', 'graphs', 'graphusing', 'grasp', 'grasps', 'grasshoppercollaborate', 'gratitude', 'grease', 'great', 'greater', 'greatest', 'greatness', 'green', 'greenplum', 'greenville', 'grep', 'greylock', 'grid', 'gridwork', 'grill', 'gritty', 'groceries', 'grocers', 'grocery', 'ground', 'groundbreaking', 'grounding', 'group', 'groupcordell', 'groupon', 'groups', 'groupsnice', 'groupssolution', 'grow', 'growat', 'growing', 'grown', 'growownership', 'grows', 'growth', 'growthadditional', 'growthcompany', 'growthdrives', 'growthrepresenting', 'grubhub', 'gsd', 'gsv', 'guarantee', 'guaranteed', 'guessing', 'guest', 'guests', 'gui', 'guidance', 'guidancepreferred', 'guidancewe', 'guidanceyou', 'guide', 'guided', 'guidelines', 'guides', 'guiding', 'gun', 'gurobi', 'guru', 'gut', 'gym', 'h1', 'h1b', 'h2o', 'h2oexperience', 'habitat', 'hackathons', 'hackday', 'hackers', 'hackexperience', 'hadoop', 'hadoopanalyzes', 'hadoopexperience', 'hadoopfamiliarity', 'hadoopyou', 'hairy', 'half', 'hall', 'hampshire', 'hana', 'hand', 'handicap', 'handle', 'handles', 'handling', 'hands', 'handsubstantial', 'hanover', 'happen', 'happening', 'happens', 'happiness', 'happy', 'haptics', 'harassment', 'harbor', 'hard', 'harder', 'hardest', 'hardship', 'hardware', 'hardworking', 'harm', 'harmonization', 'harmonize', 'harmonizing', 'harness', 'harnessed', 'harnesses', 'harnessing', 'harry', 'harvard', 'harvest', 'hasn', 'hat', 'hats', 'haul', 'have2', 'have3', 'have5', 'have6', 'havea', 'haveadvanced', 'havean', 'haveexperience', 'havefluency', 'havemaster', 'havemasters', 'haven', 'havephd', 'haves', 'having', 'haystack', 'hbase', 'hcdagile', 'hcsc', 'hcss', 'hcv', 'hd', 'hdfs', 'head', 'header', 'headhunter', 'headphone', 'headphoneprofessional', 'headquartered', 'headquarters', 'health', 'healthcare', 'healthcareestablish', 'healthcarekey', 'healthcarestrong', 'healthcarewe', 'healthier', 'healthierbehaviors', 'healthtech', 'healthy', 'hear', 'heard', 'hearing', 'heart', 'heartfelt', 'hearthe', 'hearwalk', 'heat', 'heavily', 'heavy', 'hedge', 'hedging', 'heights', 'held', 'helio', 'hello', 'help', 'helped', 'helpful', 'helping', 'helps', 'heritage', 'herndon', 'heroku', 'hesitate', 'heterogeneous', 'heuristic', 'heuristics', 'hewlett', 'hexagon', 'hi', 'hidden', 'hierarchical', 'high', 'higher', 'highest', 'highexcited', 'highlight', 'highlighting', 'highlightswe', 'highly', 'highlydesired', 'hilarious', 'hill', 'hills', 'hindering', 'hinge', 'hire', 'hired', 'hires', 'hiring', 'hiroad', 'histograms', 'historians', 'historical', 'historically', 'histories', 'history', 'hit', 'hitachi', 'hiv', 'hive', 'hiveabout', 'hivecheck', 'hm', 'hmh', 'hmm', 'hobbiessnacks', 'hobbyists', 'hoc', 'hold', 'holder', 'holders', 'holdershands', 'holding', 'holdings', 'holiday', 'holidays', 'holidayscentral', 'holidaysexcellent', 'holidaysfree', 'holistic', 'holisticsupport', 'hollywood', 'home', 'homeaway', 'homeland', 'homeowners', 'homes', 'homicide', 'honed', 'honest', 'honesty', 'honeywell', 'hong', 'honor', 'hood', 'hope', 'hopefully', 'horizons', 'horizontal', 'horizontally', 'horn', 'horsepower', 'hortonworks', 'hospital', 'hospitality', 'hospitals', 'host', 'hosted', 'hot', 'hotel', 'hotels', 'hotelscombined', 'hottest', 'hotwire', 'hour', 'houras', 'hourinternshipas', 'hourly', 'hourpart', 'hours', 'hoursfree', 'hoursother', 'hourswealth', 'hourswork', 'house', 'housed', 'household', 'housing', 'houston', 'houstonjob', 'hp', 'hpe', 'hq', 'hql', 'hr', 'hra', 'hrd53130category', 'hris', 'hrs', 'hsa', 'html', 'http', 'https', 'hubs', 'huge', 'hugoton', 'human', 'humanitiesduties', 'humanity', 'humans', 'humble', 'humility', 'humint', 'humor', 'hundreds', 'hunger', 'hungriest', 'hunters', 'huobigroupresposibilitiesapply', 'hurdles', 'hustle', 'hybrid', 'hygiene', 'hype', 'hyper', 'hyperparameter', 'hypotheses', 'hypothesesbusiness', 'hypothesesdesign', 'hypothesis', 'hypothesisability', 'i4', 'iac', 'iba', 'ibm', 'ic', 'icare', 'icml', 'iconic', 'ict', 'id', 'id2019', 'idea', 'ideal', 'ideal5', 'ideally', 'ideals', 'ideas', 'ideasbenefits', 'ideascan', 'ideaswe', 'ideaswork', 'ideate', 'ideating', 'ideation', 'identification', 'identified', 'identifies', 'identify', 'identifying', 'identities', 'identity', 'identityfor', 'ideo', 'idf', 'ifexpertise', 'ig', 'ignite', 'ii', 'iii', 'iiot', 'il', 'il150sw', 'ilduties', 'illegal', 'illicit', 'illinois', 'illness', 'illustrate', 'illustrated', 'ilog', 'ilresponsibilitieskey', 'image', 'imageright', 'imagery', 'images', 'imagesfinding', 'imaginable', 'imagine', 'imaging', 'imbedded', 'imit', 'immediate', 'immediately', 'immense', 'immersed', 'immerses', 'immigrants', 'immigration', 'immunization', 'impact', 'impactexpert', 'impactful', 'impactgood', 'impacting', 'impacts', 'impactself', 'impactthe', 'impactuse', 'impactwe', 'impactwithin', 'impactworking', 'impactyou', 'impala', 'impeccable', 'imperfect', 'implement', 'implementable', 'implementation', 'implementationproactively', 'implementations', 'implementationsidentifying', 'implementationwho', 'implemented', 'implementing', 'implementpractical', 'implementqualifications', 'implements', 'implications', 'implicationsknowledge', 'implicitly', 'import', 'importance', 'important', 'importantly', 'imported', 'impossible', 'impressions', 'impressive', 'improper', 'improve', 'improved', 'improvement', 'improvements', 'improvementsa', 'improvementsability', 'improvementsdevelop', 'improvementsqualifications', 'improvementstechnical', 'improvementswith', 'improvementyou', 'improves', 'improving', 'improvingwe', 'imputations', 'inaccuracies', 'inaccuracyformalizing', 'inbox', 'inca', 'incarcerated', 'incentive', 'incentives', 'inception', 'incident', 'incidents', 'inclination', 'include', 'included', 'includedevelop', 'includeportfolio', 'includes', 'including', 'inclusion', 'inclusive', 'income', 'incoming', 'incomplete', 'inconsistencies', 'inconsistent', 'inconsistently', 'incorporate', 'incorporating', 'increase', 'increased', 'increases', 'increasing', 'increasingly', 'incredible', 'incredibly', 'incremental', 'incrementality', 'incrementally', 'incubate', 'incumbent', 'incumbents', 'indemnification', 'independence', 'independent', 'independently', 'independentlydemonstrated', 'independentlyyou', 'index', 'indexed', 'india', 'indicates', 'indications', 'indicators', 'indicatorsexpertise', 'indices', 'indicia', 'individual', 'individuality', 'individualized', 'individually', 'individuals', 'individualsfrom', 'individualswe', 'inductive', 'industrial', 'industrialization', 'industrialize', 'industries', 'industries5', 'industry', 'industryabout', 'industrydemonstrated', 'industrydiscover', 'industryexcellent', 'inefficient', 'inextricablytied', 'infancy', 'infectious', 'infer', 'inference', 'inferenceability', 'inferencefamiliarity', 'inferencepredictive', 'inferences', 'inferencesexperience', 'inferencesupervised', 'inferential', 'inferred', 'infinitely', 'influence', 'influenced', 'influencer', 'influences', 'influencewe', 'influencing', 'influential', 'influx', 'infoemd', 'inform', 'informally', 'informaticians', 'informatics', 'information', 'informationaetna', 'informationall', 'informationamplion', 'informationapplicants', 'informationdevelop', 'informationedit', 'informationjob', 'informationpaccar', 'informationplease', 'informationrecognized', 'informationref', 'informationthis', 'informationtravel', 'informationwhat', 'informationwhen', 'informative', 'informed', 'informing', 'informs', 'infosys', 'infra', 'infrastructure', 'infrastructureexpertise', 'infrastructureother', 'infrastructures', 'infrastructureworking', 'infuse', 'infusing', 'ingenuity', 'ingest', 'ingested', 'ingesting', 'ingestion', 'ingredients', 'inherent', 'inhibit', 'inhttps', 'initial', 'initialized', 'initiate', 'initiated', 'initiates', 'initiation', 'initiative', 'initiatives', 'initiativesappropriately', 'initiativesassess', 'initiativesassist', 'initiativesengage', 'initiativesguide', 'initiativesperform', 'initiativewe', 'injury', 'inn', 'innate', 'inner', 'innovate', 'innovating', 'innovation', 'innovations', 'innovationswho', 'innovationthe', 'innovative', 'innovatively', 'innovator', 'innovators', 'input', 'inputs', 'inquired', 'inquiries', 'inquiry', 'inquirycommunicate', 'inquisitive', 'inquisitivea', 'insatiable', 'insatiably', 'inscape', 'inside', 'insider', 'insight', 'insightful', 'insights', 'insightsability', 'insightsapply', 'insightsbuild', 'insightsconduct', 'insightscreates', 'insightsdeliver', 'insightsengage', 'insightsexceptional', 'insightsleads', 'insightspartner', 'insightspresent', 'insightsproduce', 'insightsstrong', 'insightsusing', 'insightswork', 'insightswrite', 'insightsyou', 'inspect', 'inspection', 'inspiration', 'inspirational', 'inspire', 'inspired', 'inspires', 'inspiring', 'instabilities', 'instagram', 'instance', 'instances', 'instantly', 'instead', 'instinct', 'instincts', 'institute', 'institutes', 'institution', 'institutional', 'institutionknowledge', 'institutions', 'instructions', 'instructor', 'instructors', 'instrument', 'instrumental', 'instrumentation', 'instrumentationdrive', 'insurance', 'insuranceflexible', 'insurancevacation', 'insurer', 'insures', 'insurtech', 'insutilizing', 'intacct', 'intechnical', 'integer', 'integral', 'integrate', 'integrated', 'integratedcomponents', 'integrates', 'integrating', 'integration', 'integrationknowledgeable', 'integrations', 'integrationwith', 'integrator', 'integrators', 'integrity', 'integrityhuge', 'integrityinscape', 'integrityparticipates', 'intelcollaborate', 'intellect', 'intellectual', 'intellectually', 'intelligence', 'intelligence5', 'intelligencepreferred', 'intelligencewell', 'intelligent', 'intelligently', 'intelligrated', 'intended', 'intensely', 'intensive', 'intent', 'intention', 'intentionally', 'intentions', 'intently', 'inter', 'interact', 'interacting', 'interaction', 'interactionexperience', 'interactions', 'interactive', 'interacts', 'interdisciplinary', 'interested', 'interesting', 'interests', 'interface', 'interfaceability', 'interfaces', 'interfacing', 'interference', 'interim', 'interleaving', 'interlinked', 'intermedia', 'intermediate', 'intern', 'internal', 'internally', 'internare', 'international', 'internationally', 'internet', 'interns', 'internship', 'internshipabout', 'internshipat', 'internshipbmw', 'internshipc3', 'internshipcreativityinitiativeintegrityleadership', 'internshipdata', 'internshipdescription', 'internshipgap', 'internshipgreater', 'internshipit', 'internshipjob', 'internshipmongodb', 'internshipour', 'internshipoverview', 'internshipoverviewdata', 'internshipoverviewevery', 'internshipoverviewgetting', 'internshipposition', 'internshipresponsibilities', 'internshiprifiniti', 'internships', 'internshipsportland', 'internshipsummary', 'internshipthe', 'internshipwe', 'internshipwhat', 'internshipwho', 'internshipwith', 'internsminimum', 'internsthe', 'interoperably', 'interpersonal', 'interpersonalself', 'interpret', 'interpretable', 'interpretation', 'interpretationproven', 'interpreted', 'interpreting', 'interpretive', 'interprets', 'interrogate', 'interruptions', 'intersecting', 'intersection', 'intervals', 'intervention', 'interventions', 'interview', 'interviewa', 'interviewing', 'interviews', 'intimate', 'intramural', 'intricacies', 'intricate', 'intricately', 'intrinsic', 'introduce', 'introduction', 'introductions', 'introspection', 'intuition', 'intuitive', 'intuitively', 'invaluable', 'invent', 'invention', 'inventions', 'inventive', 'inventors', 'inventory', 'invents', 'inventsolid', 'invest', 'invested', 'investigate', 'investigated', 'investigating', 'investigation', 'investigationredjack', 'investigations', 'investigationto', 'investigative', 'investigator', 'investigators', 'investing', 'investment', 'investments', 'investors', 'invests', 'invitae', 'invite', 'invited', 'involve', 'involved', 'involvement', 'involvementto', 'involves', 'involving', 'io', 'ios', 'iot', 'iowa', 'ip', 'ipad', 'ipdp', 'ipo', 'ipython', 'ironpython', 'irregular', 'irs', 'irvine', 'ish', 'ishelping', 'isleading', 'isn', 'isolate', 'issue', 'issued', 'issuedisplay', 'issues', 'issuesdevelop', 'issuesgather', 'issuesmerge', 'issuesqualifications', 'iswc', 'itd', 'itdesign', 'itdevelop', 'items', 'iterate', 'iteratenoting', 'iterates', 'iterating', 'iteration', 'iterative', 'iteratively', 'itmake', 'itunes', 'itwhy', 'iv', 'j0319', 'janitorial', 'january', 'japan', 'java', 'javaability', 'javabash', 'javaexcellent', 'javaextremely', 'javarising', 'javascript', 'javascriptstrong', 'javastrong', 'jcp', 'jcpenney', 'jdpac', 'jenkins', 'jersey', 'jessica', 'jet', 'jira', 'jl3', 'jmp', 'job', 'jobas', 'jobat', 'jobcare', 'jobdelivery', 'jobemployee', 'jobnocerner', 'jobs', 'jobthe', 'jobwhat', 'johnson', 'join', 'joined', 'joining', 'joins', 'joint', 'jones', 'jornaya', 'jose', 'journal', 'journalism', 'journals', 'journey', 'journeyconsumer', 'journeys', 'joy', 'jr', 'jreview', 'js', 'json', 'jsp', 'juan', 'judgement', 'judgment', 'juggle', 'juggling', 'julia', 'juliaexperience', 'jump', 'jumping', 'junction', 'june', 'junior', 'junk', 'jupiter', 'jupyter', 'just', 'justice', 'justify', 'juxtaposition', 'jvm', 'jyve', 'jyver', 'jyvers', 'kaban', 'kafka', 'kaggle', 'kagr', 'kai', 'kanban', 'kansas', 'kansasexxonmobil', 'kayak', 'kayakat', 'kbr', 'kbrwyle', 'kdd', 'keen', 'keeping', 'keeps', 'kennedy', 'kentucky', 'kenworth', 'kept', 'keras', 'kerasexperience', 'kerasfamiliarity', 'kernel', 'kernels', 'key', 'keyboard', 'keyboarding', 'keynote', 'keysight', 'kibana', 'kid', 'kids', 'kind', 'kindly', 'kinds', 'kinesis', 'king', 'kingdom', 'kitchen', 'kitchens', 'kitchensgenerous', 'kits', 'kleiner', 'kmeans', 'kmeansexperience', 'knack', 'kneel', 'knight', 'knime', 'knit', 'knn', 'knock', 'know', 'knowing', 'knowledge', 'knowledgeable', 'knowledgeand', 'knowledgecollaborative', 'knowledgefeel', 'knowledgeof', 'knowledgetableau', 'known', 'knows', 'knowyou', 'kong', 'kosmix', 'kpi', 'kpis', 'kpiscomputer', 'kpisexperience', 'kpitsupport', 'kraken', 'krakenites', 'ksa', 'kubernetes', 'kxen', 'kyosei', 'la', 'lab', 'labor', 'laboratory', 'labs', 'labslocation', 'lack', 'lactation', 'ladders', 'lake', 'lakes', 'land', 'landfills', 'landing', 'landscape', 'landscapes', 'language', 'languageadvanced', 'languagebenefitsabout', 'languageexcellent', 'languageexperience', 'languagemust', 'languageprior', 'languageproficiency', 'languages', 'languages1', 'languagesdevelopment', 'languagesexperience', 'languagesfamiliarity', 'languagesknowledge', 'languagestravel', 'lapack', 'laptop', 'laptops', 'large', 'largely', 'larger', 'largest', 'lark', 'laser', 'lasting', 'lastminute', 'late', 'latent', 'later', 'lateradditional', 'lateral', 'latest', 'latex', 'latin', 'latitude', 'launch', 'launched', 'launchesthe', 'launching', 'laundering', 'lavendercareer', 'lavish', 'law', 'lawabout', 'lawful', 'lawrence', 'laws', 'lawyers', 'lay', 'layer', 'layers', 'layerswe', 'layman', 'laymen', 'layoff', 'layout', 'layperson', 'lda', 'le', 'lead', 'leadblog', 'leader', 'leaderminimum', 'leaders', 'leadership', 'leadershipdemonstrated', 'leadershipgreat', 'leadershipinfluencing', 'leadershipqualificationsknowledgeability', 'leadershipstrong', 'leadershipwe', 'leadersinvestigating', 'leadersown', 'leadersphysical', 'leading', 'leadproven', 'leads', 'leagues', 'leakage', 'lean', 'leap', 'leapros', 'leaproschipotle', 'learn', 'learnat', 'learncreate', 'learned', 'learner', 'learnerpreferred', 'learners', 'learnfluency', 'learning', 'learningability', 'learningadvanced', 'learningalgorithms', 'learninganalysis', 'learningat', 'learningba', 'learningbe', 'learningbuild', 'learningcontributions', 'learningestablished', 'learningexperience', 'learningexpertise', 'learninggeneral', 'learningknowledge', 'learningmake', 'learningminimal', 'learningplatforms', 'learningproficiency', 'learningqualificationsnulladditional', 'learningrequired', 'learnings', 'learningsubstantive', 'learningunderstanding', 'learningworking', 'learns', 'leased', 'leasing', 'leave', 'leaveflexible', 'leaves', 'leavesorganized', 'leavestock', 'led', 'ledger', 'leed', 'left', 'legacy', 'legal', 'legally', 'legislative', 'lend', 'lending', 'lendingtree', 'lends', 'length', 'lens', 'lerning', 'lesbian', 'lesser', 'let', 'letter', 'letters', 'lev', 'level', 'level1', 'levelcombine', 'levels', 'levelsabout', 'levelsdevelop', 'levelseach', 'levelself', 'levelsestablish', 'levelup', 'lever', 'leverage', 'leveraged', 'leverages', 'leveraging', 'levers', 'lexington', 'lexisnexis', 'lexisnexisrisk', 'lgbtq', 'li', 'liabilities', 'liaise', 'liaison', 'liberates', 'libraries', 'librariesat', 'librariesfluent', 'librarieshave', 'library', 'libsvm', 'license', 'licensed', 'licenses', 'licensesn', 'lidar', 'lie', 'lies', 'lieu', 'life', 'lifecycle', 'lifecycleevaluating', 'lifecycleexperience', 'lifecycleif', 'lifecyclewe', 'lifelong', 'lifestyle', 'lifestyles', 'lifetime', 'lifewe', 'lift', 'light', 'lightgbm', 'lighthouse', 'like', 'likelihood', 'likely', 'likes', 'limit', 'limitations', 'limitationsqualificationsrequirements', 'limited', 'limiting', 'limits', 'limitsbeyond', 'lincoln', 'line', 'linear', 'lineexperience', 'lines', 'lineself', 'linesmaintain', 'linesquantitative', 'lineunderstanding', 'lingpipe', 'lingua', 'linguistic', 'linguistics', 'lining', 'link', 'linkage', 'linked', 'linkedin', 'linking', 'links', 'linting', 'linux', 'liqualificationseducation', 'list', 'listed', 'listen', 'listeners', 'listening', 'listing', 'listings', 'lists', 'lit', 'literature', 'little', 'littleton', 'live', 'lived', 'livereach', 'livereachmedia', 'lives', 'liveswe', 'living', 'll', 'llc', 'lmi', 'load', 'loading', 'loan', 'loans', 'local', 'locally', 'locals', 'locate', 'located', 'locates', 'location', 'locationa', 'locationcasual', 'locations', 'locations2', 'locationus', 'locationusa', 'lodging', 'log', 'logging', 'logic', 'logic2020', 'logical', 'logistic', 'logistical', 'logistics', 'logit', 'logs', 'logstash', 'london', 'lone', 'long', 'longer', 'longitudinal', 'longtime', 'longwood', 'look', 'looker', 'looking', 'lookout', 'looks', 'loop', 'loosely', 'los', 'loss', 'lot', 'lots', 'lottery', 'lotterycareers', 'louder', 'louis', 'love', 'loved', 'loveland', 'loves', 'low', 'lower', 'lowering', 'lowest', 'loyal', 'loyalty', 'lrm', 'lrs', 'ls1', 'lsa', 'lsh', 'lsi', 'lstm', 'lte', 'ltv', 'lucenedistributed', 'luigi', 'lunch', 'lunches', 'lunches401k', 'lunchescommuter', 'luncheskegeratorzogsports', 'lunchesunlimited', 'lunchfree', 'lunchnoise', 'luxury', 'lyft', 'm12', 'm4', 'ma', 'mac', 'macbook', 'machine', 'machinelearning', 'machines', 'macro', 'macroeconomic', 'macroeconomics', 'magazine', 'magic', 'magical', 'mahalanobis', 'mail', 'mailbox', 'main', 'mainstream', 'maintain', 'maintainability', 'maintainable', 'maintained', 'maintaining', 'maintains', 'maintenance', 'maintenanceadvanced', 'major', 'majoralgorithmic', 'majordemonstrated', 'majoreo', 'majoring', 'majority', 'majorpreferred', 'majorqualificationsdemonstrates', 'make', 'makers', 'makersimplement', 'makerskeep', 'makes', 'making', 'makingability', 'makingadditional', 'makingcare', 'makingconduct', 'makingdevelop', 'makingenhance', 'makingensures', 'makingexcellent', 'makinggenerate', 'makinginvestigates', 'makingpartner', 'makingperform', 'makingprompt', 'malicious', 'mallet', 'malvern', 'malware', 'manage', 'manageable', 'managed', 'management', 'managementability', 'managementas', 'managementbe', 'managementconducting', 'managementdevelop', 'managementdevelops', 'managementexcellent', 'managementexperience', 'managementgood', 'managementhave', 'managementlife', 'managemento', 'managementpreferred', 'managementprior', 'managementrequired', 'managementsnc', 'manager', 'managerprimary', 'managers', 'managerwork', 'manages', 'managing', 'manahjdisclaimer', 'mandate', 'mandatory', 'manger', 'manhattan', 'manipulate', 'manipulates', 'manipulating', 'manipulation', 'manipulationproficiency', 'manner', 'mannerbachelor', 'mannercreating', 'mannerexperience', 'mannerkey', 'mannerpragmatic', 'mannersuperb', 'mannerwork', 'manual', 'manually', 'manuals', 'manufacture', 'manufacturer', 'manufacturers', 'manufactures', 'manufacturing', 'map', 'mapmyfitness', 'mapping', 'mapr', 'mapreduce', 'mapreduceability', 'maps', 'mar', 'marathon', 'marathons', 'march', 'marcoline0305', 'marginalized', 'marian', 'marital', 'maritime', 'mark', 'market', 'marketable', 'marketdesign', 'marketers', 'marketing', 'marketingimplement', 'marketingpassion', 'marketingstrong', 'marketingwhat', 'marketo', 'marketplace', 'marketplacedevelop', 'marketplacefamiliarity', 'marketplaces', 'markets', 'marketthis', 'markov', 'marks', 'marry', 'maryland', 'marzocco', 'mason', 'mass', 'massachusetts', 'massage', 'massages', 'massaging', 'massive', 'massively', 'massmutual', 'master', 'mastered', 'masters', 'mastery', 'match', 'match10', 'matchdaily', 'matched', 'matchemployer', 'matches', 'matchfree', 'matching', 'matchwork', 'mateo', 'material', 'materials', 'maternity', 'math', 'mathematica', 'mathematical', 'mathematician', 'mathematicians', 'mathematics', 'mathematics5', 'mathematicsat', 'mathematicsexperience', 'mathminimum', 'matlab', 'matlabexpertise', 'matlabworking', 'matplotlib', 'matrix', 'matrixed', 'matter', 'matters', 'mature', 'maturity', 'maxar', 'maxent', 'maximization', 'maximize', 'maximizing', 'maximum', 'maybe', 'mayors', 'mba', 'mckesson', 'mclean', 'mcmc', 'md', 'meal', 'meals', 'mean', 'meaning', 'meaningful', 'meaningfully', 'means', 'meansability', 'meansmust', 'meant', 'measurable', 'measure', 'measured', 'measurement', 'measurementhelp', 'measurements', 'measures', 'measuring', 'mechanical', 'mechanics', 'mechanism', 'mechanisms', 'media', 'mediaown', 'mediation', 'medical', 'medically', 'medicationadherence', 'medicine', 'medicinejob', 'medidata', 'medium', 'meet', 'meeting', 'meetings', 'meetingsdrinks', 'meetingsperforms', 'meets', 'member', 'members', 'membersbuild', 'memberscreate', 'membersfor', 'membership', 'membersmodeling', 'memorable', 'memos', 'men', 'menlo', 'mental', 'mentality', 'mention', 'mentioned', 'mentionsslync', 'mentor', 'mentoring', 'mentoringmentor', 'mentors', 'mentorship', 'mentorships', 'menus', 'merch', 'merchandise', 'merchandisers', 'merchandising', 'merchants', 'merge', 'merit', 'meritocracy', 'merits', 'mertado', 'mesa', 'mesos', 'message', 'messages', 'messaging', 'messenger', 'messy', 'met', 'meta', 'metabiota', 'metadata', 'metagenome', 'metagenomic', 'metagenomics', 'metasearch', 'metered', 'method', 'methodical', 'methodically', 'methodist', 'methodolgies', 'methodological', 'methodologically', 'methodologies', 'methodologies25', 'methodologiesbenefits', 'methodologiesdeep', 'methodologiesexcellent', 'methodologiesexpectationsmust', 'methodologiesexperience', 'methodologiesprovide', 'methodology', 'methodologyexperience', 'methods', 'methodsability', 'methodsand', 'methodsexperience', 'methodsextending', 'methodsoptimizing', 'methodspreferred', 'methodsproven', 'methodstranslate', 'methodswork', 'methodsworking', 'methodwork', 'meticulous', 'metis', 'metrequired', 'metric', 'metrics', 'metricsbe', 'metricsbuilding', 'metricsdemonstrated', 'metricsdesign', 'metricsdevelops', 'metricsexploratory', 'metricsidentifies', 'metricsinnovate', 'metricspartner', 'metricspresent', 'metricsrecommend', 'metricsrequirements', 'metricsstrong', 'metricsvalidate', 'metricswork', 'metricsworking', 'metricsyou', 'metro', 'metropolitan', 'mexican', 'mexico', 'mfc', 'mgnt', 'mi', 'miachine', 'michael', 'michigan', 'micro', 'microbial', 'microbiology', 'microbiologyexperience', 'microbiome', 'microservices', 'microsoft', 'microstrategy', 'mid', 'middleware', 'midsize', 'migrate', 'migrating', 'migration', 'miguelhelft', 'mile', 'military', 'militaryfriendly', 'million', 'millions', 'milpitas', 'mimics', 'min', 'mind', 'mindcollaborating', 'minded', 'mindful', 'mindproficiency', 'minds', 'mindset', 'mindseta', 'mindsetability', 'mindsetcustomer', 'mindsetd', 'mindsetsbenefits', 'miner', 'mines', 'minewe', 'mini', 'minimal', 'minimize', 'minimizes', 'minimum', 'minimumideally', 'mining', 'mining3', 'miningavidxchange', 'miningdesigning', 'miningdesigns', 'miningexcellent', 'miningprogramming', 'miningsoftware', 'miningstrong', 'minitab', 'minorities', 'minority', 'mintel', 'minute', 'minutes', 'mis', 'misinterpretation', 'miss', 'missed', 'missing', 'mission', 'missionat', 'missions', 'missiontransparency', 'mistake', 'mistakes', 'mitigate', 'mitigating', 'mitigation', 'mix', 'mixed', 'mixes', 'mixture', 'ml', 'mlad', 'mllib', 'mlops', 'mo', 'moat', 'mobile', 'mobility', 'mockupshigh', 'modalities', 'modality', 'mode', 'modeanalytics', 'model', 'modelapply', 'modeler', 'modelers', 'modeling', 'modeling1', 'modelinga', 'modelingability', 'modelingadditional', 'modelingcustomer', 'modelingdata', 'modelingdesign', 'modelingexperience', 'modelinggreat', 'modelinghands', 'modelingknowledge', 'modelingmachine', 'modelingnurture', 'modelingown', 'modelingproject', 'modelingsignificant', 'modelingsynthesis', 'modelingutilizing', 'modelingwork', 'modelingyou', 'modelled', 'modelling', 'modellingapply', 'modellinghighly', 'modellingproficiency', 'models', 'modelsadding', 'modelsan', 'modelsand', 'modelsassessing', 'modelsassist', 'modelsclearly', 'modelscollaborate', 'modelscomfort', 'modelsconduct', 'modelscontributing', 'modelscreating', 'modelsdegree', 'modelsderiving', 'modelsdesign', 'modelsdetermine', 'modelsdevelops', 'modelsexcellent', 'modelsexperience', 'modelsexpert', 'modelsfamiliarity', 'modelshelp', 'modelsknowledge', 'modelsmaster', 'modelsmonitor', 'modelsoptimizing', 'modelspresent', 'modelsproficiency', 'modelsqualificationsthe', 'modelsresponsibility', 'modelsretail', 'modelssavviness', 'modelsstrong', 'modelssupport', 'modelssupporting', 'modelswindows', 'modelswork', 'modelswrite', 'modelsyou', 'modeltext', 'modelworking', 'modemode', 'moderate', 'moderatefast', 'moderately', 'moderation', 'modern', 'modernize', 'modernized', 'modernizing', 'modifications', 'modified', 'modifies', 'modify', 'modifying', 'module', 'modules', 'modulesexperience', 'modus', 'moment', 'moments', 'momondo', 'monday', 'monetization', 'monetizationunderstand', 'money', 'mongodb', 'monitor', 'monitoring', 'monitoringcontribute', 'monitoringtechnical', 'monitors', 'monpostjob', 'montana', 'monte', 'montgomery', 'month', 'monthapplying', 'monthcontractunder', 'monthly', 'monthmonthly', 'monthpersonal', 'months', 'months1', 'moocs', 'moose', 'morewe', 'morgan', 'morganstanley', 'morrisville', 'mortar', 'mortgage', 'moses', 'mothers', 'motiion', 'motion', 'motionx', 'motivate', 'motivated', 'motivates', 'motivation', 'motivator', 'motive', 'motor', 'motors', 'mountain', 'mouse', 'movado', 'moved', 'movement', 'moves', 'movie', 'movies', 'moving', 'mpc', 'mpp', 'mri', 'mro', 'ms', 'ms1', 'ms1expedia', 'msc', 'msim', 'msimenvironment', 'msja', 'msn', 'mssql', 'mt', 'mtv', 'mukamel', 'multi', 'multicultural', 'multidisciplinary', 'multimodal', 'multinomial', 'multiple', 'multiplier', 'multisite', 'multitask', 'multivariable', 'multivariate', 'munch', 'mundi', 'munging', 'mungingcollect', 'muni', 'municipal', 'musculoskeletal', 'music', 'mustability', 'mustb', 'mustexpertise', 'mustresponsibilities', 'muststrong', 'mutual', 'mutually', 'mv1mon18sfarmpm18', 'mxnet', 'myfitnesspal', 'mysql', 'mysqlcomfortable', 'mysqlexperience', 'na', 'naacl', 'nai', 'naive', 'nalco', 'named', 'nameplates', 'names', 'napco', 'narratives', 'nasa', 'nascent', 'nasdaq', 'nashua', 'nation', 'national', 'nationality', 'nationally', 'nationapply', 'nations', 'nationwide', 'native', 'natural', 'naturally', 'nature', 'naturestrong', 'nauto', 'nauvera', 'navair', 'naval', 'navigate', 'navigation', 'navigators', 'nb', 'nba', 'nbc', 'nc', 'nc3', 'ncaa', 'ncontext', 'ncr', 'ne', 'nea', 'near', 'nearby', 'nearest', 'nearly', 'neatlanta', 'nebraska', 'necessarily', 'necessary', 'necessaryconsults', 'need', 'needa', 'needed', 'neededconduct', 'neededenhancing', 'neededevaluate', 'neededself', 'neededstrong', 'needidentifies', 'needle', 'needmasters', 'needminimum', 'needphd', 'needs', 'needsassess', 'needsba', 'needsflexible', 'needsqualificationsrequired', 'needsrequirements', 'needsresponsible', 'needsself', 'needsto', 'negative', 'negatively', 'negotiable', 'negotiate', 'negotiation', 'neighbor', 'neighborhoods', 'neighbors', 'neo4j', 'nerds', 'nerdy', 'net', 'netapp', 'netflix', 'network', 'networked', 'networking', 'networks', 'networksexperience', 'networksimplementing', 'neuberger', 'neural', 'neurobehavioral', 'neuroimaging', 'neuroscience', 'neutral', 'nevada', 'new', 'newest', 'newly', 'newmark', 'newport', 'news', 'newsfeedconnect', 'newshour', 'newwave', 'nextdoor', 'nexus', 'nfl', 'nfosys', 'nfs', 'nga', 'ngos', 'ngs', 'nhl', 'nice', 'niche', 'night', 'nights', 'nightsthis', 'nike', 'nikebachelor', 'nimble', 'ninja', 'nips', 'nist', 'nittany', 'nitty', 'nj', 'nlp', 'nlpproficient', 'nltk', 'nlu', 'nmf', 'nn', 'noapplied', 'node', 'nodejs', 'noise', 'noisy', 'nomis', 'non', 'nonconforming', 'nondiscrimination', 'nonerelevant', 'nonfatal', 'nonlinear', 'nonprofit', 'nonprofits', 'nontechnical', 'norm', 'normal', 'normalising', 'normalization', 'normally', 'norms', 'north', 'northeast', 'northern', 'northwest', 'nosql', 'notable', 'notch', 'note', 'notebook', 'notebooks', 'notebooksevaluate', 'notebooksongoing', 'notes', 'notice', 'notices', 'notification', 'notifications', 'notify', 'novel', 'novelmicrobiome', 'november', 'novi', 'nps', 'nuances', 'nuclear', 'nudges', 'nullassociate', 'number', 'numbers', 'numeric', 'numerical', 'numerous', 'numo', 'numpy', 'nurse', 'nurses', 'nurture', 'nut', 'nutanix', 'nvidia', 'ny', 'nyc', 'nyeducation', 'nyse', 'obama', 'object', 'objective', 'objectively', 'objectives', 'objectivesevaluate', 'objectivestranslate', 'objectivethe', 'objects', 'obligated', 'obscured', 'observation', 'observational', 'observer', 'observes', 'obsess', 'obsessed', 'obsession', 'obstacle', 'obstaclesthis', 'obtain', 'obtained', 'obtaining', 'occasion', 'occasionally', 'occasionallyfocus', 'occasionallypunctuality', 'occasions', 'occupation', 'occupational', 'occur', 'occurred', 'occurs', 'ocean', 'ocr', 'odc', 'odds', 'odors', 'oem', 'ofcare', 'ofccp', 'ofccp_eeo_supplement_final_jrf_qa_508c', 'ofdistributions', 'offense', 'offequity', 'offer', 'offercompetitive', 'offered', 'offering', 'offerings', 'offers', 'offerscompetitive', 'office', 'officemeals', 'officequalificationsnulladditional', 'officer', 'officers', 'offices', 'officials', 'offline', 'offpre', 'offs', 'offshore', 'offslead', 'ofngs', 'ofour', 'ofstructured', 'oh', 'ohio', 'oil', 'oklahoma', 'old', 'oldestventure', 'olympic', 'olympics', 'omaha', 'omd', 'omg', 'omphalos', 'onboard', 'onboarding', 'onceable', 'oneone', 'ones', 'onethe', 'onethese', 'ongoing', 'online', 'onlineaccommodations', 'onlineapplysharesorry', 'onlookers', 'onlytop', 'onshore', 'onsite', 'ontologies3', 'ontology', 'onwatch', 'oop', 'oozie', 'op', 'open', 'opening', 'openings', 'openly', 'openlyfearless', 'openness', 'opennlp', 'openshift', 'opentable', 'openx', 'operandi', 'operate', 'operates', 'operating', 'operation', 'operational', 'operationalization', 'operationalize', 'operationalized', 'operationalizing', 'operations', 'operationsas', 'operationsbuild', 'operationsdesign', 'operationsexpertise', 'operationsforecasting', 'operationsms', 'operationsnauto', 'operators', 'opinion', 'opinions', 'opl', 'opportunities', 'opportunitiescontribute', 'opportunitiescontributes', 'opportunitiescraft', 'opportunitiesdrive', 'opportunitiesdrives', 'opportunitiesfor', 'opportunitiesinform', 'opportunitiesjr', 'opportunitieslead', 'opportunitieslearn', 'opportunitieslooking', 'opportunitieswork', 'opportunity', 'opportunityanalytical', 'opportunitychipotle', 'opportunityhere', 'opportunitywe', 'opposing', 'ops', 'optimal', 'optimise', 'optimised', 'optimism', 'optimistic', 'optimization', 'optimizationcampaign', 'optimizationexperience', 'optimizations', 'optimizationto', 'optimize', 'optimized', 'optimizers', 'optimizes', 'optimizing', 'option', 'optional', 'options', 'options100', 'optionsapply', 'optionscasual', 'optionsmedical', 'optionstime', 'oracle', 'oral', 'orally', 'orbitz', 'orchestra', 'orchestrate', 'orchestrated', 'orcle', 'order', 'ordering', 'orders', 'ordinance', 'ordinances', 'oregon', 'oregonlottery', 'org', 'organisation', 'organising', 'organization', 'organizationa', 'organizational', 'organizationally', 'organizationcuriosity', 'organizationdetail', 'organizationexperience', 'organizationkey', 'organizationlead', 'organizationour', 'organizationoutstanding', 'organizationpartner', 'organizationproject', 'organizationrequired', 'organizationreview', 'organizations', 'organizationsability', 'organizationscollaborate', 'organizationsculture', 'organizationsdeep', 'organizationsdemonstrable', 'organizationself', 'organizationsexperience', 'organizationstrong', 'organizationthis', 'organizationwork', 'organizationyeti', 'organize', 'organized', 'organizedresourcefulenthusiastic', 'organizers', 'organizes', 'organizing', 'orientation', 'orientationability', 'orientationexcellent', 'orientationexperience', 'orientationminimum', 'orientationuse', 'oriented', 'orientedhonest', 'orientedproficient', 'origin', 'original', 'originate', 'originating', 'orlando', 'ors', 'orserver', 'orsimilar', 'orthe', 'os', 'osmo', 'oswego', 'osx', 'otherabout', 'otherdue', 'otherorganization', 'otherproven', 'othersexperience', 'othersmaking', 'othersserved', 'otherssynthesize', 'otherswork', 'ourdata', 'outcome', 'outcomes', 'outcomesapply', 'outcomescollaborate', 'outcomesunderstand', 'outdoors', 'outings', 'outlast', 'outlets', 'outlier', 'outliers', 'outline', 'outlined', 'outlining', 'outlookcandidate', 'outnumber', 'outof', 'outperform', 'output', 'outputa', 'outputs', 'outputsanalyze', 'outputsas', 'outputsunderstand', 'outreach', 'outside', 'outsidedata', 'outsized', 'outsourcing', 'outstanding', 'outtrack', 'outward', 'outwardinc', 'overall', 'overcome', 'overhead', 'overlooking', 'overlooks', 'oversee', 'overseeing', 'oversight', 'oversightability', 'oversightpossession', 'overview', 'overview1strategy', 'overviewa', 'overviewabout', 'overviewas', 'overviewat', 'overviewcompetitive', 'overviewdata', 'overviewdigital', 'overviewincludesrelocation', 'overviewnewwave', 'overviewour', 'overviewposition', 'overviewthe', 'overviewthis', 'overviewwe', 'overwhelmed', 'owl', 'owned', 'owner', 'owners', 'ownersapply', 'ownership', 'ownershipbasic', 'owning', 'owns', 'pa', 'paccar', 'pace', 'paced', 'pacific', 'pack', 'package', 'packageability', 'packageexcellent', 'packagegenerous', 'packages', 'packages3', 'packagesproven', 'packaging', 'packagingwillingness', 'packard', 'packs', 'page', 'pages', 'pageviews', 'paid', 'pain', 'painful', 'pains', 'paint', 'pair', 'paired', 'pairing', 'pal', 'palantir', 'palo', 'paloaltonetworks', 'pandas', 'pandasexperience', 'panel', 'panoramic', 'paper', 'papers', 'paradigm', 'parallel', 'parallels', 'paralympic', 'parameter', 'parameters', 'parametersdirectly', 'parametric', 'paramount', 'parent', 'parental', 'parents', 'pareto', 'paris', 'park', 'parking', 'parks', 'parse', 'parsing', 'participant', 'participantpursuant', 'participants', 'participate', 'participates', 'participating', 'participation', 'participationexperience', 'particular', 'particularly', 'parties', 'partiesbachelor', 'partiesrecently', 'partitioning', 'partly', 'partner', 'partnered', 'partnering', 'partners', 'partnersability', 'partnersbasic', 'partnerscontribute', 'partnersemphasis', 'partnersexperience', 'partnership', 'partnershipphd', 'partnerships', 'partnerspreferred', 'partnersprogramming', 'partnersrequired', 'partnersresearch', 'partnersstrong', 'partnerswe', 'partnerwe', 'parts', 'party', 'partymonitor', 'pass', 'passed', 'passeducation', 'passes', 'passing', 'passion', 'passionate', 'passions', 'passport', 'past', 'patent', 'patented', 'patents', 'paternity', 'path', 'pathleading', 'paths', 'pathyou', 'patience', 'patient', 'patients', 'pattern', 'patterns', 'patternscreate', 'patternsoptimize', 'paving', 'pay', 'payable', 'payback', 'paycompetitive', 'paying', 'payment', 'payments', 'paymentsvaluing', 'payors', 'paypal', 'pays', 'pbms', 'pbs', 'pc', 'pca', 'pdf', 'pdfdescribes', 'pdfhttps', 'pearl', 'peel', 'peer', 'peers', 'peership', 'penn', 'penney', 'pennsylvania', 'pension', 'people', 'pepsi', 'pepsico', 'perceived', 'percent', 'perception', 'perceptually', 'perfect', 'perfection', 'perfectly', 'perform', 'performance', 'performanceact', 'performancebuilding', 'performancecommunicating', 'performancecomputingfoundation', 'performancedeploy', 'performancedeveloping', 'performancedocument', 'performanceexperience', 'performancehaving', 'performancepresent', 'performanceprofessional', 'performances', 'performanceserve', 'performancework', 'performanceyou', 'performanceyour', 'performant', 'performed', 'performing', 'performs', 'period', 'periodcross', 'periodic', 'periodically', 'periods', 'peripheral', 'periscope', 'perk', 'perkins', 'perks', 'perks4', 'perksbenefits', 'perkscompetitive', 'perksgenerous', 'perkshealth', 'perksjoin', 'perksrobust', 'perl', 'permanent', 'permeates', 'permitted', 'perpetration', 'perpetrator', 'perpetrators', 'pers', 'persistence', 'persistencegood', 'persistenceli', 'person', 'personable', 'personal', 'personalityexperience', 'personalization', 'personalizationmarketing', 'personalize', 'personalized', 'personalizing', 'personally', 'personas', 'personify', 'personnel', 'persons', 'perspecta', 'perspective', 'perspectiveexperience', 'perspectivepresenting', 'perspectives', 'perspectiveserve', 'perspectivesinnate', 'persuasion', 'persuasively', 'pertaining', 'pertains', 'pertinent', 'petabyte', 'petabytes', 'peterbilt', 'petroleum', 'petrophysicistmsc', 'ph', 'pharma', 'pharmaceutical', 'pharmaceuticals', 'pharmacology', 'pharmacy', 'phase', 'phases', 'phd', 'phdat', 'phds', 'phenomena', 'phenomenal', 'philadelphia', 'philanthropy', 'philosophy', 'phishing', 'phoenix', 'phone', 'phones', 'photo', 'photos', 'php', 'phylogenetics', 'physical', 'physician', 'physicians', 'physics', 'physicsexperience', 'physiological', 'physiology', 'pick', 'pickup', 'picture', 'pictures', 'piece', 'pieces', 'pig', 'pillar', 'pilot', 'piloting', 'pilots', 'pimco', 'ping', 'pinpoint', 'pinterest', 'pinterestwhat', 'pioneer', 'pioneered', 'pioneering', 'pipe', 'pipeline', 'pipelinedeliver', 'pipelinedevelopmentanalyze', 'pipelines', 'pipelinesability', 'pipelinescreate', 'pipelinesdocuments', 'pipelinesknowledge', 'pipelinesminimum', 'pipelinesmust', 'pipelinesplan', 'piracy', 'pitfalls', 'pittsford', 'pivot', 'pivotal', 'pivoted', 'pixel', 'pixels', 'pl', 'place', 'placeconstantly', 'placed', 'placement', 'placements', 'places', 'placing', 'plan', 'plan401', 'plandeliver', 'planenhanced', 'planet', 'planners', 'planning', 'planningcollaborates', 'plano', 'planreasonable', 'plans', 'plansawesome', 'plansdefine', 'plansdevelops', 'plansflexible', 'planshort', 'plansunderstanding', 'plansunlimited', 'plant', 'plants', 'planunlimited', 'platform', 'platformbeing', 'platformblend', 'platformbuilding', 'platformdesign', 'platformdevelop', 'platformmentoring', 'platformour', 'platformplaying', 'platforms', 'platforms1', 'platformselect', 'platformsgrow', 'platformsidentifying', 'platformsleverage', 'platformsoutstanding', 'platformwriting', 'platts', 'play', 'playbooks', 'player', 'playerable', 'playerbalance', 'playerbenefitsamazing', 'playerextremely', 'playerin', 'playernice', 'playful', 'playground', 'playing', 'plays', 'playstation', 'plc', 'pleasant', 'pleasantonjob', 'pleased', 'pledge', 'plenty', 'plot', 'plotly', 'plots', 'ploty', 'plug', 'plumber', 'plus', 'plus3', 'plus5', 'plus_', 'plusa', 'plusability', 'plusable', 'plusabout', 'plusadvanced', 'plusanalysis', 'plusapplications', 'plusbenefitshealth', 'pluscapable', 'pluscreative', 'plusdemonstrable', 'plusdemonstrated', 'plusdriven', 'pluseducation', 'plusexcellent', 'plusexperience', 'plusexpertise', 'plusfluency', 'plusgreat', 'plushave', 'plusjob', 'plusknowledge', 'plusleadership', 'plusms', 'plusmultiple', 'pluspractical', 'plusprevious', 'plusprior', 'plusprofessional', 'plusproficiency', 'plusproven', 'plusself', 'plussessoftware', 'plusslack', 'plusstrong', 'plusthe', 'plusweb', 'pluswhy', 'plusyou', 'pm', 'pmclosing', 'poc', 'pockets', 'pocsengaging', 'point', 'pointbe', 'points', 'pointsacademic', 'pointsensure', 'pointspast', 'pointsstructure', 'pointsunderstanding', 'poised', 'police', 'policies', 'policiesthe', 'policy', 'policy9', 'policycompetitive', 'policydaily', 'policyeasy', 'policymakers', 'policyopportunity', 'policyplease', 'policytime', 'policywork', 'polished', 'political', 'politics', 'pollution', 'poly', 'polygraph', 'pong', 'pool', 'pools', 'poor', 'pop', 'popcorn', 'popular', 'population', 'populations', 'pores', 'port', 'portal', 'portfolio', 'portfoliocoordinate', 'portfoliogather', 'portfolios', 'portions', 'portland', 'pos', 'pose', 'posing', 'position', 'position1', 'positionadditional', 'positional', 'positioned', 'positioneducation', 'positionhelp', 'positioning', 'positionkayak', 'positions', 'positionsbenefits', 'positionscomprehensive', 'positionthe', 'positive', 'positively', 'positivemaintains', 'positives', 'possess', 'possesses', 'possibilities', 'possibility', 'possible', 'possiblepredicting', 'possibly', 'post', 'posted', 'poster', 'posters', 'postgraduate', 'postgres', 'postgresexcellent', 'postgresql', 'postgress', 'postgressql', 'posting', 'postings', 'postour', 'posts', 'posture', 'potential', 'potentially', 'pounds', 'power', 'powerbi', 'powerbi2', 'powered', 'powerful', 'powerfultrusting', 'powering', 'powerpivot', 'powerpoint', 'powerpointa', 'powers', 'ppc', 'ppt', 'pr', 'pra', 'practical', 'practicality', 'practically', 'practice', 'practices', 'practicesdesign', 'practicesgenerate', 'practicesmanages', 'practicespublish', 'practicestrain', 'practicesyour', 'practicing', 'practitioner', 'practitioners', 'pragmatic', 'pragmatically', 'pre', 'prebuilt', 'precise', 'precisely', 'precision', 'predict', 'predictability', 'predicted', 'predicting', 'prediction', 'predictionexperience', 'predictionmanage', 'predictions', 'predictive', 'prefer', 'preferable', 'preferably', 'prefered', 'preference', 'preferences', 'preferencespartner', 'preferred', 'preferred3', 'preferred8', 'preferredability', 'preferredadditional', 'preferredadvanced', 'preferredat', 'preferredbachelor', 'preferreddata', 'preferreddemonstrated', 'preferredequal', 'preferredexcellent', 'preferredexperience', 'preferredexpertise', 'preferredfluency', 'preferredfunctions', 'preferredgood', 'preferredhave', 'preferredif', 'preferredjava', 'preferredmachine', 'preferredminimum', 'preferredmust', 'preferredperks', 'preferredphysical', 'preferredwe', 'preferredwhy', 'pregnancy', 'preliminary', 'prem', 'premier', 'premises', 'premium', 'premiums', 'premiumslife', 'prep', 'preparation', 'preparations', 'prepare', 'prepared', 'prepares', 'preparing', 'preprints', 'preprocess', 'preprocessing', 'presales', 'preschool', 'prescient', 'prescientedge', 'prescreens', 'prescribe', 'prescribed', 'prescription', 'prescriptive', 'presence', 'present', 'presentation', 'presentational', 'presentationexperience', 'presentationmust', 'presentationpreferred', 'presentationqualifications', 'presentations', 'presentationsbuild', 'presentationscollaborate', 'presentationsqualificationsbachelor', 'presented', 'presenting', 'presents', 'press', 'pressing', 'pressure', 'pressureproblem', 'prestige', 'presto', 'prestoexperience', 'prestopractical', 'pretty', 'prevent', 'preventing', 'prevention', 'previous', 'previously', 'price', 'prices', 'pricing', 'pride', 'prides', 'primarily', 'primary', 'prime', 'primed', 'principal', 'principals', 'principle', 'principles', 'principlescreativity', 'principlesproficient', 'print', 'printers', 'prior', 'priori', 'priorities', 'prioritiesable', 'prioritiesmanage', 'prioritiesoutstanding', 'prioritiesproficient', 'prioritiesqualifications', 'prioritieswe', 'prioritise', 'prioritization', 'prioritizationlead', 'prioritize', 'prioritizing', 'priority', 'priscilla', 'privacy', 'privacyability', 'private', 'privately', 'pro', 'proactive', 'proactiveability', 'proactivedesired', 'proactively', 'probabilistic', 'probabilities', 'probability', 'probable', 'probably', 'probationary', 'probes', 'problem', 'problembuild', 'problemcollaborate', 'problemexperience', 'problems', 'problems1', 'problems3', 'problemsability', 'problemsadvanced', 'problemsconfidence', 'problemsdeep', 'problemsdemonstrated', 'problemsdevelops', 'problemsdrive', 'problemseducation', 'problemseffectively', 'problemsexperience', 'problemsextensive', 'problemshas', 'problemshave', 'problemsidentify', 'problemsimprove', 'problemsms', 'problemsmsc', 'problemsother', 'problemspartner', 'problemspassion', 'problemspresent', 'problemsqualificationsthe', 'problemsstrong', 'problemsthe', 'problemstrong', 'problemsunderstand', 'problemsuse', 'problemswork', 'procedure', 'procedures', 'proceduresknowledge', 'procedureslead', 'proceduresprovide', 'proceduresraise', 'proceed', 'proceeding', 'process', 'processaccess', 'processed', 'processes', 'processesassists', 'processesdesign', 'processesdevelops', 'processesexperience', 'processeshands', 'processesknowledge', 'processespreferred', 'processesproven', 'processesuse', 'processgenerate', 'processing', 'processingfamiliarity', 'processinginvolvement', 'processingknowledge', 'processingpattern', 'processingr', 'processingstatistical', 'processingsuperior', 'processintegration', 'processresponsible', 'processsupport', 'processwork', 'procurement', 'produce', 'produced', 'producers', 'produces', 'producing', 'product', 'productassist', 'productbachelor', 'productcome', 'productdesign', 'production', 'productioncontributing', 'productionindependent', 'productionize', 'productionized', 'productionizing', 'productionqualifications3', 'productionstaying', 'productionstrong', 'productionunderstanding', 'productionyou', 'productive', 'productivegenerous', 'productively', 'productivity', 'productize', 'productknowledge', 'productmanage', 'productqualificationsbachelor', 'productrecommendation', 'productrepresenting', 'products', 'productsability', 'productsair', 'productscommunicate', 'productscontinuously', 'productsdemonstrable', 'productsdevelop', 'productsenabling', 'productsexperience', 'productsfor', 'productsmaintain', 'productsnice', 'productspartner', 'productssample', 'productssolid', 'productsto', 'productswhat', 'productsyour', 'productwe', 'prof', 'profession', 'professional', 'professionalcareer', 'professionalism', 'professionally', 'professionals', 'professionalscgi', 'professors', 'proficiency', 'proficiencygreat', 'proficiencyms', 'proficient', 'proficientlearning', 'proficiently', 'proficientverbal', 'profile', 'profilemorgan', 'profileour', 'profiles', 'profiling', 'profit', 'profitability', 'profitabilitycreate', 'profitable', 'profitably', 'profits', 'program', 'programing', 'programingfamiliarity', 'programmatic', 'programmer', 'programmers', 'programming', 'programming2', 'programminglanguages', 'programmingnotes', 'programmingunderstanding', 'programminimum', 'programprior', 'programs', 'programsbe', 'programscommunity', 'programseducation', 'programsexperience', 'programspecific', 'programwe', 'progress', 'progresses', 'progressing', 'progression', 'progressive', 'progressively', 'progressmonitor', 'progressprevious', 'prohibited', 'prohibits', 'project', 'projected', 'projectionoral', 'projections', 'projectors', 'projects', 'projectsability', 'projectsadditional', 'projectsassigned', 'projectsbenefitscompetitive', 'projectsbuild', 'projectscoding', 'projectsexperience', 'projectsgenerate', 'projectsgive', 'projectshttps', 'projectsleadershipbuilding', 'projectsmaintain', 'projectsposition', 'projectsuse', 'projectswe', 'projectswork', 'projectsyou', 'prolonged', 'promise', 'promises', 'promising', 'promote', 'promotes', 'promoting', 'promotion', 'promotional', 'promotions', 'prone', 'proof', 'proofpoint', 'proofpointas', 'proofs', 'propelled', 'propensity', 'proper', 'properly', 'properties', 'property', 'proposal', 'proposals', 'propose', 'proposed', 'proposes', 'proposing', 'proposition', 'propositions', 'proprietary', 'proprietyai', 'propulsion', 'prospect', 'prospecting', 'prospective', 'prospects', 'prosper', 'protect', 'protected', 'protecting', 'protection', 'protections', 'proteins', 'protocol', 'protocols', 'protocolsdemonstrated', 'prototype', 'prototypes', 'prototypes25', 'prototyping', 'prototypingpreferred', 'prototypingyou', 'proud', 'proudly', 'prove', 'proven', 'provide', 'provided', 'providedcontinued', 'providedexceptional', 'providehere', 'provider', 'providerbenefitsflexible', 'providers', 'provides', 'providing', 'proving', 'prowess', 'psu', 'psychiatry', 'psychological', 'psychology', 'pto', 'pto401k', 'ptoemployee', 'public', 'publication', 'publications', 'publicationsb', 'publicationsmanipulate', 'publicly', 'publish', 'published', 'publishers', 'publishing', 'pubmed', 'puerto', 'pull', 'pulled', 'pulling', 'pulls', 'pulse', 'punctuality', 'purchase', 'purchased', 'purchases', 'purchasing', 'pure', 'purely', 'purpose', 'purposes', 'purposesautomate', 'purposesdevelop', 'purposeson', 'pursing', 'pursuant', 'pursue', 'pursues', 'pursuing', 'pursuit', 'pursuits', 'push', 'pushed', 'pushes', 'pushing', 'puts', 'putting', 'puzzle', 'pwerpoint', 'pymc3', 'pyplot', 'pyspark', 'pysparkexperience', 'pysparkintegrate', 'python', 'python5', 'pythonability', 'pythonbackground', 'pythonconfidence', 'pythondata', 'pythonearn', 'pythonexcellent', 'pythonexperience', 'pythongreat', 'pythonin', 'pythoninfosys', 'pythonm', 'pythonmaster', 'pythonopen', 'pythonproficiency', 'pythonsignificant', 'pythonskilled', 'pythonslack', 'pythonstronger', 'pythonunderstanding', 'pytorch', 'pytorchanalyzing', 'pytorchexperience', 'pytorchsolid', 'qa', 'qc', 'qlik', 'qliksense', 'qlikview', 'qm', 'quadrant', 'quadruple', 'quaificaitionbachelor', 'qualification', 'qualifications', 'qualifications2', 'qualifications3', 'qualifications4', 'qualifications5', 'qualificationsa', 'qualificationsability', 'qualificationsabout', 'qualificationsadvanced', 'qualificationsanalytically', 'qualificationsapplications', 'qualificationsat', 'qualificationsbachelor', 'qualificationsbachelors', 'qualificationsbackground', 'qualificationsbasic', 'qualificationsbig', 'qualificationsbs', 'qualificationscompany', 'qualificationscurrently', 'qualificationsdata', 'qualificationsdegree', 'qualificationseducation', 'qualificationsexcellent', 'qualificationsexperience', 'qualificationsexpert', 'qualificationsexpertise', 'qualificationsfamiliarity', 'qualificationsfull', 'qualificationshave', 'qualificationsif', 'qualificationsinterest', 'qualificationsjoin', 'qualificationsknowledge', 'qualificationsmachine', 'qualificationsmaster', 'qualificationsminimum', 'qualificationsms', 'qualificationsmust', 'qualificationsnone', 'qualificationsph', 'qualificationsphd', 'qualificationsplease', 'qualificationspractical', 'qualificationspreferred', 'qualificationsqualifications', 'qualificationsrequired', 'qualificationsrequires', 'qualificationssignificant', 'qualificationsthe', 'qualificationsto', 'qualificationstransportation', 'qualificationsunderstand', 'qualificationswe', 'qualificationswhat', 'qualificationswho', 'qualificationswithin', 'qualificationsworking', 'qualificationsyou', 'qualified', 'qualify', 'qualitative', 'qualities', 'quality', 'qualityconducting', 'qualityefficiently', 'qualityhelp', 'qualityprovides', 'quant', 'quantatative', 'quantifiable', 'quantifind', 'quantify', 'quantifying', 'quantitate', 'quantitative', 'quantitatively', 'quantities', 'quantity', 'quarter', 'quarterly', 'quasi', 'qubole', 'queries', 'queriesability', 'queriesexperience', 'query', 'querying', 'quest', 'question', 'questions', 'questionsability', 'questionsable', 'questionscoordinate', 'questionsdocuments', 'questionsefficiently', 'questionsprovides', 'queues', 'queuing', 'quick', 'quickly', 'quicklyflexible', 'quicklyhas', 'quintuple', 'quite', 'quo', 'qxbranch', 'rability', 'race', 'radiant', 'radical', 'radically', 'rails', 'raise', 'raised', 'raises', 'raleigh', 'rallies', 'ram', 'ramp', 'ramping', 'random', 'range', 'ranges', 'ranging', 'rank', 'ranked', 'ranking', 'ranks', 'ransomware', 'rapid', 'rapidly', 'rapidminer', 'rapport', 'rare', 'rarely', 'rate', 'rated', 'raters', 'rates', 'ratings', 'rationalize', 'ratios', 'raton', 'rave', 'raw', 'rays', 'rbonus', 'rclearance', 'rd', 'rdbms', 'rdbs', 'rdfunderstanding', 'rds', 'reach', 'react', 'reactively', 'read', 'readability', 'readable', 'readily', 'readiness', 'reading', 'readmapping', 'reads', 'ready', 'real', 'realistic', 'reality', 'realization', 'realize', 'realized', 'realizing', 'really', 'realm', 'realworld', 'reason', 'reasonable', 'reasonably', 'reasoned', 'reasoning', 'reasons', 'rebuild', 'recalibrate', 'recalibrating', 'recall', 'receive', 'received', 'recent', 'recently', 'recharge', 'recognition', 'recognizable', 'recognize', 'recognized', 'recognizes', 'recognizing', 'recommend', 'recommendation', 'recommendations', 'recommendationsautomate', 'recommendationscommunicating', 'recommendationsexperience', 'recommendationsfluency', 'recommendationsimproving', 'recommendationstake', 'recommendationsthis', 'recommendationswho', 'recommended', 'recommender', 'recommending', 'recommends', 'reconnaissance', 'record', 'records', 'recoveries', 'recovery', 'recruit', 'recruiter', 'recruiters', 'recruiting', 'recruitment', 'recurrent', 'recycling', 'red', 'redefine', 'redefining', 'redis', 'redjack', 'redmond', 'redshift', 'redshiftdata', 'redshiftexperience', 'redtoo', 'reduce', 'reducing', 'reduction', 'reductionclean', 'reductionexperience', 'reductionreal', 'reductions', 'redux', 'redwood', 'refactoring', 'refereed', 'reference', 'referenced', 'references', 'referral', 'referrals', 'referred', 'refine', 'refinementlead', 'refiner', 'refineries', 'refining', 'reflect', 'reflected', 'reflection', 'reflects', 'reforming', 'reframe', 'refresh', 'refusing', 'regard', 'regarding', 'regardless', 'regards', 'regence', 'region', 'regional', 'regionalvirtual', 'regions', 'registered', 'registrations', 'registrationsnone', 'registries', 'registry', 'regression', 'regressions', 'regs', 'regular', 'regularall', 'regularization', 'regularlocation', 'regularly', 'regularrecruiting', 'regulation', 'regulations', 'regulationswork', 'regulatory', 'rei', 'reign', 'reimagine', 'reimagining', 'reimbursed', 'reimbursement', 'reimbursements', 'reimbursementscatered', 'reinforcement', 'reinforces', 'reinforcing', 'reinsurance', 'reinvent', 'reinvented', 'reinventing', 'relate', 'related', 'relatedexperience', 'relates', 'relating', 'relation', 'relational', 'relations', 'relationship', 'relationships', 'relationshipsexperience', 'relationshipsserve', 'relationshipthe', 'relative', 'relatively', 'relax', 'relaxed', 'release', 'released', 'releasejob', 'releases', 'relentless', 'relentlessly', 'relevance', 'relevant', 'reliability', 'reliabilityshort', 'reliable', 'reliably', 'reliance', 'reliant', 'reliantly', 'religion', 'religious', 'relish', 'relishes', 'relocate', 'relocated', 'relocating', 'relocation', 'relx', 'rely', 'remain', 'remaining', 'remains', 'remarkable', 'remediate', 'remediation', 'remember', 'remind', 'reminder', 'reminders', 'remodeling', 'remote', 'remotely', 'remotelybonus', 'remoteposted', 'remove', 'removed', 'render', 'rendering', 'renewable', 'renewal', 'rental', 'rentalsbuild', 'renton', 'reolve', 'reonomy', 'repair', 'repeat', 'repeatability', 'repeatable', 'repeating', 'replace', 'repo', 'report', 'reported', 'reporter', 'reporting', 'reportingcompetence', 'reportingcrm', 'reportingearn', 'reportingjob', 'reportingprevious', 'reports', 'reportsbuilding', 'reportseducation', 'reportsguide', 'reportsminimum', 'reportsrelocation', 'reportsskills', 'repositories', 'repository', 'represent', 'representation', 'representations', 'representative', 'representativeness', 'representatives', 'represents', 'reproducibility', 'reproducible', 'reproducibly', 'repurchase', 'reputation', 'reputations', 'req', 'req181151category', 'req6316job', 'reqid', 'request', 'requested', 'requesteddisclaimer', 'requesting', 'requests', 'requestsprovide', 'require', 'required', 'required3', 'requireda', 'requiredadditional', 'requiredadvanced', 'requiredbachelor', 'requiredbuzzwords', 'requireddeep', 'requireddemonstrated', 'requireddevelop', 'requiredexperience', 'requiredexperience0', 'requiredknowledge', 'requiredlocation', 'requiredms', 'requirednoneknowledge', 'requiredother', 'requiredproven', 'requiredpython', 'requiredrequired', 'requiredstrong', 'requiredthe', 'requiredwork', 'requiredyour', 'requirement', 'requirementmust', 'requirements', 'requirements2', 'requirements3', 'requirements5', 'requirementsa', 'requirementsat', 'requirementsbachelor', 'requirementscambia', 'requirementscan', 'requirementscollege', 'requirementscommunicate', 'requirementscreate', 'requirementscurrently', 'requirementsdegree', 'requirementsdemonstrated', 'requirementsdesigns', 'requirementsexcellent', 'requirementsexpert', 'requirementsgraduate', 'requirementsmaster', 'requirementsmasters', 'requirementsminimum', 'requirementsms', 'requirementsna', 'requirementsnone', 'requirementspartners', 'requirementsphd', 'requirementsprovide', 'requirementsrequired', 'requirementssql', 'requirementsstrong', 'requirementsteam', 'requirementsthis', 'requirementswhat', 'requirementsworks', 'requirementsyou', 'requires', 'requiring', 'requisite', 'requisition', 'requisitions', 'research', 'researchactivation', 'researchbuilding', 'researcher', 'researchers', 'researches', 'researching', 'researchphysicsquantitative', 'researchquantitative', 'researchskilled', 'researchstrong', 'researchsub', 'resembles', 'reserve', 'reserved', 'reserves', 'reserving', 'reservoir', 'reservoirs', 'reset', 'residency', 'resident', 'residential', 'residents', 'resides', 'residing', 'resilience', 'resilient', 'resilienthighly', 'resnets', 'resolution', 'resolutions', 'resolve', 'resolving', 'resonates', 'resort', 'resorts', 'resource', 'resourceful', 'resources', 'resourcesability', 'resourcesadditional', 'resourcesthat', 'resourcing', 'respect', 'respected', 'respectfulthink', 'respecting', 'respective', 'respectively', 'respond', 'responded', 'responders', 'response', 'responses', 'responsib', 'responsibilities', 'responsibilitiesan', 'responsibilitiesanalyzes', 'responsibilitiesanswer', 'responsibilitiesapply', 'responsibilitiesas', 'responsibilitiesassists', 'responsibilitiesbe', 'responsibilitiesbuild', 'responsibilitiescollaborate', 'responsibilitiescollaborates', 'responsibilitiesconduct', 'responsibilitiescontribute', 'responsibilitiesdata', 'responsibilitiesdefine', 'responsibilitiesdemonstrate', 'responsibilitiesdesign', 'responsibilitiesdevelop', 'responsibilitiesdiscover', 'responsibilitiesdue', 'responsibilitiesevangelize', 'responsibilitiesextract', 'responsibilitiesframe', 'responsibilitiesidentify', 'responsibilitiesimplement', 'responsibilitiesimportant', 'responsibilitiesin', 'responsibilitiesinterprets', 'responsibilitiesjob', 'responsibilitieslead', 'responsibilitiesleverage', 'responsibilitiesmay', 'responsibilitiesmine', 'responsibilitiesour', 'responsibilitiespartner', 'responsibilitiespeople', 'responsibilitiesperform', 'responsibilitiesposition', 'responsibilitiesproactively', 'responsibilitiesproduce', 'responsibilitiesprovide', 'responsibilitiesrapidly', 'responsibilitiesresearch', 'responsibilitiesthe', 'responsibilitiesthis', 'responsibilitiestypical', 'responsibilitiesuse', 'responsibilitieswe', 'responsibilitieswork', 'responsibilitiesyou', 'responsibility', 'responsibilityexperience', 'responsible', 'responsibly', 'responsive', 'rest', 'restaurant', 'restaurants', 'restful', 'resting', 'reston', 'restoration', 'restore', 'restricted', 'result', 'resulting', 'results', 'resultsability', 'resultsactively', 'resultsapproach', 'resultsbuild', 'resultsbusiness', 'resultschanging', 'resultscommunicate', 'resultsdemonstrated', 'resultsdevelop', 'resultsexperience', 'resultsfunctionally', 'resultsperform', 'resultsprepare', 'resultsprevious', 'resultsproficiency', 'resultsrequirements3', 'resultsstrong', 'resultssupporting', 'resultswe', 'resultswhat', 'resultswith', 'resultswork', 'resume', 'resumes', 'retail', 'retailer', 'retailers', 'retain', 'retaining', 'retargeting', 'retention', 'retentionassist', 'retentionlead', 'retirement', 'retrain', 'retraining', 'retrieval', 'retrievalbecome', 'retrieve', 'retrieves', 'retros', 'retrospective', 'return', 'returned', 'returning', 'reusability', 'reusable', 'reveal', 'revenue', 'revenuebachelors', 'revenuedefine', 'revenues', 'review', 'reviewall', 'reviewed', 'reviewing', 'reviews', 'reviewsexecute', 'revise', 'revitalization', 'revolution', 'revolutionary', 'revolutionize', 'revolutionizing', 'reward', 'rewarded', 'rewarding', 'rewards', 'rewrite', 'rexperience', 'rf', 'rfamiliarity', 'rfp', 'rhands', 'riak', 'rich', 'richard', 'richardson', 'richer', 'richly', 'richness', 'rico', 'riddles', 'ride', 'rider', 'riders', 'rides', 'ridge', 'right', 'rights', 'rigor', 'rigorious', 'rigorous', 'rigorously', 'rise', 'rising', 'risk', 'riskcommunicate', 'riskforecasting', 'riskiq', 'risks', 'river', 'rivers', 'rivr', 'rl', 'rmarkdown', 'rnn', 'rnns', 'road', 'roadblocks', 'roadmap', 'roadmappractical', 'roadmaps', 'roadmapunderstanding', 'robot', 'robotic', 'robotics', 'robust', 'roc', 'rochester', 'rock', 'roi', 'roidevelop', 'role', 'role2', 'roleability', 'roleanalytics', 'roleas', 'roleat', 'rolebabylist', 'rolebe', 'rolebuilt', 'roledata', 'roledigital', 'roledo', 'roleexperience', 'roleeyeview', 'rolehands', 'rolehow', 'roleindustry', 'roleknowledge', 'rolemetabiota', 'roleonce', 'roleproficiency', 'roles', 'rolesan', 'rolesecret', 'rolesproficiency', 'rolestrong', 'rolethe', 'roletime', 'roleuber', 'rolewe', 'rolewhat', 'roleyou', 'roleyour', 'roll', 'rolled', 'rolling', 'rollout', 'rolloutgeneralize', 'rollups', 'roof', 'rooftop', 'room', 'roomswe', 'root', 'rooted', 'rosa', 'roseville', 'rotate', 'rotation', 'round', 'routed', 'routes', 'routine', 'routinely', 'routines', 'routing', 'rows', 'rpa', 'rpc', 'rproficiency', 'rself', 'rsg', 'rsginc', 'rshiny', 'rss', 'rstudio', 'rtb', 'rtf', 'ruby', 'rule', 'rules', 'run', 'running', 'runs', 'rural', 'russian', 'rust', 'ryou', 's3', 'saas', 'sability', 'sacramento', 'safe', 'safeguard', 'safeguarding', 'safely', 'safer', 'safety', 'safetyexperiences', 'sagemaker', 'sagemakeris', 'said', 'salad', 'salaried', 'salaries', 'salary', 'salarycompany', 'salarycool', 'salaryequity', 'sales', 'salesforce', 'salesperson', 'saleswhile', 'salon', 'salt', 'sample', 'sampled', 'samples', 'samplesbuild', 'sampling', 'samsung', 'san', 'sandwich', 'sanity', 'santa', 'sap', 'sapphire', 'sas', 'sasexperience', 'sassupport', 'sasyou', 'sat', 'satellite', 'satisfaction', 'satisfactioncluster', 'satisfactorily', 'satisfactory', 'satisfied', 'save', 'saved', 'savings', 'savvy', 'say', 'saying', 'says', 'sba', 'sc', 'scala', 'scalability', 'scalable', 'scalanlp', 'scalawhat', 'scale', 'scaleability', 'scaleavailability', 'scalecollaborate', 'scalecollaborative', 'scalecommunicate', 'scaled', 'scaledevelop', 'scaleexperience', 'scaleexpertise', 'scalelearning', 'scalewe', 'scaling', 'scalingcommunicate', 'scarce', 'scatter', 'scattered', 'scenario', 'scenarios', 'scenariosexperience', 'scenariosleverage', 'scenes', 'schaumburg', 'schaumburgother', 'schedule', 'scheduled', 'scheduleit', 'schedules', 'scheduling', 'schema', 'schemas', 'schemasability', 'schemes', 'schizophrenia', 'scholars', 'school', 'schools', 'schuylkill', 'schwab', 'sci', 'sci8', 'science', 'scienceadditional', 'sciencecomfortable', 'sciencecompany', 'sciencecomputer', 'scienceconfident', 'sciencedata', 'sciencedigital', 'scienceenabling', 'scienceexperience', 'scienceexpertise', 'sciencekey', 'scienceknowledge', 'sciencephd', 'scienceprimary', 'scienceproven', 'sciences', 'sciencesexpert', 'sciencesolid', 'scienceyou', 'scientific', 'scientifically', 'scientist', 'scientistat', 'scientistblueshift', 'scientistcategory', 'scientistcome', 'scientistemail', 'scientistexperience', 'scientistfrom', 'scientistinteractive', 'scientistjob', 'scientistleverage', 'scientistlocations', 'scientistnumber', 'scientistposition', 'scientistredjack', 'scientistrequisition', 'scientists', 'scientistsability', 'scientistshare', 'scientistshaw', 'scientistssome', 'scientistswork', 'scientistthe', 'scientistthis', 'scientistus', 'scientistverb', 'scientistwe', 'scientistwill', 'scientistyou', 'scikit', 'scikitlearn', 'scipy', 'scirequire', 'scm', 'scoop', 'scoopfew', 'scoopfounded', 'scoopscoop', 'scooter', 'scooters', 'scope', 'scopeability', 'scopeprepares', 'scopes', 'scoping', 'score', 'scorecardspartner', 'scores', 'scoring', 'scoringrecommender', 'scoringsome', 'scot', 'scott', 'scouts', 'scrape', 'scraped', 'scraping', 'scrapping', 'scrappy', 'scratch', 'scratched', 'scratching', 'screen', 'screening', 'screeningidentityeeo', 'screens', 'script', 'scripting', 'scriptingfamiliarity', 'scriptingknowledge', 'scripts', 'scriptsstrong', 'scrub', 'scrum', 'scsalary', 'sdepartment', 'sdk', 'sdkstrain', 'sdlc', 'sdtm', 'sdvosb', 'se', 'seaborn', 'seabornexperience', 'seamless', 'seamlessly', 'search', 'searches', 'searching', 'season', 'seasonal', 'seasonality', 'seasoned', 'seattle', 'second', 'secondary', 'seconds', 'secret', 'secrets', 'secretwork', 'secrurity', 'section', 'sectional', 'sections', 'sector', 'sectorability', 'sectorabout', 'sectors', 'secure', 'secured', 'securely', 'securing', 'securities', 'security', 'securityknowledge', 'securityproficiency', 'seed', 'seeing', 'seek', 'seekers', 'seeking', 'seeks', 'seemingly', 'seen', 'segment', 'segmentation', 'segmentationdevelop', 'segmentationo', 'segmented', 'segments', 'segundo', 'seize', 'select', 'selected', 'selecting', 'selection', 'self', 'selfless', 'sell', 'seller', 'sellers', 'sellersleveraging', 'selling', 'sem', 'semantic', 'semantics', 'semester', 'semi', 'seminar', 'seminars', 'send', 'sending', 'senior', 'seniority', 'sense', 'sensegood', 'sensing', 'sensitive', 'sensitivity', 'sensor', 'sensors', 'sensory', 'sentiment', 'seo', 'separated', 'separating', 'sequence', 'sequencing', 'sequential', 'serializing', 'series', 'seriesassist', 'seriously', 'seriouslywe', 'serta', 'serve', 'served', 'servednot', 'serveng', 'server', 'serverconduct', 'servergood', 'servers', 'serves', 'service', 'servicenow', 'services', 'services5', 'servicesability', 'servicesbuild', 'servicesconvert', 'servicesmust', 'servicesperform', 'servicesqualificationsseveral', 'servicessimple', 'servicesworking', 'servicesyour', 'servicing', 'serving', 'sessions', 'set', 'setfluency', 'setgood', 'setis', 'sets', 'sets25', 'setsability', 'setsadvanced', 'setsbe', 'setscollect', 'setscore', 'setsdata', 'setsdevelop', 'setseducation', 'setsexperience', 'setsexpertise', 'setsinteract', 'setsmust', 'setsprovide', 'setsresearch', 'setssolve', 'setssql', 'setsstrong', 'setsunderstands', 'setting', 'settingcommunication', 'settinghas', 'settings', 'settle', 'setup', 'seven', 'seventh', 'sex', 'sexual', 'sf', 'sf1', 'sfdc', 'shake', 'shaking', 'shape', 'shapes', 'shaping', 'share', 'shared', 'shareholders', 'sharepoint', 'shares', 'sharing', 'sharp', 'sharpen', 'sharpening', 'shaw', 'sheets', 'shell', 'shepherding', 'shield', 'shieldemployer', 'shift', 'shift8', 'shiftcontinued', 'shiftour', 'shiftuse', 'shining', 'shiny', 'ship', 'shipped', 'shipping', 'ships', 'shirt', 'shirts', 'shocks', 'shogun', 'shooting', 'shop', 'shopper', 'shoppers', 'shopping', 'shops', 'shorelines', 'shorenstein', 'short', 'shortlist', 'shorts', 'shot', 'shoulders', 'shouldn', 'showcase', 'shower', 'showing', 'shown', 'shows', 'shy', 'siamese', 'sick', 'sided', 'sierra', 'sifts', 'sightseeing', 'sigir', 'sign', 'signal', 'signalfire', 'signals', 'signed', 'significance', 'significanceexperience', 'significanceprovide', 'significant', 'significantly', 'signs', 'silicon', 'silos', 'silverrail', 'similar', 'similarfamiliarity', 'similarities', 'similarity', 'similaritydesigning', 'similarly', 'similarworking', 'similiar', 'simmons', 'simple', 'simplerleading', 'simplest', 'simplicity', 'simplicityyou', 'simplified', 'simplify', 'simplifying', 'simply', 'simulate', 'simulation', 'simulationassist', 'simulationminimum', 'simulationo', 'simulations', 'simultaneous', 'simultaneousldesired', 'simultaneously', 'simultaneouslyability', 'simultaneouslydemonstrate', 'sincerely', 'singapore', 'single', 'singular', 'singularly', 'sisense', 'sister', 'sit', 'site', 'sites', 'sitescan', 'sits', 'sitting', 'situation', 'situations', 'sixleaf', 'sixleafutilize', 'sizable', 'size', 'sizeable', 'sized', 'sizes', 'sizing', 'skepticism', 'skill', 'skilled', 'skillful', 'skills', 'skills2', 'skills3', 'skillsa', 'skillsability', 'skillsabout', 'skillsaccomplished', 'skillsactive', 'skillsall', 'skillsan', 'skillsanalytical', 'skillsanalytics', 'skillsbachelor', 'skillsbalance', 'skillsbig', 'skillsbusiness', 'skillscreative', 'skillsdeep', 'skillsdemonstrated', 'skillsdocument', 'skillseducation', 'skillseducationminimum', 'skillsemail', 'skillsentrepreneurial', 'skillset', 'skillsexcellent', 'skillsexperience', 'skillsfamiliarity', 'skillsfully', 'skillsgood', 'skillshigh', 'skillshighly', 'skillshow', 'skillslanguages', 'skillslevel', 'skillslife', 'skillsma', 'skillsmaster', 'skillsminimum', 'skillsms', 'skillsmust', 'skillsnice', 'skillsoutward', 'skillspassion', 'skillsphd', 'skillsplease', 'skillspossess', 'skillspreferred', 'skillspresentation', 'skillsprevious', 'skillsproficiency', 'skillsproficient', 'skillsproven', 'skillsrelevant', 'skillsrequired', 'skillsrequirementsbackground', 'skillssecondary', 'skillsself', 'skillssony', 'skillsstrong', 'skillssuperior', 'skillstechnical', 'skillsthis', 'skillsvery', 'skillsyou', 'sklearn', 'sky', 'skype', 'skyrocketed', 'sl', 'slack', 'slackwhat', 'sleep', 'sleeptracker', 'sleeves', 'sleuth', 'slide', 'slides', 'slidesbuild', 'slowing', 'slq', 'slync', 'sm', 'small', 'smaller', 'smart', 'smartbed', 'smarter', 'smartest', 'smartview', 'sme', 'smes', 'smile', 'smiles', 'smoke', 'smooth', 'smoothly', 'smoothlycollaborate', 'sms', 'sn1company', 'snacks', 'snacksdog', 'snag', 'snapchat', 'snc', 'sne', 'snowflake', 'snowflakepythonsqllinuxtableaurequirementsbachelors', 'snowflakesnowflake', 'soak', 'soap', 'social', 'socialize', 'socializing', 'socials', 'societal', 'societas', 'societies', 'society', 'socioeconomic', 'sociology', 'sociotechnical', 'sockeye', 'socure', 'sofia', 'soft', 'softbank', 'softly', 'softvision', 'software', 'softwareadditional', 'softwareexperience', 'softwaregeneral', 'softwarehave', 'softwareworking', 'soho', 'soil', 'sojern', 'sold', 'sole', 'solely', 'solicit', 'solid', 'solidifying', 'solo', 'solopreneurs', 'solr', 'solution', 'solutioning', 'solutions', 'solutionsability', 'solutionsadvanced', 'solutionsagency', 'solutionsassess', 'solutionsassist', 'solutionsat', 'solutionsaxiologic', 'solutionsdemonstrated', 'solutionsdistributed', 'solutionsexperience', 'solutionsgenerate', 'solutionshands', 'solutionsidentify', 'solutionsimplement', 'solutionskeep', 'solutionsminimum', 'solutionsother', 'solutionsparticipate', 'solutionspartner', 'solutionsplan', 'solutionsproduction', 'solutionsproven', 'solutionsqualifications', 'solutionsqualificationsdegree', 'solutionsqualifying', 'solutionsrequired', 'solutionsrequirements3', 'solutionsshould', 'solutionssoftware', 'solutionssolid', 'solutionsstrong', 'solutionsusing', 'solutionswhat', 'solutionswork', 'solutionswrite', 'solutionsyou', 'solutionuses', 'solvable', 'solve', 'solved', 'solver', 'solverbonus', 'solverhere', 'solvers', 'solves', 'solving', 'solvingaptitude', 'solvingexcellent', 'solvingindependent', 'solvingresponsibilitiesanalyze', 'som', 'somebody', 'sonoma', 'sony', 'soon', 'sophisticated', 'sophistication', 'sops', 'sought', 'sound', 'soundcloud', 'sounds', 'source', 'sourced', 'sources', 'sourcesability', 'sourcesbuilding', 'sourcescleanses', 'sourcescreate', 'sourcesdemonstrated', 'sourcesexpertise', 'sourcesgenerate', 'sourceslead', 'sourcesstrong', 'sourcessupport', 'sourcesworks', 'sourcing', 'sourcingdevelops', 'south', 'southeast', 'space', 'spacedesign', 'spaceexcellent', 'spaceflight', 'spacegreat', 'spacelearn', 'spaces', 'spacesexperience', 'spacesupport', 'spacy', 'spam', 'span', 'spanish', 'spanning', 'spans', 'sparing', 'spark', 'sparkarchitecting', 'sparkexperience', 'sparkfund', 'sparkmachine', 'sparkml', 'sparkopen', 'sparkprofessional', 'sparkr', 'sparql', 'sparse', 'spatial', 'speak', 'speaker', 'speaking', 'speaks', 'spearhead', 'special', 'specialist', 'specialists', 'specialities', 'specialization', 'specializations', 'specialize', 'specialized', 'specializes', 'specializing', 'specially', 'specialty', 'specific', 'specifically', 'specification', 'specifications', 'specificationsability', 'specificationsrelocation', 'specified', 'specify', 'specifying', 'specsyou', 'spectral', 'spectrum', 'speech', 'speed', 'spend', 'spending', 'spends', 'spent', 'speyer', 'spglobal', 'spicystrong', 'spin', 'spinoff', 'spinspin', 'spirit', 'spiritthrives', 'spirta', 'split', 'splunk', 'splunka', 'spoc', 'spoken', 'spokencurrent', 'spokesperson', 'sponsor', 'sponsored', 'sponsoring', 'sponsors', 'sponsorship', 'sport', 'sporting', 'sports', 'spot', 'spotfire', 'spotify', 'spotifymentor', 'spreadsheet', 'spring', 'springfield', 'springs', 'sprint', 'sps', 'spss', 'spssat', 'sql', 'sql2', 'sqla', 'sqlability', 'sqlcommunication', 'sqldemonstrated', 'sqlduring', 'sqlefficient', 'sqlexperience', 'sqlfamiliarity', 'sqlfluency', 'sqlknowledge', 'sqlmomentum', 'sqlpreferred', 'sqlproficiency', 'sqlproficient', 'sqlstrong', 'sqlunderstanding', 'sqoop', 'square', 'squarely', 'squareopportunity', 'squares', 'squarespace', 'squarespacesquarespace', 'squareup', 'squareyou', 'sr', 'srilm', 'ssa', 'ssas', 'ssh', 'ssis', 'ssu', 'st', 'stability', 'stable', 'stack', 'stackact', 'stacked', 'stackoverflow', 'stacks', 'stadium', 'staff', 'staffactively', 'staffed', 'staffing', 'stage', 'stages', 'stake', 'stakeholder', 'stakeholders', 'stakeholders25', 'stakeholdersa', 'stakeholdersabout', 'stakeholdersaid', 'stakeholdersbuild', 'stakeholdersdesign', 'stakeholdersensure', 'stakeholdersensures', 'stakeholdersexcellent', 'stakeholdersexperience', 'stakeholdersgot', 'stakeholdersmaintain', 'stakeholdersminimum', 'stakeholdersproven', 'stakeholdersprovides', 'stakeholdersstrong', 'stakeholderssummarize', 'stakeholdersteam', 'stakeholdersuse', 'stakeholdersusing', 'stakeholderswork', 'stakeholdersyou', 'stalking', 'stan', 'stand', 'standalone', 'standard', 'standardize', 'standardized', 'standards', 'standing', 'standingexperience', 'standpoint', 'stanford', 'stanfordprofessors', 'stanley', 'stanleybusiness', 'stanza', 'stanzahundreds', 'staples', 'star', 'stardog', 'start', 'started', 'starter', 'starterexcellent', 'starters', 'starterstrong', 'starting', 'starts', 'startup', 'startupprior', 'startups', 'stat', 'stata', 'state', 'stated', 'statement', 'statementbrigham', 'statementibm', 'statements', 'statementwe', 'states', 'statesjob', 'statesposition', 'statewide', 'static', 'station', 'stationless', 'stations', 'statistic', 'statistica', 'statistical', 'statistical5', 'statistically', 'statisticians', 'statistics', 'statisticsability', 'statisticsba', 'statisticsbachelor', 'statisticsbe', 'statisticsexhibit', 'statisticsgood', 'statisticsstrength', 'stats', 'statsmodels', 'status', 'statusexemptinterpersonal', 'statusfull', 'statuspursuant', 'stay', 'staying', 'stays', 'steaks', 'stem', 'step', 'stephanie', 'steps', 'stereotypes', 'steward', 'stewarding', 'stewardship', 'sticks', 'stimulating', 'stipend', 'stipendannual', 'stipendgenerous', 'stipendone', 'stipendtwo', 'stitch', 'stitching', 'stochastic', 'stock', 'stocked', 'stone', 'stoop', 'stop', 'storage', 'storages', 'store', 'stored', 'stores', 'storesexperience', 'stories', 'storiespredictive', 'storing', 'storm', 'story', 'storycapacity', 'storytellerbonus', 'storytelling', 'straight', 'strain', 'strategic', 'strategically', 'strategics', 'strategies', 'strategiesbenefits', 'strategiesbuild', 'strategiesdevelop', 'strategiesdocumenting', 'strategiesgenerate', 'strategieswork', 'strategists', 'strategizes', 'strategy', 'strategyability', 'strategyapply', 'strategydevelop', 'strategydevelops', 'strategyin', 'strategyown', 'strategypresent', 'stream', 'streamexperience', 'streaming', 'streamline', 'streamlined', 'streamlines', 'streams', 'streamscapital', 'streeam', 'street', 'streets', 'strength', 'strengthen', 'strengthening', 'strengths', 'stress', 'stretch', 'strict', 'strides', 'strings', 'strive', 'strives', 'striving', 'strong', 'stronger', 'strongest', 'strongly', 'structural', 'structure', 'structured', 'structures', 'structuring', 'struggle', 'student', 'studentgpa', 'studentinternships', 'students', 'studies', 'studiesdepartment', 'studio', 'studios', 'study', 'study2', 'study3', 'studying', 'stuff', 'stunning', 'stupid', 'style', 'styles', 'styling', 'stylish', 'stylist', 'stylists', 'sub', 'subcontractor', 'subcontracts', 'subculturesexperience', 'subgroups', 'subject', 'subjective', 'submission', 'submissions', 'submit', 'submitted', 'subordinate', 'subordinates', 'subscriber', 'subscribers', 'subscriberscreate', 'subscription', 'subscriptions', 'subsequent', 'subsequently', 'subsidiaries', 'subsidiary', 'substance', 'substances', 'substantial', 'substitute', 'substituted', 'subsurface', 'subtle', 'suburbancaci', 'succeed', 'succeedbachelor', 'succeeding', 'succeedintegrity', 'succeedphd', 'succeedrequirements', 'success', 'successas', 'successdata', 'successes', 'successful', 'successfully', 'successnone', 'successunderstanding', 'successyou', 'succinctly', 'suchas', 'sudden', 'suffering', 'sufficient', 'sugar', 'suggest', 'suggestion', 'suggestions', 'suitability', 'suitabilitydepartment', 'suitable', 'suite', 'suited', 'suites', 'sum', 'summaries', 'summarization', 'summarizations', 'summarize', 'summarizes', 'summarizing', 'summary', 'summaryabout', 'summaryare', 'summaryas', 'summarydata', 'summarydemonstrates', 'summaryin', 'summarylooking', 'summarymines', 'summaryposted', 'summarythe', 'summarythis', 'summaryvoice', 'summarywaste', 'summarywe', 'summarywhat', 'summer', 'summit', 'sunny', 'sunnyvale', 'superficially', 'superior', 'supervised', 'supervision', 'supervisor', 'supervisors', 'supervisory', 'supplement', 'supplementary', 'suppliers', 'supplies', 'supply', 'support', 'supported', 'supporting', 'supportive', 'supports', 'sure', 'surface', 'surfaces', 'surfacing', 'surgeons', 'surgeries', 'surgery', 'surgical', 'surprised', 'surprising', 'surrounded', 'surrounding', 'surroundings', 'survey', 'surveys', 'survival', 'sustain', 'sustainability', 'sustainable', 'sustainably', 'sustained', 'svb', 'svm', 'svms', 'svmsexperience', 'svn', 'svp', 'sw', 'swagger', 'swapnil', 'sweat', 'sweden', 'swells', 'swift', 'switch', 'switching', 'swoodoo', 'sycamore', 'sydney', 'symbol', 'sync', 'syndicated', 'synergies', 'synergy', 'syntactic', 'synthesis', 'synthesize', 'synthesized', 'synthesizes', 'synthesizing', 'systematic', 'systematically', 'systemic', 'systems', 'systems3', 'systemsan', 'systemsbuild', 'systemsconduct', 'systemscreating', 'systemscross', 'systemsdeep', 'systemsdefine', 'systemsdevelop', 'systemsexpert', 'systemsfamiliarity', 'systemsfor', 'systemshands', 'systemsidentify', 'systemsmachine', 'systemsorganize', 'systemsprocessing', 'systemsproduct', 'systemsproficiency', 'systemsproven', 'systemsresearch', 'systemsuses', 'systemsworks', 't2t', 'table', 'tableau', 'tableauability', 'tableaucompany', 'tableauexperience', 'tableaumaster', 'tableauprior', 'tableauproficiency', 'tableauwe', 'tablemode', 'tables', 'tablesanalytical', 'tableto', 'tabulate', 'tackle', 'tackles', 'tackleunderstand', 'tackling', 'taco', 'tactic', 'tactical', 'tactically', 'tacticallymust', 'tactics', 'tag', 'tagging', 'tagline', 'tail', 'tailor', 'tailored', 'takecareof', 'taken', 'takes', 'taking', 'talent', 'talenta', 'talentacquisition', 'talentand', 'talentdevelop', 'talented', 'talents', 'talk', 'talking', 'talks', 'talksa', 'tangible', 'tank', 'tap', 'tapingo', 'tapping', 'target', 'targeted', 'targeting', 'targetingyou', 'task', 'tasked', 'tasking', 'tasks', 'tasksconversant', 'tasksdrive', 'tasksoftware', 'taught', 'tax', 'taxa', 'taxes', 'taxonomy', 'tb', 'tcstravel', 'teach', 'teacher', 'teachers', 'teaching', 'team', 'teamability', 'teamadditional', 'teamamazon', 'teamanalytics', 'teamat', 'teambuild', 'teamcapture', 'teamdesire', 'teamdevelop', 'teamed', 'teamestablish', 'teamexperience', 'teamextremely', 'teamfamiliarity', 'teamidentify', 'teamjyve', 'teammate', 'teammates', 'teamminimum', 'teamother', 'teamour', 'teamresponsible', 'teams', 'teams3', 'teamsbasic', 'teamsdata', 'teamsexperience', 'teamsfacilitate', 'teamsinternships', 'teamsknowledge', 'teamsmaintain', 'teamsmarketplace', 'teamsmodels', 'teamsperform', 'teamspreferred', 'teamsprofessional', 'teamsreport', 'teamsspreading', 'teamsstrong', 'teamssynthesize', 'teamsthe', 'teamsto', 'teamstrong', 'teamswork', 'teamteamwork', 'teamthe', 'teamtime', 'teamuber', 'teamunder', 'teamunderstands', 'teamvery', 'teamwe', 'teamwhat', 'teamwork', 'teamworking', 'teamyou', 'teamzillow', 'tech', 'techcrunch', 'technical', 'technicalemployment', 'technically', 'technicalpre', 'technics', 'technicsprevious', 'technique', 'techniques', 'techniques3', 'techniques5', 'techniquesability', 'techniquesable', 'techniquesactively', 'techniquesapplies', 'techniquesdata', 'techniquesdeep', 'techniquesexcellent', 'techniquesexperience', 'techniquesgood', 'techniquesknowledge', 'techniquesminimum', 'techniquesour', 'techniquesplan', 'techniquespredictive', 'techniquespreferred', 'techniquesrecommend', 'techniquesscientific', 'techniquesskillsms', 'techniquesstandard', 'techniquesstrong', 'techniquesthe', 'techniqueswork', 'techniquesyou', 'technological', 'technologically', 'technologies', 'technologies5', 'technologies6', 'technologiesability', 'technologiesadditional', 'technologiescompany', 'technologiesexperience', 'technologiesexpert', 'technologiesgraphical', 'technologiesjoin', 'technologiesknowledge', 'technologiesmaintain', 'technologiesproficiency', 'technologiesproven', 'technologiesspecific', 'technologiesstay', 'technologiessupervisory', 'technologieswhat', 'technologist', 'technologists', 'technology', 'technologyfluency', 'technologygreat', 'technologymanage', 'technologymorgan', 'technologyresponsibilities', 'technologystrategic', 'technologytechnology', 'technologywork', 'telco', 'telecom', 'telecommunication', 'telecommunications', 'telecommute', 'telecommuter', 'telecommuters', 'telecommuting', 'telemetry', 'telephone', 'television', 'tell', 'telling', 'tellingcreate', 'tells', 'temp', 'tempe', 'templates', 'temporal', 'temporary', 'temporarysalary', 'tennis', 'tens', 'tensor', 'tensorflow', 'tensorflowexperience', 'tensorflowhands', 'tensorflowstrong', 'tenure', 'terabyte', 'terabytes', 'teradata', 'teradataexcellent', 'term', 'termimpact', 'terminal', 'termination', 'terminology', 'terminologyability', 'terminologyworks', 'terms', 'territories', 'territory', 'test', 'testable', 'tested', 'testing', 'testingdigital', 'testingemail', 'testingexperience', 'tests', 'testsbuild', 'testscommunicate', 'testsdevelop', 'testsexpertise', 'texas', 'texasthe', 'text', 'textadditional', 'textbooks', 'textcompany', 'textio', 'textminimum', 'texts', 'textual', 'tf', 'th', 'thank', 'thanks', 'thatbalances', 'thatcan', 'theanalysis', 'theano', 'theanocompetence', 'theanopreferred', 'thecomposition', 'thedevelopment', 'theft', 'themcreate', 'theme', 'themintermediate', 'themutilizing', 'themwe', 'themyou', 'theorem', 'theoretical', 'theories', 'theorist', 'theory', 'theorycomfort', 'therapeutic', 'therapeutics', 'therapies', 'therapistregular', 'thereafterresponsibilitiesresponsibilities', 'theright', 'thesis', 'theworldwide', 'theyare', 'thing', 'things', 'thingswe', 'thingsyou', 'think', 'thinker', 'thinkers', 'thinkerswe', 'thinking', 'thinkingworking', 'thinks', 'thisfind', 'thorough', 'thoroughly', 'thought', 'thoughtful', 'thousand', 'thousands', 'threat', 'threats', 'threatsorganize', 'thresholdsalign', 'thrill', 'thrilled', 'thrilling', 'thrive', 'thrivedegree', 'thrives', 'thriving', 'throughput', 'thursday', 'tibco', 'tick', 'ticker', 'ticket', 'tickets', 'tide', 'tidy', 'tidyr', 'tidyverse', 'tie', 'tied', 'tier', 'ties', 'tight', 'tightly', 'time', 'timeabout', 'timecategory', 'timecompany', 'timecontractor', 'timedate', 'timedexterity', 'timeduties', 'timeframe', 'timeframeproven', 'timejob', 'timeline', 'timelines', 'timelinescontinuous', 'timeliness', 'timelinesunderstand', 'timelocation', 'timely', 'timemeet', 'timeprescient', 'timeqxbranch', 'timerelocation', 'times', 'timeshift', 'timestandard', 'timethe', 'timetravel', 'timeunion00', 'timewhat', 'timework', 'tinker', 'tinton', 'tiny', 'tips', 'tipswe', 'tirelessly', 'tishman', 'titan', 'title', 'titledata', 'tl11026036', 'tm', 'tmus', 'tn', 'tobacco', 'toclients', 'today', 'toenhance', 'tokenization', 'tokyorequired', 'tolerance', 'tolerate', 'tolerated', 'tomorrow', 'tomorrowthe', 'tonnes', 'tons', 'took', 'tool', 'toolboxes', 'tooling', 'toolkit', 'toolkits', 'tools', 'tools3', 'toolsadvanced', 'toolsapply', 'toolsbuild', 'toolscollaborate', 'toolsdemonstrated', 'toolsdesired', 'toolseo', 'toolset', 'toolsexcellent', 'toolsexperience', 'toolsfor', 'toolsget', 'toolsimplementing', 'toolsmaintaining', 'toolspreferred', 'toolsqualifications', 'toolssolid', 'toolsthe', 'toolswork', 'topic', 'topics', 'topicsactive', 'topicsenthusiasm', 'topicsfluency', 'topline', 'torch', 'total', 'totaling', 'touch', 'touches', 'touching', 'touchpoint', 'touchpoints', 'tough', 'toughest', 'tour', 'tournaments', 'tours', 'towers', 'town', 'toxic', 'toyota', 'track', 'tracked', 'trackexposure', 'tracking', 'trackingprovide', 'traction', 'trade', 'traded', 'trademark', 'trademarks', 'tradeoffs', 'trading', 'tradingsystems', 'traditional', 'traditionally', 'traffic', 'trail', 'trailblazers', 'train', 'trained', 'training', 'trainingexecuting', 'trainings', 'trainingsubstantial', 'traits', 'transacting', 'transaction', 'transactional', 'transactions', 'transfer', 'transferable', 'transfercontinually', 'transferring', 'transfers', 'transform', 'transformation', 'transformationact', 'transformational', 'transformationcreate', 'transformationexperience', 'transformations', 'transformationsas', 'transformative', 'transforming', 'transforms', 'transgender', 'transit', 'transition', 'transitioning', 'translate', 'translates', 'translating', 'translation', 'transliteration', 'transmission', 'transparency', 'transparent', 'transparently', 'transportation', 'travel', 'traveldesired', 'traveldoo', 'traveler', 'travelers', 'traveling', 'travelocity', 'travelu', 'traversing', 'treading', 'treat', 'treated', 'treating', 'treatment', 'treatments', 'tree', 'treelearning', 'trees', 'tremendous', 'tremendously', 'trend', 'trending', 'trends', 'trendsanalyzing', 'trendsbreadth', 'trendsbuild', 'trendscommunicate', 'trendscreate', 'trendsdevelop', 'trendshelp', 'trendsidentify', 'trendsidentifying', 'trendswork', 'tri', 'triage', 'trial', 'trials', 'tribe', 'tries', 'triggers', 'trillion', 'trilogy', 'trip', 'triple', 'trips', 'trivago', 'trivally', 'trivial', 'trouble', 'troubleshoot', 'troubleshooting', 'troves', 'truck', 'trucking', 'trucks', 'true', 'truly', 'trust', 'trusted', 'trusting', 'truth', 'try', 'trying', 'ts', 'tsql', 'tuesday', 'tuition', 'tune', 'tuning', 'tuningbachelor', 'turn', 'turnaround', 'turned', 'turning', 'turns', 'tv', 'tvs', 'tweak', 'twice', 'twilio', 'twitter', 'tx', 'type', 'types', 'typescript', 'typesusing', 'typical', 'typically', 'uber', 'uberabout', 'uberpool', 'uberwe', 'uberx', 'uc', 'udacity', 'ui', 'uild', 'ukraine', 'ulta', 'ultimate', 'ultimately', 'unable', 'unaided', 'unanticipated', 'unapproved', 'unasked', 'unauthorized', 'unavailable', 'unbelievably', 'unbiased', 'unbounded', 'uncertainty', 'uncharted', 'uncleansed', 'uncommon', 'uncommongoods', 'unconventional', 'uncover', 'uncovering', 'uncovers', 'undefined', 'underbelly', 'undergoing', 'undergradinternships', 'undergraduate', 'underlies', 'underlying', 'underneath', 'underperforming', 'underpin', 'underpinnings', 'underrepresented', 'understand', 'understandable', 'understanding', 'understands', 'understood', 'undertake', 'undertaken', 'undertaking', 'underuncertainty', 'underwriting', 'undue', 'unearth', 'unemployment', 'unexpected', 'unfamiliar', 'unfurnished', 'unicorns', 'unified', 'uniformed', 'uniformity', 'unify', 'unifying', 'unimagined', 'union', 'unions', 'unique', 'uniquely', 'uniqueness', 'unison', 'unit', 'united', 'unitedhealth', 'unites', 'unitframes', 'units', 'unitshelp', 'unittesting', 'univariate', 'universal', 'universally', 'universe', 'universities', 'university', 'unix', 'unixrequired', 'unknown', 'unknowns', 'unl', 'unlawful', 'unleashing', 'unless', 'unlikely', 'unlimited', 'unlock', 'unlocking', 'unlocks', 'unmatched', 'unmetmedical', 'unnecessary', 'unparalleled', 'unprecedented', 'unpredictable', 'unquestioned', 'unrelated', 'unrivaled', 'unsecured', 'unseen', 'unsolicited', 'unsolved', 'unstructured', 'unsupervised', 'untapped', 'unusually', 'unwavering', 'unwilling', 'unwind', 'upbeat', 'upcoming', 'update', 'updated', 'updates', 'updating', 'upexperience', 'upfront', 'upgrade', 'upgrades', 'upholding', 'upjoin', 'uploaded', 'upper', 'upsidea', 'upstream', 'uptick', 'upworked', 'urban', 'urgency', 'urgent', 'urgently', 'urt1', 'us_employment_compliance', 'usa', 'usaa', 'usable', 'usaexempthoneywell', 'usage', 'usageextensive', 'usahoneywell', 'usaminimum', 'usamplion', 'usat', 'usblueshift', 'uscreating', 'usd', 'use', 'used', 'useextensive', 'useful', 'usemploymentcompliance', 'user', 'useredshift', 'users', 'usersgenerates', 'usersproviding', 'usersyou', 'uses', 'usgreat', 'usher', 'usinfosys', 'using', 'usingprogramming', 'usinterested', 'uslark', 'usmicrosoft', 'usour', 'usprimary', 'usstratcom', 'usthe', 'ustranscom', 'usually', 'usunassailable', 'usuncommongoods', 'uswe', 'uszillow', 'utah', 'utica', 'utilities', 'utilitieswork', 'utility', 'utilization', 'utilize', 'utilized', 'utilizedresourceful', 'utilizes', 'utilizing', 'utilizingapplicable', 'utm_medium', 'utm_source', 'ux', 'v1', 'va', 'vacancies', 'vacation', 'vacation401k', 'vacationday', 'vacationmedical', 'vacations', 'vaemployment', 'vague', 'valid', 'validate', 'validated', 'validating', 'validation', 'validationdevelop', 'validationexperience', 'validationproject', 'validity', 'valley', 'valuable', 'value', 'valueadvanced', 'valueappropriate', 'valued', 'valueexperienced', 'valuephd', 'values', 'values3', 'valuesacross', 'valuesbe', 'valuesour', 'valuework', 'vanishing', 'variable', 'variables', 'variance', 'variancecollaborate', 'variation', 'variational', 'varied', 'varies', 'variety', 'various', 'vary', 'varying', 'vast', 'vastly', 'vba', 'vc', 'vcs', 've', 'vector', 'vectorizing', 'vectors', 'vectorsusing', 'vehicle', 'vehicles', 'velocity', 'vendor', 'vendors', 'venrock', 'venture', 'ventures', 'verb', 'verbal', 'verbaladditional', 'verbalbonus', 'verbally', 'verification', 'verified', 'verifies', 'verify', 'verifying', 'verily', 'verizon', 'vermont', 'versa', 'versant', 'versatile', 'versatility', 'versed', 'version', 'versioninghave', 'versus', 'vertica', 'verticaautomating', 'vertical', 'verticals', 'vet', 'veteran', 'veteran41476br', 'veterans', 'veteranwaste', 'vets', 'vetszurich', 'vh1', 'viability', 'viabilityyou', 'viable', 'viacom', 'viagogo', 'vibrant', 'vice', 'victim', 'victories', 'video', 'videoiq', 'videos', 'videosexperience', 'view', 'viewability', 'viewable', 'viewer', 'viewers', 'viewing', 'viewpoints', 'views', 'vigilant', 'village', 'violate', 'violations', 'violence', 'violenceserve', 'virginia', 'virginiaat', 'virtual', 'virtualization', 'virtually', 'virtue', 'virtues', 'viruses', 'visa', 'visas', 'visibility', 'visible', 'vision', 'vision401k', 'visionaries', 'visionary', 'visioncompetitive', 'visionoptional', 'visionpush', 'visit', 'visitation', 'visiting', 'visits', 'visual', 'visualisations', 'visualization', 'visualizationbe', 'visualizationbuild', 'visualizationexperience', 'visualizationfamiliarity', 'visualizationpartnering', 'visualizationprefer', 'visualizationpropensity', 'visualizations', 'visualizationscontribute', 'visualizationsexperience', 'visualizationsoversee', 'visualizationstrong', 'visualizationstroubleshoot', 'visualizationswork', 'visualize', 'visualizes', 'visualizing', 'visually', 'visuals', 'vital', 'vitamin', 'vitamins', 'vizio', 'vlookup', 'vms', 'vmware', 'voice', 'voices', 'voiding', 'volume', 'volumes', 'volumesexperience', 'volunteer', 'volunteering', 'volunteerism', 'vosb', 'voscal', 'vowpal', 'vp', 'vps', 'vr', 'vs', 'vudu', 'w2', 'wa', 'wabbit', 'wacker', 'wagging', 'wait', 'waiting', 'waitr', 'waitrapp', 'waitrwe', 'wakefield', 'walk', 'walking', 'wall', 'walled', 'walletcollaborate', 'walls', 'walmart', 'walmartlabs', 'wanature', 'want', 'wanted', 'wants', 'waour', 'warehouse', 'warehouses', 'warehousing', 'warehousingadvanced', 'warehousingdata', 'warn', 'warner', 'warning', 'warrant', 'warranties', 'warranty', 'warrior', 'washington', 'waste', 'wastegraduate', 'water', 'waterfall', 'waterfront', 'waters', 'watershed', 'wathese', 'watson', 'waukeshage', 'wave', 'way', 'wayrequired', 'ways', 'waysexcellent', 'waysstrong', 'waystrong', 'wdatpeppresmicrosoft', 'wdatpred', 'weaklings', 'wealth', 'wear', 'wearable', 'weather', 'web', 'webrtc', 'webscrapingexperience', 'website', 'websites', 'websitesimplements', 'websockets', 'wednesday', 'wednesdaysmonthly', 'wedo', 'week', 'weekday', 'weekends', 'weekly', 'weekmedical', 'weeks', 'weekspet', 'weighted', 'weka', 'welcome', 'welcomed', 'welcomes', 'welcoming', 'welding', 'wellbeing', 'wellness', 'wellstrong', 'wellwhat', 'west', 'westlake', 'westrock', 'westrockwestrock', 'wetlands', 'wework', 'wfh', 'wfs', 'whatsapp', 'whd', 'whilst', 'white', 'whiz', 'wholesome', 'wholly', 'whywork', 'wide', 'widely', 'wider', 'widespread', 'wild', 'wildlife', 'willact', 'williams', 'willing', 'willingness', 'win', 'windowing', 'windows', 'winis', 'winners', 'winning', 'wipro', 'wire', 'wireless', 'wireline', 'wisconsin', 'wisdom', 'wish', 'withapplications', 'withdraw', 'wizard', 'wm', 'wolferman', 'women', 'won', 'worcester', 'word', 'word2vec', 'words', 'work', 'workcompensationcompetitive', 'workdayexperience', 'workdemonstrated', 'worked', 'workedgood', 'worker', 'workers', 'workersdevelop', 'workflexible', 'workfloating', 'workflow', 'workflows', 'workflowsexperience', 'workflowsprepare', 'workflowsstrong', 'workforce', 'workforcekey', 'working', 'workings', 'workis', 'workload', 'workloadadditional', 'workplace', 'workplaceand', 'works', 'workshops', 'worksolid', 'workspace', 'workyou', 'world', 'worldadvantages', 'worldat', 'worldfood', 'worldgrid', 'worldline', 'worldwide', 'worldwideuse', 'worth', 'wotif', 'wrangle', 'wrangler', 'wrangles', 'wrangling', 'wrapped', 'write', 'writers', 'writing', 'writingability', 'writingexcellent', 'writingshould', 'written', 'writtenapplicants', 'writtenpassionate', 'writtenproven', 'wrk', 'wwe', 'www', 'x80', 'x81ciency', 'x81eld', 'x81nd', 'x81ndings', 'x81table', 'x82', 'x83', 'x84', 'x8bthis', 'x8bwe', 'x90if', 'x90paced', 'x93', 'x93august', 'x93minorities', 'x94', 'x9414', 'x94a', 'x94and', 'x94by', 'x94combined', 'x94cryptocurrencies', 'x94e', 'x94have', 'x94how', 'x94including', 'x94is', 'x94it', 'x94no', 'x94not', 'x94stands', 'x94such', 'x94supporting', 'x94the', 'x94to', 'x94typically', 'x94unlocking', 'x94we', 'x94you', 'x98', 'x98big', 'x98own', 'x98real', 'x98think', 'x99', 'x99d', 'x99ll', 'x99re', 'x99s', 'x99sdegree', 'x99t', 'x99ve', 'x9c', 'x9cbang', 'x9cbest', 'x9cbig', 'x9cchristmas', 'x9ccustomer', 'x9cget', 'x9chave', 'x9chr', 'x9cinnovate', 'x9clive', 'x9cmachine', 'x9cmake', 'x9cpassion', 'x9cpeople', 'x9cplant', 'x9cpragmatism', 'x9cprovide', 'x9cquality', 'x9creasonable', 'x9crivr', 'x9cscientific', 'x9cscorecards', 'x9cstem', 'x9cstorytelling', 'x9csubject', 'x9csurge', 'x9cteam', 'x9cthe', 'x9ctop', 'x9ctraditional', 'x9cvirtual', 'x9cwe', 'x9cwhole', 'x9cwhy', 'x9cwin', 'x9cwork', 'x9cwow', 'x9cwowing', 'x9d', 'x9das', 'x9dattention', 'x9djob', 'x9drequired', 'x9dthe', 'xa0', 'xa2', 'xa6', 'xa6a', 'xa6and', 'xa6apple', 'xa6curious', 'xa6educated', 'xa6learning', 'xa6leverage', 'xa6logic20', 'xa6master', 'xa6must', 'xa6partner', 'xa6programming', 'xa6protect', 'xa6rapidly', 'xa6the', 'xa6work', 'xa6you', 'xa7', 'xa8ve', 'xa9', 'xa9al', 'xa9cor', 'xac', 'xae', 'xafve', 'xb7', 'xb77', 'xb7analyticalmind', 'xb7deepunderstanding', 'xb7excellentcommunication', 'xb7experiencewith', 'xb7expertisewith', 'xb7extensivebackground', 'xb7identify', 'xb7knowledgeof', 'xb7master', 'xb7problem', 'xb7strongmath', 'xbb', 'xbfathenex', 'xbox', 'xc2', 'xc3', 'xe2', 'xef', 'xgboost', 'xp', 'xpo', 'yards', 'year', 'year11', 'year16', 'yeara', 'yearas', 'yearcollects', 'yeardescription', 'yearjob', 'yearlrs', 'years', 'yearsexperience', 'yearsrequirements', 'yearssick', 'yearsummaryabout', 'yearswork', 'yeartelework', 'yearthe', 'yeartitle', 'yearworking', 'yes', 'yesjob', 'yeswork', 'yeti', 'yield', 'york', 'yorkexperienced', 'yorkpreferred', 'yorkwho', 'youa', 'youexperience', 'young', 'youtube', 'youyou', 'yrs', 'yrsposition', 'zenreach', 'zero', 'zeus', 'zf', 'zheng', 'zillow', 'zonesability', 'zoom', 'zuckerberg', 'zurich']\n"
     ]
    }
   ],
   "source": [
    "print(vect.get_feature_names())"
   ]
  },
  {
   "cell_type": "code",
   "execution_count": 37,
   "metadata": {},
   "outputs": [
    {
     "data": {
      "text/html": [
       "<div>\n",
       "<style scoped>\n",
       "    .dataframe tbody tr th:only-of-type {\n",
       "        vertical-align: middle;\n",
       "    }\n",
       "\n",
       "    .dataframe tbody tr th {\n",
       "        vertical-align: top;\n",
       "    }\n",
       "\n",
       "    .dataframe thead th {\n",
       "        text-align: right;\n",
       "    }\n",
       "</style>\n",
       "<table border=\"1\" class=\"dataframe\">\n",
       "  <thead>\n",
       "    <tr style=\"text-align: right;\">\n",
       "      <th></th>\n",
       "      <th>00</th>\n",
       "      <th>000</th>\n",
       "      <th>000pay</th>\n",
       "      <th>02115job</th>\n",
       "      <th>03</th>\n",
       "      <th>0356</th>\n",
       "      <th>04</th>\n",
       "      <th>062</th>\n",
       "      <th>06366</th>\n",
       "      <th>08</th>\n",
       "      <th>...</th>\n",
       "      <th>zenreach</th>\n",
       "      <th>zero</th>\n",
       "      <th>zeus</th>\n",
       "      <th>zf</th>\n",
       "      <th>zheng</th>\n",
       "      <th>zillow</th>\n",
       "      <th>zonesability</th>\n",
       "      <th>zoom</th>\n",
       "      <th>zuckerberg</th>\n",
       "      <th>zurich</th>\n",
       "    </tr>\n",
       "  </thead>\n",
       "  <tbody>\n",
       "    <tr>\n",
       "      <th>0</th>\n",
       "      <td>0</td>\n",
       "      <td>0</td>\n",
       "      <td>0</td>\n",
       "      <td>0</td>\n",
       "      <td>0</td>\n",
       "      <td>0</td>\n",
       "      <td>0</td>\n",
       "      <td>0</td>\n",
       "      <td>0</td>\n",
       "      <td>0</td>\n",
       "      <td>...</td>\n",
       "      <td>0</td>\n",
       "      <td>0</td>\n",
       "      <td>0</td>\n",
       "      <td>0</td>\n",
       "      <td>0</td>\n",
       "      <td>0</td>\n",
       "      <td>0</td>\n",
       "      <td>0</td>\n",
       "      <td>0</td>\n",
       "      <td>0</td>\n",
       "    </tr>\n",
       "    <tr>\n",
       "      <th>1</th>\n",
       "      <td>0</td>\n",
       "      <td>0</td>\n",
       "      <td>0</td>\n",
       "      <td>0</td>\n",
       "      <td>0</td>\n",
       "      <td>0</td>\n",
       "      <td>0</td>\n",
       "      <td>0</td>\n",
       "      <td>0</td>\n",
       "      <td>0</td>\n",
       "      <td>...</td>\n",
       "      <td>0</td>\n",
       "      <td>0</td>\n",
       "      <td>0</td>\n",
       "      <td>0</td>\n",
       "      <td>0</td>\n",
       "      <td>0</td>\n",
       "      <td>0</td>\n",
       "      <td>0</td>\n",
       "      <td>0</td>\n",
       "      <td>0</td>\n",
       "    </tr>\n",
       "    <tr>\n",
       "      <th>2</th>\n",
       "      <td>0</td>\n",
       "      <td>0</td>\n",
       "      <td>0</td>\n",
       "      <td>0</td>\n",
       "      <td>0</td>\n",
       "      <td>0</td>\n",
       "      <td>0</td>\n",
       "      <td>0</td>\n",
       "      <td>0</td>\n",
       "      <td>0</td>\n",
       "      <td>...</td>\n",
       "      <td>0</td>\n",
       "      <td>0</td>\n",
       "      <td>0</td>\n",
       "      <td>0</td>\n",
       "      <td>0</td>\n",
       "      <td>0</td>\n",
       "      <td>0</td>\n",
       "      <td>0</td>\n",
       "      <td>0</td>\n",
       "      <td>0</td>\n",
       "    </tr>\n",
       "    <tr>\n",
       "      <th>3</th>\n",
       "      <td>0</td>\n",
       "      <td>0</td>\n",
       "      <td>0</td>\n",
       "      <td>0</td>\n",
       "      <td>0</td>\n",
       "      <td>0</td>\n",
       "      <td>0</td>\n",
       "      <td>0</td>\n",
       "      <td>0</td>\n",
       "      <td>0</td>\n",
       "      <td>...</td>\n",
       "      <td>0</td>\n",
       "      <td>0</td>\n",
       "      <td>0</td>\n",
       "      <td>0</td>\n",
       "      <td>1</td>\n",
       "      <td>0</td>\n",
       "      <td>0</td>\n",
       "      <td>0</td>\n",
       "      <td>0</td>\n",
       "      <td>0</td>\n",
       "    </tr>\n",
       "    <tr>\n",
       "      <th>4</th>\n",
       "      <td>0</td>\n",
       "      <td>0</td>\n",
       "      <td>0</td>\n",
       "      <td>0</td>\n",
       "      <td>0</td>\n",
       "      <td>0</td>\n",
       "      <td>0</td>\n",
       "      <td>0</td>\n",
       "      <td>0</td>\n",
       "      <td>0</td>\n",
       "      <td>...</td>\n",
       "      <td>0</td>\n",
       "      <td>0</td>\n",
       "      <td>0</td>\n",
       "      <td>0</td>\n",
       "      <td>0</td>\n",
       "      <td>0</td>\n",
       "      <td>0</td>\n",
       "      <td>0</td>\n",
       "      <td>0</td>\n",
       "      <td>0</td>\n",
       "    </tr>\n",
       "  </tbody>\n",
       "</table>\n",
       "<p>5 rows × 11808 columns</p>\n",
       "</div>"
      ],
      "text/plain": [
       "   00  000  000pay  02115job  03  0356  04  062  06366  08  ...  zenreach  \\\n",
       "0   0    0       0         0   0     0   0    0      0   0  ...         0   \n",
       "1   0    0       0         0   0     0   0    0      0   0  ...         0   \n",
       "2   0    0       0         0   0     0   0    0      0   0  ...         0   \n",
       "3   0    0       0         0   0     0   0    0      0   0  ...         0   \n",
       "4   0    0       0         0   0     0   0    0      0   0  ...         0   \n",
       "\n",
       "   zero  zeus  zf  zheng  zillow  zonesability  zoom  zuckerberg  zurich  \n",
       "0     0     0   0      0       0             0     0           0       0  \n",
       "1     0     0   0      0       0             0     0           0       0  \n",
       "2     0     0   0      0       0             0     0           0       0  \n",
       "3     0     0   0      1       0             0     0           0       0  \n",
       "4     0     0   0      0       0             0     0           0       0  \n",
       "\n",
       "[5 rows x 11808 columns]"
      ]
     },
     "execution_count": 37,
     "metadata": {},
     "output_type": "execute_result"
    }
   ],
   "source": [
    "dtm.head()"
   ]
  },
  {
   "cell_type": "code",
   "execution_count": 38,
   "metadata": {},
   "outputs": [],
   "source": [
    "# Comparing to the first row of data\n",
    "\n",
    "doc_len = [len(doc) for doc in data]"
   ]
  },
  {
   "cell_type": "code",
   "execution_count": 39,
   "metadata": {},
   "outputs": [
    {
     "data": {
      "image/png": "[encoded data removed]",
      "text/plain": [
       "<Figure size 432x288 with 1 Axes>"
      ]
     },
     "metadata": {
      "needs_background": "light"
     },
     "output_type": "display_data"
    }
   ],
   "source": [
    "import seaborn as sns\n",
    "\n",
    "sns.distplot(doc_len);"
   ]
  },
  {
   "cell_type": "markdown",
   "metadata": {
    "colab_type": "text",
    "id": "Zo1iH_UeY7_n"
   },
   "source": [
    "## 4) Visualize the most common word counts"
   ]
  },
  {
   "cell_type": "code",
   "execution_count": 40,
   "metadata": {
    "colab": {},
    "colab_type": "code",
    "id": "M5LB00uyZKV5"
   },
   "outputs": [
    {
     "data": {
      "image/png": "[encoded data removed]",
      "text/plain": [
       "<Figure size 432x288 with 1 Axes>"
      ]
     },
     "metadata": {
      "needs_background": "light"
     },
     "output_type": "display_data"
    }
   ],
   "source": [
    "##### Your Code Here #####\n",
    "import seaborn as sns\n",
    "\n",
    "# Cumulative Distribution Plot\n",
    "sns.lineplot(x='rank', y='cul_pct_total', data=wc);"
   ]
  },
  {
   "cell_type": "code",
   "execution_count": 41,
   "metadata": {},
   "outputs": [
    {
     "data": {
      "text/plain": [
       "0.11332283163874171"
      ]
     },
     "execution_count": 41,
     "metadata": {},
     "output_type": "execute_result"
    }
   ],
   "source": [
    "wc[wc['rank'] <= 20]['cul_pct_total'].max()"
   ]
  },
  {
   "cell_type": "code",
   "execution_count": 42,
   "metadata": {},
   "outputs": [
    {
     "data": {
      "image/png": "[encoded data removed]",
      "text/plain": [
       "<Figure size 432x288 with 1 Axes>"
      ]
     },
     "metadata": {
      "needs_background": "light"
     },
     "output_type": "display_data"
    }
   ],
   "source": [
    "import squarify\n",
    "import matplotlib.pyplot as plt\n",
    "\n",
    "wc_top20 = wc[wc['rank'] <= 20]\n",
    "\n",
    "squarify.plot(sizes=wc_top20['pct_total'], label=wc_top20['word'], alpha=.8 )\n",
    "plt.axis('off')\n",
    "plt.show()"
   ]
  },
  {
   "cell_type": "markdown",
   "metadata": {
    "colab_type": "text",
    "id": "bwFsTqrVZMYi"
   },
   "source": [
    "## 5) Use Scikit-Learn's tfidfVectorizer to get a TF-IDF feature matrix"
   ]
  },
  {
   "cell_type": "code",
   "execution_count": 43,
   "metadata": {
    "colab": {},
    "colab_type": "code",
    "id": "-gx2gZCbl5Np"
   },
   "outputs": [
    {
     "name": "stdout",
     "output_type": "stream",
     "text": [
      "(426, 9159)\n"
     ]
    },
    {
     "data": {
      "text/html": [
       "<div>\n",
       "<style scoped>\n",
       "    .dataframe tbody tr th:only-of-type {\n",
       "        vertical-align: middle;\n",
       "    }\n",
       "\n",
       "    .dataframe tbody tr th {\n",
       "        vertical-align: top;\n",
       "    }\n",
       "\n",
       "    .dataframe thead th {\n",
       "        text-align: right;\n",
       "    }\n",
       "</style>\n",
       "<table border=\"1\" class=\"dataframe\">\n",
       "  <thead>\n",
       "    <tr style=\"text-align: right;\">\n",
       "      <th></th>\n",
       "      <th>24</th>\n",
       "      <th>25</th>\n",
       "      <th>30</th>\n",
       "      <th>3rd</th>\n",
       "      <th>3rd party</th>\n",
       "      <th>40</th>\n",
       "      <th>401</th>\n",
       "      <th>401k</th>\n",
       "      <th>50</th>\n",
       "      <th>500</th>\n",
       "      <th>...</th>\n",
       "      <th>your life</th>\n",
       "      <th>your opportunity</th>\n",
       "      <th>your own</th>\n",
       "      <th>your request</th>\n",
       "      <th>your resume</th>\n",
       "      <th>your skills</th>\n",
       "      <th>your team</th>\n",
       "      <th>your work</th>\n",
       "      <th>yourself</th>\n",
       "      <th>youyou</th>\n",
       "    </tr>\n",
       "  </thead>\n",
       "  <tbody>\n",
       "    <tr>\n",
       "      <th>0</th>\n",
       "      <td>0.0</td>\n",
       "      <td>0.0</td>\n",
       "      <td>0.0</td>\n",
       "      <td>0.0</td>\n",
       "      <td>0.0</td>\n",
       "      <td>0.0</td>\n",
       "      <td>0.0</td>\n",
       "      <td>0.0</td>\n",
       "      <td>0.0</td>\n",
       "      <td>0.0</td>\n",
       "      <td>...</td>\n",
       "      <td>0.0</td>\n",
       "      <td>0.0</td>\n",
       "      <td>0.0</td>\n",
       "      <td>0.0</td>\n",
       "      <td>0.000000</td>\n",
       "      <td>0.0</td>\n",
       "      <td>0.0</td>\n",
       "      <td>0.0</td>\n",
       "      <td>0.0</td>\n",
       "      <td>0.0</td>\n",
       "    </tr>\n",
       "    <tr>\n",
       "      <th>1</th>\n",
       "      <td>0.0</td>\n",
       "      <td>0.0</td>\n",
       "      <td>0.0</td>\n",
       "      <td>0.0</td>\n",
       "      <td>0.0</td>\n",
       "      <td>0.0</td>\n",
       "      <td>0.0</td>\n",
       "      <td>0.0</td>\n",
       "      <td>0.0</td>\n",
       "      <td>0.0</td>\n",
       "      <td>...</td>\n",
       "      <td>0.0</td>\n",
       "      <td>0.0</td>\n",
       "      <td>0.0</td>\n",
       "      <td>0.0</td>\n",
       "      <td>0.000000</td>\n",
       "      <td>0.0</td>\n",
       "      <td>0.0</td>\n",
       "      <td>0.0</td>\n",
       "      <td>0.0</td>\n",
       "      <td>0.0</td>\n",
       "    </tr>\n",
       "    <tr>\n",
       "      <th>2</th>\n",
       "      <td>0.0</td>\n",
       "      <td>0.0</td>\n",
       "      <td>0.0</td>\n",
       "      <td>0.0</td>\n",
       "      <td>0.0</td>\n",
       "      <td>0.0</td>\n",
       "      <td>0.0</td>\n",
       "      <td>0.0</td>\n",
       "      <td>0.0</td>\n",
       "      <td>0.0</td>\n",
       "      <td>...</td>\n",
       "      <td>0.0</td>\n",
       "      <td>0.0</td>\n",
       "      <td>0.0</td>\n",
       "      <td>0.0</td>\n",
       "      <td>0.000000</td>\n",
       "      <td>0.0</td>\n",
       "      <td>0.0</td>\n",
       "      <td>0.0</td>\n",
       "      <td>0.0</td>\n",
       "      <td>0.0</td>\n",
       "    </tr>\n",
       "    <tr>\n",
       "      <th>3</th>\n",
       "      <td>0.0</td>\n",
       "      <td>0.0</td>\n",
       "      <td>0.0</td>\n",
       "      <td>0.0</td>\n",
       "      <td>0.0</td>\n",
       "      <td>0.0</td>\n",
       "      <td>0.0</td>\n",
       "      <td>0.0</td>\n",
       "      <td>0.0</td>\n",
       "      <td>0.0</td>\n",
       "      <td>...</td>\n",
       "      <td>0.0</td>\n",
       "      <td>0.0</td>\n",
       "      <td>0.0</td>\n",
       "      <td>0.0</td>\n",
       "      <td>0.081036</td>\n",
       "      <td>0.0</td>\n",
       "      <td>0.0</td>\n",
       "      <td>0.0</td>\n",
       "      <td>0.0</td>\n",
       "      <td>0.0</td>\n",
       "    </tr>\n",
       "    <tr>\n",
       "      <th>4</th>\n",
       "      <td>0.0</td>\n",
       "      <td>0.0</td>\n",
       "      <td>0.0</td>\n",
       "      <td>0.0</td>\n",
       "      <td>0.0</td>\n",
       "      <td>0.0</td>\n",
       "      <td>0.0</td>\n",
       "      <td>0.0</td>\n",
       "      <td>0.0</td>\n",
       "      <td>0.0</td>\n",
       "      <td>...</td>\n",
       "      <td>0.0</td>\n",
       "      <td>0.0</td>\n",
       "      <td>0.0</td>\n",
       "      <td>0.0</td>\n",
       "      <td>0.000000</td>\n",
       "      <td>0.0</td>\n",
       "      <td>0.0</td>\n",
       "      <td>0.0</td>\n",
       "      <td>0.0</td>\n",
       "      <td>0.0</td>\n",
       "    </tr>\n",
       "  </tbody>\n",
       "</table>\n",
       "<p>5 rows × 9159 columns</p>\n",
       "</div>"
      ],
      "text/plain": [
       "    24   25   30  3rd  3rd party   40  401  401k   50  500  ...  your life  \\\n",
       "0  0.0  0.0  0.0  0.0        0.0  0.0  0.0   0.0  0.0  0.0  ...        0.0   \n",
       "1  0.0  0.0  0.0  0.0        0.0  0.0  0.0   0.0  0.0  0.0  ...        0.0   \n",
       "2  0.0  0.0  0.0  0.0        0.0  0.0  0.0   0.0  0.0  0.0  ...        0.0   \n",
       "3  0.0  0.0  0.0  0.0        0.0  0.0  0.0   0.0  0.0  0.0  ...        0.0   \n",
       "4  0.0  0.0  0.0  0.0        0.0  0.0  0.0   0.0  0.0  0.0  ...        0.0   \n",
       "\n",
       "   your opportunity  your own  your request  your resume  your skills  \\\n",
       "0               0.0       0.0           0.0     0.000000          0.0   \n",
       "1               0.0       0.0           0.0     0.000000          0.0   \n",
       "2               0.0       0.0           0.0     0.000000          0.0   \n",
       "3               0.0       0.0           0.0     0.081036          0.0   \n",
       "4               0.0       0.0           0.0     0.000000          0.0   \n",
       "\n",
       "   your team  your work  yourself  youyou  \n",
       "0        0.0        0.0       0.0     0.0  \n",
       "1        0.0        0.0       0.0     0.0  \n",
       "2        0.0        0.0       0.0     0.0  \n",
       "3        0.0        0.0       0.0     0.0  \n",
       "4        0.0        0.0       0.0     0.0  \n",
       "\n",
       "[5 rows x 9159 columns]"
      ]
     },
     "execution_count": 43,
     "metadata": {},
     "output_type": "execute_result"
    }
   ],
   "source": [
    "from sklearn.feature_extraction.text import TfidfVectorizer\n",
    "\n",
    "# Instantiate vectorizer object\n",
    "tfidf = TfidfVectorizer(stop_words = ['english', '10', '100', '000', '11', '12', '15', '17', '18',\n",
    "                                     '19', '20', '200', '2013', '2015', '2017', '2018', '2019'],\n",
    "                        # tokenizer = tokenize,\n",
    "                        ngram_range = (1,2),\n",
    "                        min_df = 5, \n",
    "                        max_df = 0.6,\n",
    "                        # max_features = 5000\n",
    "                       )\n",
    "\n",
    "# Create a vocabulary and get word counts per document\n",
    "# Similiar to fit_predict\n",
    "dtm = tfidf.fit_transform(data)\n",
    "\n",
    "# Print word counts\n",
    "\n",
    "# Get feature names to use as dataframe column headers\n",
    "dtm = pd.DataFrame(dtm.todense(), columns=tfidf.get_feature_names())\n",
    "\n",
    "# View Feature Matrix as DataFrame\n",
    "print(dtm.shape)\n",
    "dtm.head()"
   ]
  },
  {
   "cell_type": "code",
   "execution_count": 44,
   "metadata": {},
   "outputs": [],
   "source": [
    "# Calculate Distance of TF-IDF Vectors\n",
    "from sklearn.metrics.pairwise import cosine_similarity\n",
    "\n",
    "dist_matrix  = cosine_similarity(dtm)"
   ]
  },
  {
   "cell_type": "code",
   "execution_count": 45,
   "metadata": {},
   "outputs": [],
   "source": [
    "# Turn it into a DataFrame\n",
    "\n",
    "df = pd.DataFrame(dist_matrix)"
   ]
  },
  {
   "cell_type": "code",
   "execution_count": 46,
   "metadata": {},
   "outputs": [
    {
     "name": "stdout",
     "output_type": "stream",
     "text": [
      "(426, 426)\n"
     ]
    },
    {
     "data": {
      "text/html": [
       "<div>\n",
       "<style scoped>\n",
       "    .dataframe tbody tr th:only-of-type {\n",
       "        vertical-align: middle;\n",
       "    }\n",
       "\n",
       "    .dataframe tbody tr th {\n",
       "        vertical-align: top;\n",
       "    }\n",
       "\n",
       "    .dataframe thead th {\n",
       "        text-align: right;\n",
       "    }\n",
       "</style>\n",
       "<table border=\"1\" class=\"dataframe\">\n",
       "  <thead>\n",
       "    <tr style=\"text-align: right;\">\n",
       "      <th></th>\n",
       "      <th>0</th>\n",
       "      <th>1</th>\n",
       "      <th>2</th>\n",
       "      <th>3</th>\n",
       "      <th>4</th>\n",
       "      <th>5</th>\n",
       "      <th>6</th>\n",
       "      <th>7</th>\n",
       "      <th>8</th>\n",
       "      <th>9</th>\n",
       "      <th>...</th>\n",
       "      <th>416</th>\n",
       "      <th>417</th>\n",
       "      <th>418</th>\n",
       "      <th>419</th>\n",
       "      <th>420</th>\n",
       "      <th>421</th>\n",
       "      <th>422</th>\n",
       "      <th>423</th>\n",
       "      <th>424</th>\n",
       "      <th>425</th>\n",
       "    </tr>\n",
       "  </thead>\n",
       "  <tbody>\n",
       "    <tr>\n",
       "      <th>0</th>\n",
       "      <td>1.000000</td>\n",
       "      <td>0.048363</td>\n",
       "      <td>0.022881</td>\n",
       "      <td>0.004325</td>\n",
       "      <td>0.022562</td>\n",
       "      <td>0.081082</td>\n",
       "      <td>0.007694</td>\n",
       "      <td>0.046194</td>\n",
       "      <td>0.061406</td>\n",
       "      <td>0.020706</td>\n",
       "      <td>...</td>\n",
       "      <td>0.055607</td>\n",
       "      <td>0.053208</td>\n",
       "      <td>0.039375</td>\n",
       "      <td>0.047643</td>\n",
       "      <td>0.042204</td>\n",
       "      <td>0.011366</td>\n",
       "      <td>0.013425</td>\n",
       "      <td>0.017734</td>\n",
       "      <td>0.059053</td>\n",
       "      <td>0.067397</td>\n",
       "    </tr>\n",
       "    <tr>\n",
       "      <th>1</th>\n",
       "      <td>0.048363</td>\n",
       "      <td>1.000000</td>\n",
       "      <td>0.064743</td>\n",
       "      <td>0.020561</td>\n",
       "      <td>0.019074</td>\n",
       "      <td>0.073408</td>\n",
       "      <td>0.098968</td>\n",
       "      <td>0.078899</td>\n",
       "      <td>0.117151</td>\n",
       "      <td>0.084392</td>\n",
       "      <td>...</td>\n",
       "      <td>0.101653</td>\n",
       "      <td>0.132603</td>\n",
       "      <td>0.042371</td>\n",
       "      <td>0.102412</td>\n",
       "      <td>0.098204</td>\n",
       "      <td>0.100116</td>\n",
       "      <td>0.048171</td>\n",
       "      <td>0.095912</td>\n",
       "      <td>0.071930</td>\n",
       "      <td>0.078535</td>\n",
       "    </tr>\n",
       "    <tr>\n",
       "      <th>2</th>\n",
       "      <td>0.022881</td>\n",
       "      <td>0.064743</td>\n",
       "      <td>1.000000</td>\n",
       "      <td>0.011864</td>\n",
       "      <td>0.028406</td>\n",
       "      <td>0.036411</td>\n",
       "      <td>0.047754</td>\n",
       "      <td>0.076033</td>\n",
       "      <td>0.066980</td>\n",
       "      <td>0.030363</td>\n",
       "      <td>...</td>\n",
       "      <td>0.049705</td>\n",
       "      <td>0.030379</td>\n",
       "      <td>0.042352</td>\n",
       "      <td>0.062665</td>\n",
       "      <td>0.057229</td>\n",
       "      <td>0.044075</td>\n",
       "      <td>0.012588</td>\n",
       "      <td>0.038293</td>\n",
       "      <td>0.051212</td>\n",
       "      <td>0.060926</td>\n",
       "    </tr>\n",
       "    <tr>\n",
       "      <th>3</th>\n",
       "      <td>0.004325</td>\n",
       "      <td>0.020561</td>\n",
       "      <td>0.011864</td>\n",
       "      <td>1.000000</td>\n",
       "      <td>0.000000</td>\n",
       "      <td>0.035898</td>\n",
       "      <td>0.025557</td>\n",
       "      <td>0.100883</td>\n",
       "      <td>0.037910</td>\n",
       "      <td>0.052862</td>\n",
       "      <td>...</td>\n",
       "      <td>0.051351</td>\n",
       "      <td>0.031572</td>\n",
       "      <td>0.009618</td>\n",
       "      <td>0.053615</td>\n",
       "      <td>0.023978</td>\n",
       "      <td>0.070647</td>\n",
       "      <td>0.018369</td>\n",
       "      <td>0.078717</td>\n",
       "      <td>0.072552</td>\n",
       "      <td>0.097062</td>\n",
       "    </tr>\n",
       "    <tr>\n",
       "      <th>4</th>\n",
       "      <td>0.022562</td>\n",
       "      <td>0.019074</td>\n",
       "      <td>0.028406</td>\n",
       "      <td>0.000000</td>\n",
       "      <td>1.000000</td>\n",
       "      <td>0.035571</td>\n",
       "      <td>0.002048</td>\n",
       "      <td>0.032276</td>\n",
       "      <td>0.025690</td>\n",
       "      <td>0.010770</td>\n",
       "      <td>...</td>\n",
       "      <td>0.009993</td>\n",
       "      <td>0.055533</td>\n",
       "      <td>0.014826</td>\n",
       "      <td>0.059115</td>\n",
       "      <td>0.001805</td>\n",
       "      <td>0.007565</td>\n",
       "      <td>0.005525</td>\n",
       "      <td>0.010007</td>\n",
       "      <td>0.003614</td>\n",
       "      <td>0.052705</td>\n",
       "    </tr>\n",
       "  </tbody>\n",
       "</table>\n",
       "<p>5 rows × 426 columns</p>\n",
       "</div>"
      ],
      "text/plain": [
       "        0         1         2         3         4         5         6    \\\n",
       "0  1.000000  0.048363  0.022881  0.004325  0.022562  0.081082  0.007694   \n",
       "1  0.048363  1.000000  0.064743  0.020561  0.019074  0.073408  0.098968   \n",
       "2  0.022881  0.064743  1.000000  0.011864  0.028406  0.036411  0.047754   \n",
       "3  0.004325  0.020561  0.011864  1.000000  0.000000  0.035898  0.025557   \n",
       "4  0.022562  0.019074  0.028406  0.000000  1.000000  0.035571  0.002048   \n",
       "\n",
       "        7         8         9    ...       416       417       418       419  \\\n",
       "0  0.046194  0.061406  0.020706  ...  0.055607  0.053208  0.039375  0.047643   \n",
       "1  0.078899  0.117151  0.084392  ...  0.101653  0.132603  0.042371  0.102412   \n",
       "2  0.076033  0.066980  0.030363  ...  0.049705  0.030379  0.042352  0.062665   \n",
       "3  0.100883  0.037910  0.052862  ...  0.051351  0.031572  0.009618  0.053615   \n",
       "4  0.032276  0.025690  0.010770  ...  0.009993  0.055533  0.014826  0.059115   \n",
       "\n",
       "        420       421       422       423       424       425  \n",
       "0  0.042204  0.011366  0.013425  0.017734  0.059053  0.067397  \n",
       "1  0.098204  0.100116  0.048171  0.095912  0.071930  0.078535  \n",
       "2  0.057229  0.044075  0.012588  0.038293  0.051212  0.060926  \n",
       "3  0.023978  0.070647  0.018369  0.078717  0.072552  0.097062  \n",
       "4  0.001805  0.007565  0.005525  0.010007  0.003614  0.052705  \n",
       "\n",
       "[5 rows x 426 columns]"
      ]
     },
     "execution_count": 46,
     "metadata": {},
     "output_type": "execute_result"
    }
   ],
   "source": [
    "print(df.shape)\n",
    "df.head()"
   ]
  },
  {
   "cell_type": "code",
   "execution_count": 47,
   "metadata": {},
   "outputs": [
    {
     "data": {
      "text/plain": [
       "0    1.000000\n",
       "1    0.048363\n",
       "2    0.022881\n",
       "3    0.004325\n",
       "4    0.022562\n",
       "Name: 0, dtype: float64"
      ]
     },
     "execution_count": 47,
     "metadata": {},
     "output_type": "execute_result"
    }
   ],
   "source": [
    "# Each row is the similarity of one document to all other documents (including itself)\n",
    "df[0][:5]"
   ]
  },
  {
   "cell_type": "code",
   "execution_count": 48,
   "metadata": {},
   "outputs": [
    {
     "data": {
      "text/plain": [
       "168    0.124678\n",
       "338    0.124654\n",
       "199    0.119995\n",
       "403    0.114141\n",
       "393    0.113443\n",
       "Name: 0, dtype: float64"
      ]
     },
     "execution_count": 48,
     "metadata": {},
     "output_type": "execute_result"
    }
   ],
   "source": [
    "# Grab the row\n",
    "df[df[0] < 1][0].sort_values(ascending=False)[:5]"
   ]
  },
  {
   "cell_type": "code",
   "execution_count": 49,
   "metadata": {},
   "outputs": [
    {
     "name": "stdout",
     "output_type": "stream",
     "text": [
      "b\"job requirements:conceptual understanding in machine learning models like nai\\xc2\\xa8ve bayes, k-means, svm, apriori, linear/ logistic regression, neural, random fore\n"
     ]
    }
   ],
   "source": [
    "print(data[0][:168])"
   ]
  },
  {
   "cell_type": "code",
   "execution_count": 50,
   "metadata": {},
   "outputs": [
    {
     "name": "stdout",
     "output_type": "stream",
     "text": [
      "b\"logistics done differently.at xpo logistics, we invest over $450 million in technology every year so that we can continue to develop state-of-the-art solutions for our customers. as the data scientist, you will be responsible for developing analytical experiments in a methodical manner and regularly evaluating alternate models to supp\n"
     ]
    }
   ],
   "source": [
    "print(data[168][:338])"
   ]
  },
  {
   "cell_type": "markdown",
   "metadata": {},
   "source": [
    "## 6) Create a NearestNeighbor Model. Write the description of your ideal datascience job and query your job listings. "
   ]
  },
  {
   "cell_type": "code",
   "execution_count": 51,
   "metadata": {
    "inputHidden": false,
    "jupyter": {
     "outputs_hidden": false
    },
    "outputHidden": false
   },
   "outputs": [
    {
     "data": {
      "text/plain": [
       "NearestNeighbors(algorithm='kd_tree', leaf_size=30, metric='minkowski',\n",
       "                 metric_params=None, n_jobs=None, n_neighbors=5, p=2,\n",
       "                 radius=1.0)"
      ]
     },
     "execution_count": 51,
     "metadata": {},
     "output_type": "execute_result"
    }
   ],
   "source": [
    "from sklearn.neighbors import NearestNeighbors\n",
    "\n",
    "# Fit on DTM\n",
    "nn = NearestNeighbors(n_neighbors=5, algorithm='kd_tree')\n",
    "nn.fit(dtm)"
   ]
  },
  {
   "cell_type": "code",
   "execution_count": 52,
   "metadata": {},
   "outputs": [
    {
     "data": {
      "text/plain": [
       "(array([[0.        , 1.32311867, 1.32313705, 1.32665348, 1.33105908]]),\n",
       " array([[  0, 168, 338, 199, 403]]))"
      ]
     },
     "execution_count": 52,
     "metadata": {},
     "output_type": "execute_result"
    }
   ],
   "source": [
    "nn.kneighbors([dtm.iloc[0].values])"
   ]
  },
  {
   "cell_type": "code",
   "execution_count": 55,
   "metadata": {},
   "outputs": [
    {
     "data": {
      "text/plain": [
       "'b\"job requirements:conceptual understanding in machine learning models like nai\\\\xc2\\\\xa8ve bayes, k-means, svm, apriori, linear/ logistic regression, neural, random forests, decision trees, k-nn along '"
      ]
     },
     "execution_count": 55,
     "metadata": {},
     "output_type": "execute_result"
    }
   ],
   "source": [
    "data[0][:200]"
   ]
  },
  {
   "cell_type": "code",
   "execution_count": 56,
   "metadata": {},
   "outputs": [
    {
     "data": {
      "text/plain": [
       "\"b'the data science & analytics practice group at capgemini is expanding its footprint\\\\xe2\\\\x80\\\\xa6rapidly. as part of the fastest growing digital practice within capgemini, we work with the latest adva\""
      ]
     },
     "execution_count": 56,
     "metadata": {},
     "output_type": "execute_result"
    }
   ],
   "source": [
    "data[199][:200]"
   ]
  },
  {
   "cell_type": "markdown",
   "metadata": {
    "colab_type": "text",
    "id": "FiDfTWceoRkH"
   },
   "source": [
    "## Stretch Goals\n",
    "\n",
    " - Try different visualizations for words and frequencies - what story do you want to tell with the data?\n",
    " - Scrape Job Listings for the job title \"Data Analyst\". How do these differ from Data Scientist Job Listings\n",
    " - Try and identify requirements for experience specific technologies that are asked for in the job listings. How are those distributed among the job listings?\n",
    " - Use a clustering algorithm to cluster documents by their most important terms. Do the clusters reveal any common themes?\n",
    "  - **Hint:** K-means might not be the best algorithm for this. Do a little bit of research to see what might be good for this. Also, remember that algorithms that depend on Euclidean distance break down with high dimensional data.\n",
    " - Create a labeled dataset - which jobs will you apply for? Train a model to select the jobs you are most likely to apply for. :) "
   ]
  }
 ],
 "metadata": {
  "colab": {
   "collapsed_sections": [],
   "name": "LS_DS_422_BOW_Assignment.ipynb",
   "provenance": [],
   "version": "0.3.2"
  },
  "kernel_info": {
   "name": "python3"
  },
  "kernelspec": {
   "display_name": "U4-S1-NLP (Python3)",
   "language": "python",
   "name": "u4-s1-nlp"
  },
  "language_info": {
   "codemirror_mode": {
    "name": "ipython",
    "version": 3
   },
   "file_extension": ".py",
   "mimetype": "text/x-python",
   "name": "python",
   "nbconvert_exporter": "python",
   "pygments_lexer": "ipython3",
   "version": "3.7.0"
  },
  "nteract": {
   "version": "0.14.3"
  }
 },
 "nbformat": 4,
 "nbformat_minor": 4
}
